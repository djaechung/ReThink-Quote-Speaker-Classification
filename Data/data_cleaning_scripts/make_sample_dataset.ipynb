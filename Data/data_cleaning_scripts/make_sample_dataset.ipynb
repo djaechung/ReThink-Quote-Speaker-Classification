{
 "cells": [
  {
   "cell_type": "markdown",
   "id": "bb2a05bd-2ae0-4f26-bdda-6529835a6254",
   "metadata": {},
   "source": [
    "# Creating a Sample GNI88 Cleaned Dataset\n",
    "\n",
    "This notebook creates a sample dataset from the full cleaned GNI88 dataset for ReThink's Data Science Discovery project."
   ]
  },
  {
   "cell_type": "code",
   "execution_count": 1,
   "id": "0e890f67-09a5-474c-ae6e-e4a34aba61f1",
   "metadata": {},
   "outputs": [],
   "source": [
    "import pandas as pd\n",
    "import numpy as np"
   ]
  },
  {
   "cell_type": "code",
   "execution_count": 2,
   "id": "3509e29f-1f8a-4afe-b3ce-c478dff2abbc",
   "metadata": {},
   "outputs": [
    {
     "name": "stderr",
     "output_type": "stream",
     "text": [
      "/tmp/ipykernel_756/1516541077.py:5: DtypeWarning: Columns (9,10,24) have mixed types. Specify dtype option on import or set low_memory=False.\n",
      "  full_data = pd.read_csv(full_data_path, header=0)\n"
     ]
    }
   ],
   "source": [
    "# defining full data path\n",
    "full_data_path = \"GNI88_cleaned_data.csv\"\n",
    "\n",
    "# reading in full data\n",
    "full_data = pd.read_csv(full_data_path, header=0)"
   ]
  },
  {
   "cell_type": "code",
   "execution_count": 3,
   "id": "167dc361-1553-452d-bd88-d14f04bd78f7",
   "metadata": {},
   "outputs": [],
   "source": [
    "# creating sample dataset\n",
    "# setting random seed so the sample dataset is consistent\n",
    "seed = 2022\n",
    "num_samples = 2000\n",
    "\n",
    "sample_data = full_data.sample(n=num_samples, random_state=seed)"
   ]
  },
  {
   "cell_type": "code",
   "execution_count": 5,
   "id": "1935dec8-e4d6-4db2-a630-533408cf5764",
   "metadata": {},
   "outputs": [],
   "source": [
    "import csv\n",
    "sample_data.to_csv(\"GNI88_cleaned_sample.csv\", quoting=csv.QUOTE_ALL)"
   ]
  },
  {
   "cell_type": "code",
   "execution_count": null,
   "id": "ac54d4ce-3a73-4684-8f6a-c79421002b21",
   "metadata": {},
   "outputs": [],
   "source": []
  }
 ],
 "metadata": {
  "kernelspec": {
   "display_name": "Python 3 (ipykernel)",
   "language": "python",
   "name": "python3"
  },
  "language_info": {
   "codemirror_mode": {
    "name": "ipython",
    "version": 3
   },
   "file_extension": ".py",
   "mimetype": "text/x-python",
   "name": "python",
   "nbconvert_exporter": "python",
   "pygments_lexer": "ipython3",
   "version": "3.10.4"
  }
 },
 "nbformat": 4,
 "nbformat_minor": 5
}
