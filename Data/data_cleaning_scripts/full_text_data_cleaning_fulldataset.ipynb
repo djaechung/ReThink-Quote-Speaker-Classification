{
 "cells": [
  {
   "cell_type": "code",
   "execution_count": 1,
   "metadata": {
    "id": "t4qd7frSCSlx"
   },
   "outputs": [],
   "source": [
    "import numpy as np\n",
    "import pandas as pd\n",
    "import re"
   ]
  },
  {
   "cell_type": "code",
   "execution_count": 40,
   "metadata": {
    "id": "GACti9h4CY65"
   },
   "outputs": [],
   "source": [
    "df = pd.read_excel(\"../../../Preliminary_data/JSON full texts/VR_fulltext_fulldataset.xlsx\")"
   ]
  },
  {
   "cell_type": "markdown",
   "metadata": {
    "id": "prS2KGT4CSl2"
   },
   "source": [
    "#### Remove irrelevant articles"
   ]
  },
  {
   "cell_type": "code",
   "execution_count": 41,
   "metadata": {},
   "outputs": [
    {
     "data": {
      "text/plain": [
       "Index(['id', 'publisher', 'subject', 'author', 'body', 'artdate', 'Month',\n",
       "       'Year'],\n",
       "      dtype='object')"
      ]
     },
     "execution_count": 41,
     "metadata": {},
     "output_type": "execute_result"
    }
   ],
   "source": [
    "df.columns"
   ]
  },
  {
   "cell_type": "code",
   "execution_count": 42,
   "metadata": {
    "id": "WbVojLS7CSl4"
   },
   "outputs": [],
   "source": [
    "#Remove all Spanish articles\n",
    "spanish_outlets = ['El Nuevo Herald', 'El Diario La Prensa', 'Univision', 'AP Spanish Worldstream']\n",
    "df = df[-df.publisher.isin(spanish_outlets)]\n",
    "\n",
    "#Filter out Bloomberg show transcripts\n",
    "df = df[-((df.publisher=='Bloomberg') & (df.subject.str.contains('Full Show')))]"
   ]
  },
  {
   "cell_type": "markdown",
   "metadata": {
    "id": "cRz5PeMFCSl5"
   },
   "source": [
    "#### Remove irrelevant text from articles"
   ]
  },
  {
   "cell_type": "code",
   "execution_count": 43,
   "metadata": {
    "id": "BLXXyW4TCSl5"
   },
   "outputs": [],
   "source": [
    "#Patterns at start of article\n",
    "allarticle_header_regex = \"Media: .*\\nAuthor: (?:.*\\n){1,10}Date: .*\\n\\n\"\n",
    "politico_share_regex = '.*\\n{1,20}Follow Us\\n'\n",
    "politico_date_regex = '^.*\\nBy.*\\n\\d\\d/\\d\\d/\\d\\d\\d\\d \\d\\d:\\d\\d (?:AM|PM) EDT'\n",
    "\n",
    "#Patterns at end of article\n",
    "dow_regex = 'License this article from Dow Jones Reprint Service'\n",
    "\n",
    "#Patterns in article\n",
    "#search for line with only all caps and punctuation\n",
    "fox_bold_regex = \"\\n[A-Z ',.-]+\\n\""
   ]
  },
  {
   "cell_type": "code",
   "execution_count": 44,
   "metadata": {
    "id": "D7k2pdanCSl6"
   },
   "outputs": [],
   "source": [
    "def regex_trim(rx_list,column, df=df, replace_value=\"\"):\n",
    "    '''Takes a list of regex patterns, and joins the patterns with an OR (|) separator. \n",
    "    Searches the specified column/df for the pattern and replaces it with value specified (default value-nothing)'''\n",
    "    df[column] = df[column].replace(to_replace=\"|\".join(rx_list), value=replace_value, regex=True)\n",
    "    return df\n"
   ]
  },
  {
   "cell_type": "code",
   "execution_count": 45,
   "metadata": {
    "id": "eo4RR6RMCSl7"
   },
   "outputs": [],
   "source": [
    "remove_patterns = [allarticle_header_regex, \n",
    "                   dow_regex, \n",
    "                   politico_date_regex]\n",
    "\n",
    "df = regex_trim(remove_patterns, \"body\")\n",
    "\n",
    "#Remove ALL CAPS lines in Fox news articles\n",
    "df[\"body\"] = np.where(df.publisher=='Fox News', \n",
    "                           df.body.replace(to_replace=fox_bold_regex, value=\"\", regex=True),\n",
    "                           df.body)\n",
    "\n",
    "#Remove irrelevant lines at start of Politico \"playbook\" articles\n",
    "df[\"body\"] = np.where(df.publisher=='Politico', \n",
    "                           df.body.replace(to_replace=politico_share_regex, value=\"\", regex=True),\n",
    "                           df.body)\n"
   ]
  },
  {
   "cell_type": "markdown",
   "metadata": {
    "id": "DhmTlcs2CSl9"
   },
   "source": [
    "#### Drop duplicates, null values"
   ]
  },
  {
   "cell_type": "code",
   "execution_count": 46,
   "metadata": {
    "id": "SeSwhod5CSl9"
   },
   "outputs": [],
   "source": [
    "#Drop articles that have the same headline and date\n",
    "df = df.drop_duplicates([\"subject\",\"artdate\"])\n",
    "\n",
    "#Drop articles that don't have a publisher listed\n",
    "df = df[-df.publisher.isnull()]"
   ]
  },
  {
   "cell_type": "code",
   "execution_count": 47,
   "metadata": {
    "colab": {
     "base_uri": "https://localhost:8080/",
     "height": 306
    },
    "id": "WmRRRiijCSl-",
    "outputId": "52e2640f-a481-459f-af6a-72402aa1c0a1"
   },
   "outputs": [
    {
     "data": {
      "text/html": [
       "<div>\n",
       "<style scoped>\n",
       "    .dataframe tbody tr th:only-of-type {\n",
       "        vertical-align: middle;\n",
       "    }\n",
       "\n",
       "    .dataframe tbody tr th {\n",
       "        vertical-align: top;\n",
       "    }\n",
       "\n",
       "    .dataframe thead th {\n",
       "        text-align: right;\n",
       "    }\n",
       "</style>\n",
       "<table border=\"1\" class=\"dataframe\">\n",
       "  <thead>\n",
       "    <tr style=\"text-align: right;\">\n",
       "      <th></th>\n",
       "      <th>id</th>\n",
       "      <th>publisher</th>\n",
       "      <th>subject</th>\n",
       "      <th>author</th>\n",
       "      <th>body</th>\n",
       "      <th>artdate</th>\n",
       "      <th>Month</th>\n",
       "      <th>Year</th>\n",
       "    </tr>\n",
       "  </thead>\n",
       "  <tbody>\n",
       "    <tr>\n",
       "      <th>0</th>\n",
       "      <td>3622414</td>\n",
       "      <td>Associated Press</td>\n",
       "      <td>Trump signs order disbanding voter fraud commi...</td>\n",
       "      <td>Colvin, Jill</td>\n",
       "      <td>All Rights Reserved                           ...</td>\n",
       "      <td>2018-01-04</td>\n",
       "      <td>1</td>\n",
       "      <td>2018</td>\n",
       "    </tr>\n",
       "    <tr>\n",
       "      <th>1</th>\n",
       "      <td>3622415</td>\n",
       "      <td>Wichita Eagle (KS)</td>\n",
       "      <td>Pivot Point: GOP challengers will knock Kobach...</td>\n",
       "      <td>Seminoff, Kirk</td>\n",
       "      <td>Pivot Point: GOP challengers will knock Kobach...</td>\n",
       "      <td>2018-01-04</td>\n",
       "      <td>1</td>\n",
       "      <td>2018</td>\n",
       "    </tr>\n",
       "    <tr>\n",
       "      <th>2</th>\n",
       "      <td>3622416</td>\n",
       "      <td>Associated Press</td>\n",
       "      <td>Trump disbands voter fraud commission amid fig...</td>\n",
       "      <td>Colvin, Jill</td>\n",
       "      <td>1 of 4 DOCUMENTS                              ...</td>\n",
       "      <td>2018-01-04</td>\n",
       "      <td>1</td>\n",
       "      <td>2018</td>\n",
       "    </tr>\n",
       "    <tr>\n",
       "      <th>3</th>\n",
       "      <td>3622421</td>\n",
       "      <td>New York Daily News</td>\n",
       "      <td>Fraud of a panel KOd</td>\n",
       "      <td>Sommerfeldt, Chris</td>\n",
       "      <td>Fraud of a panel KOd  Media: New York Daily Ne...</td>\n",
       "      <td>2018-01-04</td>\n",
       "      <td>1</td>\n",
       "      <td>2018</td>\n",
       "    </tr>\n",
       "    <tr>\n",
       "      <th>4</th>\n",
       "      <td>3622425</td>\n",
       "      <td>The Kansas City Star</td>\n",
       "      <td>We beat Trump on voter suppression this time, ...</td>\n",
       "      <td>Kander, Jason</td>\n",
       "      <td>We beat Trump on voter suppression this time, ...</td>\n",
       "      <td>2018-01-04</td>\n",
       "      <td>1</td>\n",
       "      <td>2018</td>\n",
       "    </tr>\n",
       "  </tbody>\n",
       "</table>\n",
       "</div>"
      ],
      "text/plain": [
       "        id             publisher  \\\n",
       "0  3622414      Associated Press   \n",
       "1  3622415    Wichita Eagle (KS)   \n",
       "2  3622416      Associated Press   \n",
       "3  3622421   New York Daily News   \n",
       "4  3622425  The Kansas City Star   \n",
       "\n",
       "                                             subject              author  \\\n",
       "0  Trump signs order disbanding voter fraud commi...        Colvin, Jill   \n",
       "1  Pivot Point: GOP challengers will knock Kobach...      Seminoff, Kirk   \n",
       "2  Trump disbands voter fraud commission amid fig...        Colvin, Jill   \n",
       "3                               Fraud of a panel KOd  Sommerfeldt, Chris   \n",
       "4  We beat Trump on voter suppression this time, ...       Kander, Jason   \n",
       "\n",
       "                                                body    artdate  Month  Year  \n",
       "0  All Rights Reserved                           ... 2018-01-04      1  2018  \n",
       "1  Pivot Point: GOP challengers will knock Kobach... 2018-01-04      1  2018  \n",
       "2  1 of 4 DOCUMENTS                              ... 2018-01-04      1  2018  \n",
       "3  Fraud of a panel KOd  Media: New York Daily Ne... 2018-01-04      1  2018  \n",
       "4  We beat Trump on voter suppression this time, ... 2018-01-04      1  2018  "
      ]
     },
     "execution_count": 47,
     "metadata": {},
     "output_type": "execute_result"
    }
   ],
   "source": [
    "df.head()"
   ]
  },
  {
   "cell_type": "code",
   "execution_count": 48,
   "metadata": {
    "id": "rX8ccfp3CSl_"
   },
   "outputs": [],
   "source": [
    "df.to_excel('../preliminary_data/full_text_data_cleaning_result_VRfull.xlsx', index = False)"
   ]
  },
  {
   "cell_type": "code",
   "execution_count": null,
   "metadata": {},
   "outputs": [],
   "source": []
  },
  {
   "cell_type": "code",
   "execution_count": 32,
   "metadata": {
    "id": "pQD6acTyCSmA"
   },
   "outputs": [
    {
     "data": {
      "text/plain": [
       "True    75393\n",
       "Name: id, dtype: int64"
      ]
     },
     "execution_count": 32,
     "metadata": {},
     "output_type": "execute_result"
    }
   ],
   "source": [
    "#Check for delimiter issues\n",
    "\n",
    "#testdf = pd.read_excel('full_text_data_cleaning_result.xlsx')\n",
    "#strcheck = testdf['id'].map(type) == int\n",
    "#strcheck.value_counts()\n",
    "#testdf['publisher'][testdf['publisher'].isnull()]"
   ]
  },
  {
   "cell_type": "code",
   "execution_count": null,
   "metadata": {
    "id": "lso2kX_qCSmA",
    "outputId": "0de1b641-350a-40d7-f8ff-eec3153e8147"
   },
   "outputs": [
    {
     "data": {
      "text/html": [
       "<div>\n",
       "<style scoped>\n",
       "    .dataframe tbody tr th:only-of-type {\n",
       "        vertical-align: middle;\n",
       "    }\n",
       "\n",
       "    .dataframe tbody tr th {\n",
       "        vertical-align: top;\n",
       "    }\n",
       "\n",
       "    .dataframe thead th {\n",
       "        text-align: right;\n",
       "    }\n",
       "</style>\n",
       "<table border=\"1\" class=\"dataframe\">\n",
       "  <thead>\n",
       "    <tr style=\"text-align: right;\">\n",
       "      <th></th>\n",
       "      <th>id</th>\n",
       "      <th>Irrelevant</th>\n",
       "      <th>publisher</th>\n",
       "      <th>subject</th>\n",
       "      <th>Duplicate</th>\n",
       "      <th>author</th>\n",
       "      <th>body</th>\n",
       "      <th>artdate</th>\n",
       "      <th>Month</th>\n",
       "      <th>Year</th>\n",
       "      <th>Notes: Green under Body (Good), Yellow under Subject (Duplicate), Red under Publisher (Spanish), Red under Subject (Some type of summary article of headlines/recent news)</th>\n",
       "      <th>body_test</th>\n",
       "    </tr>\n",
       "  </thead>\n",
       "  <tbody>\n",
       "    <tr>\n",
       "      <th>31</th>\n",
       "      <td>19884512</td>\n",
       "      <td>NaN</td>\n",
       "      <td>The Arizona Republic</td>\n",
       "      <td>Debate has little substance for voters; Lack o...</td>\n",
       "      <td>NaN</td>\n",
       "      <td>By Yvonne Wingett Sanchez and Ronald J. Hansen...</td>\n",
       "      <td>Media: The Arizona Republic\\nAuthor: By Yvonne...</td>\n",
       "      <td>2020-10-01</td>\n",
       "      <td>10</td>\n",
       "      <td>2020</td>\n",
       "      <td>NaN</td>\n",
       "      <td>Media: The Arizona Republic\\nAuthor: By Yvonne...</td>\n",
       "    </tr>\n",
       "    <tr>\n",
       "      <th>122</th>\n",
       "      <td>19978780</td>\n",
       "      <td>NaN</td>\n",
       "      <td>Los Angeles Times</td>\n",
       "      <td>ELECTION 2020; Frustrations at the ballot box;...</td>\n",
       "      <td>NaN</td>\n",
       "      <td>Matt Stiles</td>\n",
       "      <td>Media: Los Angeles Times\\nAuthor: Matt Stiles\\...</td>\n",
       "      <td>2020-10-02</td>\n",
       "      <td>10</td>\n",
       "      <td>2020</td>\n",
       "      <td>NaN</td>\n",
       "      <td>Media: Los Angeles Times\\nAuthor: Matt Stiles\\...</td>\n",
       "    </tr>\n",
       "    <tr>\n",
       "      <th>125</th>\n",
       "      <td>19979151</td>\n",
       "      <td>NaN</td>\n",
       "      <td>The New York Times</td>\n",
       "      <td>Get Your Culture, Inside and Out</td>\n",
       "      <td>NaN</td>\n",
       "      <td>NaN</td>\n",
       "      <td>Media: The New York Times\\nAuthor: \\nDate: 02 ...</td>\n",
       "      <td>2020-10-02</td>\n",
       "      <td>10</td>\n",
       "      <td>2020</td>\n",
       "      <td>NaN</td>\n",
       "      <td>Media: The New York Times\\nAuthor: \\nDate: 02 ...</td>\n",
       "    </tr>\n",
       "    <tr>\n",
       "      <th>147</th>\n",
       "      <td>19987524</td>\n",
       "      <td>NaN</td>\n",
       "      <td>Chicago Tribune</td>\n",
       "      <td>A graduated-rate income tax will be better for...</td>\n",
       "      <td>NaN</td>\n",
       "      <td>Eric Zorn</td>\n",
       "      <td>Media: Chicago Tribune\\nAuthor: Eric Zorn\\nDat...</td>\n",
       "      <td>2020-10-02</td>\n",
       "      <td>10</td>\n",
       "      <td>2020</td>\n",
       "      <td>NaN</td>\n",
       "      <td>Media: Chicago Tribune\\nAuthor: Eric Zorn\\nDat...</td>\n",
       "    </tr>\n",
       "    <tr>\n",
       "      <th>153</th>\n",
       "      <td>19989462</td>\n",
       "      <td>NaN</td>\n",
       "      <td>The Hill</td>\n",
       "      <td>The Hill's Morning Report - Trump, first lady ...</td>\n",
       "      <td>NaN</td>\n",
       "      <td>Alexis Simendinger</td>\n",
       "      <td>Media: thehill\\nAuthor: Alexis Simendinger\\nDa...</td>\n",
       "      <td>2020-10-02</td>\n",
       "      <td>10</td>\n",
       "      <td>2020</td>\n",
       "      <td>NaN</td>\n",
       "      <td>Media: thehill\\nAuthor: Alexis Simendinger\\nDa...</td>\n",
       "    </tr>\n",
       "    <tr>\n",
       "      <th>...</th>\n",
       "      <td>...</td>\n",
       "      <td>...</td>\n",
       "      <td>...</td>\n",
       "      <td>...</td>\n",
       "      <td>...</td>\n",
       "      <td>...</td>\n",
       "      <td>...</td>\n",
       "      <td>...</td>\n",
       "      <td>...</td>\n",
       "      <td>...</td>\n",
       "      <td>...</td>\n",
       "      <td>...</td>\n",
       "    </tr>\n",
       "    <tr>\n",
       "      <th>5543</th>\n",
       "      <td>50050493</td>\n",
       "      <td>NaN</td>\n",
       "      <td>The Hill</td>\n",
       "      <td>The Hill's Morning Report - Trump finally conc...</td>\n",
       "      <td>NaN</td>\n",
       "      <td>Alexis Simendinger</td>\n",
       "      <td>Media: thehill\\nAuthor: Alexis Simendinger\\nDa...</td>\n",
       "      <td>2021-01-08</td>\n",
       "      <td>1</td>\n",
       "      <td>2021</td>\n",
       "      <td>NaN</td>\n",
       "      <td>Media: thehill\\nAuthor: Alexis Simendinger\\nDa...</td>\n",
       "    </tr>\n",
       "    <tr>\n",
       "      <th>5581</th>\n",
       "      <td>50050536</td>\n",
       "      <td>NaN</td>\n",
       "      <td>The Hill</td>\n",
       "      <td>The Hill's Morning Report - Presented by Faceb...</td>\n",
       "      <td>NaN</td>\n",
       "      <td>Alexis Simendinger</td>\n",
       "      <td>Media: thehill\\nAuthor: Alexis Simendinger\\nDa...</td>\n",
       "      <td>2021-01-06</td>\n",
       "      <td>1</td>\n",
       "      <td>2021</td>\n",
       "      <td>NaN</td>\n",
       "      <td>Media: thehill\\nAuthor: Alexis Simendinger\\nDa...</td>\n",
       "    </tr>\n",
       "    <tr>\n",
       "      <th>5582</th>\n",
       "      <td>50050812</td>\n",
       "      <td>NaN</td>\n",
       "      <td>The Hill</td>\n",
       "      <td>The Hill's Morning Report - Presented by Maste...</td>\n",
       "      <td>NaN</td>\n",
       "      <td>Alexis Simendinger</td>\n",
       "      <td>Media: thehill\\nAuthor: Alexis Simendinger\\nDa...</td>\n",
       "      <td>2020-12-18</td>\n",
       "      <td>12</td>\n",
       "      <td>2020</td>\n",
       "      <td>NaN</td>\n",
       "      <td>Media: thehill\\nAuthor: Alexis Simendinger\\nDa...</td>\n",
       "    </tr>\n",
       "    <tr>\n",
       "      <th>5583</th>\n",
       "      <td>50050938</td>\n",
       "      <td>NaN</td>\n",
       "      <td>The Hill</td>\n",
       "      <td>The Hill's Morning Report - Presented by Faceb...</td>\n",
       "      <td>NaN</td>\n",
       "      <td>Alexis Simendinger</td>\n",
       "      <td>Media: thehill\\nAuthor: Alexis Simendinger\\nDa...</td>\n",
       "      <td>2020-12-10</td>\n",
       "      <td>12</td>\n",
       "      <td>2020</td>\n",
       "      <td>NaN</td>\n",
       "      <td>Media: thehill\\nAuthor: Alexis Simendinger\\nDa...</td>\n",
       "    </tr>\n",
       "    <tr>\n",
       "      <th>5591</th>\n",
       "      <td>50053427</td>\n",
       "      <td>NaN</td>\n",
       "      <td>The Root</td>\n",
       "      <td>Biden to Sign Executive Orders for His Racial ...</td>\n",
       "      <td>NaN</td>\n",
       "      <td>NaN</td>\n",
       "      <td>Media: theroot\\nAuthor: \\nDate: 26 January 202...</td>\n",
       "      <td>2021-01-26</td>\n",
       "      <td>1</td>\n",
       "      <td>2021</td>\n",
       "      <td>NaN</td>\n",
       "      <td>Media: theroot\\nAuthor: \\nDate: 26 January 202...</td>\n",
       "    </tr>\n",
       "  </tbody>\n",
       "</table>\n",
       "<p>984 rows × 12 columns</p>\n",
       "</div>"
      ],
      "text/plain": [
       "            id Irrelevant             publisher  \\\n",
       "31    19884512        NaN  The Arizona Republic   \n",
       "122   19978780        NaN     Los Angeles Times   \n",
       "125   19979151        NaN    The New York Times   \n",
       "147   19987524        NaN       Chicago Tribune   \n",
       "153   19989462        NaN              The Hill   \n",
       "...        ...        ...                   ...   \n",
       "5543  50050493        NaN              The Hill   \n",
       "5581  50050536        NaN              The Hill   \n",
       "5582  50050812        NaN              The Hill   \n",
       "5583  50050938        NaN              The Hill   \n",
       "5591  50053427        NaN              The Root   \n",
       "\n",
       "                                                subject Duplicate  \\\n",
       "31    Debate has little substance for voters; Lack o...       NaN   \n",
       "122   ELECTION 2020; Frustrations at the ballot box;...       NaN   \n",
       "125                    Get Your Culture, Inside and Out       NaN   \n",
       "147   A graduated-rate income tax will be better for...       NaN   \n",
       "153   The Hill's Morning Report - Trump, first lady ...       NaN   \n",
       "...                                                 ...       ...   \n",
       "5543  The Hill's Morning Report - Trump finally conc...       NaN   \n",
       "5581  The Hill's Morning Report - Presented by Faceb...       NaN   \n",
       "5582  The Hill's Morning Report - Presented by Maste...       NaN   \n",
       "5583  The Hill's Morning Report - Presented by Faceb...       NaN   \n",
       "5591  Biden to Sign Executive Orders for His Racial ...       NaN   \n",
       "\n",
       "                                                 author  \\\n",
       "31    By Yvonne Wingett Sanchez and Ronald J. Hansen...   \n",
       "122                                         Matt Stiles   \n",
       "125                                                 NaN   \n",
       "147                                           Eric Zorn   \n",
       "153                                  Alexis Simendinger   \n",
       "...                                                 ...   \n",
       "5543                                 Alexis Simendinger   \n",
       "5581                                 Alexis Simendinger   \n",
       "5582                                 Alexis Simendinger   \n",
       "5583                                 Alexis Simendinger   \n",
       "5591                                                NaN   \n",
       "\n",
       "                                                   body    artdate  Month  \\\n",
       "31    Media: The Arizona Republic\\nAuthor: By Yvonne... 2020-10-01     10   \n",
       "122   Media: Los Angeles Times\\nAuthor: Matt Stiles\\... 2020-10-02     10   \n",
       "125   Media: The New York Times\\nAuthor: \\nDate: 02 ... 2020-10-02     10   \n",
       "147   Media: Chicago Tribune\\nAuthor: Eric Zorn\\nDat... 2020-10-02     10   \n",
       "153   Media: thehill\\nAuthor: Alexis Simendinger\\nDa... 2020-10-02     10   \n",
       "...                                                 ...        ...    ...   \n",
       "5543  Media: thehill\\nAuthor: Alexis Simendinger\\nDa... 2021-01-08      1   \n",
       "5581  Media: thehill\\nAuthor: Alexis Simendinger\\nDa... 2021-01-06      1   \n",
       "5582  Media: thehill\\nAuthor: Alexis Simendinger\\nDa... 2020-12-18     12   \n",
       "5583  Media: thehill\\nAuthor: Alexis Simendinger\\nDa... 2020-12-10     12   \n",
       "5591  Media: theroot\\nAuthor: \\nDate: 26 January 202... 2021-01-26      1   \n",
       "\n",
       "      Year  \\\n",
       "31    2020   \n",
       "122   2020   \n",
       "125   2020   \n",
       "147   2020   \n",
       "153   2020   \n",
       "...    ...   \n",
       "5543  2021   \n",
       "5581  2021   \n",
       "5582  2020   \n",
       "5583  2020   \n",
       "5591  2021   \n",
       "\n",
       "      Notes: Green under Body (Good), Yellow under Subject (Duplicate), Red under Publisher (Spanish), Red under Subject (Some type of summary article of headlines/recent news)  \\\n",
       "31                                                  NaN                                                                                                                            \n",
       "122                                                 NaN                                                                                                                            \n",
       "125                                                 NaN                                                                                                                            \n",
       "147                                                 NaN                                                                                                                            \n",
       "153                                                 NaN                                                                                                                            \n",
       "...                                                 ...                                                                                                                            \n",
       "5543                                                NaN                                                                                                                            \n",
       "5581                                                NaN                                                                                                                            \n",
       "5582                                                NaN                                                                                                                            \n",
       "5583                                                NaN                                                                                                                            \n",
       "5591                                                NaN                                                                                                                            \n",
       "\n",
       "                                              body_test  \n",
       "31    Media: The Arizona Republic\\nAuthor: By Yvonne...  \n",
       "122   Media: Los Angeles Times\\nAuthor: Matt Stiles\\...  \n",
       "125   Media: The New York Times\\nAuthor: \\nDate: 02 ...  \n",
       "147   Media: Chicago Tribune\\nAuthor: Eric Zorn\\nDat...  \n",
       "153   Media: thehill\\nAuthor: Alexis Simendinger\\nDa...  \n",
       "...                                                 ...  \n",
       "5543  Media: thehill\\nAuthor: Alexis Simendinger\\nDa...  \n",
       "5581  Media: thehill\\nAuthor: Alexis Simendinger\\nDa...  \n",
       "5582  Media: thehill\\nAuthor: Alexis Simendinger\\nDa...  \n",
       "5583  Media: thehill\\nAuthor: Alexis Simendinger\\nDa...  \n",
       "5591  Media: theroot\\nAuthor: \\nDate: 26 January 202...  \n",
       "\n",
       "[984 rows x 12 columns]"
      ]
     },
     "execution_count": 50,
     "metadata": {},
     "output_type": "execute_result"
    }
   ],
   "source": [
    "#Code for checking results of regex\n",
    "#df[df.body_test.str.contains(\"\\n[A-Z ',.-]+\\n\", regex=True)]"
   ]
  },
  {
   "cell_type": "code",
   "execution_count": null,
   "metadata": {
    "id": "pSJrZIz1CSmB"
   },
   "outputs": [],
   "source": []
  }
 ],
 "metadata": {
  "colab": {
   "name": "full_text_data_cleaning.ipynb",
   "provenance": []
  },
  "kernelspec": {
   "display_name": "Python 3",
   "language": "python",
   "name": "python3"
  },
  "language_info": {
   "codemirror_mode": {
    "name": "ipython",
    "version": 3
   },
   "file_extension": ".py",
   "mimetype": "text/x-python",
   "name": "python",
   "nbconvert_exporter": "python",
   "pygments_lexer": "ipython3",
   "version": "3.7.11"
  }
 },
 "nbformat": 4,
 "nbformat_minor": 1
}
