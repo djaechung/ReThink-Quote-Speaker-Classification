{
  "nbformat": 4,
  "nbformat_minor": 0,
  "metadata": {
    "colab": {
      "name": "speaker_context_extraction.ipynb",
      "provenance": [],
      "collapsed_sections": []
    },
    "kernelspec": {
      "name": "python3",
      "display_name": "Python 3"
    },
    "language_info": {
      "name": "python"
    }
  },
  "cells": [
    {
      "cell_type": "code",
      "execution_count": 1,
      "metadata": {
        "id": "pODS-ENxDWjw"
      },
      "outputs": [],
      "source": [
        "import numpy as np\n",
        "import pandas as pd\n",
        "import json\n",
        "import csv\n",
        "import regex as re"
      ]
    },
    {
      "cell_type": "code",
      "source": [
        "from google.colab import drive\n",
        "drive.mount('/content/drive')"
      ],
      "metadata": {
        "colab": {
          "base_uri": "https://localhost:8080/"
        },
        "id": "uJG9MIoTDbZA",
        "outputId": "19aacc86-64af-4375-99d0-4ae9139fb2db"
      },
      "execution_count": 2,
      "outputs": [
        {
          "output_type": "stream",
          "name": "stdout",
          "text": [
            "Mounted at /content/drive\n"
          ]
        }
      ]
    },
    {
      "cell_type": "markdown",
      "source": [
        "# Loading Data"
      ],
      "metadata": {
        "id": "kZWU2TXUE1Am"
      }
    },
    {
      "cell_type": "code",
      "source": [
        "# importing data for which speaker names have already been cleaned\n",
        "qtes_just_names = pd.read_csv(\"/content/drive/MyDrive/data/qtes_just_names.csv\")"
      ],
      "metadata": {
        "id": "kO3SSVwaDc2W"
      },
      "execution_count": 3,
      "outputs": []
    },
    {
      "cell_type": "code",
      "source": [
        "# importing article content data for reference\n",
        "arts = pd.read_json(\"/content/drive/MyDrive/data/gni88.json\", lines=True)"
      ],
      "metadata": {
        "id": "uL4Fj8n8GaTh"
      },
      "execution_count": 16,
      "outputs": []
    },
    {
      "cell_type": "markdown",
      "source": [
        "# Speaker Context Extraction"
      ],
      "metadata": {
        "id": "Pc5ZdPWAE3fu"
      }
    },
    {
      "cell_type": "markdown",
      "source": [
        "Goal: create a function that can take an article ID, a name, and return the context relevant to determining what kind of speaker that name belongs to."
      ],
      "metadata": {
        "id": "gmCNlcpeE6lL"
      }
    },
    {
      "cell_type": "markdown",
      "source": [
        "E: relevant context of \"Vladimir Putin\" for text \"Ukraine is within the sights of Russian president Vladmir Putin\" should be \"Russian president.\""
      ],
      "metadata": {
        "id": "rk-xDh9AFCks"
      }
    },
    {
      "cell_type": "markdown",
      "source": [
        "E: relevant context of \"Daniel Chung\" for text \"classification models are tricky things according to Daniel Chung, a student researcher for ReThink Media\" should be \"a student researcher for ReThink Media.\""
      ],
      "metadata": {
        "id": "Ijc_UGR-FSJy"
      }
    },
    {
      "cell_type": "markdown",
      "source": [
        "### NLTK Setup"
      ],
      "metadata": {
        "id": "dw-O-f_1FpNf"
      }
    },
    {
      "cell_type": "code",
      "source": [
        "# NLTK will be useful for parsing context sentences. We rely on an understanding of\n",
        "# what words are nouns in order to extract certain context patterns\n",
        "\n",
        "# Instructions: Downloader will prompt a response. Respond as follows:\n",
        "# - d   (and enter)\n",
        "# - all (and enter)\n",
        "# - q   (and enter)\n",
        "import nltk\n",
        "nltk.download()"
      ],
      "metadata": {
        "colab": {
          "base_uri": "https://localhost:8080/"
        },
        "id": "q_du56ZuDwHx",
        "outputId": "d3a98726-00a7-4be8-c482-96f9fd3c8728"
      },
      "execution_count": 17,
      "outputs": [
        {
          "name": "stdout",
          "output_type": "stream",
          "text": [
            "NLTK Downloader\n",
            "---------------------------------------------------------------------------\n",
            "    d) Download   l) List    u) Update   c) Config   h) Help   q) Quit\n",
            "---------------------------------------------------------------------------\n",
            "Downloader> \n",
            "\n",
            "---------------------------------------------------------------------------\n",
            "    d) Download   l) List    u) Update   c) Config   h) Help   q) Quit\n",
            "---------------------------------------------------------------------------\n",
            "Downloader> \n",
            "\n",
            "---------------------------------------------------------------------------\n",
            "    d) Download   l) List    u) Update   c) Config   h) Help   q) Quit\n",
            "---------------------------------------------------------------------------\n",
            "Downloader> d\n",
            "\n",
            "Download which package (l=list; x=cancel)?\n",
            "  Identifier> all\n",
            "    Downloading collection 'all'\n",
            "       | \n",
            "       | Downloading package abc to /root/nltk_data...\n",
            "       |   Package abc is already up-to-date!\n",
            "       | Downloading package alpino to /root/nltk_data...\n",
            "       |   Package alpino is already up-to-date!\n",
            "       | Downloading package averaged_perceptron_tagger to\n",
            "       |     /root/nltk_data...\n",
            "       |   Package averaged_perceptron_tagger is already up-to-date!\n",
            "       | Downloading package averaged_perceptron_tagger_ru to\n",
            "       |     /root/nltk_data...\n",
            "       |   Package averaged_perceptron_tagger_ru is already up-to-\n",
            "       |       date!\n",
            "       | Downloading package basque_grammars to /root/nltk_data...\n",
            "       |   Package basque_grammars is already up-to-date!\n",
            "       | Downloading package biocreative_ppi to /root/nltk_data...\n",
            "       |   Package biocreative_ppi is already up-to-date!\n",
            "       | Downloading package bllip_wsj_no_aux to /root/nltk_data...\n",
            "       |   Package bllip_wsj_no_aux is already up-to-date!\n",
            "       | Downloading package book_grammars to /root/nltk_data...\n",
            "       |   Package book_grammars is already up-to-date!\n",
            "       | Downloading package brown to /root/nltk_data...\n",
            "       |   Package brown is already up-to-date!\n",
            "       | Downloading package brown_tei to /root/nltk_data...\n",
            "       |   Package brown_tei is already up-to-date!\n",
            "       | Downloading package cess_cat to /root/nltk_data...\n",
            "       |   Package cess_cat is already up-to-date!\n",
            "       | Downloading package cess_esp to /root/nltk_data...\n",
            "       |   Package cess_esp is already up-to-date!\n",
            "       | Downloading package chat80 to /root/nltk_data...\n",
            "       |   Package chat80 is already up-to-date!\n",
            "       | Downloading package city_database to /root/nltk_data...\n",
            "       |   Package city_database is already up-to-date!\n",
            "       | Downloading package cmudict to /root/nltk_data...\n",
            "       |   Package cmudict is already up-to-date!\n",
            "       | Downloading package comparative_sentences to\n",
            "       |     /root/nltk_data...\n",
            "       |   Package comparative_sentences is already up-to-date!\n",
            "       | Downloading package comtrans to /root/nltk_data...\n",
            "       |   Package comtrans is already up-to-date!\n",
            "       | Downloading package conll2000 to /root/nltk_data...\n",
            "       |   Package conll2000 is already up-to-date!\n",
            "       | Downloading package conll2002 to /root/nltk_data...\n",
            "       |   Package conll2002 is already up-to-date!\n",
            "       | Downloading package conll2007 to /root/nltk_data...\n",
            "       |   Package conll2007 is already up-to-date!\n",
            "       | Downloading package crubadan to /root/nltk_data...\n",
            "       |   Package crubadan is already up-to-date!\n",
            "       | Downloading package dependency_treebank to /root/nltk_data...\n",
            "       |   Package dependency_treebank is already up-to-date!\n",
            "       | Downloading package dolch to /root/nltk_data...\n",
            "       |   Package dolch is already up-to-date!\n",
            "       | Downloading package europarl_raw to /root/nltk_data...\n",
            "       |   Package europarl_raw is already up-to-date!\n",
            "       | Downloading package extended_omw to /root/nltk_data...\n",
            "       |   Package extended_omw is already up-to-date!\n",
            "       | Downloading package floresta to /root/nltk_data...\n",
            "       |   Package floresta is already up-to-date!\n",
            "       | Downloading package framenet_v15 to /root/nltk_data...\n",
            "       |   Package framenet_v15 is already up-to-date!\n",
            "       | Downloading package framenet_v17 to /root/nltk_data...\n",
            "       |   Package framenet_v17 is already up-to-date!\n",
            "       | Downloading package gazetteers to /root/nltk_data...\n",
            "       |   Package gazetteers is already up-to-date!\n",
            "       | Downloading package genesis to /root/nltk_data...\n",
            "       |   Package genesis is already up-to-date!\n",
            "       | Downloading package gutenberg to /root/nltk_data...\n",
            "       |   Package gutenberg is already up-to-date!\n",
            "       | Downloading package ieer to /root/nltk_data...\n",
            "       |   Package ieer is already up-to-date!\n",
            "       | Downloading package inaugural to /root/nltk_data...\n",
            "       |   Package inaugural is already up-to-date!\n",
            "       | Downloading package indian to /root/nltk_data...\n",
            "       |   Package indian is already up-to-date!\n",
            "       | Downloading package jeita to /root/nltk_data...\n",
            "       |   Package jeita is already up-to-date!\n",
            "       | Downloading package kimmo to /root/nltk_data...\n",
            "       |   Package kimmo is already up-to-date!\n",
            "       | Downloading package knbc to /root/nltk_data...\n",
            "       |   Package knbc is already up-to-date!\n",
            "       | Downloading package large_grammars to /root/nltk_data...\n",
            "       |   Package large_grammars is already up-to-date!\n",
            "       | Downloading package lin_thesaurus to /root/nltk_data...\n",
            "       |   Package lin_thesaurus is already up-to-date!\n",
            "       | Downloading package mac_morpho to /root/nltk_data...\n",
            "       |   Package mac_morpho is already up-to-date!\n",
            "       | Downloading package machado to /root/nltk_data...\n",
            "       |   Package machado is already up-to-date!\n",
            "       | Downloading package masc_tagged to /root/nltk_data...\n",
            "       |   Package masc_tagged is already up-to-date!\n",
            "       | Downloading package maxent_ne_chunker to /root/nltk_data...\n",
            "       |   Package maxent_ne_chunker is already up-to-date!\n",
            "       | Downloading package maxent_treebank_pos_tagger to\n",
            "       |     /root/nltk_data...\n",
            "       |   Package maxent_treebank_pos_tagger is already up-to-date!\n",
            "       | Downloading package moses_sample to /root/nltk_data...\n",
            "       |   Package moses_sample is already up-to-date!\n",
            "       | Downloading package movie_reviews to /root/nltk_data...\n",
            "       |   Package movie_reviews is already up-to-date!\n",
            "       | Downloading package mte_teip5 to /root/nltk_data...\n",
            "       |   Package mte_teip5 is already up-to-date!\n",
            "       | Downloading package mwa_ppdb to /root/nltk_data...\n",
            "       |   Package mwa_ppdb is already up-to-date!\n",
            "       | Downloading package names to /root/nltk_data...\n",
            "       |   Package names is already up-to-date!\n",
            "       | Downloading package nombank.1.0 to /root/nltk_data...\n",
            "       |   Package nombank.1.0 is already up-to-date!\n",
            "       | Downloading package nonbreaking_prefixes to\n",
            "       |     /root/nltk_data...\n",
            "       |   Package nonbreaking_prefixes is already up-to-date!\n",
            "       | Downloading package nps_chat to /root/nltk_data...\n",
            "       |   Package nps_chat is already up-to-date!\n",
            "       | Downloading package omw to /root/nltk_data...\n",
            "       |   Package omw is already up-to-date!\n",
            "       | Downloading package omw-1.4 to /root/nltk_data...\n",
            "       |   Package omw-1.4 is already up-to-date!\n",
            "       | Downloading package opinion_lexicon to /root/nltk_data...\n",
            "       |   Package opinion_lexicon is already up-to-date!\n",
            "       | Downloading package panlex_swadesh to /root/nltk_data...\n",
            "       |   Package panlex_swadesh is already up-to-date!\n",
            "       | Downloading package paradigms to /root/nltk_data...\n",
            "       |   Package paradigms is already up-to-date!\n",
            "       | Downloading package pe08 to /root/nltk_data...\n",
            "       |   Package pe08 is already up-to-date!\n",
            "       | Downloading package perluniprops to /root/nltk_data...\n",
            "       |   Package perluniprops is already up-to-date!\n",
            "       | Downloading package pil to /root/nltk_data...\n",
            "       |   Package pil is already up-to-date!\n",
            "       | Downloading package pl196x to /root/nltk_data...\n",
            "       |   Package pl196x is already up-to-date!\n",
            "       | Downloading package porter_test to /root/nltk_data...\n",
            "       |   Package porter_test is already up-to-date!\n",
            "       | Downloading package ppattach to /root/nltk_data...\n",
            "       |   Package ppattach is already up-to-date!\n",
            "       | Downloading package problem_reports to /root/nltk_data...\n",
            "       |   Package problem_reports is already up-to-date!\n",
            "       | Downloading package product_reviews_1 to /root/nltk_data...\n",
            "       |   Package product_reviews_1 is already up-to-date!\n",
            "       | Downloading package product_reviews_2 to /root/nltk_data...\n",
            "       |   Package product_reviews_2 is already up-to-date!\n",
            "       | Downloading package propbank to /root/nltk_data...\n",
            "       |   Package propbank is already up-to-date!\n",
            "       | Downloading package pros_cons to /root/nltk_data...\n",
            "       |   Package pros_cons is already up-to-date!\n",
            "       | Downloading package ptb to /root/nltk_data...\n",
            "       |   Package ptb is already up-to-date!\n",
            "       | Downloading package punkt to /root/nltk_data...\n",
            "       |   Package punkt is already up-to-date!\n",
            "       | Downloading package qc to /root/nltk_data...\n",
            "       |   Package qc is already up-to-date!\n",
            "       | Downloading package reuters to /root/nltk_data...\n",
            "       |   Package reuters is already up-to-date!\n",
            "       | Downloading package rslp to /root/nltk_data...\n",
            "       |   Package rslp is already up-to-date!\n",
            "       | Downloading package rte to /root/nltk_data...\n",
            "       |   Package rte is already up-to-date!\n",
            "       | Downloading package sample_grammars to /root/nltk_data...\n",
            "       |   Package sample_grammars is already up-to-date!\n",
            "       | Downloading package semcor to /root/nltk_data...\n",
            "       |   Package semcor is already up-to-date!\n",
            "       | Downloading package senseval to /root/nltk_data...\n",
            "       |   Package senseval is already up-to-date!\n",
            "       | Downloading package sentence_polarity to /root/nltk_data...\n",
            "       |   Package sentence_polarity is already up-to-date!\n",
            "       | Downloading package sentiwordnet to /root/nltk_data...\n",
            "       |   Package sentiwordnet is already up-to-date!\n",
            "       | Downloading package shakespeare to /root/nltk_data...\n",
            "       |   Package shakespeare is already up-to-date!\n",
            "       | Downloading package sinica_treebank to /root/nltk_data...\n",
            "       |   Package sinica_treebank is already up-to-date!\n",
            "       | Downloading package smultron to /root/nltk_data...\n",
            "       |   Package smultron is already up-to-date!\n",
            "       | Downloading package snowball_data to /root/nltk_data...\n",
            "       |   Package snowball_data is already up-to-date!\n",
            "       | Downloading package spanish_grammars to /root/nltk_data...\n",
            "       |   Package spanish_grammars is already up-to-date!\n",
            "       | Downloading package state_union to /root/nltk_data...\n",
            "       |   Package state_union is already up-to-date!\n",
            "       | Downloading package stopwords to /root/nltk_data...\n",
            "       |   Package stopwords is already up-to-date!\n",
            "       | Downloading package subjectivity to /root/nltk_data...\n",
            "       |   Package subjectivity is already up-to-date!\n",
            "       | Downloading package swadesh to /root/nltk_data...\n",
            "       |   Package swadesh is already up-to-date!\n",
            "       | Downloading package switchboard to /root/nltk_data...\n",
            "       |   Package switchboard is already up-to-date!\n",
            "       | Downloading package tagsets to /root/nltk_data...\n",
            "       |   Package tagsets is already up-to-date!\n",
            "       | Downloading package timit to /root/nltk_data...\n",
            "       |   Package timit is already up-to-date!\n",
            "       | Downloading package toolbox to /root/nltk_data...\n",
            "       |   Package toolbox is already up-to-date!\n",
            "       | Downloading package treebank to /root/nltk_data...\n",
            "       |   Package treebank is already up-to-date!\n",
            "       | Downloading package twitter_samples to /root/nltk_data...\n",
            "       |   Package twitter_samples is already up-to-date!\n",
            "       | Downloading package udhr to /root/nltk_data...\n",
            "       |   Package udhr is already up-to-date!\n",
            "       | Downloading package udhr2 to /root/nltk_data...\n",
            "       |   Package udhr2 is already up-to-date!\n",
            "       | Downloading package unicode_samples to /root/nltk_data...\n",
            "       |   Package unicode_samples is already up-to-date!\n",
            "       | Downloading package universal_tagset to /root/nltk_data...\n",
            "       |   Package universal_tagset is already up-to-date!\n",
            "       | Downloading package universal_treebanks_v20 to\n",
            "       |     /root/nltk_data...\n",
            "       |   Package universal_treebanks_v20 is already up-to-date!\n",
            "       | Downloading package vader_lexicon to /root/nltk_data...\n",
            "       |   Package vader_lexicon is already up-to-date!\n",
            "       | Downloading package verbnet to /root/nltk_data...\n",
            "       |   Package verbnet is already up-to-date!\n",
            "       | Downloading package verbnet3 to /root/nltk_data...\n",
            "       |   Package verbnet3 is already up-to-date!\n",
            "       | Downloading package webtext to /root/nltk_data...\n",
            "       |   Package webtext is already up-to-date!\n",
            "       | Downloading package wmt15_eval to /root/nltk_data...\n",
            "       |   Package wmt15_eval is already up-to-date!\n",
            "       | Downloading package word2vec_sample to /root/nltk_data...\n",
            "       |   Package word2vec_sample is already up-to-date!\n",
            "       | Downloading package wordnet to /root/nltk_data...\n",
            "       |   Package wordnet is already up-to-date!\n",
            "       | Downloading package wordnet2021 to /root/nltk_data...\n",
            "       |   Package wordnet2021 is already up-to-date!\n",
            "       | Downloading package wordnet31 to /root/nltk_data...\n",
            "       |   Package wordnet31 is already up-to-date!\n",
            "       | Downloading package wordnet_ic to /root/nltk_data...\n",
            "       |   Package wordnet_ic is already up-to-date!\n",
            "       | Downloading package words to /root/nltk_data...\n",
            "       |   Package words is already up-to-date!\n",
            "       | Downloading package ycoe to /root/nltk_data...\n",
            "       |   Package ycoe is already up-to-date!\n",
            "       | \n",
            "     Done downloading collection all\n",
            "\n",
            "---------------------------------------------------------------------------\n",
            "    d) Download   l) List    u) Update   c) Config   h) Help   q) Quit\n",
            "---------------------------------------------------------------------------\n",
            "Downloader> q\n"
          ]
        },
        {
          "output_type": "execute_result",
          "data": {
            "text/plain": [
              "True"
            ]
          },
          "metadata": {},
          "execution_count": 17
        }
      ]
    },
    {
      "cell_type": "code",
      "source": [
        "# More NLTK setup\n",
        "from nltk.corpus import stopwords\n",
        "from nltk.tokenize import word_tokenize, sent_tokenize\n",
        "stop_words = set(stopwords.words('english'))"
      ],
      "metadata": {
        "id": "zHuXjmNID2cI"
      },
      "execution_count": 18,
      "outputs": []
    },
    {
      "cell_type": "markdown",
      "source": [
        "### Writing Context Extraction Functions"
      ],
      "metadata": {
        "id": "DH7Jt3y5Frzb"
      }
    },
    {
      "cell_type": "code",
      "source": [
        "# helper function to extract full article text, useful for debugging cases where the context extraction function fails\n",
        "def content_of(art_id):\n",
        "  \"\"\"Inputs:\n",
        "     - art_id: id of the article to get the full text of\n",
        "     Outputs:\n",
        "     - str: the full article content as a string\"\"\"\n",
        "  just_id = arts[arts[\"Article ID\"] == art_id][\"Content\"]\n",
        "  if len(just_id) > 0:\n",
        "    return arts[arts[\"Article ID\"] == art_id][\"Content\"].iloc[0]\n",
        "  else: \n",
        "    return \"\""
      ],
      "metadata": {
        "id": "vQq1IXatGOK6"
      },
      "execution_count": 19,
      "outputs": []
    },
    {
      "cell_type": "code",
      "source": [
        "# Helper function to find the context for a speaker if the context follows a prenoun pattern\n",
        "# Example: \"Russian president Vladimir Putin\" -- useful context nouns \"Russian president\" precede Putin's name\n",
        "def find_prenoun_pattern(name, mentions):\n",
        "  \"\"\"Inputs:\n",
        "     - name: str, name of the speaker we're looking for context for\n",
        "     - mentions: list of str, all paragraphs in the article where name has appeared\n",
        "     Outputs:\n",
        "     - str: the prenoun context preceding a name's mention, if it exists. If no prenoun\n",
        "            context is found, return an empty string.\"\"\"\n",
        "  # listing pos tags we can reference\n",
        "  nouns = ['NN','NNS','NNP','NNPS']\n",
        "  verbs = ['VB','VBD','VBG','VBN','VBP','VBZ']\n",
        "  adverbs = ['RB','RBR','RBS']\n",
        "  # get last name and name length (num words in name) for reference\n",
        "  last_name = name.split()[-1]\n",
        "  name_len = len(name.split())\n",
        "  # for each sentence in the article that name appears in:\n",
        "  for mention in mentions:\n",
        "    potential_verb = \"\"\n",
        "    # tokenize the sentence and parse it to see what part of speech (pos)\n",
        "    # every word in it is\n",
        "    wordsList = nltk.word_tokenize(mention) # note: we're keeping stopwords\n",
        "    tagged = nltk.pos_tag(wordsList)\n",
        "    if len(tagged) <= 1:\n",
        "      return \"\"\n",
        "    # now we iterate through the sentence\n",
        "    sentence_legend = {}\n",
        "    name_idx = 0\n",
        "    i = 0\n",
        "    # for each word in sentence:\n",
        "    for tag_pair in tagged:\n",
        "      sentence_legend[i] = tag_pair\n",
        "      # if we find the last name, save that word index. It'll be handy\n",
        "      if tag_pair[0] == last_name:\n",
        "        name_idx = i\n",
        "      i += 1\n",
        "      \n",
        "    # using the word index of the name, go back in the sentence to find the\n",
        "    # word preceding it. If that preceding word is a noun, we have a prenoun\n",
        "    # pattern we should extract! (we know it's a noun because of NLTK functionality)\n",
        "    if name_idx - name_len >= 0:\n",
        "      preceding_word_pos = sentence_legend[name_idx-name_len][1] \n",
        "      if preceding_word_pos in nouns:\n",
        "        prenoun_pattern = \".*?((?:\\w+\\W+){1,4})\" + name\n",
        "        matches = re.search(prenoun_pattern, mention)\n",
        "        if matches:\n",
        "          #print(mention)\n",
        "          return matches[1]\n",
        "  return \"\""
      ],
      "metadata": {
        "id": "2MB_THZrEafn"
      },
      "execution_count": 20,
      "outputs": []
    },
    {
      "cell_type": "code",
      "source": [
        "# hardcoded list of names that are so recognizable that they often lack context.\n",
        "# we will search for them manually so as not to confuse the algorithm with noisy context\n",
        "household_names = ['donald trump','barack obama','ayatollah ali khameni',\n",
        "                   'vladimir putin','kim jong un', 'joe biden', 'joseph biden', \n",
        "                   'george bush', 'benjamin netanyahu', \"mitt romney\"]"
      ],
      "metadata": {
        "id": "eppBcRMVEgX1"
      },
      "execution_count": 21,
      "outputs": []
    },
    {
      "cell_type": "code",
      "source": [
        "# Beefed up context extraction function that searches for many more possible context patterns\n",
        "def fancy_context(art_id, name, verbose=False):\n",
        "  \"\"\"Inputs:\n",
        "     - art_id: int, id of the article in which name spoke a quote\n",
        "     - name: str, name of the speaker to search for context for\n",
        "     - verbose: bool, whether or not to print a log of what patterns\n",
        "                were found\n",
        "     Outputs:\n",
        "     - str: relevant context that can help identify name in article art_id.\n",
        "            if no patterns could be matched, this string will be NO CONTEXT FOUND.\n",
        "            if name is a household name, return the name alone. We have an indicator\n",
        "            to handle it later.\"\"\"\n",
        "  content = content_of(art_id)\n",
        "  # standardize article content and name to make searching easier\n",
        "  content = content.lower()\n",
        "  content = content.replace(\"-\",\" \")\n",
        "  content = re.sub(' \\w\\. ',' ',content) # remove middle initials\n",
        "  content = content.replace(\"'\",\"\")\n",
        "  name = name.lower()\n",
        "  name = name.replace(\"-\", \" \")\n",
        "  name = name.replace(\"'\", \"\")\n",
        "  # initial hardcoded check for household names, since these names often don't\n",
        "  # have any context and will only confuse the algorithm\n",
        "  if name in household_names:\n",
        "    if verbose:\n",
        "      print(\"HOUSEHOLD NAME PATTERN\")\n",
        "    return name\n",
        "  last_name = name.split()[-1]\n",
        "\n",
        "  # split the full text into a list of paragraphs\n",
        "  paragraphs =  re.split(r\"\\n\", content)\n",
        "  # find paragraphs where the name is mentioned\n",
        "  mentions = []\n",
        "  for paragraph in paragraphs:\n",
        "    if name in paragraph:\n",
        "      mentions.append(paragraph)\n",
        "  \n",
        "  # BEGIN PATTERN MATCHING\n",
        "  #writer_pattern1 = '(author\\:? |by\\:? )' + name\n",
        "  writer_pattern1 = '(author\\:? )' + name\n",
        "  #writer_pattern2 = '(\\n' + name + '.{0,10}\\n)'\n",
        "  writer_pattern2 = name+'   \\r'\n",
        "  congress_pattern = '(\\w{3}. ' + name + ' \\([dr]{1} .+\\))'\n",
        "  precontext_pattern = '([,\\.!?].+, )' + name\n",
        "  is_pattern = name + ' (is .+[,\\.!?])'\n",
        "  postcontext_pattern = name + '(,.+[,\\.!?])'\n",
        "  catchall_pattern = '(\\W+(?:\\w+\\W+){0,6}' + name + '\\W+(?:\\w+\\W+){0,12})'\n",
        "  context = \"\"\n",
        "\n",
        "  # try writer pattern (E: 'By: Johnny Harris')\n",
        "  for mention in mentions:\n",
        "    matches = re.search(writer_pattern1, mention)\n",
        "    if matches:\n",
        "      context = matches[1]\n",
        "      break\n",
        "    matches = re.search(writer_pattern2, mention)\n",
        "    if matches:\n",
        "      context = \"media_tag\"\n",
        "      break\n",
        "  if context:\n",
        "    if verbose:\n",
        "      print(\"WRITER PATTERN\")\n",
        "    return context\n",
        "\n",
        "  # try congress pattern (E: 'sen. John McCain (r ariz.))\n",
        "  for mention in mentions:\n",
        "    matches = re.search(congress_pattern, mention)\n",
        "    if matches:\n",
        "      context += matches[1]\n",
        "  if context:\n",
        "    if verbose:\n",
        "      print(\"CONGRESS PATTERN\")\n",
        "    return context\n",
        "\n",
        "  # try prenoun pattern (E: 'Press secretary Jen Psaki')\n",
        "  prenoun_result = find_prenoun_pattern(name, mentions)\n",
        "  if prenoun_result:\n",
        "    if verbose:\n",
        "      print(\"PRENOUN PATTERN\")\n",
        "    return prenoun_result\n",
        "\n",
        "  # try precontext patterns (E: 'Director of international affairs, Rob Black')\n",
        "  for mention in mentions:\n",
        "    matches = re.search(precontext_pattern, mention)\n",
        "    if matches:\n",
        "      context += matches[1]\n",
        "  if context:\n",
        "    if verbose:\n",
        "      print(\"PRECONTEXT PATTERN\")\n",
        "    return context\n",
        "\n",
        "  # try is pattern (E: 'Ezra Klein is a writer for the New York Times')\n",
        "  for mention in mentions:\n",
        "    matches = re.search(is_pattern, mention)\n",
        "    if matches:\n",
        "      context += matches[1]\n",
        "  if context:\n",
        "    if verbose:\n",
        "      print(\"IS PATTERN\")\n",
        "    return context\n",
        "\n",
        "  # try postcontext pattern (E: 'Daniel Chung, a researcher for ReThink media, ...')\n",
        "  for mention in mentions:\n",
        "      matches = re.search(postcontext_pattern, mention)\n",
        "      if matches:\n",
        "        context += matches[1]\n",
        "  if context:\n",
        "    if verbose:\n",
        "      print(\"POSTCONTEXT PATTERN\")\n",
        "    return context\n",
        "\n",
        "  # if all else fails, extract the first few words both preceding and trailing mentions\n",
        "  # of name in the article. A less surgical extraction, but still an extraction.\n",
        "  for mention in mentions:\n",
        "      matches = re.search(catchall_pattern, mention)\n",
        "      if matches:\n",
        "        context += matches[1]\n",
        "        break\n",
        "  if context:\n",
        "    if verbose:\n",
        "      print(\"CATCHALL FOR \" + str(art_id) + \", \" + name)\n",
        "    return context\n",
        "\n",
        "  # if all else REALLY fails, run the whole function again with just the speaker's\n",
        "  # last name, since sometimes they are mentioned as \"Mr. last_name\" or \"Mrs. last_name\"\n",
        "  if len(name.split()) > 1:\n",
        "    if verbose:\n",
        "      print(\"RERAN CONTEXT EXTRACTION ON LAST NAME\")\n",
        "    return fancy_context(art_id, last_name)\n",
        "  else:\n",
        "    context = \"# NO CONTEXT FOUND #\"\n",
        "    if verbose:\n",
        "      print(\"NO PATTERN FOUND FOR \" + str(art_id) + \", \" + name)\n",
        "    return context"
      ],
      "metadata": {
        "id": "K6gx8o9WEiib"
      },
      "execution_count": 32,
      "outputs": []
    },
    {
      "cell_type": "markdown",
      "source": [
        "### Testing Context Extraction Functions"
      ],
      "metadata": {
        "id": "p6gPiWu1FvVN"
      }
    },
    {
      "cell_type": "markdown",
      "source": [
        "The following code will run the context extraction functions on a random sample of 10 quotes, with verbose=True to print what context patterns were found. This is to demonstrate what the context extraction function actually extracts."
      ],
      "metadata": {
        "id": "9nrNYnyzHIrp"
      }
    },
    {
      "cell_type": "code",
      "source": [
        "# get a small sample of names to extract context for\n",
        "qtes_sample = qtes_just_names.sample(n=30)\n",
        "# for each sample item, find the context\n",
        "for index, qte in qtes_sample.iterrows():\n",
        "  # get info neded to find context\n",
        "  art_id = qte[\"Article ID\"]\n",
        "  name = qte[\"cleaned_name\"]\n",
        "  # get the context and print it\n",
        "  context = fancy_context(art_id, name, verbose=True)\n",
        "  print(context)\n",
        "  print(\"-----\")"
      ],
      "metadata": {
        "colab": {
          "base_uri": "https://localhost:8080/"
        },
        "id": "JT88noGFEo1c",
        "outputId": "1f480917-6b1b-4c7c-d8c2-2bb2d4eff862"
      },
      "execution_count": 35,
      "outputs": [
        {
          "output_type": "stream",
          "name": "stdout",
          "text": [
            "PRENOUN PATTERN\n",
            "islamic republic, presi dent \n",
            "-----\n",
            "HOUSEHOLD NAME PATTERN\n",
            "mitt romney\n",
            "-----\n",
            "RERAN CONTEXT EXTRACTION ON LAST NAME\n",
            "* khamenei says iran wont bow to pressure\r\n",
            "-----\n",
            "RERAN CONTEXT EXTRACTION ON LAST NAME\n",
            " bret stephens   \r\n",
            "-----\n",
            "CATCHALL FOR 5185129, anders fogh rasmussen\n",
            " pentagon officials and nato secretary general anders fogh rasmussen said theres been no sign yet of a withdrawal.\r\n",
            "-----\n",
            "POSTCONTEXT PATTERN\n",
            ", an associate professor at renmin university in beijing.\n",
            "-----\n",
            "CATCHALL FOR 5199498, manu raju\n",
            ": manu raju\r\n",
            "-----\n",
            "PRENOUN PATTERN\n",
            "deputy national security adviser \n",
            "-----\n",
            "PRENOUN PATTERN\n",
            "when secretary of state \n",
            "-----\n",
            "POSTCONTEXT PATTERN\n",
            ", president trumps nominee to lead the nnsa, told congress at a hearing thursday that the manufacture of plutonium pits   traditionally the job of los alamos national laboratory   would be her \"number one priority\" in modernizing the nnsa infrastructure. plutonium pits, about the size of a softball, are the fission cores that trigger a nuclear bomb. in part because of safety lapses, lanl hasnt produced any plutonium pits since 2011.\n",
            "-----\n",
            "POSTCONTEXT PATTERN\n",
            ", ivan watson, barbara starr, jack cafferty, jim acosta, susan candiotti, rob marciano, lisa sylvester, mary snow, brian todd,, is over at the white house., cnn correspondent: wolf, a senior administration official says the meeting between president obama and prime minister netanyahu was wide ranging and productive. the total meeting lasted more than three hours, both in the oval office and then a lunch with each of their respective delegations.\n",
            "-----\n",
            "RERAN CONTEXT EXTRACTION ON LAST NAME\n",
            ", for his part, argues that the obama administration remains somewhat naive in thinking that problems can be simply talked through, or that diplomatic pressure will be enough. \"my concern is obamas pattern of removing the military dimension from the table against aggressors,\" gelb says. \"obama gratuitously gave putin a free ride in ukraine with his statement that we have no intention to help defend ukraine other than the usual sanctions, diplomacy, and token arms. thats like saying, \"here, take ukraine., for one, thinks that because of the simultaneous existence of common global goals and conflicts with russia, the new approach should be \"a mix of containment and dã©tente 21st century style. we cant just give them a free hand to grab what they want, but we still have critical common interests.\" such a balanced policy might just work, as long as we give up trying to look into vladimir putins soul and open our eyes to the new reality he has created on the ground.\n",
            "-----\n",
            "HOUSEHOLD NAME PATTERN\n",
            "benjamin netanyahu\n",
            "-----\n",
            "RERAN CONTEXT EXTRACTION ON LAST NAME\n",
            "byline: louis rene \n",
            "-----\n",
            "PRENOUN PATTERN\n",
            "to nuclear weapons analyst \n",
            "-----\n",
            "WRITER PATTERN\n",
            "media_tag\n",
            "-----\n",
            "PRENOUN PATTERN\n",
            "george bush press secretary \n",
            "-----\n",
            "RERAN CONTEXT EXTRACTION ON LAST NAME\n",
            "bamboozled,\" contended sen. james \n",
            "-----\n",
            "CATCHALL FOR 5203270, michaela dodge\n",
            ":  michaela dodge\n",
            "-----\n",
            "CATCHALL FOR 5182813, catherine ashton\n",
            " a joint statement, european union representative catherine ashton and iranian foreign minister mohammad javad zarif said the talks will resume \n",
            "-----\n",
            "WRITER PATTERN\n",
            "media_tag\n",
            "-----\n",
            "RERAN CONTEXT EXTRACTION ON LAST NAME\n",
            "foreign minister mohammad javad \n",
            "-----\n",
            "POSTCONTEXT PATTERN\n",
            ", president of raytheon integrated defense systems, said in a march 28 statement. \"polands procurement of patriot strengthens trans atlantic partnership and security by enabling a common approach to integrated air and missile defense, and creating jobs in the u.s. and poland.\n",
            "-----\n",
            "HOUSEHOLD NAME PATTERN\n",
            "donald trump\n",
            "-----\n",
            "RERAN CONTEXT EXTRACTION ON LAST NAME\n",
            "foreign minister mohammad javad \n",
            "-----\n",
            "RERAN CONTEXT EXTRACTION ON LAST NAME\n",
            "# NO CONTEXT FOUND #\n",
            "-----\n",
            "CATCHALL FOR 5205331, herman cain\n",
            " herman cain unaware that china has nuclear capability? from his pbs interview monday night (\n",
            "-----\n",
            "PRENOUN PATTERN\n",
            "sen. \n",
            "-----\n",
            "RERAN CONTEXT EXTRACTION ON LAST NAME\n",
            "committee, democratic sen. bob \n",
            "-----\n",
            "RERAN CONTEXT EXTRACTION ON LAST NAME\n",
            "the cards,\" said bob \n",
            "-----\n"
          ]
        }
      ]
    },
    {
      "cell_type": "code",
      "source": [
        ""
      ],
      "metadata": {
        "id": "-RLk2cbDIMd2"
      },
      "execution_count": null,
      "outputs": []
    }
  ]
}