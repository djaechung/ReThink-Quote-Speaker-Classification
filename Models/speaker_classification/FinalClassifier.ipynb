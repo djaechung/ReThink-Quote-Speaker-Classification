{
 "cells": [
  {
   "cell_type": "markdown",
   "metadata": {
    "colab_type": "text",
    "id": "view-in-github"
   },
   "source": [
    "<a href=\"https://colab.research.google.com/github/YujiaoZhao/Carla_Pull/blob/main/AllFeatures.ipynb\" target=\"_parent\"><img src=\"https://colab.research.google.com/assets/colab-badge.svg\" alt=\"Open In Colab\"/></a>"
   ]
  },
  {
   "cell_type": "code",
   "execution_count": 1,
   "metadata": {
    "colab": {
     "base_uri": "https://localhost:8080/"
    },
    "id": "n1xQcInrj77H",
    "outputId": "eac24981-8a3d-494b-ea82-3539e10850f4"
   },
   "outputs": [
    {
     "name": "stdout",
     "output_type": "stream",
     "text": [
      "Requirement already satisfied: vaderSentiment in /Users/carla/opt/anaconda3/lib/python3.9/site-packages (3.3.2)\n",
      "Requirement already satisfied: requests in /Users/carla/opt/anaconda3/lib/python3.9/site-packages (from vaderSentiment) (2.26.0)\n",
      "Requirement already satisfied: idna<4,>=2.5 in /Users/carla/opt/anaconda3/lib/python3.9/site-packages (from requests->vaderSentiment) (3.2)\n",
      "Requirement already satisfied: charset-normalizer~=2.0.0 in /Users/carla/opt/anaconda3/lib/python3.9/site-packages (from requests->vaderSentiment) (2.0.4)\n",
      "Requirement already satisfied: certifi>=2017.4.17 in /Users/carla/opt/anaconda3/lib/python3.9/site-packages (from requests->vaderSentiment) (2021.10.8)\n",
      "Requirement already satisfied: urllib3<1.27,>=1.21.1 in /Users/carla/opt/anaconda3/lib/python3.9/site-packages (from requests->vaderSentiment) (1.26.7)\n"
     ]
    },
    {
     "name": "stderr",
     "output_type": "stream",
     "text": [
      "2022-12-02 05:18:15.369978: I tensorflow/core/platform/cpu_feature_guard.cc:193] This TensorFlow binary is optimized with oneAPI Deep Neural Network Library (oneDNN) to use the following CPU instructions in performance-critical operations:  AVX2 FMA\n",
      "To enable them in other operations, rebuild TensorFlow with the appropriate compiler flags.\n"
     ]
    }
   ],
   "source": [
    "#importing in libraries\n",
    "import pandas as pd\n",
    "import numpy as np\n",
    "import regex as re\n",
    "import string\n",
    "import matplotlib.pyplot as plt\n",
    "from collections import Counter\n",
    "import seaborn as sns\n",
    "import matplotlib.pyplot as plt\n",
    "!pip install vaderSentiment\n",
    "from vaderSentiment.vaderSentiment import SentimentIntensityAnalyzer\n",
    "from scipy import stats as st\n",
    "import json\n",
    "import re\n",
    "from nltk.tokenize.regexp import WhitespaceTokenizer\n",
    "from nltk import tokenize\n",
    "from collections import Counter\n",
    "from sklearn.model_selection import train_test_split\n",
    "import spacy\n",
    "from spacy.matcher import Matcher"
   ]
  },
  {
   "cell_type": "markdown",
   "metadata": {
    "id": "Ihkk7PKRluEC"
   },
   "source": [
    "## Function for Count of Numbers\n",
    "\n",
    "This function will return a list with the count of numerical values for each String in QText."
   ]
  },
  {
   "cell_type": "code",
   "execution_count": 2,
   "metadata": {
    "id": "cSp9dXrDlfup"
   },
   "outputs": [],
   "source": [
    "def number_count(text):\n",
    "    \"\"\" Input: String\n",
    "        Output: Number of numerical values in the text\n",
    "        The function accounts for the fact that there is \n",
    "        sometimes commas and decimals in numbers\"\"\"\n",
    "    if type(text) == float:\n",
    "        return 0\n",
    "    \n",
    "    text_wo_punct = text.replace(\",\", \"\").replace(\".\", \"\")\n",
    "    number_counts = len(re.findall(\"[0-9]+\", text_wo_punct))\n",
    "    return number_counts"
   ]
  },
  {
   "cell_type": "markdown",
   "metadata": {
    "id": "s6dyr5UImCkY"
   },
   "source": [
    "## Function for Count of Numbers and Number Words\n",
    "\n",
    "Number words accounts for written out numbers that include hundred, thousand, million, billion, trillion, or dozen."
   ]
  },
  {
   "cell_type": "code",
   "execution_count": 3,
   "metadata": {
    "id": "ntjpG0ZFmVPb"
   },
   "outputs": [],
   "source": [
    "def number_and_numwords_count(text):\n",
    "    \"\"\" Input: String\n",
    "        Output: Count of numerical values and \n",
    "        number words in each String in the Series.\n",
    "        The function accounts for the fact that there is \n",
    "        sometimes commas and decimals in numbers \"\"\"\n",
    "    \n",
    "    if type(text) == float:\n",
    "        return 0\n",
    "    \n",
    "    text_clean = text.replace(\",\", \"\").replace(\".\", \"\").lower()\n",
    "    num_words = len(re.findall(r\"\\bhundreds?|thousands?|millions?|billions?|trillions?|dozens?\\b\", text_clean))\n",
    "    nums = len(re.findall(\"[0-9]+\", text_clean))\n",
    "    number_counts = num_words + nums\n",
    "    \n",
    "    return number_counts"
   ]
  },
  {
   "cell_type": "markdown",
   "metadata": {
    "id": "v97qYoKBmac3"
   },
   "source": [
    "## Has Numerical Value Function\n",
    "This function will take in a the \"QText\" column and return an array with 1 for Quotes which contain any type of numerical value (number or number word) and 0 otherwise."
   ]
  },
  {
   "cell_type": "code",
   "execution_count": 4,
   "metadata": {
    "id": "8QfLOX2qmWD5"
   },
   "outputs": [],
   "source": [
    "def has_number(text):\n",
    "    \"\"\" Input: String (QText)\n",
    "        Output: 1 or 0. 1 means that the \n",
    "        string contained a number or number word.\n",
    "        The function accounts for the fact that there is \n",
    "        sometimes commas and decimals in numbers \"\"\"\n",
    "    if type(text) == float:\n",
    "        return 0\n",
    "    \n",
    "    text_clean = text.replace(\",\", \"\").replace(\".\", \"\").lower()\n",
    "    num_words = len(re.findall(r\"\\bhundreds?\\b|\\bthousands?\\b|\\bmillions?\\b|\\bbillions?\\b|\\btrillions?\\b|\\bdozens?\\b\", text_clean))\n",
    "    nums = len(re.findall(\"[0-9]+\", text_clean))\n",
    "    number_counts = num_words + nums\n",
    "    \n",
    "    if number_counts > 0:\n",
    "        return 1\n",
    "    return 0"
   ]
  },
  {
   "cell_type": "markdown",
   "metadata": {
    "id": "uoMYSmaimmCJ"
   },
   "source": [
    "## Function for Count of Group Words\n",
    "When I say \"group words,\" I am referring to the words: us, our, ours, and we."
   ]
  },
  {
   "cell_type": "code",
   "execution_count": 5,
   "metadata": {
    "id": "-kS6-9b4mlSH"
   },
   "outputs": [],
   "source": [
    "def group_wrd_count(text):\n",
    "    \"\"\" Input: String (QText)\n",
    "        Output: Count of group words in \n",
    "        each string.\n",
    "        \"\"\"\n",
    "    if type(text) == float:\n",
    "        return 0\n",
    "    \n",
    "    text_lowercase = text.lower()\n",
    "    text_clean = re.sub(r\"[^\\w\\s]\", \" \",text_lowercase)\n",
    "    word_count = len(re.findall(r\"\\bus\\b|\\bours?\\b|\\bwe\\b\", text_clean)) \n",
    "        \n",
    "    return word_count"
   ]
  },
  {
   "cell_type": "markdown",
   "metadata": {
    "id": "-yrQrOnQm_Ho"
   },
   "source": [
    "## Function for Frequency of Group Words"
   ]
  },
  {
   "cell_type": "code",
   "execution_count": 6,
   "metadata": {
    "id": "T6AytFV5nBz1"
   },
   "outputs": [],
   "source": [
    "def group_wrd_freq(text):\n",
    "    \"\"\" Input: String (QText)\n",
    "        Output: Frequency of group words in \n",
    "        text (# of \"group words\" / total # of words).\n",
    "        \"\"\"\n",
    "    if type(text) == float:\n",
    "        return 0\n",
    "    text_lowercase = text.lower()\n",
    "    text_clean = re.sub(r\"[^\\w\\s]\", \" \",text_lowercase)\n",
    "    words_count = len(re.findall(r\"\\bus\\b|\\bours?\\b|\\bwe\\b\", text_clean)) \n",
    "        \n",
    "    freq = words_count / len(text.split())\n",
    "        \n",
    "    return freq"
   ]
  },
  {
   "cell_type": "markdown",
   "metadata": {
    "id": "Nu2RpobOnFqy"
   },
   "source": [
    "## Function for Has Group Word\n",
    "This function checks if there is at least one group word in each of a Series of Strings."
   ]
  },
  {
   "cell_type": "code",
   "execution_count": 7,
   "metadata": {
    "id": "Z_OAOO19oZA7"
   },
   "outputs": [],
   "source": [
    "def has_group_word(text):\n",
    "    \"\"\" Input: String (QText)\n",
    "        Output: 1 or 0. 1 means that the \n",
    "        string contained a group word.\n",
    "        \"\"\"\n",
    "    text_lowercase = text.lower()\n",
    "    text_clean = re.sub(r\"[^\\w\\s]\", \" \",text_lowercase)\n",
    "    word_count = len(re.findall(r\"\\bus\\b|\\bours?\\b|\\bwe\\b\", text_clean))\n",
    "    \n",
    "    if word_count > 0:\n",
    "        return 1\n",
    "    else:\n",
    "        return 0"
   ]
  },
  {
   "cell_type": "markdown",
   "metadata": {
    "id": "xlllYcHR9MaP"
   },
   "source": [
    "## Sentiment Feature Function"
   ]
  },
  {
   "cell_type": "code",
   "execution_count": 8,
   "metadata": {
    "id": "in2jVTGL95n6"
   },
   "outputs": [],
   "source": [
    "vader = SentimentIntensityAnalyzer()\n",
    "\n",
    "def sentence_vader(string):\n",
    "    sentence_list = tokenize.sent_tokenize(string)\n",
    "    score_list = []\n",
    "    for sentence in sentence_list:\n",
    "        score = vader.polarity_scores(sentence)\n",
    "        score_list.append(score['compound'])\n",
    "    return np.mean(score_list)"
   ]
  },
  {
   "cell_type": "code",
   "execution_count": 9,
   "metadata": {
    "id": "nWVjRobg9jPC"
   },
   "outputs": [],
   "source": [
    "def vader_15(string):\n",
    "    split_string = string.split(\" \")\n",
    "    length = len(split_string)\n",
    "    sentence_list = []\n",
    "    for i in range(length//15):\n",
    "        sentence = \" \".join(split_string[i*15:(i+1)*15])\n",
    "        sentence_list.append(sentence)\n",
    "    if length % 15 != 0:\n",
    "        digit = length%15\n",
    "        remainder = \" \".join(split_string[-digit:])\n",
    "        sentence_list.append(remainder)\n",
    "    \n",
    "    score_list = []\n",
    "    for sentence in sentence_list:\n",
    "        score = vader.polarity_scores(sentence)\n",
    "        score_list.append(score['compound'])\n",
    "    return np.mean(score_list)"
   ]
  },
  {
   "cell_type": "markdown",
   "metadata": {
    "id": "9ofv5juJ-BuF"
   },
   "source": [
    "## Subjectivity Feature Function"
   ]
  },
  {
   "cell_type": "code",
   "execution_count": 10,
   "metadata": {
    "colab": {
     "base_uri": "https://localhost:8080/"
    },
    "id": "ITC2BSqW9jYg",
    "outputId": "7e9c7b76-cebd-435b-f168-af8af3a94d06"
   },
   "outputs": [],
   "source": [
    "#Loading the MPQA Subjectivity Clues Lexicon (https://mpqa.cs.pitt.edu/lexicons/subj_lexicon/)\n",
    "mpqa_dict = json.load(open(\"/Users/carla/Desktop/internships/rethinkmedia/mpqa_dict.json\", \"r\"))\n",
    "\n",
    "def get_subjectivity(art_str, mpqa_dict):\n",
    "    subjectivity = 0\n",
    "    words = re.sub(\"[^\\w]\", \" \",  art_str).split()\n",
    "    quote_len = len(words)\n",
    "    \n",
    "    for w in words:\n",
    "        if w in mpqa_dict:  \n",
    "            if mpqa_dict[w]['subj'] == 'weaksubj':\n",
    "                subjectivity += 0.1\n",
    "            if mpqa_dict[w]['subj'] == 'strongsubj':\n",
    "                subjectivity += 1\n",
    "    try:\n",
    "        subjectivity_final = subjectivity*15/quote_len\n",
    "    except:\n",
    "        subjectivity_final = 0\n",
    "    \n",
    "    return subjectivity_final"
   ]
  },
  {
   "cell_type": "markdown",
   "metadata": {
    "id": "XHkp_AaNPw0_"
   },
   "source": [
    "## Has Nuke Function"
   ]
  },
  {
   "cell_type": "code",
   "execution_count": 11,
   "metadata": {
    "id": "aqMYPXwJMjqq"
   },
   "outputs": [],
   "source": [
    "# Indicates if the word 'nuke' was used in the text using regex\n",
    "def has_nuke(text):\n",
    "    if type(text) == str:\n",
    "        return int(len(re.findall(\"(nukes?[^\\w])\", text)) > 0)\n",
    "    else:\n",
    "        return 0"
   ]
  },
  {
   "cell_type": "markdown",
   "metadata": {
    "id": "pRmF8YhjP3tf"
   },
   "source": [
    "## Count British Words Function"
   ]
  },
  {
   "cell_type": "code",
   "execution_count": 12,
   "metadata": {
    "id": "WlIq7jsRNa9E"
   },
   "outputs": [],
   "source": [
    "# Imports british to american word dictionary and function counts number of british words in the text\n",
    "import requests\n",
    "url =\"https://raw.githubusercontent.com/hyperreality/American-British-English-Translator/master/data/british_spellings.json\"\n",
    "british_to_american_dict = requests.get(url).json()\n",
    "british_words = list(british_to_american_dict.keys())\n",
    "remove_words = ['buses', 'disc', 'dialogue', 'gramme']\n",
    "british_words_edited = list(british_to_american_dict.keys())\n",
    "[british_words_edited.remove(w) for w in remove_words]\n",
    "\n",
    "def count_british_edited(text):\n",
    "    count = 0\n",
    "    if type(text) == str:\n",
    "        for i in british_words_edited:\n",
    "            count += text.count(i + \" \")\n",
    "            count += text.count(i + \".\")\n",
    "            count += text.count(i + \"?\")\n",
    "            count += text.count(i + \",\")\n",
    "            count += text.count(i + \"-\")\n",
    "            count += text.count(i + \":\")\n",
    "    return count"
   ]
  },
  {
   "cell_type": "markdown",
   "metadata": {},
   "source": [
    "## Final Feature Table"
   ]
  },
  {
   "cell_type": "code",
   "execution_count": 13,
   "metadata": {},
   "outputs": [
    {
     "name": "stderr",
     "output_type": "stream",
     "text": [
      "/Users/carla/opt/anaconda3/lib/python3.9/site-packages/IPython/core/interactiveshell.py:3444: DtypeWarning: Columns (9,10,24) have mixed types.Specify dtype option on import or set low_memory=False.\n",
      "  exec(code_obj, self.user_global_ns, self.user_ns)\n"
     ]
    }
   ],
   "source": [
    "# keeping only news articles and filtering out the unknown sources\n",
    "\n",
    "GNI88 = pd.read_csv(\"/Users/carla/Desktop/internships/rethinkmedia/GNI88_cleaned_data.csv\")\n",
    "GNI88 = GNI88[GNI88['Article Status']=='News']\n",
    "GNI88 = GNI88[GNI88[\"source_name_cleaned\"].str.contains(\"Unknown|Unnamed|unknown|unnamed\", regex=True)==False]"
   ]
  },
  {
   "cell_type": "code",
   "execution_count": 14,
   "metadata": {},
   "outputs": [],
   "source": [
    "# filtering out the organizations sources and the \"NO CONTEXT FOUND\" quotes\n",
    "\n",
    "GNI88 = GNI88[GNI88[\"Source Gender\"]!='Organization']\n",
    "GNI88 = GNI88.drop(labels=[370772, 370773], axis=0).reset_index(drop=True) # This one is an empty quote"
   ]
  },
  {
   "cell_type": "code",
   "execution_count": 15,
   "metadata": {},
   "outputs": [
    {
     "data": {
      "text/plain": [
       "Series([], Name: QText, dtype: object)"
      ]
     },
     "execution_count": 15,
     "metadata": {},
     "output_type": "execute_result"
    }
   ],
   "source": [
    "GNI88[GNI88[\"Article ID\"]== 52405317]['QText']"
   ]
  },
  {
   "cell_type": "code",
   "execution_count": 16,
   "metadata": {},
   "outputs": [
    {
     "data": {
      "text/plain": [
       "(299981, 30)"
      ]
     },
     "execution_count": 16,
     "metadata": {},
     "output_type": "execute_result"
    }
   ],
   "source": [
    "GNI88.shape"
   ]
  },
  {
   "cell_type": "code",
   "execution_count": 17,
   "metadata": {},
   "outputs": [],
   "source": [
    "sample = GNI88.sample(n=10000)\n",
    "sample['Number Count'] = sample['QText'].apply(number_count)\n",
    "sample['Number and Numwords Count'] = sample['QText'].apply(number_and_numwords_count)\n",
    "sample['Has Number'] = sample['QText'].apply(has_number)\n",
    "sample['Group Word Count'] = sample['QText'].apply(group_wrd_count)\n",
    "sample['Group Word Frequency'] = sample['QText'].apply(group_wrd_freq)\n",
    "sample['Has Group Word'] = sample['QText'].apply(has_group_word)\n",
    "sample['Sentiment'] = sample['QText'].apply(vader_15)\n",
    "sample['Subjectivity'] = sample['QText'].apply(get_subjectivity, mpqa_dict=mpqa_dict)\n",
    "sample['Has Nuke'] = sample['QText'].apply(has_nuke)\n",
    "sample['British Word Count'] = sample['QText'].apply(count_british_edited)"
   ]
  },
  {
   "cell_type": "code",
   "execution_count": 18,
   "metadata": {},
   "outputs": [],
   "source": [
    "new_feature = ['Number Count', 'Number and Numwords Count', 'Has Number', 'Group Word Count', \n",
    "                    'Group Word Frequency', 'Has Group Word', 'Sentiment', 'Subjectivity', 'Has Nuke',\n",
    "                    'British Word Count']"
   ]
  },
  {
   "cell_type": "code",
   "execution_count": 19,
   "metadata": {},
   "outputs": [
    {
     "name": "stderr",
     "output_type": "stream",
     "text": [
      "/var/folders/tc/bh92rdln5b97ks_khyc1_kbh0000gn/T/ipykernel_44359/3713888292.py:1: DtypeWarning: Columns (9,10,24) have mixed types.Specify dtype option on import or set low_memory=False.\n",
      "  from ModelReview import *\n"
     ]
    }
   ],
   "source": [
    "from ModelReview import *"
   ]
  },
  {
   "cell_type": "code",
   "execution_count": 20,
   "metadata": {},
   "outputs": [],
   "source": [
    "# creating a column for feature information\n",
    "sample[\"speaker_context\"] = sample.apply(lambda row: fancy_context(row[\"Article ID\"], row['source_name_cleaned'], verbose=False),axis=1)"
   ]
  },
  {
   "cell_type": "code",
   "execution_count": 21,
   "metadata": {},
   "outputs": [],
   "source": [
    "# creating a column for label information\n",
    "sample[\"speaker_group\"] = sample.apply(lambda row: assign_source_to_group(row[\"Source Type\"]), axis=1)"
   ]
  },
  {
   "cell_type": "code",
   "execution_count": 22,
   "metadata": {},
   "outputs": [],
   "source": [
    "# creating a special indicator column to hopefully discern foreign government sources\n",
    "sample[\"has_foreign_title\"] = sample.apply(lambda row: has_foreign_title(row.speaker_context), axis = 1)"
   ]
  },
  {
   "cell_type": "code",
   "execution_count": 23,
   "metadata": {},
   "outputs": [
    {
     "data": {
      "text/html": [
       "<div>\n",
       "<style scoped>\n",
       "    .dataframe tbody tr th:only-of-type {\n",
       "        vertical-align: middle;\n",
       "    }\n",
       "\n",
       "    .dataframe tbody tr th {\n",
       "        vertical-align: top;\n",
       "    }\n",
       "\n",
       "    .dataframe thead th {\n",
       "        text-align: right;\n",
       "    }\n",
       "</style>\n",
       "<table border=\"1\" class=\"dataframe\">\n",
       "  <thead>\n",
       "    <tr style=\"text-align: right;\">\n",
       "      <th></th>\n",
       "      <th>artdate</th>\n",
       "      <th>Article ID</th>\n",
       "      <th>Headline</th>\n",
       "      <th>Quote ID</th>\n",
       "      <th>Article Status</th>\n",
       "      <th>Article Position</th>\n",
       "      <th>Messages</th>\n",
       "      <th>Submessages</th>\n",
       "      <th>Quote Position</th>\n",
       "      <th>Legacy Quote Tag</th>\n",
       "      <th>...</th>\n",
       "      <th>Group Word Count</th>\n",
       "      <th>Group Word Frequency</th>\n",
       "      <th>Has Group Word</th>\n",
       "      <th>Sentiment</th>\n",
       "      <th>Subjectivity</th>\n",
       "      <th>Has Nuke</th>\n",
       "      <th>British Word Count</th>\n",
       "      <th>speaker_context</th>\n",
       "      <th>speaker_group</th>\n",
       "      <th>has_foreign_title</th>\n",
       "    </tr>\n",
       "  </thead>\n",
       "  <tbody>\n",
       "    <tr>\n",
       "      <th>142381</th>\n",
       "      <td>2011-04-06</td>\n",
       "      <td>5184137</td>\n",
       "      <td>ON GUARD IN CITY NYPD stages drill to find \"di...</td>\n",
       "      <td>8982918</td>\n",
       "      <td>News</td>\n",
       "      <td>Neutral</td>\n",
       "      <td>OLD Proliferation</td>\n",
       "      <td>OLD Terrorist Threat</td>\n",
       "      <td>Neutral</td>\n",
       "      <td>NaN</td>\n",
       "      <td>...</td>\n",
       "      <td>0</td>\n",
       "      <td>0.000000</td>\n",
       "      <td>0</td>\n",
       "      <td>0.00000</td>\n",
       "      <td>0.136364</td>\n",
       "      <td>0</td>\n",
       "      <td>0</td>\n",
       "      <td>out from the city,\" said inspector stuart cam...</td>\n",
       "      <td>Other</td>\n",
       "      <td>0</td>\n",
       "    </tr>\n",
       "    <tr>\n",
       "      <th>255967</th>\n",
       "      <td>2020-05-21</td>\n",
       "      <td>9393802</td>\n",
       "      <td>Pompeo Announces Open Skies Withdrawal</td>\n",
       "      <td>12555481</td>\n",
       "      <td>News</td>\n",
       "      <td>Neutral</td>\n",
       "      <td>Arms Reduction</td>\n",
       "      <td>START</td>\n",
       "      <td>Positive</td>\n",
       "      <td>NaN</td>\n",
       "      <td>...</td>\n",
       "      <td>0</td>\n",
       "      <td>0.000000</td>\n",
       "      <td>0</td>\n",
       "      <td>-0.72690</td>\n",
       "      <td>2.500000</td>\n",
       "      <td>0</td>\n",
       "      <td>0</td>\n",
       "      <td>,” trump’s special envoy for arms control,</td>\n",
       "      <td>US Federal Officials</td>\n",
       "      <td>0</td>\n",
       "    </tr>\n",
       "    <tr>\n",
       "      <th>164732</th>\n",
       "      <td>2013-03-26</td>\n",
       "      <td>5188232</td>\n",
       "      <td>Report: Sanctions may be speeding Iran's nucle...</td>\n",
       "      <td>9075303</td>\n",
       "      <td>News</td>\n",
       "      <td>Neutral</td>\n",
       "      <td>OLD Iran</td>\n",
       "      <td>OLD Sanctions</td>\n",
       "      <td>Neutral</td>\n",
       "      <td>NaN</td>\n",
       "      <td>...</td>\n",
       "      <td>1</td>\n",
       "      <td>0.045455</td>\n",
       "      <td>1</td>\n",
       "      <td>-0.17875</td>\n",
       "      <td>0.954545</td>\n",
       "      <td>0</td>\n",
       "      <td>0</td>\n",
       "      <td>author</td>\n",
       "      <td>Experts</td>\n",
       "      <td>0</td>\n",
       "    </tr>\n",
       "    <tr>\n",
       "      <th>217671</th>\n",
       "      <td>2014-01-12</td>\n",
       "      <td>5210185</td>\n",
       "      <td>Iran says nuclear deal takes effect on Jan. 20...</td>\n",
       "      <td>9054198</td>\n",
       "      <td>News</td>\n",
       "      <td>Neutral</td>\n",
       "      <td>OLD Iran</td>\n",
       "      <td>OLD Negotiations</td>\n",
       "      <td>Neutral</td>\n",
       "      <td>NaN</td>\n",
       "      <td>...</td>\n",
       "      <td>0</td>\n",
       "      <td>0.000000</td>\n",
       "      <td>0</td>\n",
       "      <td>0.00000</td>\n",
       "      <td>0.868421</td>\n",
       "      <td>0</td>\n",
       "      <td>0</td>\n",
       "      <td>... the geneva deal will be implemented from j...</td>\n",
       "      <td>Foreign Government</td>\n",
       "      <td>0</td>\n",
       "    </tr>\n",
       "    <tr>\n",
       "      <th>42416</th>\n",
       "      <td>2017-05-14</td>\n",
       "      <td>5148397</td>\n",
       "      <td>Lawmakers move to step up defenses against Nor...</td>\n",
       "      <td>8887225</td>\n",
       "      <td>News</td>\n",
       "      <td>Neutral</td>\n",
       "      <td>OLD Proliferation</td>\n",
       "      <td>OLD State Level Nuclear Programs</td>\n",
       "      <td>Neutral</td>\n",
       "      <td>NaN</td>\n",
       "      <td>...</td>\n",
       "      <td>0</td>\n",
       "      <td>0.000000</td>\n",
       "      <td>0</td>\n",
       "      <td>0.00000</td>\n",
       "      <td>1.086207</td>\n",
       "      <td>0</td>\n",
       "      <td>0</td>\n",
       "      <td>strategic command head gen.</td>\n",
       "      <td>US Defense</td>\n",
       "      <td>0</td>\n",
       "    </tr>\n",
       "  </tbody>\n",
       "</table>\n",
       "<p>5 rows × 43 columns</p>\n",
       "</div>"
      ],
      "text/plain": [
       "           artdate  Article ID  \\\n",
       "142381  2011-04-06     5184137   \n",
       "255967  2020-05-21     9393802   \n",
       "164732  2013-03-26     5188232   \n",
       "217671  2014-01-12     5210185   \n",
       "42416   2017-05-14     5148397   \n",
       "\n",
       "                                                 Headline  Quote ID  \\\n",
       "142381  ON GUARD IN CITY NYPD stages drill to find \"di...   8982918   \n",
       "255967             Pompeo Announces Open Skies Withdrawal  12555481   \n",
       "164732  Report: Sanctions may be speeding Iran's nucle...   9075303   \n",
       "217671  Iran says nuclear deal takes effect on Jan. 20...   9054198   \n",
       "42416   Lawmakers move to step up defenses against Nor...   8887225   \n",
       "\n",
       "       Article Status Article Position           Messages  \\\n",
       "142381           News          Neutral  OLD Proliferation   \n",
       "255967           News          Neutral     Arms Reduction   \n",
       "164732           News          Neutral           OLD Iran   \n",
       "217671           News          Neutral           OLD Iran   \n",
       "42416            News          Neutral  OLD Proliferation   \n",
       "\n",
       "                             Submessages Quote Position Legacy Quote Tag  ...  \\\n",
       "142381              OLD Terrorist Threat        Neutral              NaN  ...   \n",
       "255967                             START       Positive              NaN  ...   \n",
       "164732                     OLD Sanctions        Neutral              NaN  ...   \n",
       "217671                  OLD Negotiations        Neutral              NaN  ...   \n",
       "42416   OLD State Level Nuclear Programs        Neutral              NaN  ...   \n",
       "\n",
       "       Group Word Count Group Word Frequency Has Group Word Sentiment  \\\n",
       "142381                0             0.000000              0   0.00000   \n",
       "255967                0             0.000000              0  -0.72690   \n",
       "164732                1             0.045455              1  -0.17875   \n",
       "217671                0             0.000000              0   0.00000   \n",
       "42416                 0             0.000000              0   0.00000   \n",
       "\n",
       "       Subjectivity Has Nuke British Word Count  \\\n",
       "142381     0.136364        0                  0   \n",
       "255967     2.500000        0                  0   \n",
       "164732     0.954545        0                  0   \n",
       "217671     0.868421        0                  0   \n",
       "42416      1.086207        0                  0   \n",
       "\n",
       "                                          speaker_context  \\\n",
       "142381   out from the city,\" said inspector stuart cam...   \n",
       "255967        ,” trump’s special envoy for arms control,    \n",
       "164732                                            author    \n",
       "217671  ... the geneva deal will be implemented from j...   \n",
       "42416                        strategic command head gen.    \n",
       "\n",
       "               speaker_group has_foreign_title  \n",
       "142381                 Other                 0  \n",
       "255967  US Federal Officials                 0  \n",
       "164732               Experts                 0  \n",
       "217671    Foreign Government                 0  \n",
       "42416             US Defense                 0  \n",
       "\n",
       "[5 rows x 43 columns]"
      ]
     },
     "execution_count": 23,
     "metadata": {},
     "output_type": "execute_result"
    }
   ],
   "source": [
    "sample.head(5)"
   ]
  },
  {
   "cell_type": "code",
   "execution_count": 24,
   "metadata": {},
   "outputs": [],
   "source": [
    "sample = sample[sample['speaker_context'] != '# NO CONTEXT FOUND #']"
   ]
  },
  {
   "cell_type": "code",
   "execution_count": 25,
   "metadata": {},
   "outputs": [
    {
     "data": {
      "text/plain": [
       "(9273, 43)"
      ]
     },
     "execution_count": 25,
     "metadata": {},
     "output_type": "execute_result"
    }
   ],
   "source": [
    "sample.shape"
   ]
  },
  {
   "cell_type": "code",
   "execution_count": 26,
   "metadata": {},
   "outputs": [],
   "source": [
    "X = []\n",
    "X_verbose = []\n",
    "for context_str in sample[\"speaker_context\"]:\n",
    "    X_verbose.append(context_str)\n",
    "    X.append(extract_speaker_indicators_binary(context_str, speaker_dict))\n",
    "    #X.append(extract_counts(context_str,indicator_pattern_set))\n",
    "X = np.array(X)\n",
    "foreign_title_indicators = np.array([np.array([ind]) for ind in sample[\"has_foreign_title\"]])\n",
    "X = np.hstack((X,foreign_title_indicators))\n",
    "new_feature_table = np.array(sample[new_feature])\n",
    "X = np.hstack((X,new_feature_table))\n",
    "\n",
    "# Y is the broader group of speakers to which the source of the quote belongs\n",
    "y = np.array(sample[\"speaker_group\"])"
   ]
  },
  {
   "cell_type": "code",
   "execution_count": 27,
   "metadata": {},
   "outputs": [
    {
     "data": {
      "text/plain": [
       "(9273, 21)"
      ]
     },
     "execution_count": 27,
     "metadata": {},
     "output_type": "execute_result"
    }
   ],
   "source": [
    "X.shape"
   ]
  },
  {
   "cell_type": "markdown",
   "metadata": {},
   "source": [
    "### There are 21 features in total. The first 10 are speaker indicators, the 11th is foreign title indicator, and the rest are our new features."
   ]
  },
  {
   "cell_type": "code",
   "execution_count": 28,
   "metadata": {},
   "outputs": [],
   "source": [
    "# train-test split for trial logistic classification\n",
    "X_train, X_test, y_train, y_test = train_test_split(X, y, test_size=0.3, random_state=66)"
   ]
  },
  {
   "cell_type": "markdown",
   "metadata": {},
   "source": [
    "## Try: Logistic regression"
   ]
  },
  {
   "cell_type": "code",
   "execution_count": 29,
   "metadata": {},
   "outputs": [
    {
     "data": {
      "text/plain": [
       "0.6175413371675054"
      ]
     },
     "execution_count": 29,
     "metadata": {},
     "output_type": "execute_result"
    }
   ],
   "source": [
    "from sklearn.linear_model import LogisticRegression\n",
    "from sklearn.metrics import classification_report\n",
    "\n",
    "# fitting the trial logistic classifier\n",
    "log_clf = LogisticRegression(max_iter=3000).fit(X_train, y_train)\n",
    "# score for trial logistic classifier\n",
    "log_clf.score(X_test,y_test)"
   ]
  },
  {
   "cell_type": "code",
   "execution_count": 30,
   "metadata": {},
   "outputs": [
    {
     "data": {
      "text/plain": [
       "'                      precision    recall  f1-score   support\\n\\n  Corporate Official       0.43      0.20      0.28        44\\n             Experts       0.67      0.51      0.58       563\\n  Foreign Government       0.55      0.74      0.63       753\\n               Media       0.56      0.62      0.59       226\\n               Other       0.00      0.00      0.00        62\\n         US Congress       0.71      0.53      0.61       323\\n          US Defense       0.28      0.45      0.34        69\\nUS Federal Officials       0.73      0.71      0.72       742\\n\\n            accuracy                           0.62      2782\\n           macro avg       0.49      0.47      0.47      2782\\n        weighted avg       0.62      0.62      0.61      2782\\n'"
      ]
     },
     "execution_count": 30,
     "metadata": {},
     "output_type": "execute_result"
    }
   ],
   "source": [
    "y_pred = log_clf.predict(X_test)\n",
    "classification_report(y_test, y_pred)"
   ]
  },
  {
   "cell_type": "markdown",
   "metadata": {},
   "source": [
    "## Try: Random Forest"
   ]
  },
  {
   "cell_type": "code",
   "execution_count": 31,
   "metadata": {},
   "outputs": [
    {
     "data": {
      "text/plain": [
       "0.595255212077642"
      ]
     },
     "execution_count": 31,
     "metadata": {},
     "output_type": "execute_result"
    }
   ],
   "source": [
    "from sklearn.ensemble import RandomForestClassifier\n",
    "\n",
    "# fitting the trial random forest classifier\n",
    "randforest_clf = RandomForestClassifier(max_depth=90, random_state=0, n_estimators=300).fit(X_train, y_train)\n",
    "# score for trial random forest classifier\n",
    "randforest_clf.score(X_test,y_test)"
   ]
  },
  {
   "cell_type": "code",
   "execution_count": 32,
   "metadata": {},
   "outputs": [
    {
     "data": {
      "text/plain": [
       "'                      precision    recall  f1-score   support\\n\\n  Corporate Official       0.33      0.20      0.25        44\\n             Experts       0.53      0.53      0.53       563\\n  Foreign Government       0.64      0.66      0.65       753\\n               Media       0.50      0.53      0.51       226\\n               Other       0.00      0.00      0.00        62\\n         US Congress       0.59      0.58      0.58       323\\n          US Defense       0.26      0.28      0.27        69\\nUS Federal Officials       0.68      0.71      0.69       742\\n\\n            accuracy                           0.60      2782\\n           macro avg       0.44      0.44      0.44      2782\\n        weighted avg       0.58      0.60      0.59      2782\\n'"
      ]
     },
     "execution_count": 32,
     "metadata": {},
     "output_type": "execute_result"
    }
   ],
   "source": [
    "y_pred = randforest_clf.predict(X_test)\n",
    "classification_report(y_test, y_pred)"
   ]
  },
  {
   "cell_type": "code",
   "execution_count": 33,
   "metadata": {},
   "outputs": [],
   "source": [
    "# feature importance\n",
    "\n",
    "importances = randforest_clf.feature_importances_"
   ]
  },
  {
   "cell_type": "code",
   "execution_count": 34,
   "metadata": {},
   "outputs": [
    {
     "data": {
      "image/png": "[encoded data removed]",
      "text/plain": [
       "<Figure size 432x288 with 1 Axes>"
      ]
     },
     "metadata": {
      "needs_background": "light"
     },
     "output_type": "display_data"
    }
   ],
   "source": [
    "feature_names = ['Expert', 'Foreign Government', 'Corporate Official', 'Judicial', 'US Congress', 'US Defense',\n",
    "                'US Federal Official', 'Media', 'International Officials', 'Other', 'Foreign Title', 'Number Count', \n",
    "                'Number and Numwords Count', 'Has Number', 'Group Word Count', 'Group Word Frequency', \n",
    "                'Has Group Word', 'Sentiment', 'Subjectivity', 'Has Nuke', 'British Word Count']\n",
    "\n",
    "\n",
    "forest_importances = pd.Series(importances, index=feature_names)\n",
    "\n",
    "fig, ax = plt.subplots()\n",
    "std = np.std([tree.feature_importances_ for tree in randforest_clf.estimators_], axis=0)\n",
    "forest_importances.plot.bar(yerr=std, ax=ax)\n",
    "ax.set_title(\"Feature importances using MDI\")\n",
    "ax.set_ylabel(\"Mean decrease in impurity\")\n",
    "fig.tight_layout()"
   ]
  },
  {
   "cell_type": "markdown",
   "metadata": {},
   "source": [
    "## Try: Support Vector Machine"
   ]
  },
  {
   "cell_type": "code",
   "execution_count": 35,
   "metadata": {},
   "outputs": [
    {
     "name": "stdout",
     "output_type": "stream",
     "text": [
      "0.6236520488856937\n"
     ]
    }
   ],
   "source": [
    "from sklearn import svm\n",
    "from sklearn import metrics\n",
    "\n",
    "# fitting the trial SVM classifier\n",
    "svm_clf = svm.SVC(kernel='linear').fit(X_train, y_train)\n",
    "# score for trial SVM classifier\n",
    "y_pred = svm_clf.predict(X_test)\n",
    "print(metrics.accuracy_score(y_test, y_pred))"
   ]
  },
  {
   "cell_type": "code",
   "execution_count": 36,
   "metadata": {},
   "outputs": [
    {
     "name": "stderr",
     "output_type": "stream",
     "text": [
      "/Users/carla/opt/anaconda3/lib/python3.9/site-packages/sklearn/metrics/_classification.py:1327: UndefinedMetricWarning: Precision and F-score are ill-defined and being set to 0.0 in labels with no predicted samples. Use `zero_division` parameter to control this behavior.\n",
      "  _warn_prf(average, modifier, msg_start, len(result))\n",
      "/Users/carla/opt/anaconda3/lib/python3.9/site-packages/sklearn/metrics/_classification.py:1327: UndefinedMetricWarning: Precision and F-score are ill-defined and being set to 0.0 in labels with no predicted samples. Use `zero_division` parameter to control this behavior.\n",
      "  _warn_prf(average, modifier, msg_start, len(result))\n",
      "/Users/carla/opt/anaconda3/lib/python3.9/site-packages/sklearn/metrics/_classification.py:1327: UndefinedMetricWarning: Precision and F-score are ill-defined and being set to 0.0 in labels with no predicted samples. Use `zero_division` parameter to control this behavior.\n",
      "  _warn_prf(average, modifier, msg_start, len(result))\n"
     ]
    },
    {
     "data": {
      "text/plain": [
       "'                      precision    recall  f1-score   support\\n\\n  Corporate Official       0.40      0.27      0.32        44\\n             Experts       0.67      0.55      0.60       563\\n  Foreign Government       0.55      0.76      0.64       753\\n               Media       0.56      0.61      0.58       226\\n               Other       0.00      0.00      0.00        62\\n         US Congress       0.68      0.56      0.62       323\\n          US Defense       0.26      0.45      0.33        69\\nUS Federal Officials       0.79      0.66      0.72       742\\n\\n            accuracy                           0.62      2782\\n           macro avg       0.49      0.48      0.48      2782\\n        weighted avg       0.63      0.62      0.62      2782\\n'"
      ]
     },
     "execution_count": 36,
     "metadata": {},
     "output_type": "execute_result"
    }
   ],
   "source": [
    "y_pred = svm_clf.predict(X_test)\n",
    "classification_report(y_test, y_pred)"
   ]
  },
  {
   "cell_type": "markdown",
   "metadata": {},
   "source": [
    "## Hyperparameter Tuning"
   ]
  },
  {
   "cell_type": "code",
   "execution_count": 37,
   "metadata": {},
   "outputs": [
    {
     "name": "stdout",
     "output_type": "stream",
     "text": [
      "Fitting 5 folds for each of 32 candidates, totalling 160 fits\n",
      "[CV 1/5] END ........C=0.1, gamma=1, kernel=rbf;, score=0.575 total time=   2.6s\n",
      "[CV 2/5] END ........C=0.1, gamma=1, kernel=rbf;, score=0.573 total time=   2.4s\n",
      "[CV 3/5] END ........C=0.1, gamma=1, kernel=rbf;, score=0.586 total time=   2.5s\n",
      "[CV 4/5] END ........C=0.1, gamma=1, kernel=rbf;, score=0.590 total time=   2.5s\n",
      "[CV 5/5] END ........C=0.1, gamma=1, kernel=rbf;, score=0.599 total time=   2.5s\n",
      "[CV 1/5] END .....C=0.1, gamma=1, kernel=linear;, score=0.614 total time=   1.2s\n",
      "[CV 2/5] END .....C=0.1, gamma=1, kernel=linear;, score=0.619 total time=   1.2s\n",
      "[CV 3/5] END .....C=0.1, gamma=1, kernel=linear;, score=0.617 total time=   1.2s\n",
      "[CV 4/5] END .....C=0.1, gamma=1, kernel=linear;, score=0.616 total time=   1.2s\n",
      "[CV 5/5] END .....C=0.1, gamma=1, kernel=linear;, score=0.616 total time=   1.2s\n",
      "[CV 1/5] END ......C=0.1, gamma=0.1, kernel=rbf;, score=0.594 total time=   2.1s\n",
      "[CV 2/5] END ......C=0.1, gamma=0.1, kernel=rbf;, score=0.609 total time=   2.2s\n",
      "[CV 3/5] END ......C=0.1, gamma=0.1, kernel=rbf;, score=0.601 total time=   2.1s\n",
      "[CV 4/5] END ......C=0.1, gamma=0.1, kernel=rbf;, score=0.597 total time=   2.1s\n",
      "[CV 5/5] END ......C=0.1, gamma=0.1, kernel=rbf;, score=0.614 total time=   2.4s\n",
      "[CV 1/5] END ...C=0.1, gamma=0.1, kernel=linear;, score=0.614 total time=   1.1s\n",
      "[CV 2/5] END ...C=0.1, gamma=0.1, kernel=linear;, score=0.619 total time=   1.2s\n",
      "[CV 3/5] END ...C=0.1, gamma=0.1, kernel=linear;, score=0.617 total time=   1.3s\n",
      "[CV 4/5] END ...C=0.1, gamma=0.1, kernel=linear;, score=0.616 total time=   1.2s\n",
      "[CV 5/5] END ...C=0.1, gamma=0.1, kernel=linear;, score=0.616 total time=   1.2s\n",
      "[CV 1/5] END .....C=0.1, gamma=0.01, kernel=rbf;, score=0.506 total time=   2.7s\n",
      "[CV 2/5] END .....C=0.1, gamma=0.01, kernel=rbf;, score=0.516 total time=   2.7s\n",
      "[CV 3/5] END .....C=0.1, gamma=0.01, kernel=rbf;, score=0.525 total time=   3.6s\n",
      "[CV 4/5] END .....C=0.1, gamma=0.01, kernel=rbf;, score=0.515 total time=   2.8s\n",
      "[CV 5/5] END .....C=0.1, gamma=0.01, kernel=rbf;, score=0.513 total time=   2.8s\n",
      "[CV 1/5] END ..C=0.1, gamma=0.01, kernel=linear;, score=0.614 total time=   1.2s\n",
      "[CV 2/5] END ..C=0.1, gamma=0.01, kernel=linear;, score=0.619 total time=   1.2s\n",
      "[CV 3/5] END ..C=0.1, gamma=0.01, kernel=linear;, score=0.617 total time=   1.3s\n",
      "[CV 4/5] END ..C=0.1, gamma=0.01, kernel=linear;, score=0.616 total time=   1.2s\n",
      "[CV 5/5] END ..C=0.1, gamma=0.01, kernel=linear;, score=0.616 total time=   1.2s\n",
      "[CV 1/5] END ....C=0.1, gamma=0.001, kernel=rbf;, score=0.270 total time=   2.8s\n",
      "[CV 2/5] END ....C=0.1, gamma=0.001, kernel=rbf;, score=0.270 total time=   2.9s\n",
      "[CV 3/5] END ....C=0.1, gamma=0.001, kernel=rbf;, score=0.270 total time=   2.8s\n",
      "[CV 4/5] END ....C=0.1, gamma=0.001, kernel=rbf;, score=0.271 total time=   2.8s\n",
      "[CV 5/5] END ....C=0.1, gamma=0.001, kernel=rbf;, score=0.271 total time=   2.8s\n",
      "[CV 1/5] END .C=0.1, gamma=0.001, kernel=linear;, score=0.614 total time=   1.2s\n",
      "[CV 2/5] END .C=0.1, gamma=0.001, kernel=linear;, score=0.619 total time=   1.2s\n",
      "[CV 3/5] END .C=0.1, gamma=0.001, kernel=linear;, score=0.617 total time=   1.3s\n",
      "[CV 4/5] END .C=0.1, gamma=0.001, kernel=linear;, score=0.616 total time=   1.2s\n",
      "[CV 5/5] END .C=0.1, gamma=0.001, kernel=linear;, score=0.616 total time=   1.2s\n",
      "[CV 1/5] END ..........C=1, gamma=1, kernel=rbf;, score=0.610 total time=   2.6s\n",
      "[CV 2/5] END ..........C=1, gamma=1, kernel=rbf;, score=0.616 total time=   2.6s\n",
      "[CV 3/5] END ..........C=1, gamma=1, kernel=rbf;, score=0.623 total time=   2.6s\n",
      "[CV 4/5] END ..........C=1, gamma=1, kernel=rbf;, score=0.618 total time=   3.1s\n",
      "[CV 5/5] END ..........C=1, gamma=1, kernel=rbf;, score=0.631 total time=   2.6s\n",
      "[CV 1/5] END .......C=1, gamma=1, kernel=linear;, score=0.626 total time=   1.8s\n",
      "[CV 2/5] END .......C=1, gamma=1, kernel=linear;, score=0.621 total time=   1.9s\n",
      "[CV 3/5] END .......C=1, gamma=1, kernel=linear;, score=0.619 total time=   1.8s\n",
      "[CV 4/5] END .......C=1, gamma=1, kernel=linear;, score=0.622 total time=   1.8s\n",
      "[CV 5/5] END .......C=1, gamma=1, kernel=linear;, score=0.632 total time=   1.9s\n",
      "[CV 1/5] END ........C=1, gamma=0.1, kernel=rbf;, score=0.614 total time=   2.0s\n",
      "[CV 2/5] END ........C=1, gamma=0.1, kernel=rbf;, score=0.628 total time=   2.0s\n",
      "[CV 3/5] END ........C=1, gamma=0.1, kernel=rbf;, score=0.623 total time=   2.1s\n",
      "[CV 4/5] END ........C=1, gamma=0.1, kernel=rbf;, score=0.624 total time=   2.0s\n",
      "[CV 5/5] END ........C=1, gamma=0.1, kernel=rbf;, score=0.635 total time=   2.0s\n",
      "[CV 1/5] END .....C=1, gamma=0.1, kernel=linear;, score=0.626 total time=   1.7s\n",
      "[CV 2/5] END .....C=1, gamma=0.1, kernel=linear;, score=0.621 total time=   1.7s\n",
      "[CV 3/5] END .....C=1, gamma=0.1, kernel=linear;, score=0.619 total time=   1.7s\n",
      "[CV 4/5] END .....C=1, gamma=0.1, kernel=linear;, score=0.622 total time=   1.6s\n",
      "[CV 5/5] END .....C=1, gamma=0.1, kernel=linear;, score=0.632 total time=   1.7s\n",
      "[CV 1/5] END .......C=1, gamma=0.01, kernel=rbf;, score=0.593 total time=   2.1s\n",
      "[CV 2/5] END .......C=1, gamma=0.01, kernel=rbf;, score=0.605 total time=   2.2s\n",
      "[CV 3/5] END .......C=1, gamma=0.01, kernel=rbf;, score=0.603 total time=   2.2s\n",
      "[CV 4/5] END .......C=1, gamma=0.01, kernel=rbf;, score=0.594 total time=   2.1s\n",
      "[CV 5/5] END .......C=1, gamma=0.01, kernel=rbf;, score=0.609 total time=   2.1s\n",
      "[CV 1/5] END ....C=1, gamma=0.01, kernel=linear;, score=0.626 total time=   1.7s\n",
      "[CV 2/5] END ....C=1, gamma=0.01, kernel=linear;, score=0.621 total time=   1.7s\n",
      "[CV 3/5] END ....C=1, gamma=0.01, kernel=linear;, score=0.619 total time=   1.6s\n",
      "[CV 4/5] END ....C=1, gamma=0.01, kernel=linear;, score=0.622 total time=   1.6s\n",
      "[CV 5/5] END ....C=1, gamma=0.01, kernel=linear;, score=0.632 total time=   1.7s\n",
      "[CV 1/5] END ......C=1, gamma=0.001, kernel=rbf;, score=0.505 total time=   2.7s\n",
      "[CV 2/5] END ......C=1, gamma=0.001, kernel=rbf;, score=0.517 total time=   2.7s\n",
      "[CV 3/5] END ......C=1, gamma=0.001, kernel=rbf;, score=0.526 total time=   2.8s\n",
      "[CV 4/5] END ......C=1, gamma=0.001, kernel=rbf;, score=0.512 total time=   2.7s\n",
      "[CV 5/5] END ......C=1, gamma=0.001, kernel=rbf;, score=0.515 total time=   2.8s\n",
      "[CV 1/5] END ...C=1, gamma=0.001, kernel=linear;, score=0.626 total time=   1.7s\n",
      "[CV 2/5] END ...C=1, gamma=0.001, kernel=linear;, score=0.621 total time=   1.7s\n",
      "[CV 3/5] END ...C=1, gamma=0.001, kernel=linear;, score=0.619 total time=   1.6s\n",
      "[CV 4/5] END ...C=1, gamma=0.001, kernel=linear;, score=0.622 total time=   1.6s\n",
      "[CV 5/5] END ...C=1, gamma=0.001, kernel=linear;, score=0.632 total time=   1.7s\n",
      "[CV 1/5] END .........C=10, gamma=1, kernel=rbf;, score=0.603 total time=   3.7s\n",
      "[CV 2/5] END .........C=10, gamma=1, kernel=rbf;, score=0.596 total time=   3.7s\n",
      "[CV 3/5] END .........C=10, gamma=1, kernel=rbf;, score=0.608 total time=   3.7s\n",
      "[CV 4/5] END .........C=10, gamma=1, kernel=rbf;, score=0.594 total time=   3.9s\n",
      "[CV 5/5] END .........C=10, gamma=1, kernel=rbf;, score=0.620 total time=   3.7s\n",
      "[CV 1/5] END ......C=10, gamma=1, kernel=linear;, score=0.625 total time=   3.2s\n",
      "[CV 2/5] END ......C=10, gamma=1, kernel=linear;, score=0.616 total time=   3.9s\n",
      "[CV 3/5] END ......C=10, gamma=1, kernel=linear;, score=0.626 total time=   3.0s\n",
      "[CV 4/5] END ......C=10, gamma=1, kernel=linear;, score=0.624 total time=   3.5s\n",
      "[CV 5/5] END ......C=10, gamma=1, kernel=linear;, score=0.631 total time=   3.7s\n",
      "[CV 1/5] END .......C=10, gamma=0.1, kernel=rbf;, score=0.630 total time=   2.6s\n",
      "[CV 2/5] END .......C=10, gamma=0.1, kernel=rbf;, score=0.633 total time=   3.0s\n",
      "[CV 3/5] END .......C=10, gamma=0.1, kernel=rbf;, score=0.633 total time=   2.8s\n",
      "[CV 4/5] END .......C=10, gamma=0.1, kernel=rbf;, score=0.623 total time=   2.8s\n",
      "[CV 5/5] END .......C=10, gamma=0.1, kernel=rbf;, score=0.649 total time=   2.6s\n",
      "[CV 1/5] END ....C=10, gamma=0.1, kernel=linear;, score=0.625 total time=   3.3s\n",
      "[CV 2/5] END ....C=10, gamma=0.1, kernel=linear;, score=0.616 total time=   4.2s\n",
      "[CV 3/5] END ....C=10, gamma=0.1, kernel=linear;, score=0.626 total time=   3.0s\n",
      "[CV 4/5] END ....C=10, gamma=0.1, kernel=linear;, score=0.624 total time=   3.4s\n",
      "[CV 5/5] END ....C=10, gamma=0.1, kernel=linear;, score=0.631 total time=   3.6s\n",
      "[CV 1/5] END ......C=10, gamma=0.01, kernel=rbf;, score=0.616 total time=   2.0s\n"
     ]
    },
    {
     "name": "stdout",
     "output_type": "stream",
     "text": [
      "[CV 2/5] END ......C=10, gamma=0.01, kernel=rbf;, score=0.620 total time=   2.1s\n",
      "[CV 3/5] END ......C=10, gamma=0.01, kernel=rbf;, score=0.624 total time=   2.1s\n",
      "[CV 4/5] END ......C=10, gamma=0.01, kernel=rbf;, score=0.621 total time=   2.1s\n",
      "[CV 5/5] END ......C=10, gamma=0.01, kernel=rbf;, score=0.622 total time=   2.2s\n",
      "[CV 1/5] END ...C=10, gamma=0.01, kernel=linear;, score=0.625 total time=   3.2s\n",
      "[CV 2/5] END ...C=10, gamma=0.01, kernel=linear;, score=0.616 total time=   3.9s\n",
      "[CV 3/5] END ...C=10, gamma=0.01, kernel=linear;, score=0.626 total time=   3.0s\n",
      "[CV 4/5] END ...C=10, gamma=0.01, kernel=linear;, score=0.624 total time=   3.4s\n",
      "[CV 5/5] END ...C=10, gamma=0.01, kernel=linear;, score=0.631 total time=   3.5s\n",
      "[CV 1/5] END .....C=10, gamma=0.001, kernel=rbf;, score=0.591 total time=   2.1s\n",
      "[CV 2/5] END .....C=10, gamma=0.001, kernel=rbf;, score=0.606 total time=   2.1s\n",
      "[CV 3/5] END .....C=10, gamma=0.001, kernel=rbf;, score=0.602 total time=   2.1s\n",
      "[CV 4/5] END .....C=10, gamma=0.001, kernel=rbf;, score=0.595 total time=   2.1s\n",
      "[CV 5/5] END .....C=10, gamma=0.001, kernel=rbf;, score=0.608 total time=   2.1s\n",
      "[CV 1/5] END ..C=10, gamma=0.001, kernel=linear;, score=0.625 total time=   3.1s\n",
      "[CV 2/5] END ..C=10, gamma=0.001, kernel=linear;, score=0.616 total time=   3.7s\n",
      "[CV 3/5] END ..C=10, gamma=0.001, kernel=linear;, score=0.626 total time=   2.9s\n",
      "[CV 4/5] END ..C=10, gamma=0.001, kernel=linear;, score=0.624 total time=   3.4s\n",
      "[CV 5/5] END ..C=10, gamma=0.001, kernel=linear;, score=0.631 total time=   3.5s\n",
      "[CV 1/5] END ........C=100, gamma=1, kernel=rbf;, score=0.579 total time=   7.7s\n",
      "[CV 2/5] END ........C=100, gamma=1, kernel=rbf;, score=0.566 total time=   7.5s\n",
      "[CV 3/5] END ........C=100, gamma=1, kernel=rbf;, score=0.581 total time=   7.9s\n",
      "[CV 4/5] END ........C=100, gamma=1, kernel=rbf;, score=0.572 total time=   8.6s\n",
      "[CV 5/5] END ........C=100, gamma=1, kernel=rbf;, score=0.602 total time=   7.2s\n",
      "[CV 1/5] END .....C=100, gamma=1, kernel=linear;, score=0.625 total time= 1.1min\n",
      "[CV 2/5] END .....C=100, gamma=1, kernel=linear;, score=0.616 total time=  58.7s\n",
      "[CV 3/5] END .....C=100, gamma=1, kernel=linear;, score=0.627 total time= 1.4min\n",
      "[CV 4/5] END .....C=100, gamma=1, kernel=linear;, score=0.624 total time= 1.2min\n",
      "[CV 5/5] END .....C=100, gamma=1, kernel=linear;, score=0.630 total time= 1.6min\n",
      "[CV 1/5] END ......C=100, gamma=0.1, kernel=rbf;, score=0.615 total time=   6.0s\n",
      "[CV 2/5] END ......C=100, gamma=0.1, kernel=rbf;, score=0.614 total time=   5.7s\n",
      "[CV 3/5] END ......C=100, gamma=0.1, kernel=rbf;, score=0.621 total time=   5.5s\n",
      "[CV 4/5] END ......C=100, gamma=0.1, kernel=rbf;, score=0.612 total time=   5.7s\n",
      "[CV 5/5] END ......C=100, gamma=0.1, kernel=rbf;, score=0.633 total time=   5.4s\n",
      "[CV 1/5] END ...C=100, gamma=0.1, kernel=linear;, score=0.625 total time= 1.1min\n",
      "[CV 2/5] END ...C=100, gamma=0.1, kernel=linear;, score=0.616 total time=  59.2s\n",
      "[CV 3/5] END ...C=100, gamma=0.1, kernel=linear;, score=0.627 total time= 1.4min\n",
      "[CV 4/5] END ...C=100, gamma=0.1, kernel=linear;, score=0.624 total time= 1.2min\n",
      "[CV 5/5] END ...C=100, gamma=0.1, kernel=linear;, score=0.630 total time= 1.6min\n",
      "[CV 1/5] END .....C=100, gamma=0.01, kernel=rbf;, score=0.629 total time=   2.6s\n",
      "[CV 2/5] END .....C=100, gamma=0.01, kernel=rbf;, score=0.629 total time=   2.8s\n",
      "[CV 3/5] END .....C=100, gamma=0.01, kernel=rbf;, score=0.636 total time=   2.8s\n",
      "[CV 4/5] END .....C=100, gamma=0.01, kernel=rbf;, score=0.624 total time=   2.9s\n",
      "[CV 5/5] END .....C=100, gamma=0.01, kernel=rbf;, score=0.648 total time=   2.9s\n",
      "[CV 1/5] END ..C=100, gamma=0.01, kernel=linear;, score=0.625 total time= 1.2min\n",
      "[CV 2/5] END ..C=100, gamma=0.01, kernel=linear;, score=0.616 total time=  59.9s\n",
      "[CV 3/5] END ..C=100, gamma=0.01, kernel=linear;, score=0.627 total time= 1.4min\n",
      "[CV 4/5] END ..C=100, gamma=0.01, kernel=linear;, score=0.624 total time= 1.2min\n",
      "[CV 5/5] END ..C=100, gamma=0.01, kernel=linear;, score=0.630 total time= 1.6min\n",
      "[CV 1/5] END ....C=100, gamma=0.001, kernel=rbf;, score=0.613 total time=   2.4s\n",
      "[CV 2/5] END ....C=100, gamma=0.001, kernel=rbf;, score=0.620 total time=   2.4s\n",
      "[CV 3/5] END ....C=100, gamma=0.001, kernel=rbf;, score=0.620 total time=   2.5s\n",
      "[CV 4/5] END ....C=100, gamma=0.001, kernel=rbf;, score=0.623 total time=   2.6s\n",
      "[CV 5/5] END ....C=100, gamma=0.001, kernel=rbf;, score=0.620 total time=   2.8s\n",
      "[CV 1/5] END .C=100, gamma=0.001, kernel=linear;, score=0.625 total time= 1.1min\n",
      "[CV 2/5] END .C=100, gamma=0.001, kernel=linear;, score=0.616 total time= 1.0min\n",
      "[CV 3/5] END .C=100, gamma=0.001, kernel=linear;, score=0.627 total time= 1.5min\n",
      "[CV 4/5] END .C=100, gamma=0.001, kernel=linear;, score=0.624 total time= 1.2min\n",
      "[CV 5/5] END .C=100, gamma=0.001, kernel=linear;, score=0.630 total time= 1.6min\n"
     ]
    },
    {
     "data": {
      "text/plain": [
       "({'C': 10, 'gamma': 0.1, 'kernel': 'rbf'},\n",
       " array(['Foreign Government', 'Experts', 'Media', ...,\n",
       "        'Foreign Government', 'Foreign Government', 'Media'], dtype=object))"
      ]
     },
     "execution_count": 37,
     "metadata": {},
     "output_type": "execute_result"
    }
   ],
   "source": [
    "from sklearn.model_selection import GridSearchCV\n",
    "from sklearn.svm import SVC\n",
    "from sklearn.metrics import classification_report, confusion_matrix\n",
    "\n",
    "# defining parameter range\n",
    "param_grid = {'C': [0.1, 1, 10, 100],\n",
    "              'gamma': [1, 0.1, 0.01, 0.001],\n",
    "              'kernel': ['rbf','linear']}\n",
    "\n",
    "def findBestSVMParameters(param_grid, X_train, y_train):\n",
    "    grid = GridSearchCV(SVC(), param_grid, refit = True, verbose = 3)\n",
    "    grid.fit(X_train, y_train)\n",
    "    grid_predictions = grid.predict(X_test)\n",
    "    return grid.best_params_, grid_predictions\n",
    "\n",
    "findBestSVMParameters(param_grid, X_train, y_train)"
   ]
  },
  {
   "cell_type": "code",
   "execution_count": 39,
   "metadata": {},
   "outputs": [
    {
     "name": "stdout",
     "output_type": "stream",
     "text": [
      "0.6268871315600287\n"
     ]
    }
   ],
   "source": [
    "# fitting the trial SVM classifier\n",
    "svm_clf = svm.SVC(kernel='rbf', C=10, gamma=0.1).fit(X_train, y_train)\n",
    "# score for trial SVM classifier\n",
    "y_pred = svm_clf.predict(X_test)\n",
    "print(metrics.accuracy_score(y_test, y_pred))"
   ]
  },
  {
   "cell_type": "code",
   "execution_count": 40,
   "metadata": {},
   "outputs": [
    {
     "data": {
      "text/plain": [
       "'                      precision    recall  f1-score   support\\n\\n  Corporate Official       0.50      0.34      0.41        44\\n             Experts       0.65      0.54      0.59       563\\n  Foreign Government       0.56      0.75      0.64       753\\n               Media       0.56      0.60      0.58       226\\n               Other       0.00      0.00      0.00        62\\n         US Congress       0.72      0.54      0.61       323\\n          US Defense       0.27      0.45      0.34        69\\nUS Federal Officials       0.77      0.70      0.73       742\\n\\n            accuracy                           0.63      2782\\n           macro avg       0.50      0.49      0.49      2782\\n        weighted avg       0.63      0.63      0.62      2782\\n'"
      ]
     },
     "execution_count": 40,
     "metadata": {},
     "output_type": "execute_result"
    }
   ],
   "source": [
    "y_pred = svm_clf.predict(X_test)\n",
    "classification_report(y_test, y_pred)\n"
   ]
  },
  {
   "cell_type": "code",
   "execution_count": null,
   "metadata": {},
   "outputs": [],
   "source": []
  }
 ],
 "metadata": {
  "colab": {
   "collapsed_sections": [],
   "include_colab_link": true,
   "provenance": []
  },
  "kernelspec": {
   "display_name": "Python 3 (ipykernel)",
   "language": "python",
   "name": "python3"
  },
  "language_info": {
   "codemirror_mode": {
    "name": "ipython",
    "version": 3
   },
   "file_extension": ".py",
   "mimetype": "text/x-python",
   "name": "python",
   "nbconvert_exporter": "python",
   "pygments_lexer": "ipython3",
   "version": "3.9.7"
  }
 },
 "nbformat": 4,
 "nbformat_minor": 1
}
