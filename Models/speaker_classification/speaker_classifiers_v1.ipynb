{
 "cells": [
  {
   "cell_type": "code",
   "execution_count": 1,
   "metadata": {
    "id": "Ysioxm2qWcuZ"
   },
   "outputs": [],
   "source": [
    "import numpy as np\n",
    "import pandas as pd\n",
    "import json\n",
    "import csv\n",
    "import regex as re\n",
    "import seaborn as sns\n",
    "import matplotlib.pyplot as plt\n",
    "\n",
    "%matplotlib inline"
   ]
  },
  {
   "cell_type": "code",
   "execution_count": 2,
   "metadata": {
    "colab": {
     "base_uri": "https://localhost:8080/"
    },
    "id": "sRpLUnErWnRu",
    "outputId": "5dc94a32-aa2d-47bc-cb29-ca65b1bcc0d4"
   },
   "outputs": [
    {
     "name": "stdout",
     "output_type": "stream",
     "text": [
      "Mounted at /content/drive\n"
     ]
    }
   ],
   "source": [
    "from google.colab import drive\n",
    "drive.mount('/content/drive')"
   ]
  },
  {
   "cell_type": "markdown",
   "metadata": {
    "id": "TtLb54rmbMar"
   },
   "source": [
    " # Loading Data"
   ]
  },
  {
   "cell_type": "code",
   "execution_count": 3,
   "metadata": {
    "id": "M0T8uhIfWo1g"
   },
   "outputs": [],
   "source": [
    "# Reading gni88.json to a Pandas df\n",
    "arts = pd.read_json(\"/content/drive/MyDrive/data/gni88.json\", lines=True)"
   ]
  },
  {
   "cell_type": "code",
   "execution_count": 4,
   "metadata": {
    "id": "GwSbvTytWtJ5"
   },
   "outputs": [],
   "source": [
    "# importing data for which speaker names have already been cleaned\n",
    "qtes_just_names = pd.read_csv(\"/content/drive/MyDrive/data/qtes_just_names.csv\")"
   ]
  },
  {
   "cell_type": "code",
   "execution_count": 3,
   "metadata": {},
   "outputs": [
    {
     "name": "stderr",
     "output_type": "stream",
     "text": [
      "/tmp/ipykernel_1017/822843550.py:2: DtypeWarning: Columns (9,10,24) have mixed types. Specify dtype option on import or set low_memory=False.\n",
      "  cleaned_data = pd.read_csv(\"../../Data/cleaned_data/GNI88_cleaned_data.csv\")\n"
     ]
    },
    {
     "data": {
      "text/html": [
       "<div>\n",
       "<style scoped>\n",
       "    .dataframe tbody tr th:only-of-type {\n",
       "        vertical-align: middle;\n",
       "    }\n",
       "\n",
       "    .dataframe tbody tr th {\n",
       "        vertical-align: top;\n",
       "    }\n",
       "\n",
       "    .dataframe thead th {\n",
       "        text-align: right;\n",
       "    }\n",
       "</style>\n",
       "<table border=\"1\" class=\"dataframe\">\n",
       "  <thead>\n",
       "    <tr style=\"text-align: right;\">\n",
       "      <th></th>\n",
       "      <th>artdate</th>\n",
       "      <th>Article ID</th>\n",
       "      <th>Headline</th>\n",
       "      <th>Quote ID</th>\n",
       "      <th>Article Status</th>\n",
       "      <th>Article Position</th>\n",
       "      <th>Messages</th>\n",
       "      <th>Submessages</th>\n",
       "      <th>Quote Position</th>\n",
       "      <th>Legacy Quote Tag</th>\n",
       "      <th>...</th>\n",
       "      <th>Constituent Group</th>\n",
       "      <th>Media Name</th>\n",
       "      <th>Media Medium</th>\n",
       "      <th>Journalist Name</th>\n",
       "      <th>Constituent Author</th>\n",
       "      <th>Article Issues</th>\n",
       "      <th>Custom Group</th>\n",
       "      <th>Media Group</th>\n",
       "      <th>fulltext</th>\n",
       "      <th>source_name_cleaned</th>\n",
       "    </tr>\n",
       "  </thead>\n",
       "  <tbody>\n",
       "    <tr>\n",
       "      <th>0</th>\n",
       "      <td>2018-02-05</td>\n",
       "      <td>3774467</td>\n",
       "      <td>Opinion: They Voted for Caps. Now They Want Mo...</td>\n",
       "      <td>7096188</td>\n",
       "      <td>Opinion</td>\n",
       "      <td>Neutral</td>\n",
       "      <td>OLD Spending</td>\n",
       "      <td>OLD Nukes Budget Campaign</td>\n",
       "      <td>Neutral</td>\n",
       "      <td>NaN</td>\n",
       "      <td>...</td>\n",
       "      <td>None (Legacy Other)</td>\n",
       "      <td>Roll Call</td>\n",
       "      <td>Print</td>\n",
       "      <td>Bell, Steve</td>\n",
       "      <td>NaN</td>\n",
       "      <td>NaN</td>\n",
       "      <td>Commentary</td>\n",
       "      <td>Capitol Hill Media</td>\n",
       "      <td>Opinion: They Voted for Caps. Now They Want Mo...</td>\n",
       "      <td>Steve Bell</td>\n",
       "    </tr>\n",
       "    <tr>\n",
       "      <th>1</th>\n",
       "      <td>2018-02-23</td>\n",
       "      <td>3777413</td>\n",
       "      <td>Can James Mattis Prevent Nuclear War With Nort...</td>\n",
       "      <td>7105520</td>\n",
       "      <td>News</td>\n",
       "      <td>Neutral</td>\n",
       "      <td>OLD Proliferation</td>\n",
       "      <td>OLD State Level Nuclear Programs</td>\n",
       "      <td>Neutral</td>\n",
       "      <td>NaN</td>\n",
       "      <td>...</td>\n",
       "      <td>None (Legacy Other)</td>\n",
       "      <td>News Week</td>\n",
       "      <td>NaN</td>\n",
       "      <td>Fryer-biggs, Zachary</td>\n",
       "      <td>NaN</td>\n",
       "      <td>NaN</td>\n",
       "      <td>NaN</td>\n",
       "      <td>NaN</td>\n",
       "      <td>Can James Mattis Prevent Nuclear War With Nort...</td>\n",
       "      <td>James Mattis</td>\n",
       "    </tr>\n",
       "    <tr>\n",
       "      <th>2</th>\n",
       "      <td>2018-02-23</td>\n",
       "      <td>3777413</td>\n",
       "      <td>Can James Mattis Prevent Nuclear War With Nort...</td>\n",
       "      <td>7105517</td>\n",
       "      <td>News</td>\n",
       "      <td>Neutral</td>\n",
       "      <td>OLD Proliferation</td>\n",
       "      <td>OLD State Level Nuclear Programs</td>\n",
       "      <td>Neutral</td>\n",
       "      <td>NaN</td>\n",
       "      <td>...</td>\n",
       "      <td>None (Legacy Other)</td>\n",
       "      <td>News Week</td>\n",
       "      <td>NaN</td>\n",
       "      <td>Fryer-biggs, Zachary</td>\n",
       "      <td>NaN</td>\n",
       "      <td>NaN</td>\n",
       "      <td>NaN</td>\n",
       "      <td>NaN</td>\n",
       "      <td>Can James Mattis Prevent Nuclear War With Nort...</td>\n",
       "      <td>James Mattis</td>\n",
       "    </tr>\n",
       "    <tr>\n",
       "      <th>3</th>\n",
       "      <td>2018-02-23</td>\n",
       "      <td>3777413</td>\n",
       "      <td>Can James Mattis Prevent Nuclear War With Nort...</td>\n",
       "      <td>7105518</td>\n",
       "      <td>News</td>\n",
       "      <td>Neutral</td>\n",
       "      <td>OLD Proliferation</td>\n",
       "      <td>OLD State Level Nuclear Programs</td>\n",
       "      <td>Positive</td>\n",
       "      <td>NaN</td>\n",
       "      <td>...</td>\n",
       "      <td>NaN</td>\n",
       "      <td>News Week</td>\n",
       "      <td>NaN</td>\n",
       "      <td>Fryer-biggs, Zachary</td>\n",
       "      <td>NaN</td>\n",
       "      <td>NaN</td>\n",
       "      <td>NaN</td>\n",
       "      <td>NaN</td>\n",
       "      <td>Can James Mattis Prevent Nuclear War With Nort...</td>\n",
       "      <td>Leon E. Panetta</td>\n",
       "    </tr>\n",
       "    <tr>\n",
       "      <th>4</th>\n",
       "      <td>2018-02-23</td>\n",
       "      <td>3777413</td>\n",
       "      <td>Can James Mattis Prevent Nuclear War With Nort...</td>\n",
       "      <td>7105527</td>\n",
       "      <td>News</td>\n",
       "      <td>Neutral</td>\n",
       "      <td>OLD Proliferation</td>\n",
       "      <td>OLD State Level Nuclear Programs</td>\n",
       "      <td>Neutral</td>\n",
       "      <td>NaN</td>\n",
       "      <td>...</td>\n",
       "      <td>NaN</td>\n",
       "      <td>News Week</td>\n",
       "      <td>NaN</td>\n",
       "      <td>Fryer-biggs, Zachary</td>\n",
       "      <td>NaN</td>\n",
       "      <td>NaN</td>\n",
       "      <td>NaN</td>\n",
       "      <td>NaN</td>\n",
       "      <td>Can James Mattis Prevent Nuclear War With Nort...</td>\n",
       "      <td>Chuck Hagel</td>\n",
       "    </tr>\n",
       "    <tr>\n",
       "      <th>...</th>\n",
       "      <td>...</td>\n",
       "      <td>...</td>\n",
       "      <td>...</td>\n",
       "      <td>...</td>\n",
       "      <td>...</td>\n",
       "      <td>...</td>\n",
       "      <td>...</td>\n",
       "      <td>...</td>\n",
       "      <td>...</td>\n",
       "      <td>...</td>\n",
       "      <td>...</td>\n",
       "      <td>...</td>\n",
       "      <td>...</td>\n",
       "      <td>...</td>\n",
       "      <td>...</td>\n",
       "      <td>...</td>\n",
       "      <td>...</td>\n",
       "      <td>...</td>\n",
       "      <td>...</td>\n",
       "      <td>...</td>\n",
       "      <td>...</td>\n",
       "    </tr>\n",
       "    <tr>\n",
       "      <th>408199</th>\n",
       "      <td>2018-02-15</td>\n",
       "      <td>3777408</td>\n",
       "      <td>No 'bloody nose' strategy for North Korea, say...</td>\n",
       "      <td>7105511</td>\n",
       "      <td>News</td>\n",
       "      <td>Positive</td>\n",
       "      <td>OLD Proliferation</td>\n",
       "      <td>OLD State Level Nuclear Programs</td>\n",
       "      <td>Positive</td>\n",
       "      <td>NaN</td>\n",
       "      <td>...</td>\n",
       "      <td>None (Legacy Other)</td>\n",
       "      <td>Defense News</td>\n",
       "      <td>NaN</td>\n",
       "      <td>Gould, Joe</td>\n",
       "      <td>NaN</td>\n",
       "      <td>NaN</td>\n",
       "      <td>NaN</td>\n",
       "      <td>NaN</td>\n",
       "      <td>No 'bloody nose' strategy for North Korea, say...</td>\n",
       "      <td>Unnamed Trump White House Official</td>\n",
       "    </tr>\n",
       "    <tr>\n",
       "      <th>408200</th>\n",
       "      <td>2018-02-15</td>\n",
       "      <td>3777408</td>\n",
       "      <td>No 'bloody nose' strategy for North Korea, say...</td>\n",
       "      <td>7105519</td>\n",
       "      <td>News</td>\n",
       "      <td>Positive</td>\n",
       "      <td>OLD Proliferation</td>\n",
       "      <td>OLD State Level Nuclear Programs</td>\n",
       "      <td>Neutral</td>\n",
       "      <td>NaN</td>\n",
       "      <td>...</td>\n",
       "      <td>None (Legacy Other)</td>\n",
       "      <td>Defense News</td>\n",
       "      <td>NaN</td>\n",
       "      <td>Gould, Joe</td>\n",
       "      <td>NaN</td>\n",
       "      <td>NaN</td>\n",
       "      <td>NaN</td>\n",
       "      <td>NaN</td>\n",
       "      <td>No 'bloody nose' strategy for North Korea, say...</td>\n",
       "      <td>Susan Thornton</td>\n",
       "    </tr>\n",
       "    <tr>\n",
       "      <th>408201</th>\n",
       "      <td>2018-02-15</td>\n",
       "      <td>3777408</td>\n",
       "      <td>No 'bloody nose' strategy for North Korea, say...</td>\n",
       "      <td>7105510</td>\n",
       "      <td>News</td>\n",
       "      <td>Positive</td>\n",
       "      <td>OLD Proliferation</td>\n",
       "      <td>OLD State Level Nuclear Programs</td>\n",
       "      <td>Positive</td>\n",
       "      <td>NaN</td>\n",
       "      <td>...</td>\n",
       "      <td>None (Legacy Other)</td>\n",
       "      <td>Defense News</td>\n",
       "      <td>NaN</td>\n",
       "      <td>Gould, Joe</td>\n",
       "      <td>NaN</td>\n",
       "      <td>NaN</td>\n",
       "      <td>NaN</td>\n",
       "      <td>NaN</td>\n",
       "      <td>No 'bloody nose' strategy for North Korea, say...</td>\n",
       "      <td>Unnamed Source</td>\n",
       "    </tr>\n",
       "    <tr>\n",
       "      <th>408202</th>\n",
       "      <td>2018-02-15</td>\n",
       "      <td>3777409</td>\n",
       "      <td>Modernized Tu-160 to boost Russia's long-range...</td>\n",
       "      <td>7105550</td>\n",
       "      <td>News</td>\n",
       "      <td>Neutral</td>\n",
       "      <td>OLD Missile Defense</td>\n",
       "      <td>OLD European/Russian Missile Defense</td>\n",
       "      <td>Negative</td>\n",
       "      <td>NaN</td>\n",
       "      <td>...</td>\n",
       "      <td>None (Legacy Other)</td>\n",
       "      <td>Defense News</td>\n",
       "      <td>NaN</td>\n",
       "      <td>Bodner, Matthew</td>\n",
       "      <td>NaN</td>\n",
       "      <td>NaN</td>\n",
       "      <td>NaN</td>\n",
       "      <td>NaN</td>\n",
       "      <td>Modernized Tu-160 to boost Russia's long-range...</td>\n",
       "      <td>Vladimir Putin</td>\n",
       "    </tr>\n",
       "    <tr>\n",
       "      <th>408203</th>\n",
       "      <td>2018-02-15</td>\n",
       "      <td>3777410</td>\n",
       "      <td>Putin Is Playing a Dangerous Game in Syria</td>\n",
       "      <td>7105516</td>\n",
       "      <td>Opinion</td>\n",
       "      <td>Positive</td>\n",
       "      <td>OLD Missile Defense</td>\n",
       "      <td>OLD European/Russian Missile Defense</td>\n",
       "      <td>Positive</td>\n",
       "      <td>NaN</td>\n",
       "      <td>...</td>\n",
       "      <td>None (Legacy Other)</td>\n",
       "      <td>The Atlantic</td>\n",
       "      <td>Print</td>\n",
       "      <td>Galeotti, Mark</td>\n",
       "      <td>NaN</td>\n",
       "      <td>NaN</td>\n",
       "      <td>Op-Ed</td>\n",
       "      <td>NaN</td>\n",
       "      <td>Putin Is Playing a Dangerous Game in Syria\\r\\n...</td>\n",
       "      <td>Mark Galeotti</td>\n",
       "    </tr>\n",
       "  </tbody>\n",
       "</table>\n",
       "<p>408204 rows × 30 columns</p>\n",
       "</div>"
      ],
      "text/plain": [
       "           artdate  Article ID  \\\n",
       "0       2018-02-05     3774467   \n",
       "1       2018-02-23     3777413   \n",
       "2       2018-02-23     3777413   \n",
       "3       2018-02-23     3777413   \n",
       "4       2018-02-23     3777413   \n",
       "...            ...         ...   \n",
       "408199  2018-02-15     3777408   \n",
       "408200  2018-02-15     3777408   \n",
       "408201  2018-02-15     3777408   \n",
       "408202  2018-02-15     3777409   \n",
       "408203  2018-02-15     3777410   \n",
       "\n",
       "                                                 Headline  Quote ID  \\\n",
       "0       Opinion: They Voted for Caps. Now They Want Mo...   7096188   \n",
       "1       Can James Mattis Prevent Nuclear War With Nort...   7105520   \n",
       "2       Can James Mattis Prevent Nuclear War With Nort...   7105517   \n",
       "3       Can James Mattis Prevent Nuclear War With Nort...   7105518   \n",
       "4       Can James Mattis Prevent Nuclear War With Nort...   7105527   \n",
       "...                                                   ...       ...   \n",
       "408199  No 'bloody nose' strategy for North Korea, say...   7105511   \n",
       "408200  No 'bloody nose' strategy for North Korea, say...   7105519   \n",
       "408201  No 'bloody nose' strategy for North Korea, say...   7105510   \n",
       "408202  Modernized Tu-160 to boost Russia's long-range...   7105550   \n",
       "408203         Putin Is Playing a Dangerous Game in Syria   7105516   \n",
       "\n",
       "       Article Status Article Position             Messages  \\\n",
       "0             Opinion          Neutral         OLD Spending   \n",
       "1                News          Neutral    OLD Proliferation   \n",
       "2                News          Neutral    OLD Proliferation   \n",
       "3                News          Neutral    OLD Proliferation   \n",
       "4                News          Neutral    OLD Proliferation   \n",
       "...               ...              ...                  ...   \n",
       "408199           News         Positive    OLD Proliferation   \n",
       "408200           News         Positive    OLD Proliferation   \n",
       "408201           News         Positive    OLD Proliferation   \n",
       "408202           News          Neutral  OLD Missile Defense   \n",
       "408203        Opinion         Positive  OLD Missile Defense   \n",
       "\n",
       "                                 Submessages Quote Position Legacy Quote Tag  \\\n",
       "0                  OLD Nukes Budget Campaign        Neutral              NaN   \n",
       "1           OLD State Level Nuclear Programs        Neutral              NaN   \n",
       "2           OLD State Level Nuclear Programs        Neutral              NaN   \n",
       "3           OLD State Level Nuclear Programs       Positive              NaN   \n",
       "4           OLD State Level Nuclear Programs        Neutral              NaN   \n",
       "...                                      ...            ...              ...   \n",
       "408199      OLD State Level Nuclear Programs       Positive              NaN   \n",
       "408200      OLD State Level Nuclear Programs        Neutral              NaN   \n",
       "408201      OLD State Level Nuclear Programs       Positive              NaN   \n",
       "408202  OLD European/Russian Missile Defense       Negative              NaN   \n",
       "408203  OLD European/Russian Missile Defense       Positive              NaN   \n",
       "\n",
       "        ...    Constituent Group    Media Name Media Medium  \\\n",
       "0       ...  None (Legacy Other)     Roll Call        Print   \n",
       "1       ...  None (Legacy Other)     News Week          NaN   \n",
       "2       ...  None (Legacy Other)     News Week          NaN   \n",
       "3       ...                  NaN     News Week          NaN   \n",
       "4       ...                  NaN     News Week          NaN   \n",
       "...     ...                  ...           ...          ...   \n",
       "408199  ...  None (Legacy Other)  Defense News          NaN   \n",
       "408200  ...  None (Legacy Other)  Defense News          NaN   \n",
       "408201  ...  None (Legacy Other)  Defense News          NaN   \n",
       "408202  ...  None (Legacy Other)  Defense News          NaN   \n",
       "408203  ...  None (Legacy Other)  The Atlantic        Print   \n",
       "\n",
       "             Journalist Name Constituent Author Article Issues Custom Group  \\\n",
       "0                Bell, Steve                NaN            NaN   Commentary   \n",
       "1       Fryer-biggs, Zachary                NaN            NaN          NaN   \n",
       "2       Fryer-biggs, Zachary                NaN            NaN          NaN   \n",
       "3       Fryer-biggs, Zachary                NaN            NaN          NaN   \n",
       "4       Fryer-biggs, Zachary                NaN            NaN          NaN   \n",
       "...                      ...                ...            ...          ...   \n",
       "408199            Gould, Joe                NaN            NaN          NaN   \n",
       "408200            Gould, Joe                NaN            NaN          NaN   \n",
       "408201            Gould, Joe                NaN            NaN          NaN   \n",
       "408202       Bodner, Matthew                NaN            NaN          NaN   \n",
       "408203        Galeotti, Mark                NaN            NaN        Op-Ed   \n",
       "\n",
       "               Media Group                                           fulltext  \\\n",
       "0       Capitol Hill Media  Opinion: They Voted for Caps. Now They Want Mo...   \n",
       "1                      NaN  Can James Mattis Prevent Nuclear War With Nort...   \n",
       "2                      NaN  Can James Mattis Prevent Nuclear War With Nort...   \n",
       "3                      NaN  Can James Mattis Prevent Nuclear War With Nort...   \n",
       "4                      NaN  Can James Mattis Prevent Nuclear War With Nort...   \n",
       "...                    ...                                                ...   \n",
       "408199                 NaN  No 'bloody nose' strategy for North Korea, say...   \n",
       "408200                 NaN  No 'bloody nose' strategy for North Korea, say...   \n",
       "408201                 NaN  No 'bloody nose' strategy for North Korea, say...   \n",
       "408202                 NaN  Modernized Tu-160 to boost Russia's long-range...   \n",
       "408203                 NaN  Putin Is Playing a Dangerous Game in Syria\\r\\n...   \n",
       "\n",
       "                       source_name_cleaned  \n",
       "0                               Steve Bell  \n",
       "1                             James Mattis  \n",
       "2                             James Mattis  \n",
       "3                          Leon E. Panetta  \n",
       "4                              Chuck Hagel  \n",
       "...                                    ...  \n",
       "408199  Unnamed Trump White House Official  \n",
       "408200                      Susan Thornton  \n",
       "408201                      Unnamed Source  \n",
       "408202                      Vladimir Putin  \n",
       "408203                       Mark Galeotti  \n",
       "\n",
       "[408204 rows x 30 columns]"
      ]
     },
     "execution_count": 3,
     "metadata": {},
     "output_type": "execute_result"
    }
   ],
   "source": [
    "# importing cleaned full dataset from local storage\n",
    "cleaned_data = pd.read_csv(\"../../Data/cleaned_data/GNI88_cleaned_data.csv\")\n",
    "cleaned_data"
   ]
  },
  {
   "cell_type": "markdown",
   "metadata": {},
   "source": [
    "# Filtering by Source Name\n",
    "Some source names are annotated as \"unnamed\", or are not exact matches with the actual name in the article text, so this section is for counting or filtering those names."
   ]
  },
  {
   "cell_type": "code",
   "execution_count": 4,
   "metadata": {},
   "outputs": [
    {
     "data": {
      "text/plain": [
       "Index(['artdate', 'Article ID', 'Headline', 'Quote ID', 'Article Status',\n",
       "       'Article Position', 'Messages', 'Submessages', 'Quote Position',\n",
       "       'Legacy Quote Tag', 'On/Off Message', 'QText', 'Source Name',\n",
       "       'Source Type', 'Source Party Affiliation', 'Source Ethnicity',\n",
       "       'Source Nationality', 'Source Gender', 'Source Religion',\n",
       "       'Legacy Source Tag', 'Constituent Group', 'Media Name', 'Media Medium',\n",
       "       'Journalist Name', 'Constituent Author', 'Article Issues',\n",
       "       'Custom Group', 'Media Group', 'fulltext', 'source_name_cleaned'],\n",
       "      dtype='object')"
      ]
     },
     "execution_count": 4,
     "metadata": {},
     "output_type": "execute_result"
    }
   ],
   "source": [
    "# printing column names for reference\n",
    "cleaned_data.columns"
   ]
  },
  {
   "cell_type": "code",
   "execution_count": 5,
   "metadata": {},
   "outputs": [
    {
     "data": {
      "text/plain": [
       "Abbas rezaei         1\n",
       "Anmol Narang         1\n",
       "Sina Golmakani       1\n",
       "Lee Sukjoon          1\n",
       "Vladimir Voronkov    1\n",
       "                    ..\n",
       "Aleksey Pushkov      1\n",
       "Hesham Ghanbari      1\n",
       "Ihor Romanenko       1\n",
       "Mikhail Margelov     1\n",
       "Steve Bell           1\n",
       "Name: Source Name, Length: 1000, dtype: int64"
      ]
     },
     "execution_count": 5,
     "metadata": {},
     "output_type": "execute_result"
    }
   ],
   "source": [
    "# printing the value counts for the lowest-occurring 1000 names\n",
    "cleaned_data[\"Source Name\"].value_counts().tail(1000)"
   ]
  },
  {
   "cell_type": "code",
   "execution_count": 6,
   "metadata": {},
   "outputs": [
    {
     "data": {
      "text/plain": [
       "0         Opinion: They Voted for Caps. Now They Want Mo...\n",
       "1         Can James Mattis Prevent Nuclear War With Nort...\n",
       "2         Can James Mattis Prevent Nuclear War With Nort...\n",
       "3         Can James Mattis Prevent Nuclear War With Nort...\n",
       "4         Can James Mattis Prevent Nuclear War With Nort...\n",
       "                                ...                        \n",
       "408199    No 'bloody nose' strategy for North Korea, say...\n",
       "408200    No 'bloody nose' strategy for North Korea, say...\n",
       "408201    No 'bloody nose' strategy for North Korea, say...\n",
       "408202    Modernized Tu-160 to boost Russia's long-range...\n",
       "408203    Putin Is Playing a Dangerous Game in Syria\\r\\n...\n",
       "Name: fulltext, Length: 408204, dtype: object"
      ]
     },
     "execution_count": 6,
     "metadata": {},
     "output_type": "execute_result"
    }
   ],
   "source": [
    "cleaned_data[\"fulltext\"]"
   ]
  },
  {
   "cell_type": "code",
   "execution_count": 7,
   "metadata": {},
   "outputs": [
    {
     "data": {
      "text/html": [
       "<div>\n",
       "<style scoped>\n",
       "    .dataframe tbody tr th:only-of-type {\n",
       "        vertical-align: middle;\n",
       "    }\n",
       "\n",
       "    .dataframe tbody tr th {\n",
       "        vertical-align: top;\n",
       "    }\n",
       "\n",
       "    .dataframe thead th {\n",
       "        text-align: right;\n",
       "    }\n",
       "</style>\n",
       "<table border=\"1\" class=\"dataframe\">\n",
       "  <thead>\n",
       "    <tr style=\"text-align: right;\">\n",
       "      <th></th>\n",
       "      <th>artdate</th>\n",
       "      <th>Article ID</th>\n",
       "      <th>Headline</th>\n",
       "      <th>Quote ID</th>\n",
       "      <th>Article Status</th>\n",
       "      <th>Article Position</th>\n",
       "      <th>Messages</th>\n",
       "      <th>Submessages</th>\n",
       "      <th>Quote Position</th>\n",
       "      <th>Legacy Quote Tag</th>\n",
       "      <th>...</th>\n",
       "      <th>Constituent Group</th>\n",
       "      <th>Media Name</th>\n",
       "      <th>Media Medium</th>\n",
       "      <th>Journalist Name</th>\n",
       "      <th>Constituent Author</th>\n",
       "      <th>Article Issues</th>\n",
       "      <th>Custom Group</th>\n",
       "      <th>Media Group</th>\n",
       "      <th>fulltext</th>\n",
       "      <th>source_name_cleaned</th>\n",
       "    </tr>\n",
       "  </thead>\n",
       "  <tbody>\n",
       "    <tr>\n",
       "      <th>0</th>\n",
       "      <td>2018-02-05</td>\n",
       "      <td>3774467</td>\n",
       "      <td>Opinion: They Voted for Caps. Now They Want Mo...</td>\n",
       "      <td>7096188</td>\n",
       "      <td>Opinion</td>\n",
       "      <td>Neutral</td>\n",
       "      <td>OLD Spending</td>\n",
       "      <td>OLD Nukes Budget Campaign</td>\n",
       "      <td>Neutral</td>\n",
       "      <td>NaN</td>\n",
       "      <td>...</td>\n",
       "      <td>None (Legacy Other)</td>\n",
       "      <td>Roll Call</td>\n",
       "      <td>Print</td>\n",
       "      <td>Bell, Steve</td>\n",
       "      <td>NaN</td>\n",
       "      <td>NaN</td>\n",
       "      <td>Commentary</td>\n",
       "      <td>Capitol Hill Media</td>\n",
       "      <td>Opinion: They Voted for Caps. Now They Want Mo...</td>\n",
       "      <td>Steve Bell</td>\n",
       "    </tr>\n",
       "    <tr>\n",
       "      <th>1</th>\n",
       "      <td>2018-02-23</td>\n",
       "      <td>3777413</td>\n",
       "      <td>Can James Mattis Prevent Nuclear War With Nort...</td>\n",
       "      <td>7105520</td>\n",
       "      <td>News</td>\n",
       "      <td>Neutral</td>\n",
       "      <td>OLD Proliferation</td>\n",
       "      <td>OLD State Level Nuclear Programs</td>\n",
       "      <td>Neutral</td>\n",
       "      <td>NaN</td>\n",
       "      <td>...</td>\n",
       "      <td>None (Legacy Other)</td>\n",
       "      <td>News Week</td>\n",
       "      <td>NaN</td>\n",
       "      <td>Fryer-biggs, Zachary</td>\n",
       "      <td>NaN</td>\n",
       "      <td>NaN</td>\n",
       "      <td>NaN</td>\n",
       "      <td>NaN</td>\n",
       "      <td>Can James Mattis Prevent Nuclear War With Nort...</td>\n",
       "      <td>James Mattis</td>\n",
       "    </tr>\n",
       "    <tr>\n",
       "      <th>2</th>\n",
       "      <td>2018-02-23</td>\n",
       "      <td>3777413</td>\n",
       "      <td>Can James Mattis Prevent Nuclear War With Nort...</td>\n",
       "      <td>7105517</td>\n",
       "      <td>News</td>\n",
       "      <td>Neutral</td>\n",
       "      <td>OLD Proliferation</td>\n",
       "      <td>OLD State Level Nuclear Programs</td>\n",
       "      <td>Neutral</td>\n",
       "      <td>NaN</td>\n",
       "      <td>...</td>\n",
       "      <td>None (Legacy Other)</td>\n",
       "      <td>News Week</td>\n",
       "      <td>NaN</td>\n",
       "      <td>Fryer-biggs, Zachary</td>\n",
       "      <td>NaN</td>\n",
       "      <td>NaN</td>\n",
       "      <td>NaN</td>\n",
       "      <td>NaN</td>\n",
       "      <td>Can James Mattis Prevent Nuclear War With Nort...</td>\n",
       "      <td>James Mattis</td>\n",
       "    </tr>\n",
       "    <tr>\n",
       "      <th>3</th>\n",
       "      <td>2018-02-23</td>\n",
       "      <td>3777413</td>\n",
       "      <td>Can James Mattis Prevent Nuclear War With Nort...</td>\n",
       "      <td>7105518</td>\n",
       "      <td>News</td>\n",
       "      <td>Neutral</td>\n",
       "      <td>OLD Proliferation</td>\n",
       "      <td>OLD State Level Nuclear Programs</td>\n",
       "      <td>Positive</td>\n",
       "      <td>NaN</td>\n",
       "      <td>...</td>\n",
       "      <td>NaN</td>\n",
       "      <td>News Week</td>\n",
       "      <td>NaN</td>\n",
       "      <td>Fryer-biggs, Zachary</td>\n",
       "      <td>NaN</td>\n",
       "      <td>NaN</td>\n",
       "      <td>NaN</td>\n",
       "      <td>NaN</td>\n",
       "      <td>Can James Mattis Prevent Nuclear War With Nort...</td>\n",
       "      <td>Leon E. Panetta</td>\n",
       "    </tr>\n",
       "    <tr>\n",
       "      <th>4</th>\n",
       "      <td>2018-02-23</td>\n",
       "      <td>3777413</td>\n",
       "      <td>Can James Mattis Prevent Nuclear War With Nort...</td>\n",
       "      <td>7105527</td>\n",
       "      <td>News</td>\n",
       "      <td>Neutral</td>\n",
       "      <td>OLD Proliferation</td>\n",
       "      <td>OLD State Level Nuclear Programs</td>\n",
       "      <td>Neutral</td>\n",
       "      <td>NaN</td>\n",
       "      <td>...</td>\n",
       "      <td>NaN</td>\n",
       "      <td>News Week</td>\n",
       "      <td>NaN</td>\n",
       "      <td>Fryer-biggs, Zachary</td>\n",
       "      <td>NaN</td>\n",
       "      <td>NaN</td>\n",
       "      <td>NaN</td>\n",
       "      <td>NaN</td>\n",
       "      <td>Can James Mattis Prevent Nuclear War With Nort...</td>\n",
       "      <td>Chuck Hagel</td>\n",
       "    </tr>\n",
       "    <tr>\n",
       "      <th>...</th>\n",
       "      <td>...</td>\n",
       "      <td>...</td>\n",
       "      <td>...</td>\n",
       "      <td>...</td>\n",
       "      <td>...</td>\n",
       "      <td>...</td>\n",
       "      <td>...</td>\n",
       "      <td>...</td>\n",
       "      <td>...</td>\n",
       "      <td>...</td>\n",
       "      <td>...</td>\n",
       "      <td>...</td>\n",
       "      <td>...</td>\n",
       "      <td>...</td>\n",
       "      <td>...</td>\n",
       "      <td>...</td>\n",
       "      <td>...</td>\n",
       "      <td>...</td>\n",
       "      <td>...</td>\n",
       "      <td>...</td>\n",
       "      <td>...</td>\n",
       "    </tr>\n",
       "    <tr>\n",
       "      <th>408199</th>\n",
       "      <td>2018-02-15</td>\n",
       "      <td>3777408</td>\n",
       "      <td>No 'bloody nose' strategy for North Korea, say...</td>\n",
       "      <td>7105511</td>\n",
       "      <td>News</td>\n",
       "      <td>Positive</td>\n",
       "      <td>OLD Proliferation</td>\n",
       "      <td>OLD State Level Nuclear Programs</td>\n",
       "      <td>Positive</td>\n",
       "      <td>NaN</td>\n",
       "      <td>...</td>\n",
       "      <td>None (Legacy Other)</td>\n",
       "      <td>Defense News</td>\n",
       "      <td>NaN</td>\n",
       "      <td>Gould, Joe</td>\n",
       "      <td>NaN</td>\n",
       "      <td>NaN</td>\n",
       "      <td>NaN</td>\n",
       "      <td>NaN</td>\n",
       "      <td>No 'bloody nose' strategy for North Korea, say...</td>\n",
       "      <td>Unnamed Trump White House Official</td>\n",
       "    </tr>\n",
       "    <tr>\n",
       "      <th>408200</th>\n",
       "      <td>2018-02-15</td>\n",
       "      <td>3777408</td>\n",
       "      <td>No 'bloody nose' strategy for North Korea, say...</td>\n",
       "      <td>7105519</td>\n",
       "      <td>News</td>\n",
       "      <td>Positive</td>\n",
       "      <td>OLD Proliferation</td>\n",
       "      <td>OLD State Level Nuclear Programs</td>\n",
       "      <td>Neutral</td>\n",
       "      <td>NaN</td>\n",
       "      <td>...</td>\n",
       "      <td>None (Legacy Other)</td>\n",
       "      <td>Defense News</td>\n",
       "      <td>NaN</td>\n",
       "      <td>Gould, Joe</td>\n",
       "      <td>NaN</td>\n",
       "      <td>NaN</td>\n",
       "      <td>NaN</td>\n",
       "      <td>NaN</td>\n",
       "      <td>No 'bloody nose' strategy for North Korea, say...</td>\n",
       "      <td>Susan Thornton</td>\n",
       "    </tr>\n",
       "    <tr>\n",
       "      <th>408201</th>\n",
       "      <td>2018-02-15</td>\n",
       "      <td>3777408</td>\n",
       "      <td>No 'bloody nose' strategy for North Korea, say...</td>\n",
       "      <td>7105510</td>\n",
       "      <td>News</td>\n",
       "      <td>Positive</td>\n",
       "      <td>OLD Proliferation</td>\n",
       "      <td>OLD State Level Nuclear Programs</td>\n",
       "      <td>Positive</td>\n",
       "      <td>NaN</td>\n",
       "      <td>...</td>\n",
       "      <td>None (Legacy Other)</td>\n",
       "      <td>Defense News</td>\n",
       "      <td>NaN</td>\n",
       "      <td>Gould, Joe</td>\n",
       "      <td>NaN</td>\n",
       "      <td>NaN</td>\n",
       "      <td>NaN</td>\n",
       "      <td>NaN</td>\n",
       "      <td>No 'bloody nose' strategy for North Korea, say...</td>\n",
       "      <td>Unnamed Source</td>\n",
       "    </tr>\n",
       "    <tr>\n",
       "      <th>408202</th>\n",
       "      <td>2018-02-15</td>\n",
       "      <td>3777409</td>\n",
       "      <td>Modernized Tu-160 to boost Russia's long-range...</td>\n",
       "      <td>7105550</td>\n",
       "      <td>News</td>\n",
       "      <td>Neutral</td>\n",
       "      <td>OLD Missile Defense</td>\n",
       "      <td>OLD European/Russian Missile Defense</td>\n",
       "      <td>Negative</td>\n",
       "      <td>NaN</td>\n",
       "      <td>...</td>\n",
       "      <td>None (Legacy Other)</td>\n",
       "      <td>Defense News</td>\n",
       "      <td>NaN</td>\n",
       "      <td>Bodner, Matthew</td>\n",
       "      <td>NaN</td>\n",
       "      <td>NaN</td>\n",
       "      <td>NaN</td>\n",
       "      <td>NaN</td>\n",
       "      <td>Modernized Tu-160 to boost Russia's long-range...</td>\n",
       "      <td>Vladimir Putin</td>\n",
       "    </tr>\n",
       "    <tr>\n",
       "      <th>408203</th>\n",
       "      <td>2018-02-15</td>\n",
       "      <td>3777410</td>\n",
       "      <td>Putin Is Playing a Dangerous Game in Syria</td>\n",
       "      <td>7105516</td>\n",
       "      <td>Opinion</td>\n",
       "      <td>Positive</td>\n",
       "      <td>OLD Missile Defense</td>\n",
       "      <td>OLD European/Russian Missile Defense</td>\n",
       "      <td>Positive</td>\n",
       "      <td>NaN</td>\n",
       "      <td>...</td>\n",
       "      <td>None (Legacy Other)</td>\n",
       "      <td>The Atlantic</td>\n",
       "      <td>Print</td>\n",
       "      <td>Galeotti, Mark</td>\n",
       "      <td>NaN</td>\n",
       "      <td>NaN</td>\n",
       "      <td>Op-Ed</td>\n",
       "      <td>NaN</td>\n",
       "      <td>Putin Is Playing a Dangerous Game in Syria\\r\\n...</td>\n",
       "      <td>Mark Galeotti</td>\n",
       "    </tr>\n",
       "  </tbody>\n",
       "</table>\n",
       "<p>400444 rows × 30 columns</p>\n",
       "</div>"
      ],
      "text/plain": [
       "           artdate  Article ID  \\\n",
       "0       2018-02-05     3774467   \n",
       "1       2018-02-23     3777413   \n",
       "2       2018-02-23     3777413   \n",
       "3       2018-02-23     3777413   \n",
       "4       2018-02-23     3777413   \n",
       "...            ...         ...   \n",
       "408199  2018-02-15     3777408   \n",
       "408200  2018-02-15     3777408   \n",
       "408201  2018-02-15     3777408   \n",
       "408202  2018-02-15     3777409   \n",
       "408203  2018-02-15     3777410   \n",
       "\n",
       "                                                 Headline  Quote ID  \\\n",
       "0       Opinion: They Voted for Caps. Now They Want Mo...   7096188   \n",
       "1       Can James Mattis Prevent Nuclear War With Nort...   7105520   \n",
       "2       Can James Mattis Prevent Nuclear War With Nort...   7105517   \n",
       "3       Can James Mattis Prevent Nuclear War With Nort...   7105518   \n",
       "4       Can James Mattis Prevent Nuclear War With Nort...   7105527   \n",
       "...                                                   ...       ...   \n",
       "408199  No 'bloody nose' strategy for North Korea, say...   7105511   \n",
       "408200  No 'bloody nose' strategy for North Korea, say...   7105519   \n",
       "408201  No 'bloody nose' strategy for North Korea, say...   7105510   \n",
       "408202  Modernized Tu-160 to boost Russia's long-range...   7105550   \n",
       "408203         Putin Is Playing a Dangerous Game in Syria   7105516   \n",
       "\n",
       "       Article Status Article Position             Messages  \\\n",
       "0             Opinion          Neutral         OLD Spending   \n",
       "1                News          Neutral    OLD Proliferation   \n",
       "2                News          Neutral    OLD Proliferation   \n",
       "3                News          Neutral    OLD Proliferation   \n",
       "4                News          Neutral    OLD Proliferation   \n",
       "...               ...              ...                  ...   \n",
       "408199           News         Positive    OLD Proliferation   \n",
       "408200           News         Positive    OLD Proliferation   \n",
       "408201           News         Positive    OLD Proliferation   \n",
       "408202           News          Neutral  OLD Missile Defense   \n",
       "408203        Opinion         Positive  OLD Missile Defense   \n",
       "\n",
       "                                 Submessages Quote Position Legacy Quote Tag  \\\n",
       "0                  OLD Nukes Budget Campaign        Neutral              NaN   \n",
       "1           OLD State Level Nuclear Programs        Neutral              NaN   \n",
       "2           OLD State Level Nuclear Programs        Neutral              NaN   \n",
       "3           OLD State Level Nuclear Programs       Positive              NaN   \n",
       "4           OLD State Level Nuclear Programs        Neutral              NaN   \n",
       "...                                      ...            ...              ...   \n",
       "408199      OLD State Level Nuclear Programs       Positive              NaN   \n",
       "408200      OLD State Level Nuclear Programs        Neutral              NaN   \n",
       "408201      OLD State Level Nuclear Programs       Positive              NaN   \n",
       "408202  OLD European/Russian Missile Defense       Negative              NaN   \n",
       "408203  OLD European/Russian Missile Defense       Positive              NaN   \n",
       "\n",
       "        ...    Constituent Group    Media Name Media Medium  \\\n",
       "0       ...  None (Legacy Other)     Roll Call        Print   \n",
       "1       ...  None (Legacy Other)     News Week          NaN   \n",
       "2       ...  None (Legacy Other)     News Week          NaN   \n",
       "3       ...                  NaN     News Week          NaN   \n",
       "4       ...                  NaN     News Week          NaN   \n",
       "...     ...                  ...           ...          ...   \n",
       "408199  ...  None (Legacy Other)  Defense News          NaN   \n",
       "408200  ...  None (Legacy Other)  Defense News          NaN   \n",
       "408201  ...  None (Legacy Other)  Defense News          NaN   \n",
       "408202  ...  None (Legacy Other)  Defense News          NaN   \n",
       "408203  ...  None (Legacy Other)  The Atlantic        Print   \n",
       "\n",
       "             Journalist Name Constituent Author Article Issues Custom Group  \\\n",
       "0                Bell, Steve                NaN            NaN   Commentary   \n",
       "1       Fryer-biggs, Zachary                NaN            NaN          NaN   \n",
       "2       Fryer-biggs, Zachary                NaN            NaN          NaN   \n",
       "3       Fryer-biggs, Zachary                NaN            NaN          NaN   \n",
       "4       Fryer-biggs, Zachary                NaN            NaN          NaN   \n",
       "...                      ...                ...            ...          ...   \n",
       "408199            Gould, Joe                NaN            NaN          NaN   \n",
       "408200            Gould, Joe                NaN            NaN          NaN   \n",
       "408201            Gould, Joe                NaN            NaN          NaN   \n",
       "408202       Bodner, Matthew                NaN            NaN          NaN   \n",
       "408203        Galeotti, Mark                NaN            NaN        Op-Ed   \n",
       "\n",
       "               Media Group                                           fulltext  \\\n",
       "0       Capitol Hill Media  Opinion: They Voted for Caps. Now They Want Mo...   \n",
       "1                      NaN  Can James Mattis Prevent Nuclear War With Nort...   \n",
       "2                      NaN  Can James Mattis Prevent Nuclear War With Nort...   \n",
       "3                      NaN  Can James Mattis Prevent Nuclear War With Nort...   \n",
       "4                      NaN  Can James Mattis Prevent Nuclear War With Nort...   \n",
       "...                    ...                                                ...   \n",
       "408199                 NaN  No 'bloody nose' strategy for North Korea, say...   \n",
       "408200                 NaN  No 'bloody nose' strategy for North Korea, say...   \n",
       "408201                 NaN  No 'bloody nose' strategy for North Korea, say...   \n",
       "408202                 NaN  Modernized Tu-160 to boost Russia's long-range...   \n",
       "408203                 NaN  Putin Is Playing a Dangerous Game in Syria\\r\\n...   \n",
       "\n",
       "                       source_name_cleaned  \n",
       "0                               Steve Bell  \n",
       "1                             James Mattis  \n",
       "2                             James Mattis  \n",
       "3                          Leon E. Panetta  \n",
       "4                              Chuck Hagel  \n",
       "...                                    ...  \n",
       "408199  Unnamed Trump White House Official  \n",
       "408200                      Susan Thornton  \n",
       "408201                      Unnamed Source  \n",
       "408202                      Vladimir Putin  \n",
       "408203                       Mark Galeotti  \n",
       "\n",
       "[400444 rows x 30 columns]"
      ]
     },
     "execution_count": 7,
     "metadata": {},
     "output_type": "execute_result"
    }
   ],
   "source": [
    "# dropping rows with missing source names and article text\n",
    "# there are about 8,000 rows dropped from this\n",
    "cleaned_data = cleaned_data.dropna(subset=[\"Source Name\", \"fulltext\"])\n",
    "cleaned_data"
   ]
  },
  {
   "cell_type": "code",
   "execution_count": 8,
   "metadata": {},
   "outputs": [
    {
     "name": "stdout",
     "output_type": "stream",
     "text": [
      "False    356992\n",
      "True      43452\n",
      "Name: Unnamed Source, dtype: int64\n"
     ]
    },
    {
     "name": "stderr",
     "output_type": "stream",
     "text": [
      "/tmp/ipykernel_1017/3619176105.py:2: SettingWithCopyWarning: \n",
      "A value is trying to be set on a copy of a slice from a DataFrame.\n",
      "Try using .loc[row_indexer,col_indexer] = value instead\n",
      "\n",
      "See the caveats in the documentation: https://pandas.pydata.org/pandas-docs/stable/user_guide/indexing.html#returning-a-view-versus-a-copy\n",
      "  cleaned_data[\"Unnamed Source\"] = cleaned_data[\"Source Name\"].str.lower().str.contains(\"unnamed\")\n"
     ]
    }
   ],
   "source": [
    "# adding a column to denote presence of \"unnamed\" in source name\n",
    "cleaned_data[\"Unnamed Source\"] = cleaned_data[\"Source Name\"].str.lower().str.contains(\"unnamed\")\n",
    "print(cleaned_data[\"Unnamed Source\"].value_counts())\n",
    "\n",
    "# dropping unnamed sources\n",
    "cleaned_data = cleaned_data.loc[~cleaned_data[\"Unnamed Source\"]]"
   ]
  },
  {
   "cell_type": "code",
   "execution_count": 9,
   "metadata": {},
   "outputs": [
    {
     "name": "stderr",
     "output_type": "stream",
     "text": [
      "/tmp/ipykernel_1017/1260051694.py:2: SettingWithCopyWarning: \n",
      "A value is trying to be set on a copy of a slice from a DataFrame.\n",
      "Try using .loc[row_indexer,col_indexer] = value instead\n",
      "\n",
      "See the caveats in the documentation: https://pandas.pydata.org/pandas-docs/stable/user_guide/indexing.html#returning-a-view-versus-a-copy\n",
      "  cleaned_data[\"Name in Text\"] = cleaned_data.apply(lambda df: df[\"Source Name\"] in df[\"fulltext\"], axis=1)\n"
     ]
    },
    {
     "data": {
      "text/plain": [
       "True     187808\n",
       "False    169184\n",
       "Name: Name in Text, dtype: int64"
      ]
     },
     "execution_count": 9,
     "metadata": {},
     "output_type": "execute_result"
    }
   ],
   "source": [
    "# adding a column to denote exact matches of Source Name in fulltext\n",
    "cleaned_data[\"Name in Text\"] = cleaned_data.apply(lambda df: df[\"Source Name\"] in df[\"fulltext\"], axis=1)\n",
    "cleaned_data[\"Name in Text\"].value_counts()"
   ]
  },
  {
   "cell_type": "code",
   "execution_count": 10,
   "metadata": {},
   "outputs": [
    {
     "name": "stderr",
     "output_type": "stream",
     "text": [
      "/tmp/ipykernel_1017/3874452738.py:2: SettingWithCopyWarning: \n",
      "A value is trying to be set on a copy of a slice from a DataFrame.\n",
      "Try using .loc[row_indexer,col_indexer] = value instead\n",
      "\n",
      "See the caveats in the documentation: https://pandas.pydata.org/pandas-docs/stable/user_guide/indexing.html#returning-a-view-versus-a-copy\n",
      "  cleaned_data[\"Name in Text\"] = cleaned_data.apply(lambda df: df[\"source_name_cleaned\"] in df[\"fulltext\"], axis=1)\n"
     ]
    },
    {
     "data": {
      "text/plain": [
       "True     225961\n",
       "False    131031\n",
       "Name: Name in Text, dtype: int64"
      ]
     },
     "execution_count": 10,
     "metadata": {},
     "output_type": "execute_result"
    }
   ],
   "source": [
    "# adding a column to denote exact matches of cleaned Source Name in fulltext\n",
    "cleaned_data[\"Name in Text\"] = cleaned_data.apply(lambda df: df[\"source_name_cleaned\"] in df[\"fulltext\"], axis=1)\n",
    "cleaned_data[\"Name in Text\"].value_counts()"
   ]
  },
  {
   "cell_type": "markdown",
   "metadata": {
    "id": "NRuqQX3kbPLa"
   },
   "source": [
    "# Establishing Speaker Categories"
   ]
  },
  {
   "cell_type": "code",
   "execution_count": 5,
   "metadata": {
    "id": "CQwCq4c1Wwst"
   },
   "outputs": [],
   "source": [
    "# dictionary containing the classification groups for all speaker types\n",
    "source_groups = {\"Foreign Government\": ['Foreign Gov/Mil Official'],\n",
    "                \"Experts\": ['Nuke Organization','Non-Profit/NGO','Think Tanks',\n",
    "                            'Nuke Organization - Other', 'Nuke Organization - Academic',\n",
    "                            'International Orgs','Academic','Nuclear Scientist',\"Analyst/Commentator\",\n",
    "                            'Attorney','Regulator'],\n",
    "                \"US Congress\": ['US Rep. & Staff','US Senate & Staff', 'Partisans/Fmr. Politicians'],\n",
    "                \"US Federal Officials\": ['Federal Official','State/Local Official',\n",
    "                                        'Former Admin. Officials','Judicial Official'],\n",
    "                \"US Defense\": ['US Military','Defense Forces','Defense'],\n",
    "                \"Media\": [\"Media/Journalist\",\"Blogger\"],\n",
    "                \"Corporate Official\": ['Corporate Official'],\n",
    "                \"Other\": ['Other','Chairman','Terrorist/Extremist','Information minister',\n",
    "                          'Religious/Clerical', 'Ambassador', 'Nuclear Official',\n",
    "                          'Citizen','Public Polling','US Police','Deputy']}"
   ]
  },
  {
   "cell_type": "code",
   "execution_count": 111,
   "metadata": {
    "id": "nAovRd2VbUqk"
   },
   "outputs": [],
   "source": [
    "# Helper function that inverts a dictionary. This will be useful for using speaker groups\n",
    "# later on in model evaluation\n",
    "def invert_dict(dictionary):\n",
    "  \"\"\"Inputs:\n",
    "     - dictionary: dict, dictionary we wish to invert\n",
    "     Outputs:\n",
    "     - dict, where keys are the initial dictionary's values and values are the initial dictionary's keys\"\"\"\n",
    "  # get a list of all items in all dictionary values\n",
    "  speaker_types = list(np.concatenate(list(dictionary.values())).flat)\n",
    "  # each speaker type will become its own key now, and the value will be the speaker group it's a part of\n",
    "  inverted_dict = {}\n",
    "  for speaker_type in speaker_types:\n",
    "    # find the group the speaker_type belongs in\n",
    "    speaker_group = [key for key, value in dictionary.items() if speaker_type in value][0]\n",
    "    # update the inverted dictionary such that the key is the speaker type and the value is the speaker group\n",
    "    inverted_dict[speaker_type] = speaker_group\n",
    "  return inverted_dict"
   ]
  },
  {
   "cell_type": "code",
   "execution_count": 114,
   "metadata": {
    "id": "RPTeTeHTbXvr"
   },
   "outputs": [],
   "source": [
    "# lookup dictionary which can convert a speaker type to its classification group in constant time\n",
    "source_to_group = invert_dict(source_groups)"
   ]
  },
  {
   "cell_type": "code",
   "execution_count": 115,
   "metadata": {
    "id": "z9k4yqwJbfVM"
   },
   "outputs": [],
   "source": [
    "def assign_source_to_group(source_type):\n",
    "  \"\"\"Inputs:\n",
    "     - source_type: str, source type from quote datafame\n",
    "     Outputs:\n",
    "     - str of the bigger speaker category to which source_type belongs\"\"\"\n",
    "  if type(source_type) != str:\n",
    "    return \"Other\"\n",
    "  else:\n",
    "    return source_to_group[source_type]"
   ]
  },
  {
   "cell_type": "markdown",
   "metadata": {
    "id": "s42OQ4RZbgxi"
   },
   "source": [
    "# Establishing Classification Features"
   ]
  },
  {
   "cell_type": "code",
   "execution_count": 77,
   "metadata": {
    "id": "AGAIVk-2YrUs"
   },
   "outputs": [],
   "source": [
    "# Listing indicidator features to compare across the speaker categories\n",
    "experts_ps = [\"associate professor\",\n",
    "              \"university\",\n",
    "              \"studies\",\n",
    "              \"scholar\",\n",
    "              \"expert\",\n",
    "              \"historian\",\n",
    "              \"academy\",\n",
    "              \"social science\",\n",
    "              \"lecturer\",\n",
    "              \"physicist\",\n",
    "              \"professor\",\n",
    "              \"political science\",\n",
    "              \"political\",\n",
    "              \"scientist\",\n",
    "              \"college\",\n",
    "              \"education\",\n",
    "              \"school\",\n",
    "              \"economics\",\n",
    "              \"international relations\",\n",
    "              \"physics\",\n",
    "              \"associate professor\",\n",
    "              \"researcher\",\n",
    "              \"laboratory\",\n",
    "              \"research fellow\",\n",
    "              \"graduate school\",\n",
    "              \"international affairs\",\n",
    "              \"research associate\",\n",
    "              \"dr\\.\",\n",
    "              \"ph\\.d\\.\",\n",
    "              \"institute of technology\",\n",
    "              \"economist\",\n",
    "              \"analysis\",\n",
    "              \"counselor\",\n",
    "              \"postdoctoral\",\n",
    "              \"fellow\",\n",
    "              \"specialist\",\n",
    "              \"novelist\",\n",
    "              \"founder\",\n",
    "              \"council\",\n",
    "              \"director\",\n",
    "              \"program\",\n",
    "              \"think tank\",\n",
    "              \"foundation\",\n",
    "              \"institute\",\n",
    "              \"division\",\n",
    "              \"policy\",\n",
    "              \"association\",\n",
    "              \"center\",\n",
    "              \"group\",\n",
    "              \"superindendent\",\n",
    "              \"international\"]\n",
    "foreign_gov_ps = [\"putin|kim jong un|netanyahu|ayatollah|moon jae in\",\n",
    "                  \"[nseih] president\",\n",
    "                  \"[nseih] foreign\",\n",
    "                  \"foreign minister\",\n",
    "                  \"foreign ministry\",\n",
    "                  \"prime minister\",\n",
    "                  \"people's liberation army\",\n",
    "                  \"foreign policy\",\n",
    "                  \"supreme leader\",\n",
    "                  \"prince\"] \n",
    "corporate_official_ps = [\"chief finnancial officer\",\n",
    "                         \"managing director\",\n",
    "                         \"bank\",\n",
    "                         \"chief executive\",\n",
    "                         \"general manager\",\n",
    "                         \"investment fund\",\n",
    "                         \"investment\",\n",
    "                         \"employer\",\n",
    "                         \"firm\",\n",
    "                         \"chief executive officer\",\n",
    "                         \"businessman\",\n",
    "                         \"businesswoman\",\n",
    "                         \"inc\\.\",\n",
    "                         \"manager\",\n",
    "                         \"ltd[ ,\\.]\",\n",
    "                         \"chairman\",\n",
    "                         \"chairwoman\",\n",
    "                         \"sales\",\n",
    "                         \"managing\",\n",
    "                         \"program director\",\n",
    "                         \"strategist\",\n",
    "                         \"company\",\n",
    "                         \"contractor\",\n",
    "                         \"consultancy\"]\n",
    "judicial_ps = [\"attorney\",\n",
    "               \"justice\",\n",
    "               \"lawyer\",\n",
    "               \"court\",\n",
    "               \"judge\",\n",
    "               \"magistrate\"]\n",
    "us_congress_ps = [\" sen\\.\",\n",
    "                  \" rep\\.\",\n",
    "                  \" sens\\.\",\n",
    "                  \" reps\\.\",\n",
    "                  \" r \",\n",
    "                  \" d \",\n",
    "                  \"\\(r\",\n",
    "                  \"\\(d\",\n",
    "                  \"democrat\",\n",
    "                  \"democratic\",\n",
    "                  \"republican\",\n",
    "                  \"majority leader\",\n",
    "                  \"minority leader\",\n",
    "                  \"senate\",\n",
    "                  \"house\",\n",
    "                  \"committee\",\n",
    "                  \"frontrunner\",\n",
    "                  \"candidate\",\n",
    "                  \"committee chairman\",\n",
    "                  \"ranking member\",\n",
    "                  \" top\",\n",
    "                  \"foreign relations committee\",\n",
    "                  \"intelligence committee\",\n",
    "                  \"hopeful\",\n",
    "                  \"house speaker\",\n",
    "                  \"campaign\"]\n",
    "us_defense_ps = [\"pentagon\",\n",
    "                 \"navy\",\n",
    "                 \"air force\",\n",
    "                 \"army\",\n",
    "                 \"marine\",\n",
    "                 \"coast gaurd\",\n",
    "                 \" capt\\.\",\n",
    "                 \"captain\",\n",
    "                 \" gen\\.\",\n",
    "                 \"general\",\n",
    "                 \" adm\\.\",\n",
    "                 \"admiral\",\n",
    "                 \" col\\.\",\n",
    "                 \"colonel\",\n",
    "                 \" lt\\.\",\n",
    "                 \"lieutenant\",\n",
    "                 \"chief of staff\",\n",
    "                 \"joint chiefs of staff\",\n",
    "                 \"commander\",\n",
    "                 \"norad\",\n",
    "                 \"northcom\",\n",
    "                 \"special forces\",\n",
    "                 \"strategic command\",\n",
    "                 \"defense secretary\",\n",
    "                 \"nato\",\n",
    "                 \"allied\",\n",
    "                 \"officer\",\n",
    "                 \"corps\",\n",
    "                 \" u\\.s\\.\",\n",
    "                 \" us \"]\n",
    "us_fed_officials_ps = [\"biden|trump|obama|bush|clinton|reagan\",\n",
    "                        \"ambassador\",\n",
    "                        \"u\\.s\\. president\",\n",
    "                        \"department\",\n",
    "                        \"attorney\",\n",
    "                        \"secretary of\",\n",
    "                        \"us ambassador\",\n",
    "                        \"state department\",\n",
    "                        \"national security\",\n",
    "                        \"secretary\",\n",
    "                        \"secretary of\"]\n",
    "media_ps = [\"author\\:? \",\n",
    "            \"correspondent\",\n",
    "            \"columnist\",\n",
    "            \" post\",\n",
    "            \" host\",\n",
    "            \"editor\",\n",
    "            \"times\",\n",
    "            \"press\",\n",
    "            \"magazine\",\n",
    "            \"msnbc|cnn|fox\",\n",
    "            \"writer\",\n",
    "            \"syndicated columnist\",\n",
    "            \"editorial\",\n",
    "            \"blog\",\n",
    "            \": .+\",\n",
    "            \"i\\\"m\",\n",
    "            \"by\\:? \",\n",
    "            \"media_tag\"] \n",
    "international_officials_ps = [\"deputy director general\",\n",
    "                              \"international atomic energy agency\",\n",
    "                              \"iaea\",\n",
    "                              \"inspector\",\n",
    "                              \"inspections\"]\n",
    "other_ps = [\"hezbollah\",\n",
    "            \"taliban\",\n",
    "            \"pollster\",\n",
    "            \"archbishop\",\n",
    "            \"pope\",\n",
    "            \"bishop\",\n",
    "            \"church\",\n",
    "            \"rev\\.\",\n",
    "            \"reverand\",\n",
    "            \"police\",\n",
    "            \"commissioner\",\n",
    "            \"nypd\",\n",
    "            \"resident\"]"
   ]
  },
  {
   "cell_type": "code",
   "execution_count": null,
   "metadata": {
    "id": "YsJL4h6vbaPa"
   },
   "outputs": [],
   "source": [
    "indicator_pattern_set  = [experts_ps,\n",
    "                          foreign_gov_ps,\n",
    "                          corporate_official_ps,\n",
    "                          judicial_ps,\n",
    "                          us_congress_ps,\n",
    "                          us_defense_ps,\n",
    "                          us_fed_officials_ps,\n",
    "                          media_ps,\n",
    "                          international_officials_ps,\n",
    "                          other_ps]"
   ]
  },
  {
   "cell_type": "code",
   "execution_count": 80,
   "metadata": {
    "id": "ks7Qjq36Yvhr"
   },
   "outputs": [],
   "source": [
    "indicator_patterns = []\n",
    "for pattern_group in indicator_pattern_set:\n",
    "  indicator_patterns += pattern_group"
   ]
  },
  {
   "cell_type": "code",
   "execution_count": 83,
   "metadata": {
    "id": "k4c7Zg72Yg1j"
   },
   "outputs": [],
   "source": [
    "# A special indicator to try is the existence of a foreign title--that is, any case in which\n",
    "# a title and a foreign cuntry are mentioned in the same string. Examples are shown below.\n",
    "def has_foreign_title(context_str):\n",
    "  \"\"\"Inputs:\n",
    "     - context_str: string to find a foreign title in\n",
    "     Outputs:\n",
    "     - int, whether or not a foreign title is in the string\"\"\"\n",
    "  country_pattern = \"iran|iraq|south korea|north korea|russia|china|france|germany|india|pakistan|libya|britain|u\\.k\\.|united kingdom|israel|saudi arabia\"\n",
    "  country_s_pattern = \"(iran|iraq|south korea|north korea|russia|china|france|germany|india|pakistan|libya|britain|u\\.k\\.|united kingdom|israel|saudi arabia|south|north|korea).?s\"\n",
    "  country_adj_pattern = \"iranian|iraqi|south korean|north koren|russian|chinese|french|german|indian|pakistani|libyan|british|israeli|saudi\"\n",
    "  title_pattern = \"foreign|defense|minister|ambassador|leader|president|prince|diplomat|prime minister|spokesman|spokeswoman|gen\\.|governor|chief|government\"\n",
    "  country_match = re.search(country_pattern, context_str)\n",
    "  s_match = re.search(country_s_pattern, context_str)\n",
    "  adj_match = re.search(country_adj_pattern, context_str)\n",
    "  title_match = re.search(title_pattern, context_str)\n",
    "  has_country = False \n",
    "  has_title = False\n",
    "  if s_match or adj_match or country_match:\n",
    "    has_country = True\n",
    "  if title_match:\n",
    "    has_title = True\n",
    "  return int(has_country and has_title)"
   ]
  },
  {
   "cell_type": "markdown",
   "metadata": {
    "id": "Ne3BrWK8XLyp"
   },
   "source": [
    "# Context Extraction Setup"
   ]
  },
  {
   "cell_type": "code",
   "execution_count": 84,
   "metadata": {
    "colab": {
     "base_uri": "https://localhost:8080/"
    },
    "id": "gedHTaZKXl37",
    "outputId": "835ababe-915e-4a48-8503-4f444b8d9fb8"
   },
   "outputs": [
    {
     "name": "stdout",
     "output_type": "stream",
     "text": [
      "NLTK Downloader\n",
      "---------------------------------------------------------------------------\n",
      "    d) Download   l) List    u) Update   c) Config   h) Help   q) Quit\n",
      "---------------------------------------------------------------------------\n",
      "Downloader> \n",
      "\n",
      "---------------------------------------------------------------------------\n",
      "    d) Download   l) List    u) Update   c) Config   h) Help   q) Quit\n",
      "---------------------------------------------------------------------------\n",
      "Downloader> d\n",
      "\n",
      "Download which package (l=list; x=cancel)?\n",
      "  Identifier> all\n",
      "    Downloading collection 'all'\n",
      "       | \n",
      "       | Downloading package abc to /root/nltk_data...\n",
      "       |   Package abc is already up-to-date!\n",
      "       | Downloading package alpino to /root/nltk_data...\n",
      "       |   Package alpino is already up-to-date!\n",
      "       | Downloading package averaged_perceptron_tagger to\n",
      "       |     /root/nltk_data...\n",
      "       |   Package averaged_perceptron_tagger is already up-to-date!\n",
      "       | Downloading package averaged_perceptron_tagger_ru to\n",
      "       |     /root/nltk_data...\n",
      "       |   Package averaged_perceptron_tagger_ru is already up-to-\n",
      "       |       date!\n",
      "       | Downloading package basque_grammars to /root/nltk_data...\n",
      "       |   Package basque_grammars is already up-to-date!\n",
      "       | Downloading package biocreative_ppi to /root/nltk_data...\n",
      "       |   Package biocreative_ppi is already up-to-date!\n",
      "       | Downloading package bllip_wsj_no_aux to /root/nltk_data...\n",
      "       |   Package bllip_wsj_no_aux is already up-to-date!\n",
      "       | Downloading package book_grammars to /root/nltk_data...\n",
      "       |   Package book_grammars is already up-to-date!\n",
      "       | Downloading package brown to /root/nltk_data...\n",
      "       |   Package brown is already up-to-date!\n",
      "       | Downloading package brown_tei to /root/nltk_data...\n",
      "       |   Package brown_tei is already up-to-date!\n",
      "       | Downloading package cess_cat to /root/nltk_data...\n",
      "       |   Package cess_cat is already up-to-date!\n",
      "       | Downloading package cess_esp to /root/nltk_data...\n",
      "       |   Package cess_esp is already up-to-date!\n",
      "       | Downloading package chat80 to /root/nltk_data...\n",
      "       |   Package chat80 is already up-to-date!\n",
      "       | Downloading package city_database to /root/nltk_data...\n",
      "       |   Package city_database is already up-to-date!\n",
      "       | Downloading package cmudict to /root/nltk_data...\n",
      "       |   Package cmudict is already up-to-date!\n",
      "       | Downloading package comparative_sentences to\n",
      "       |     /root/nltk_data...\n",
      "       |   Package comparative_sentences is already up-to-date!\n",
      "       | Downloading package comtrans to /root/nltk_data...\n",
      "       |   Package comtrans is already up-to-date!\n",
      "       | Downloading package conll2000 to /root/nltk_data...\n",
      "       |   Package conll2000 is already up-to-date!\n",
      "       | Downloading package conll2002 to /root/nltk_data...\n",
      "       |   Package conll2002 is already up-to-date!\n",
      "       | Downloading package conll2007 to /root/nltk_data...\n",
      "       |   Package conll2007 is already up-to-date!\n",
      "       | Downloading package crubadan to /root/nltk_data...\n",
      "       |   Package crubadan is already up-to-date!\n",
      "       | Downloading package dependency_treebank to /root/nltk_data...\n",
      "       |   Package dependency_treebank is already up-to-date!\n",
      "       | Downloading package dolch to /root/nltk_data...\n",
      "       |   Package dolch is already up-to-date!\n",
      "       | Downloading package europarl_raw to /root/nltk_data...\n",
      "       |   Package europarl_raw is already up-to-date!\n",
      "       | Downloading package extended_omw to /root/nltk_data...\n",
      "       |   Package extended_omw is already up-to-date!\n",
      "       | Downloading package floresta to /root/nltk_data...\n",
      "       |   Package floresta is already up-to-date!\n",
      "       | Downloading package framenet_v15 to /root/nltk_data...\n",
      "       |   Package framenet_v15 is already up-to-date!\n",
      "       | Downloading package framenet_v17 to /root/nltk_data...\n",
      "       |   Package framenet_v17 is already up-to-date!\n",
      "       | Downloading package gazetteers to /root/nltk_data...\n",
      "       |   Package gazetteers is already up-to-date!\n",
      "       | Downloading package genesis to /root/nltk_data...\n",
      "       |   Package genesis is already up-to-date!\n",
      "       | Downloading package gutenberg to /root/nltk_data...\n",
      "       |   Package gutenberg is already up-to-date!\n",
      "       | Downloading package ieer to /root/nltk_data...\n",
      "       |   Package ieer is already up-to-date!\n",
      "       | Downloading package inaugural to /root/nltk_data...\n",
      "       |   Package inaugural is already up-to-date!\n",
      "       | Downloading package indian to /root/nltk_data...\n",
      "       |   Package indian is already up-to-date!\n",
      "       | Downloading package jeita to /root/nltk_data...\n",
      "       |   Package jeita is already up-to-date!\n",
      "       | Downloading package kimmo to /root/nltk_data...\n",
      "       |   Package kimmo is already up-to-date!\n",
      "       | Downloading package knbc to /root/nltk_data...\n",
      "       |   Package knbc is already up-to-date!\n",
      "       | Downloading package large_grammars to /root/nltk_data...\n",
      "       |   Package large_grammars is already up-to-date!\n",
      "       | Downloading package lin_thesaurus to /root/nltk_data...\n",
      "       |   Package lin_thesaurus is already up-to-date!\n",
      "       | Downloading package mac_morpho to /root/nltk_data...\n",
      "       |   Package mac_morpho is already up-to-date!\n",
      "       | Downloading package machado to /root/nltk_data...\n",
      "       |   Package machado is already up-to-date!\n",
      "       | Downloading package masc_tagged to /root/nltk_data...\n",
      "       |   Package masc_tagged is already up-to-date!\n",
      "       | Downloading package maxent_ne_chunker to /root/nltk_data...\n",
      "       |   Package maxent_ne_chunker is already up-to-date!\n",
      "       | Downloading package maxent_treebank_pos_tagger to\n",
      "       |     /root/nltk_data...\n",
      "       |   Package maxent_treebank_pos_tagger is already up-to-date!\n",
      "       | Downloading package moses_sample to /root/nltk_data...\n",
      "       |   Package moses_sample is already up-to-date!\n",
      "       | Downloading package movie_reviews to /root/nltk_data...\n",
      "       |   Package movie_reviews is already up-to-date!\n",
      "       | Downloading package mte_teip5 to /root/nltk_data...\n",
      "       |   Package mte_teip5 is already up-to-date!\n",
      "       | Downloading package mwa_ppdb to /root/nltk_data...\n",
      "       |   Package mwa_ppdb is already up-to-date!\n",
      "       | Downloading package names to /root/nltk_data...\n",
      "       |   Package names is already up-to-date!\n",
      "       | Downloading package nombank.1.0 to /root/nltk_data...\n",
      "       |   Package nombank.1.0 is already up-to-date!\n",
      "       | Downloading package nonbreaking_prefixes to\n",
      "       |     /root/nltk_data...\n",
      "       |   Package nonbreaking_prefixes is already up-to-date!\n",
      "       | Downloading package nps_chat to /root/nltk_data...\n",
      "       |   Package nps_chat is already up-to-date!\n",
      "       | Downloading package omw to /root/nltk_data...\n",
      "       |   Package omw is already up-to-date!\n",
      "       | Downloading package omw-1.4 to /root/nltk_data...\n",
      "       |   Package omw-1.4 is already up-to-date!\n",
      "       | Downloading package opinion_lexicon to /root/nltk_data...\n",
      "       |   Package opinion_lexicon is already up-to-date!\n",
      "       | Downloading package panlex_swadesh to /root/nltk_data...\n",
      "       |   Package panlex_swadesh is already up-to-date!\n",
      "       | Downloading package paradigms to /root/nltk_data...\n",
      "       |   Package paradigms is already up-to-date!\n",
      "       | Downloading package pe08 to /root/nltk_data...\n",
      "       |   Package pe08 is already up-to-date!\n",
      "       | Downloading package perluniprops to /root/nltk_data...\n",
      "       |   Package perluniprops is already up-to-date!\n",
      "       | Downloading package pil to /root/nltk_data...\n",
      "       |   Package pil is already up-to-date!\n",
      "       | Downloading package pl196x to /root/nltk_data...\n",
      "       |   Package pl196x is already up-to-date!\n",
      "       | Downloading package porter_test to /root/nltk_data...\n",
      "       |   Package porter_test is already up-to-date!\n",
      "       | Downloading package ppattach to /root/nltk_data...\n",
      "       |   Package ppattach is already up-to-date!\n",
      "       | Downloading package problem_reports to /root/nltk_data...\n",
      "       |   Package problem_reports is already up-to-date!\n",
      "       | Downloading package product_reviews_1 to /root/nltk_data...\n",
      "       |   Package product_reviews_1 is already up-to-date!\n",
      "       | Downloading package product_reviews_2 to /root/nltk_data...\n",
      "       |   Package product_reviews_2 is already up-to-date!\n",
      "       | Downloading package propbank to /root/nltk_data...\n",
      "       |   Package propbank is already up-to-date!\n",
      "       | Downloading package pros_cons to /root/nltk_data...\n",
      "       |   Package pros_cons is already up-to-date!\n",
      "       | Downloading package ptb to /root/nltk_data...\n",
      "       |   Package ptb is already up-to-date!\n",
      "       | Downloading package punkt to /root/nltk_data...\n",
      "       |   Package punkt is already up-to-date!\n",
      "       | Downloading package qc to /root/nltk_data...\n",
      "       |   Package qc is already up-to-date!\n",
      "       | Downloading package reuters to /root/nltk_data...\n",
      "       |   Package reuters is already up-to-date!\n",
      "       | Downloading package rslp to /root/nltk_data...\n",
      "       |   Package rslp is already up-to-date!\n",
      "       | Downloading package rte to /root/nltk_data...\n",
      "       |   Package rte is already up-to-date!\n",
      "       | Downloading package sample_grammars to /root/nltk_data...\n",
      "       |   Package sample_grammars is already up-to-date!\n",
      "       | Downloading package semcor to /root/nltk_data...\n",
      "       |   Package semcor is already up-to-date!\n",
      "       | Downloading package senseval to /root/nltk_data...\n",
      "       |   Package senseval is already up-to-date!\n",
      "       | Downloading package sentence_polarity to /root/nltk_data...\n",
      "       |   Package sentence_polarity is already up-to-date!\n",
      "       | Downloading package sentiwordnet to /root/nltk_data...\n",
      "       |   Package sentiwordnet is already up-to-date!\n",
      "       | Downloading package shakespeare to /root/nltk_data...\n",
      "       |   Package shakespeare is already up-to-date!\n",
      "       | Downloading package sinica_treebank to /root/nltk_data...\n",
      "       |   Package sinica_treebank is already up-to-date!\n",
      "       | Downloading package smultron to /root/nltk_data...\n",
      "       |   Package smultron is already up-to-date!\n",
      "       | Downloading package snowball_data to /root/nltk_data...\n",
      "       |   Package snowball_data is already up-to-date!\n",
      "       | Downloading package spanish_grammars to /root/nltk_data...\n",
      "       |   Package spanish_grammars is already up-to-date!\n",
      "       | Downloading package state_union to /root/nltk_data...\n",
      "       |   Package state_union is already up-to-date!\n",
      "       | Downloading package stopwords to /root/nltk_data...\n",
      "       |   Package stopwords is already up-to-date!\n",
      "       | Downloading package subjectivity to /root/nltk_data...\n",
      "       |   Package subjectivity is already up-to-date!\n",
      "       | Downloading package swadesh to /root/nltk_data...\n",
      "       |   Package swadesh is already up-to-date!\n",
      "       | Downloading package switchboard to /root/nltk_data...\n",
      "       |   Package switchboard is already up-to-date!\n",
      "       | Downloading package tagsets to /root/nltk_data...\n",
      "       |   Package tagsets is already up-to-date!\n",
      "       | Downloading package timit to /root/nltk_data...\n",
      "       |   Package timit is already up-to-date!\n",
      "       | Downloading package toolbox to /root/nltk_data...\n",
      "       |   Package toolbox is already up-to-date!\n",
      "       | Downloading package treebank to /root/nltk_data...\n",
      "       |   Package treebank is already up-to-date!\n",
      "       | Downloading package twitter_samples to /root/nltk_data...\n",
      "       |   Package twitter_samples is already up-to-date!\n",
      "       | Downloading package udhr to /root/nltk_data...\n",
      "       |   Package udhr is already up-to-date!\n",
      "       | Downloading package udhr2 to /root/nltk_data...\n",
      "       |   Package udhr2 is already up-to-date!\n",
      "       | Downloading package unicode_samples to /root/nltk_data...\n",
      "       |   Package unicode_samples is already up-to-date!\n",
      "       | Downloading package universal_tagset to /root/nltk_data...\n",
      "       |   Package universal_tagset is already up-to-date!\n",
      "       | Downloading package universal_treebanks_v20 to\n",
      "       |     /root/nltk_data...\n",
      "       |   Package universal_treebanks_v20 is already up-to-date!\n",
      "       | Downloading package vader_lexicon to /root/nltk_data...\n",
      "       |   Package vader_lexicon is already up-to-date!\n",
      "       | Downloading package verbnet to /root/nltk_data...\n",
      "       |   Package verbnet is already up-to-date!\n",
      "       | Downloading package verbnet3 to /root/nltk_data...\n",
      "       |   Package verbnet3 is already up-to-date!\n",
      "       | Downloading package webtext to /root/nltk_data...\n",
      "       |   Package webtext is already up-to-date!\n",
      "       | Downloading package wmt15_eval to /root/nltk_data...\n",
      "       |   Package wmt15_eval is already up-to-date!\n",
      "       | Downloading package word2vec_sample to /root/nltk_data...\n",
      "       |   Package word2vec_sample is already up-to-date!\n",
      "       | Downloading package wordnet to /root/nltk_data...\n",
      "       |   Package wordnet is already up-to-date!\n",
      "       | Downloading package wordnet2021 to /root/nltk_data...\n",
      "       |   Package wordnet2021 is already up-to-date!\n",
      "       | Downloading package wordnet31 to /root/nltk_data...\n",
      "       |   Package wordnet31 is already up-to-date!\n",
      "       | Downloading package wordnet_ic to /root/nltk_data...\n",
      "       |   Package wordnet_ic is already up-to-date!\n",
      "       | Downloading package words to /root/nltk_data...\n",
      "       |   Package words is already up-to-date!\n",
      "       | Downloading package ycoe to /root/nltk_data...\n",
      "       |   Package ycoe is already up-to-date!\n",
      "       | \n",
      "     Done downloading collection all\n",
      "\n",
      "---------------------------------------------------------------------------\n",
      "    d) Download   l) List    u) Update   c) Config   h) Help   q) Quit\n",
      "---------------------------------------------------------------------------\n",
      "Downloader> q\n"
     ]
    },
    {
     "data": {
      "text/plain": [
       "True"
      ]
     },
     "execution_count": 84,
     "metadata": {},
     "output_type": "execute_result"
    }
   ],
   "source": [
    "# NLTK will be useful for parsing context sentences. We rely on an understanding of\n",
    "# what words are nouns in order to extract certain context patterns\n",
    "\n",
    "# Instructions: Downloader will prompt a response. Respond as follows:\n",
    "# - d   (and enter)\n",
    "# - all (and enter)\n",
    "# - q   (and enter)\n",
    "import nltk\n",
    "nltk.download()"
   ]
  },
  {
   "cell_type": "code",
   "execution_count": 85,
   "metadata": {
    "id": "CzprDXoNYHok"
   },
   "outputs": [],
   "source": [
    "# More NLTK setup\n",
    "from nltk.corpus import stopwords\n",
    "from nltk.tokenize import word_tokenize, sent_tokenize\n",
    "stop_words = set(stopwords.words('english'))"
   ]
  },
  {
   "cell_type": "code",
   "execution_count": 86,
   "metadata": {
    "id": "xXm6R5j9XbsJ"
   },
   "outputs": [],
   "source": [
    "# helper function to extract full article text, useful for debugging cases where the context extraction function fails\n",
    "def content_of(art_id):\n",
    "  \"\"\"Inputs:\n",
    "     - art_id: id of the article to get the full text of\n",
    "     Outputs:\n",
    "     - str: the full article content as a string\"\"\"\n",
    "  just_id = arts[arts[\"Article ID\"] == art_id][\"Content\"]\n",
    "  if len(just_id) > 0:\n",
    "    return arts[arts[\"Article ID\"] == art_id][\"Content\"].iloc[0]\n",
    "  else: \n",
    "    return \"\""
   ]
  },
  {
   "cell_type": "code",
   "execution_count": 87,
   "metadata": {
    "id": "XSQNkA09XNpH"
   },
   "outputs": [],
   "source": [
    "# Helper function to find the context for a speaker if the context follows a prenoun pattern\n",
    "# Example: \"Russian president Vladimir Putin\" -- useful context nouns \"Russian president\" precede Putin's name\n",
    "def find_prenoun_pattern(name, mentions):\n",
    "  \"\"\"Inputs:\n",
    "     - name: str, name of the speaker we're looking for context for\n",
    "     - mentions: list of str, all paragraphs in the article where name has appeared\n",
    "     Outputs:\n",
    "     - str: the prenoun context preceding a name's mention, if it exists. If no prenoun\n",
    "            context is found, return an empty string.\"\"\"\n",
    "  # listing pos tags we can reference\n",
    "  nouns = ['NN','NNS','NNP','NNPS']\n",
    "  verbs = ['VB','VBD','VBG','VBN','VBP','VBZ']\n",
    "  adverbs = ['RB','RBR','RBS']\n",
    "  # get last name and name length (num words in name) for reference\n",
    "  last_name = name.split()[-1]\n",
    "  name_len = len(name.split())\n",
    "  # for each sentence in the article that name appears in:\n",
    "  for mention in mentions:\n",
    "    potential_verb = \"\"\n",
    "    # tokenize the sentence and parse it to see what part of speech (pos)\n",
    "    # every word in it is\n",
    "    wordsList = nltk.word_tokenize(mention) # note: we're keeping stopwords\n",
    "    tagged = nltk.pos_tag(wordsList)\n",
    "    if len(tagged) <= 1:\n",
    "      return \"\"\n",
    "    # now we iterate through the sentence\n",
    "    sentence_legend = {}\n",
    "    name_idx = 0\n",
    "    i = 0\n",
    "    # for each word in sentence:\n",
    "    for tag_pair in tagged:\n",
    "      sentence_legend[i] = tag_pair\n",
    "      # if we find the last name, save that word index. It'll be handy\n",
    "      if tag_pair[0] == last_name:\n",
    "        name_idx = i\n",
    "      i += 1\n",
    "      \n",
    "    # using the word index of the name, go back in the sentence to find the\n",
    "    # word preceding it. If that preceding word is a noun, we have a prenoun\n",
    "    # pattern we should extract! (we know it's a noun because of NLTK functionality)\n",
    "    if name_idx - name_len >= 0:\n",
    "      preceding_word_pos = sentence_legend[name_idx-name_len][1] \n",
    "      if preceding_word_pos in nouns:\n",
    "        prenoun_pattern = \".*?((?:\\w+\\W+){1,4})\" + name\n",
    "        matches = re.search(prenoun_pattern, mention)\n",
    "        if matches:\n",
    "          #print(mention)\n",
    "          return matches[1]\n",
    "  return \"\""
   ]
  },
  {
   "cell_type": "code",
   "execution_count": 88,
   "metadata": {
    "id": "kh9BRSH1XP0_"
   },
   "outputs": [],
   "source": [
    "# hardcoded list of names that are so recognizable that they often lack context.\n",
    "# we will search for them manually so as not to confuse the algorithm with noisy context\n",
    "household_names = ['donald trump','barack obama','ayatollah ali khameni',\n",
    "                   'vladimir putin','kim jong un', 'joe biden', 'joseph biden', \n",
    "                   'george bush', 'benjamin netanyahu', \"mitt romney\"]"
   ]
  },
  {
   "cell_type": "code",
   "execution_count": 89,
   "metadata": {
    "id": "f_Bw_2W0XS9e"
   },
   "outputs": [],
   "source": [
    "# Beefed up context extraction function that searches for many more possible context patterns\n",
    "def fancy_context(art_id, name, verbose=False):\n",
    "  \"\"\"Inputs:\n",
    "     - art_id: int, id of the article in which name spoke a quote\n",
    "     - name: str, name of the speaker to search for context for\n",
    "     - verbose: bool, whether or not to print a log of what patterns\n",
    "                were found\n",
    "     Outputs:\n",
    "     - str: relevant context that can help identify name in article art_id.\n",
    "            if no patterns could be matched, this string will be NO CONTEXT FOUND.\n",
    "            if name is a household name, return the name alone. We have an indicator\n",
    "            to handle it later.\"\"\"\n",
    "  content = content_of(art_id)\n",
    "  # standardize article content and name to make searching easier\n",
    "  content = content.lower()\n",
    "  content = content.replace(\"-\",\" \")\n",
    "  content = re.sub(' \\w\\. ',' ',content) # remove middle initials\n",
    "  content = content.replace(\"'\",\"\")\n",
    "  name = name.lower()\n",
    "  name = name.replace(\"-\", \" \")\n",
    "  name = name.replace(\"'\", \"\")\n",
    "  # initial hardcoded check for household names, since these names often don't\n",
    "  # have any context and will only confuse the algorithm\n",
    "  if name in household_names:\n",
    "    return name\n",
    "  last_name = name.split()[-1]\n",
    "\n",
    "  # split the full text into a list of paragraphs\n",
    "  paragraphs =  re.split(r\"\\n\", content)\n",
    "  # find paragraphs where the name is mentioned\n",
    "  mentions = []\n",
    "  for paragraph in paragraphs:\n",
    "    if name in paragraph:\n",
    "      mentions.append(paragraph)\n",
    "  \n",
    "  # BEGIN PATTERN MATCHING\n",
    "  #writer_pattern1 = '(author\\:? |by\\:? )' + name\n",
    "  writer_pattern1 = '(author\\:? )' + name\n",
    "  #writer_pattern2 = '(\\n' + name + '.{0,10}\\n)'\n",
    "  writer_pattern2 = name+'   \\r'\n",
    "  congress_pattern = '(\\w{3}. ' + name + ' \\([dr]{1} .+\\))'\n",
    "  precontext_pattern = '([,\\.!?].+, )' + name\n",
    "  is_pattern = name + ' (is .+[,\\.!?])'\n",
    "  postcontext_pattern = name + '(,.+[,\\.!?])'\n",
    "  catchall_pattern = '(\\W+(?:\\w+\\W+){0,6}' + name + '\\W+(?:\\w+\\W+){0,12})'\n",
    "  context = \"\"\n",
    "\n",
    "  # try writer pattern (E: 'By: Johnny Harris')\n",
    "  for mention in mentions:\n",
    "    matches = re.search(writer_pattern1, mention)\n",
    "    if matches:\n",
    "      context = matches[1]\n",
    "      break\n",
    "    matches = re.search(writer_pattern2, mention)\n",
    "    if matches:\n",
    "      context = \"media_tag\"\n",
    "      break\n",
    "  if context:\n",
    "    if verbose:\n",
    "      print(\"WRITER PATTERN\")\n",
    "    return context\n",
    "\n",
    "  # try congress pattern (E: 'sen. John McCain (r ariz.))\n",
    "  for mention in mentions:\n",
    "    matches = re.search(congress_pattern, mention)\n",
    "    if matches:\n",
    "      context += matches[1]\n",
    "  if context:\n",
    "    if verbose:\n",
    "      print(\"CONGRESS PATTERN\")\n",
    "    return context\n",
    "\n",
    "  # try prenoun pattern (E: 'Press secretary Jen Psaki')\n",
    "  prenoun_result = find_prenoun_pattern(name, mentions)\n",
    "  if prenoun_result:\n",
    "    if verbose:\n",
    "      print(\"PRENOUN PATTERN\")\n",
    "    return prenoun_result\n",
    "\n",
    "  # try precontext patterns (E: 'Director of international affairs, Rob Black')\n",
    "  for mention in mentions:\n",
    "    matches = re.search(precontext_pattern, mention)\n",
    "    if matches:\n",
    "      context += matches[1]\n",
    "  if context:\n",
    "    if verbose:\n",
    "      print(\"PRECONTEXT PATTERN\")\n",
    "    return context\n",
    "\n",
    "  # try is pattern (E: 'Ezra Klein is a writer for the New York Times')\n",
    "  for mention in mentions:\n",
    "    matches = re.search(is_pattern, mention)\n",
    "    if matches:\n",
    "      context += matches[1]\n",
    "  if context:\n",
    "    if verbose:\n",
    "      print(\"IS PATTERN\")\n",
    "    return context\n",
    "\n",
    "  # try postcontext pattern (E: 'Daniel Chung, a researcher for ReThink media, ...')\n",
    "  for mention in mentions:\n",
    "      matches = re.search(postcontext_pattern, mention)\n",
    "      if matches:\n",
    "        context += matches[1]\n",
    "  if context:\n",
    "    if verbose:\n",
    "      print(\"POSTCONTEXT PATTERN\")\n",
    "    return context\n",
    "\n",
    "  # if all else fails, extract the first few words both preceding and trailing mentions\n",
    "  # of name in the article. A less surgical extraction, but still an extraction.\n",
    "  for mention in mentions:\n",
    "      matches = re.search(catchall_pattern, mention)\n",
    "      if matches:\n",
    "        context += matches[1]\n",
    "        break\n",
    "  if context:\n",
    "    if verbose:\n",
    "      print(\"CATCHALL FOR \" + str(art_id) + \", \" + name)\n",
    "    return context\n",
    "\n",
    "  # if all else REALLY fails, run the whole function again with just the speaker's\n",
    "  # last name, since sometimes they are mentioned as \"Mr. last_name\" or \"Mrs. last_name\"\n",
    "  if len(name.split()) > 1:\n",
    "    return fancy_context(art_id, last_name)\n",
    "  else:\n",
    "    context = \"# NO CONTEXT FOUND #\"\n",
    "    if verbose:\n",
    "      print(\"NO PATTERN FOUND FOR \" + str(art_id) + \", \" + name)\n",
    "    return context"
   ]
  },
  {
   "cell_type": "code",
   "execution_count": 90,
   "metadata": {
    "id": "MMrp-blYW1A-"
   },
   "outputs": [],
   "source": [
    "def extract_indicators(context_str, indicator_patterns):\n",
    "  \"\"\"Inputs:\n",
    "     - context_str: str, the article content to extract indicator features from\n",
    "     - indicator_patterns: list, all the patterns to be turned into indicators\n",
    "     Outputs:\n",
    "     - array of indicators in the order of indicator_patterns, where a 1 indicates\n",
    "       that the corresponding pattern from indicator_patterns is present in \n",
    "       context_str\"\"\"\n",
    "\n",
    "  # initialize a vector of length len(indicator_patterns)\n",
    "  feat_vector = np.zeros(len(indicator_patterns))\n",
    "  # for each pattern in indicator_patterns:\n",
    "  i = 0\n",
    "  for pattern in indicator_patterns:\n",
    "    # search for the pattern in context_str\n",
    "    match = re.findall(pattern, context_str)\n",
    "    # if it's there, make that entry in the vector a 1\n",
    "    # otherwise, leave it a 0\n",
    "    if match:\n",
    "      feat_vector[i] = 1\n",
    "    i += 1\n",
    "  # return the vector, that's our feature data\n",
    "  return feat_vector"
   ]
  },
  {
   "cell_type": "markdown",
   "metadata": {
    "id": "YqkDiaYmXW4w"
   },
   "source": [
    "# Obtaining Training and Testing Data"
   ]
  },
  {
   "cell_type": "code",
   "execution_count": 116,
   "metadata": {
    "id": "qoxiLwugW9ea"
   },
   "outputs": [],
   "source": [
    "# pulling a subset of current quote data to test a classifier on\n",
    "sample_qte_data = qtes_just_names.sample(10000, random_state=22)"
   ]
  },
  {
   "cell_type": "markdown",
   "metadata": {
    "id": "4W_jwkaJbv6C"
   },
   "source": [
    "# Creating a Design Matrix from Extracted Context Data"
   ]
  },
  {
   "cell_type": "code",
   "execution_count": 117,
   "metadata": {
    "id": "Ydd-UIUdXEmJ"
   },
   "outputs": [],
   "source": [
    "# creating a column for feature information \n",
    "sample_qte_data[\"speaker_context\"] = sample_qte_data.apply(lambda row: fancy_context(row[\"Article ID\"], row[\"cleaned_name\"],verbose=False),axis=1) "
   ]
  },
  {
   "cell_type": "code",
   "execution_count": 118,
   "metadata": {
    "id": "_R2YVrulXHMs"
   },
   "outputs": [],
   "source": [
    "# creating a column for label information\n",
    "sample_qte_data[\"speaker_group\"] = sample_qte_data.apply(lambda row: assign_source_to_group(row[\"Source Type\"]),axis=1)"
   ]
  },
  {
   "cell_type": "code",
   "execution_count": 119,
   "metadata": {
    "id": "SxSaroKMYNhL"
   },
   "outputs": [],
   "source": [
    "# creating a special indicator column to hopefully discern foreign government sources\n",
    "sample_qte_data[\"has_foreign_title\"] = sample_qte_data.apply(lambda row: has_foreign_title(row.speaker_context), axis = 1)"
   ]
  },
  {
   "cell_type": "code",
   "execution_count": 95,
   "metadata": {
    "id": "SEMooLppYQBk"
   },
   "outputs": [],
   "source": [
    "# X is the matrix of indicators based on quote context\n",
    "X = []\n",
    "X_verbose = []\n",
    "for context_str in sample_qte_data[\"speaker_context\"]:\n",
    "  X_verbose.append(context_str)\n",
    "  X.append(extract_indicators(context_str,indicator_patterns))\n",
    "  #X.append(extract_counts(context_str,indicator_pattern_set))\n",
    "X = np.array(X)\n",
    "foreign_title_indicators = np.array([np.array([ind]) for ind in sample_qte_data[\"has_foreign_title\"]])\n",
    "X = np.hstack((X,foreign_title_indicators))\n",
    "\n",
    "# Y is the broader group of speakers to which the source of the quote belongs\n",
    "y = np.array(sample_qte_data[\"speaker_group\"])"
   ]
  },
  {
   "cell_type": "code",
   "execution_count": 96,
   "metadata": {
    "id": "go528eA5YU1P"
   },
   "outputs": [],
   "source": [
    "from sklearn.model_selection import train_test_split"
   ]
  },
  {
   "cell_type": "code",
   "execution_count": 97,
   "metadata": {
    "id": "hPw6LakDYWmX"
   },
   "outputs": [],
   "source": [
    "# train-test split for trial logistic classification\n",
    "X_train, X_test, y_train, y_test = train_test_split(X, y, test_size=0.3, random_state=22)"
   ]
  },
  {
   "cell_type": "markdown",
   "metadata": {
    "id": "neAW2s90ZaAX"
   },
   "source": [
    "## Try: Logistic regression"
   ]
  },
  {
   "cell_type": "code",
   "execution_count": 98,
   "metadata": {
    "id": "K5-uF-0aZWMi"
   },
   "outputs": [],
   "source": [
    "from sklearn.linear_model import LogisticRegression"
   ]
  },
  {
   "cell_type": "code",
   "execution_count": 99,
   "metadata": {
    "id": "WUzzSJCTZeu-"
   },
   "outputs": [],
   "source": [
    "# fitting the trial logistic classifier\n",
    "log_clf = LogisticRegression(max_iter=3000).fit(X_train, y_train)"
   ]
  },
  {
   "cell_type": "code",
   "execution_count": 100,
   "metadata": {
    "colab": {
     "base_uri": "https://localhost:8080/"
    },
    "id": "R1DCaHXqZkro",
    "outputId": "46678e76-999d-4ed0-bec9-4145f87f0d04"
   },
   "outputs": [
    {
     "data": {
      "text/plain": [
       "0.6756666666666666"
      ]
     },
     "execution_count": 100,
     "metadata": {},
     "output_type": "execute_result"
    }
   ],
   "source": [
    "# score for trial logistic classifier\n",
    "log_clf.score(X_test,y_test)"
   ]
  },
  {
   "cell_type": "markdown",
   "metadata": {
    "id": "NuTp8fsFZa3i"
   },
   "source": [
    "## Try: Random Forest"
   ]
  },
  {
   "cell_type": "code",
   "execution_count": 101,
   "metadata": {
    "id": "VedJ_6rNZ_nZ"
   },
   "outputs": [],
   "source": [
    "from sklearn.ensemble import RandomForestClassifier\n",
    "from sklearn.datasets import make_classification"
   ]
  },
  {
   "cell_type": "code",
   "execution_count": 125,
   "metadata": {
    "id": "NayJgPL0aCdm"
   },
   "outputs": [],
   "source": [
    "# fitting the trial random forest classifier\n",
    "randforest_clf = RandomForestClassifier(max_depth=90, random_state=0, n_estimators=300).fit(X_train, y_train)"
   ]
  },
  {
   "cell_type": "code",
   "execution_count": 126,
   "metadata": {
    "colab": {
     "base_uri": "https://localhost:8080/"
    },
    "id": "ivg197bDaFso",
    "outputId": "b9eff15c-9f2a-404a-b1da-860697a64259"
   },
   "outputs": [
    {
     "data": {
      "text/plain": [
       "0.6736666666666666"
      ]
     },
     "execution_count": 126,
     "metadata": {},
     "output_type": "execute_result"
    }
   ],
   "source": [
    "# score for trial random forest classifier\n",
    "randforest_clf.score(X_test,y_test)"
   ]
  },
  {
   "cell_type": "code",
   "execution_count": 122,
   "metadata": {
    "id": "XC_SaJkfaKt3"
   },
   "outputs": [],
   "source": [
    "# helper function that returns the random forest predicted category for a given context string\n",
    "# useful for error analysis!\n",
    "def forest_classify(context_str):\n",
    "  indicator_vector = np.concatenate((extract_indicators(context_str, indicator_patterns), np.array([has_foreign_title(context_str)])),axis=None)\n",
    "  return randforest_clf.predict([indicator_vector])\n",
    "\n",
    "forest_classify = np.vectorize(forest_classify)"
   ]
  },
  {
   "cell_type": "markdown",
   "metadata": {
    "id": "_myS8KybZa-V"
   },
   "source": [
    "## Try: Support Vector Machine"
   ]
  },
  {
   "cell_type": "code",
   "execution_count": 105,
   "metadata": {
    "id": "kiOPijk9aM65"
   },
   "outputs": [],
   "source": [
    "from sklearn import svm\n",
    "from sklearn import metrics"
   ]
  },
  {
   "cell_type": "code",
   "execution_count": 106,
   "metadata": {
    "id": "dxUZkfycaOqD"
   },
   "outputs": [],
   "source": [
    "# fitting the trial SVM classifier\n",
    "svm_clf = svm.SVC(kernel='linear').fit(X_train, y_train)"
   ]
  },
  {
   "cell_type": "code",
   "execution_count": 123,
   "metadata": {
    "colab": {
     "base_uri": "https://localhost:8080/"
    },
    "id": "xOJwpA0MaQSo",
    "outputId": "8a0466cb-9fff-4439-9585-95e3767b3ee2"
   },
   "outputs": [
    {
     "name": "stdout",
     "output_type": "stream",
     "text": [
      "0.6673333333333333\n"
     ]
    }
   ],
   "source": [
    "# score for trial SVM classifier\n",
    "y_pred = svm_clf.predict(X_test)\n",
    "print(metrics.accuracy_score(y_test, y_pred))"
   ]
  },
  {
   "cell_type": "markdown",
   "metadata": {
    "id": "Niv3NTQ0aZ43"
   },
   "source": [
    "# Hyperparameter Tuning"
   ]
  },
  {
   "cell_type": "markdown",
   "metadata": {
    "id": "U-P1Nb1xcT3e"
   },
   "source": [
    "## Method 1: Quick-and-Dirty EDA"
   ]
  },
  {
   "cell_type": "markdown",
   "metadata": {
    "id": "pPct2vt1cb89"
   },
   "source": [
    "Less robust but way faster, also shows that exact hyperparam values aren't as important as knowing the right range they should be in."
   ]
  },
  {
   "cell_type": "code",
   "execution_count": 109,
   "metadata": {
    "id": "2Nk5u_KLaR34"
   },
   "outputs": [],
   "source": [
    "# Plotting accuracy for combinations of n (num_estimators) and md (max_depth) parameters\n",
    "accuracies = []\n",
    "for md in np.arange(10, 100, 10):\n",
    "  md_accuracies = []\n",
    "  for n in np.arange(10, 200, 10):\n",
    "    randforest_clf = RandomForestClassifier(max_depth=md, random_state=0, n_estimators=n).fit(X_train, y_train)\n",
    "    md_accuracies.append(randforest_clf.score(X_test,y_test))\n",
    "  accuracies.append(md_accuracies)"
   ]
  },
  {
   "cell_type": "code",
   "execution_count": 124,
   "metadata": {
    "colab": {
     "base_uri": "https://localhost:8080/",
     "height": 517
    },
    "id": "gYlsPgZjaeKW",
    "outputId": "04fc9a53-b1b8-4fc5-e699-a5d05ff0faa8"
   },
   "outputs": [
    {
     "data": {
      "image/png": "[encoded data removed]",
      "text/plain": [
       "<Figure size 864x576 with 1 Axes>"
      ]
     },
     "metadata": {
      "needs_background": "light"
     },
     "output_type": "display_data"
    }
   ],
   "source": [
    "# Plotting hyperparameter tuning results\n",
    "plt.figure(figsize=[12,8]);\n",
    "i = 1\n",
    "for subaccuracies in accuracies:\n",
    "  plt.plot(np.arange(10, 200, 10), subaccuracies, label=\"max depth = \" + str(i*10));\n",
    "  i += 1\n",
    "plt.title(\"Random Forest Classifier Accuracy by <n_estimator> and <max_depth> Settings\", fontsize=14)\n",
    "plt.xlabel(\"n_estimators\",fontsize=13);\n",
    "plt.ylabel(\"Classification accuracy\",fontsize=13);\n",
    "plt.legend();"
   ]
  },
  {
   "cell_type": "markdown",
   "metadata": {
    "id": "D2q7NgBsctpB"
   },
   "source": [
    "## Method 2: Randomized GridSearch"
   ]
  },
  {
   "cell_type": "markdown",
   "metadata": {
    "id": "qgm3i0XDcw9o"
   },
   "source": [
    "More robust but has a prohibitively long runtime. The functions are detailed below for reference, but our team did not use gridsearch hyperparameters in our final model."
   ]
  },
  {
   "cell_type": "code",
   "execution_count": 127,
   "metadata": {
    "id": "FAks1MiKag_c"
   },
   "outputs": [],
   "source": [
    "from sklearn.model_selection import RandomizedSearchCV\n",
    "from sklearn.ensemble import RandomForestRegressor\n",
    "from sklearn.model_selection import GridSearchCV\n",
    "\n",
    "# change labels to binary or else model errors\n",
    "y_train_binary = pd.get_dummies(y_train)\n",
    "y_test_binary = pd.get_dummies(y_test)\n",
    "\n",
    "random_grid = {'n_estimators': [int(x) for x in np.linspace(start = 200, stop = 2000, num = 25)], # amt of trees in random forest\n",
    "               'max_features': ['auto', 'sqrt'],  # Number of features to consider at every split\n",
    "               'max_depth': [int(x) for x in np.linspace(10, 110, num = 11)], # Maximum number of levels in tree\n",
    "               'min_samples_split': [2, 5, 10], # Minimum number of samples required to split a node\n",
    "               'min_samples_leaf': [1, 2, 4], # Minimum number of samples required at each leaf node\n",
    "               'bootstrap': [True, False]} # Method of selecting samples for training each tree\n",
    "\n",
    "def findBestRandomParameters(random_grid, n, X_train, y_train, X_test, y_test):\n",
    "    \"\"\"Randomly searches across n different combinations from random_grid and returns the best parameters\n",
    "    and its associated score on the test dataset.\"\"\"\n",
    "    rf = RandomForestRegressor()\n",
    "    rf_random = RandomizedSearchCV(estimator = rf, param_distributions = random_grid, \n",
    "                                   n_iter = n, cv = 3, verbose=2, random_state=42, n_jobs = -1)\n",
    "    rf_random.fit(X_train, y_train)\n",
    "    return rf_random.best_params_, rf_random.score(X_test,y_test)\n",
    "\n",
    "# Create the parameter grid based on the results of random search \n",
    "param_grid = {\n",
    "    'bootstrap': [True],\n",
    "    'max_depth': [80, 90, 100, 110],\n",
    "    'max_features': [2, 3],\n",
    "    'min_samples_leaf': [3, 4, 5],\n",
    "    'min_samples_split': [8, 10, 12],\n",
    "    'n_estimators': [100, 200, 300, 1000]\n",
    "}\n",
    "\n",
    "def findBestGridParamters(param_grid):\n",
    "    \"\"\"Evaluates all combinations and returns the best parameters and its associated score on the test dataset.\"\"\"\n",
    "    rf = RandomForestRegressor()\n",
    "    grid_search = GridSearchCV(estimator = rf, param_grid = param_grid, \n",
    "                          cv = 3, n_jobs = -1, verbose = 2)\n",
    "    grid_search.fit(X_train, y_train)\n",
    "    return grid_search.best_params_, grid_search.score(X_test,y_test)"
   ]
  },
  {
   "cell_type": "code",
   "execution_count": 128,
   "metadata": {
    "id": "wPI9F6b1aruK"
   },
   "outputs": [],
   "source": [
    "from sklearn.model_selection import GridSearchCV\n",
    "from sklearn.svm import SVC\n",
    "from sklearn.metrics import classification_report, confusion_matrix\n",
    " \n",
    "# defining parameter range\n",
    "param_grid = {'C': [0.1, 1, 10, 100, 1000],\n",
    "              'gamma': [1, 0.1, 0.01, 0.001, 0.0001],\n",
    "              'kernel': ['rbf','linear']}\n",
    "\n",
    "def findBestSVMParameters(param_grid, X_train, y_train):\n",
    "    grid = GridSearchCV(SVC(), param_grid, refit = True, verbose = 3)\n",
    "    grid.fit(X_train, y_train)\n",
    "    grid_predictions = grid.predict(X_test)\n",
    "    return grid.best_params_, grid_predictions\n",
    "\n",
    "#print(classification_report(y_test, grid_predictions))"
   ]
  },
  {
   "cell_type": "markdown",
   "metadata": {
    "id": "TYkmzhtWa4v6"
   },
   "source": [
    "# Error Analysis"
   ]
  },
  {
   "cell_type": "code",
   "execution_count": 129,
   "metadata": {
    "id": "wdC9ayTpa5Sw"
   },
   "outputs": [],
   "source": [
    "# creating a dataframe to compare out model's predictions to reality\n",
    "probs_vs_actual = pd.DataFrame(randforest_clf.predict_proba(X_test),columns=source_groups)\n",
    "probs_vs_actual[\"Actual\"] = np.array(y_test)\n",
    "probs_vs_actual[\"Prediction\"] = np.array(randforest_clf.predict(X_test))"
   ]
  },
  {
   "cell_type": "code",
   "execution_count": 130,
   "metadata": {
    "id": "LZifwL_-a7vp"
   },
   "outputs": [],
   "source": [
    "# ordering for a later plot\n",
    "ordering = {}\n",
    "i = 0\n",
    "for group in source_groups.keys():\n",
    "  ordering[group] = i\n",
    "  i += 1\n",
    "num_groups = len(ordering)"
   ]
  },
  {
   "cell_type": "code",
   "execution_count": 131,
   "metadata": {
    "id": "8okWEoSta-z7"
   },
   "outputs": [],
   "source": [
    "# creating a count matrix of times when the model predicted a certain category for a given speaker\n",
    "count_matrix = {}\n",
    "for act_category in source_groups:\n",
    "  just_category = probs_vs_actual[probs_vs_actual[\"Actual\"]==act_category]\n",
    "  count_vector = np.zeros(num_groups)\n",
    "  for pred_category in source_groups:\n",
    "    count_vector[ordering[pred_category]] = len(just_category[just_category[\"Prediction\"] == pred_category])\n",
    "  count_matrix[act_category] = count_vector"
   ]
  },
  {
   "cell_type": "code",
   "execution_count": 133,
   "metadata": {
    "id": "kp5iseAdbASW"
   },
   "outputs": [],
   "source": [
    "# turning this count matrix into a df we can plot with\n",
    "count_df = pd.DataFrame(count_matrix)\n",
    "count_df.reset_index(inplace=True)"
   ]
  },
  {
   "cell_type": "code",
   "execution_count": 134,
   "metadata": {
    "colab": {
     "base_uri": "https://localhost:8080/",
     "height": 1000
    },
    "id": "Nwi7ZIftbCoO",
    "outputId": "d489590d-dbab-4d7a-9896-eae2c05cf1a9"
   },
   "outputs": [
    {
     "data": {
      "image/png": "[encoded data removed]",
      "text/plain": [
       "<Figure size 1440x1800 with 8 Axes>"
      ]
     },
     "metadata": {
      "needs_background": "light"
     },
     "output_type": "display_data"
    }
   ],
   "source": [
    "# plotting the results of the code above: a complete error analysis of where the model predicts\n",
    "# correctly and incorrectly\n",
    "fig = plt.figure(figsize=(20,25))\n",
    "fig.suptitle(\"Random Forest Classifier Predictions for Each Actual Speaker Category\",fontsize=23);\n",
    "i = 0\n",
    "for category in source_groups:\n",
    "    code = 331 + i\n",
    "    i += 1\n",
    "    ax = fig.add_subplot(code)\n",
    "    sns.barplot(x='index', y=category, data=count_df, palette=\"YlGnBu\")\n",
    "    plt.xlabel('');\n",
    "    ax.set_title(\"\\nActual Category: \" + category,fontsize=13);\n",
    "    ax.set_ylabel(\"Count\");\n",
    "    ax.set_xlabel(\"Predicted Category\");\n",
    "    ax.set_xticklabels(ordering.keys(),rotation=90);\n",
    "plt.tight_layout(rect=[0, 0.03, 1, 0.95]);"
   ]
  },
  {
   "cell_type": "markdown",
   "metadata": {
    "id": "aZip_Hxbdf9n"
   },
   "source": [
    "# Brainstorming Classification Improvements"
   ]
  },
  {
   "cell_type": "markdown",
   "metadata": {
    "id": "LBnBftB7eEaV"
   },
   "source": [
    "Want: a way to see specific prediction-reality mismatches and the context strings associated with them so we can see what exactly is going wrong with classifications"
   ]
  },
  {
   "cell_type": "code",
   "execution_count": 139,
   "metadata": {
    "id": "hsDtq25ldVQz"
   },
   "outputs": [],
   "source": [
    "# creating a even smaller subsample of the quote data to perform error analysis on\n",
    "sample_sample_qte_data = sample_qte_data.sample(n=1000)"
   ]
  },
  {
   "cell_type": "code",
   "execution_count": 141,
   "metadata": {
    "id": "Q2eIZDgjd_MY"
   },
   "outputs": [],
   "source": [
    "# creating a column of random forest predictions for this subsample df\n",
    "sample_sample_qte_data[\"forest_pred\"] = forest_classify(sample_sample_qte_data[\"speaker_context\"])"
   ]
  },
  {
   "cell_type": "code",
   "execution_count": 140,
   "metadata": {
    "id": "gwUA70k_djS_"
   },
   "outputs": [],
   "source": [
    "# helper function that pulls up a dataframe of times when the model made a particular prediction-reality mismatch.\n",
    "# this allows us to look at the context string and see what improvements we can make from there.\n",
    "def error_analysis_where(actual, predicted, df):\n",
    "  return df[(df[\"speaker_group\"]==actual) & (df[\"forest_pred\"]==predicted)][[\"Article ID\",\"cleaned_name\",\"speaker_group\",\"forest_pred\",\"speaker_context\"]]"
   ]
  },
  {
   "cell_type": "code",
   "execution_count": 143,
   "metadata": {
    "colab": {
     "base_uri": "https://localhost:8080/",
     "height": 206
    },
    "id": "UbQt1Jkedo_i",
    "outputId": "e8855de5-884f-40d0-aa60-682f80413d44"
   },
   "outputs": [
    {
     "data": {
      "text/html": [
       "\n",
       "  <div id=\"df-d0ac4446-79b2-4d47-9448-ceca5b0b7ba9\">\n",
       "    <div class=\"colab-df-container\">\n",
       "      <div>\n",
       "<style scoped>\n",
       "    .dataframe tbody tr th:only-of-type {\n",
       "        vertical-align: middle;\n",
       "    }\n",
       "\n",
       "    .dataframe tbody tr th {\n",
       "        vertical-align: top;\n",
       "    }\n",
       "\n",
       "    .dataframe thead th {\n",
       "        text-align: right;\n",
       "    }\n",
       "</style>\n",
       "<table border=\"1\" class=\"dataframe\">\n",
       "  <thead>\n",
       "    <tr style=\"text-align: right;\">\n",
       "      <th></th>\n",
       "      <th>Article ID</th>\n",
       "      <th>cleaned_name</th>\n",
       "      <th>speaker_group</th>\n",
       "      <th>forest_pred</th>\n",
       "      <th>speaker_context</th>\n",
       "    </tr>\n",
       "  </thead>\n",
       "  <tbody>\n",
       "    <tr>\n",
       "      <th>9009</th>\n",
       "      <td>5188928</td>\n",
       "      <td>Annika Thunborg</td>\n",
       "      <td>Experts</td>\n",
       "      <td>[Foreign Government]</td>\n",
       "      <td>late stage,\" ctbto spokeswoman</td>\n",
       "    </tr>\n",
       "    <tr>\n",
       "      <th>125614</th>\n",
       "      <td>3941946</td>\n",
       "      <td>Jung H. Pak (Brookings)</td>\n",
       "      <td>Experts</td>\n",
       "      <td>[Foreign Government]</td>\n",
       "      <td># NO CONTEXT FOUND #</td>\n",
       "    </tr>\n",
       "    <tr>\n",
       "      <th>163861</th>\n",
       "      <td>5199481</td>\n",
       "      <td>Herman Nackaerts</td>\n",
       "      <td>Experts</td>\n",
       "      <td>[Foreign Government]</td>\n",
       "      <td>announcement from mission leader</td>\n",
       "    </tr>\n",
       "    <tr>\n",
       "      <th>9285</th>\n",
       "      <td>5191002</td>\n",
       "      <td>Hamid Reza Taraghi</td>\n",
       "      <td>Experts</td>\n",
       "      <td>[Foreign Government]</td>\n",
       "      <td>for us,\"  said hamidreza</td>\n",
       "    </tr>\n",
       "    <tr>\n",
       "      <th>51768</th>\n",
       "      <td>5193707</td>\n",
       "      <td>Michelle Cann</td>\n",
       "      <td>Experts</td>\n",
       "      <td>[Foreign Government]</td>\n",
       "      <td>michelle</td>\n",
       "    </tr>\n",
       "  </tbody>\n",
       "</table>\n",
       "</div>\n",
       "      <button class=\"colab-df-convert\" onclick=\"convertToInteractive('df-d0ac4446-79b2-4d47-9448-ceca5b0b7ba9')\"\n",
       "              title=\"Convert this dataframe to an interactive table.\"\n",
       "              style=\"display:none;\">\n",
       "        \n",
       "  <svg xmlns=\"http://www.w3.org/2000/svg\" height=\"24px\"viewBox=\"0 0 24 24\"\n",
       "       width=\"24px\">\n",
       "    <path d=\"M0 0h24v24H0V0z\" fill=\"none\"/>\n",
       "    <path d=\"M18.56 5.44l.94 2.06.94-2.06 2.06-.94-2.06-.94-.94-2.06-.94 2.06-2.06.94zm-11 1L8.5 8.5l.94-2.06 2.06-.94-2.06-.94L8.5 2.5l-.94 2.06-2.06.94zm10 10l.94 2.06.94-2.06 2.06-.94-2.06-.94-.94-2.06-.94 2.06-2.06.94z\"/><path d=\"M17.41 7.96l-1.37-1.37c-.4-.4-.92-.59-1.43-.59-.52 0-1.04.2-1.43.59L10.3 9.45l-7.72 7.72c-.78.78-.78 2.05 0 2.83L4 21.41c.39.39.9.59 1.41.59.51 0 1.02-.2 1.41-.59l7.78-7.78 2.81-2.81c.8-.78.8-2.07 0-2.86zM5.41 20L4 18.59l7.72-7.72 1.47 1.35L5.41 20z\"/>\n",
       "  </svg>\n",
       "      </button>\n",
       "      \n",
       "  <style>\n",
       "    .colab-df-container {\n",
       "      display:flex;\n",
       "      flex-wrap:wrap;\n",
       "      gap: 12px;\n",
       "    }\n",
       "\n",
       "    .colab-df-convert {\n",
       "      background-color: #E8F0FE;\n",
       "      border: none;\n",
       "      border-radius: 50%;\n",
       "      cursor: pointer;\n",
       "      display: none;\n",
       "      fill: #1967D2;\n",
       "      height: 32px;\n",
       "      padding: 0 0 0 0;\n",
       "      width: 32px;\n",
       "    }\n",
       "\n",
       "    .colab-df-convert:hover {\n",
       "      background-color: #E2EBFA;\n",
       "      box-shadow: 0px 1px 2px rgba(60, 64, 67, 0.3), 0px 1px 3px 1px rgba(60, 64, 67, 0.15);\n",
       "      fill: #174EA6;\n",
       "    }\n",
       "\n",
       "    [theme=dark] .colab-df-convert {\n",
       "      background-color: #3B4455;\n",
       "      fill: #D2E3FC;\n",
       "    }\n",
       "\n",
       "    [theme=dark] .colab-df-convert:hover {\n",
       "      background-color: #434B5C;\n",
       "      box-shadow: 0px 1px 3px 1px rgba(0, 0, 0, 0.15);\n",
       "      filter: drop-shadow(0px 1px 2px rgba(0, 0, 0, 0.3));\n",
       "      fill: #FFFFFF;\n",
       "    }\n",
       "  </style>\n",
       "\n",
       "      <script>\n",
       "        const buttonEl =\n",
       "          document.querySelector('#df-d0ac4446-79b2-4d47-9448-ceca5b0b7ba9 button.colab-df-convert');\n",
       "        buttonEl.style.display =\n",
       "          google.colab.kernel.accessAllowed ? 'block' : 'none';\n",
       "\n",
       "        async function convertToInteractive(key) {\n",
       "          const element = document.querySelector('#df-d0ac4446-79b2-4d47-9448-ceca5b0b7ba9');\n",
       "          const dataTable =\n",
       "            await google.colab.kernel.invokeFunction('convertToInteractive',\n",
       "                                                     [key], {});\n",
       "          if (!dataTable) return;\n",
       "\n",
       "          const docLinkHtml = 'Like what you see? Visit the ' +\n",
       "            '<a target=\"_blank\" href=https://colab.research.google.com/notebooks/data_table.ipynb>data table notebook</a>'\n",
       "            + ' to learn more about interactive tables.';\n",
       "          element.innerHTML = '';\n",
       "          dataTable['output_type'] = 'display_data';\n",
       "          await google.colab.output.renderOutput(dataTable, element);\n",
       "          const docLink = document.createElement('div');\n",
       "          docLink.innerHTML = docLinkHtml;\n",
       "          element.appendChild(docLink);\n",
       "        }\n",
       "      </script>\n",
       "    </div>\n",
       "  </div>\n",
       "  "
      ],
      "text/plain": [
       "        Article ID             cleaned_name speaker_group  \\\n",
       "9009       5188928          Annika Thunborg       Experts   \n",
       "125614     3941946  Jung H. Pak (Brookings)       Experts   \n",
       "163861     5199481         Herman Nackaerts       Experts   \n",
       "9285       5191002       Hamid Reza Taraghi       Experts   \n",
       "51768      5193707            Michelle Cann       Experts   \n",
       "\n",
       "                 forest_pred                    speaker_context  \n",
       "9009    [Foreign Government]    late stage,\" ctbto spokeswoman   \n",
       "125614  [Foreign Government]               # NO CONTEXT FOUND #  \n",
       "163861  [Foreign Government]  announcement from mission leader   \n",
       "9285    [Foreign Government]          for us,\"  said hamidreza   \n",
       "51768   [Foreign Government]                          michelle   "
      ]
     },
     "execution_count": 143,
     "metadata": {},
     "output_type": "execute_result"
    }
   ],
   "source": [
    "# test of the error analysis function: find instances where the model predicted\n",
    "# foreign govnernment when it should have predicted experts.\n",
    "# Let's look at the context strings in each of these mismatches to see why\n",
    "error_analysis_where(actual=\"Experts\",predicted=\"Foreign Government\",df=sample_sample_qte_data).head()"
   ]
  },
  {
   "cell_type": "markdown",
   "metadata": {
    "id": "oIlM5m7Zenpb"
   },
   "source": [
    "# Feature Evaluation"
   ]
  },
  {
   "cell_type": "markdown",
   "metadata": {
    "id": "cTZLiDEveppE"
   },
   "source": [
    "Want: to see how much a difference each feature makes on the classifier's final decision, particularly the random forest since it has the highest accuracy on average."
   ]
  },
  {
   "cell_type": "code",
   "execution_count": 150,
   "metadata": {
    "id": "UfT1ESu0fK6o"
   },
   "outputs": [],
   "source": [
    "# handling for special indicator\n",
    "if 'foreign_title_tag' not in indicator_patterns:\n",
    "  indicator_patterns.append('foreign_title_tag')"
   ]
  },
  {
   "cell_type": "code",
   "execution_count": 148,
   "metadata": {
    "colab": {
     "base_uri": "https://localhost:8080/",
     "height": 1000
    },
    "id": "ZQr6emsUdq1y",
    "outputId": "5dd5ed60-a9c9-4095-c6b5-29101b6b60de"
   },
   "outputs": [
    {
     "data": {
      "text/plain": [
       "Text(0.5, 0, 'Mean decrease in impurity')"
      ]
     },
     "execution_count": 148,
     "metadata": {},
     "output_type": "execute_result"
    },
    {
     "data": {
      "image/png": "[encoded data removed]",
      "text/plain": [
       "<Figure size 756x2916 with 1 Axes>"
      ]
     },
     "metadata": {
      "needs_background": "light"
     },
     "output_type": "display_data"
    }
   ],
   "source": [
    "# get feature importances from the randforest classifier\n",
    "importances = randforest_clf.feature_importances_\n",
    "std = np.std([randforest_clf.feature_importances_ for tree in randforest_clf.estimators_], axis=0)\n",
    "\n",
    "# modify the index to make sense\n",
    "temp = indicator_patterns.copy()\n",
    "idx = temp.index(\"biden|trump|obama|bush|clinton|reagan\")\n",
    "temp[idx] = \"us_president_name\"\n",
    "idx = temp.index(\"putin|kim jong un|netanyahu|ayatollah|moon jae in\")\n",
    "temp[idx] = \"common_foreign_leader\"\n",
    "idx = temp.index(\"msnbc|cnn|fox\")\n",
    "temp[idx] = \"news_outlet_name\"\n",
    "\n",
    "# plot the result as a horizontal barplot\n",
    "forest_importances = pd.Series(importances,index=temp)\n",
    "forest_importances = forest_importances.iloc[::-1]\n",
    "fig, ax = plt.subplots()\n",
    "fig.set_size_inches(10.5, 40.5)\n",
    "forest_importances.plot.barh(yerr=std,ax=ax)\n",
    "ax.set_title(\"Random Forest Feature importances using MDI\\n (Mean Decrease in Impurity)\\n\",fontsize=18)\n",
    "ax.set_xlabel(\"Mean decrease in impurity\",fontsize=14)"
   ]
  },
  {
   "cell_type": "code",
   "execution_count": null,
   "metadata": {
    "id": "Ucvd1fVne6QK"
   },
   "outputs": [],
   "source": []
  }
 ],
 "metadata": {
  "colab": {
   "collapsed_sections": [],
   "name": "speaker_classifiers_v1.ipynb",
   "provenance": []
  },
  "kernelspec": {
   "display_name": "Python 3 (ipykernel)",
   "language": "python",
   "name": "python3"
  },
  "language_info": {
   "codemirror_mode": {
    "name": "ipython",
    "version": 3
   },
   "file_extension": ".py",
   "mimetype": "text/x-python",
   "name": "python",
   "nbconvert_exporter": "python",
   "pygments_lexer": "ipython3",
   "version": "3.10.4"
  }
 },
 "nbformat": 4,
 "nbformat_minor": 4
}
