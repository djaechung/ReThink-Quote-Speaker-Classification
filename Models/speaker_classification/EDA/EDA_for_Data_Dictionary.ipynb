{
 "cells": [
  {
   "cell_type": "code",
   "execution_count": 1,
   "id": "d6945605",
   "metadata": {},
   "outputs": [],
   "source": [
    "import pandas as pd\n",
    "import numpy as np"
   ]
  },
  {
   "cell_type": "markdown",
   "id": "17170be4",
   "metadata": {},
   "source": [
    "## EDA for Data Dictionary\n",
    "### Sunya Abbasi 09/25"
   ]
  },
  {
   "cell_type": "code",
   "execution_count": 5,
   "id": "af84b700",
   "metadata": {},
   "outputs": [
    {
     "name": "stderr",
     "output_type": "stream",
     "text": [
      "/var/folders/_p/kkyy31fn0kj_gp3_9lhdmkb40000gn/T/ipykernel_84961/4097222810.py:2: DtypeWarning: Columns (9,10,24) have mixed types. Specify dtype option on import or set low_memory=False.\n",
      "  df = pd.read_csv(\"GNI88_cleaned_data.csv\")\n"
     ]
    },
    {
     "data": {
      "text/plain": [
       "Index(['artdate', 'Article ID', 'Headline', 'Quote ID', 'Article Status',\n",
       "       'Article Position', 'Messages', 'Submessages', 'Quote Position',\n",
       "       'Legacy Quote Tag', 'On/Off Message', 'QText', 'Source Name',\n",
       "       'Source Type', 'Source Party Affiliation', 'Source Ethnicity',\n",
       "       'Source Nationality', 'Source Gender', 'Source Religion',\n",
       "       'Legacy Source Tag', 'Constituent Group', 'Media Name', 'Media Medium',\n",
       "       'Journalist Name', 'Constituent Author', 'Article Issues',\n",
       "       'Custom Group', 'Media Group', 'fulltext', 'source_name_cleaned'],\n",
       "      dtype='object')"
      ]
     },
     "execution_count": 5,
     "metadata": {},
     "output_type": "execute_result"
    }
   ],
   "source": [
    "#reading in csv file\n",
    "df = pd.read_csv(\"GNI88_cleaned_data.csv\")\n",
    "df.columns"
   ]
  },
  {
   "cell_type": "code",
   "execution_count": null,
   "id": "15755ffb",
   "metadata": {},
   "outputs": [],
   "source": [
    "small_df = df.iloc[0:, 19:]"
   ]
  },
  {
   "cell_type": "code",
   "execution_count": null,
   "id": "8180b12f",
   "metadata": {},
   "outputs": [],
   "source": [
    "small_df.head()"
   ]
  },
  {
   "cell_type": "markdown",
   "id": "cf72e3f5",
   "metadata": {},
   "source": [
    "In the following cells, I will look at all of the unique values in each column, their counts, and their value types. "
   ]
  },
  {
   "cell_type": "markdown",
   "id": "ce761712",
   "metadata": {},
   "source": [
    "### Legacy Source Tag"
   ]
  },
  {
   "cell_type": "code",
   "execution_count": 6,
   "id": "1b854d25",
   "metadata": {},
   "outputs": [
    {
     "data": {
      "text/plain": [
       "Unknown                             332502\n",
       "Iran Project Experts                 11874\n",
       "GOP Presidential Candidate/Staff      3698\n",
       "Name: Legacy Source Tag, dtype: int64"
      ]
     },
     "execution_count": 6,
     "metadata": {},
     "output_type": "execute_result"
    }
   ],
   "source": [
    "df[\"Legacy Source Tag\"].value_counts()"
   ]
  },
  {
   "cell_type": "code",
   "execution_count": 7,
   "id": "cff4ce3e",
   "metadata": {},
   "outputs": [
    {
     "data": {
      "text/plain": [
       "<class 'str'>      348074\n",
       "<class 'float'>     60130\n",
       "Name: Legacy Source Tag, dtype: int64"
      ]
     },
     "execution_count": 7,
     "metadata": {},
     "output_type": "execute_result"
    }
   ],
   "source": [
    "df[\"Legacy Source Tag\"].apply(type).value_counts()"
   ]
  },
  {
   "cell_type": "code",
   "execution_count": null,
   "id": "ef079ddc",
   "metadata": {},
   "outputs": [],
   "source": [
    "### Constituent Group"
   ]
  },
  {
   "cell_type": "code",
   "execution_count": 8,
   "id": "e11937d7",
   "metadata": {},
   "outputs": [
    {
     "data": {
      "text/plain": [
       "None (Legacy Other)                                      325964\n",
       "Brookings Institute                                        2200\n",
       "Middlebury Institute at Monterey/ James Martin Center      1795\n",
       "Arms Control Association                                   1782\n",
       "Center for Strategic and International Studies             1493\n",
       "                                                          ...  \n",
       "Utah Campaign Against Nuclear Weapons                         1\n",
       "American Friends Service Committee                            1\n",
       "Rockefeller Brothers Fund                                     1\n",
       "Taxpayers for Common Sense                                    1\n",
       "the Norwegian Radiation Safety Authority.                     1\n",
       "Name: Constituent Group, Length: 117, dtype: int64"
      ]
     },
     "execution_count": 8,
     "metadata": {},
     "output_type": "execute_result"
    }
   ],
   "source": [
    "df[\"Constituent Group\"].value_counts()"
   ]
  },
  {
   "cell_type": "code",
   "execution_count": 9,
   "id": "b77e868b",
   "metadata": {},
   "outputs": [
    {
     "data": {
      "text/plain": [
       "<class 'str'>      351073\n",
       "<class 'float'>     57131\n",
       "Name: Constituent Group, dtype: int64"
      ]
     },
     "execution_count": 9,
     "metadata": {},
     "output_type": "execute_result"
    }
   ],
   "source": [
    "df[\"Constituent Group\"].apply(type).value_counts()"
   ]
  },
  {
   "cell_type": "markdown",
   "id": "e314794d",
   "metadata": {},
   "source": [
    "### Media Name"
   ]
  },
  {
   "cell_type": "code",
   "execution_count": 11,
   "id": "ffbf9c95",
   "metadata": {},
   "outputs": [
    {
     "data": {
      "text/plain": [
       "Reuters News           71066\n",
       "AP News                41492\n",
       "The New York Times     30563\n",
       "CNN                    24089\n",
       "Washington Post        22431\n",
       "                       ...  \n",
       "Idaho State Journal        1\n",
       "Fuelfix                    1\n",
       "Space News                 1\n",
       "Al Jazeeera                1\n",
       "Bustle                     1\n",
       "Name: Media Name, Length: 284, dtype: int64"
      ]
     },
     "execution_count": 11,
     "metadata": {},
     "output_type": "execute_result"
    }
   ],
   "source": [
    "df[ 'Media Name'].value_counts()"
   ]
  },
  {
   "cell_type": "code",
   "execution_count": 12,
   "id": "39a22b89",
   "metadata": {},
   "outputs": [
    {
     "data": {
      "text/plain": [
       "<class 'str'>    408204\n",
       "Name: Media Name, dtype: int64"
      ]
     },
     "execution_count": 12,
     "metadata": {},
     "output_type": "execute_result"
    }
   ],
   "source": [
    "df[\"Media Name\"].apply(type).value_counts()"
   ]
  },
  {
   "cell_type": "markdown",
   "id": "8ace8c08",
   "metadata": {},
   "source": [
    "### Media Medium"
   ]
  },
  {
   "cell_type": "code",
   "execution_count": 14,
   "id": "0ef690c9",
   "metadata": {},
   "outputs": [
    {
     "data": {
      "text/plain": [
       "Print    67790\n",
       "Blogs     6446\n",
       "TV         762\n",
       "Other       10\n",
       "Name: Media Medium, dtype: int64"
      ]
     },
     "execution_count": 14,
     "metadata": {},
     "output_type": "execute_result"
    }
   ],
   "source": [
    "df[\"Media Medium\"].value_counts()"
   ]
  },
  {
   "cell_type": "code",
   "execution_count": 15,
   "id": "73aa672a",
   "metadata": {},
   "outputs": [
    {
     "data": {
      "text/plain": [
       "<class 'float'>    333196\n",
       "<class 'str'>       75008\n",
       "Name: Media Medium, dtype: int64"
      ]
     },
     "execution_count": 15,
     "metadata": {},
     "output_type": "execute_result"
    }
   ],
   "source": [
    "df[\"Media Medium\"].apply(type).value_counts()"
   ]
  },
  {
   "cell_type": "markdown",
   "id": "1b7c9b32",
   "metadata": {},
   "source": [
    "### Journalist Name"
   ]
  },
  {
   "cell_type": "code",
   "execution_count": 16,
   "id": "198e9514",
   "metadata": {},
   "outputs": [
    {
     "data": {
      "text/plain": [
       "No By-Line,                        70973\n",
       "Dahl, Fredrik                       5740\n",
       "Richter, Paul                       3458\n",
       "Jahn, George                        2949\n",
       "Sanger, David                       2884\n",
       "                                   ...  \n",
       "Chris Strohm                           1\n",
       "STAFF PAUL SCHARRE KELLY CLANCY        1\n",
       "By Kate Conger                         1\n",
       "Paul R. Ignatius                       1\n",
       "Cobb, Jelani                           1\n",
       "Name: Journalist Name, Length: 12711, dtype: int64"
      ]
     },
     "execution_count": 16,
     "metadata": {},
     "output_type": "execute_result"
    }
   ],
   "source": [
    "df['Journalist Name'].value_counts()"
   ]
  },
  {
   "cell_type": "code",
   "execution_count": 17,
   "id": "6b6e304e",
   "metadata": {},
   "outputs": [
    {
     "data": {
      "text/plain": [
       "<class 'str'>      397695\n",
       "<class 'float'>     10509\n",
       "Name: Journalist Name, dtype: int64"
      ]
     },
     "execution_count": 17,
     "metadata": {},
     "output_type": "execute_result"
    }
   ],
   "source": [
    "df['Journalist Name'].apply(type).value_counts()"
   ]
  },
  {
   "cell_type": "markdown",
   "id": "b609aca1",
   "metadata": {},
   "source": [
    "### Constituent Author"
   ]
  },
  {
   "cell_type": "code",
   "execution_count": 19,
   "id": "0b46600b",
   "metadata": {},
   "outputs": [
    {
     "data": {
      "text/plain": [
       "Constituent Author    1446\n",
       "Name: Constituent Author, dtype: int64"
      ]
     },
     "execution_count": 19,
     "metadata": {},
     "output_type": "execute_result"
    }
   ],
   "source": [
    "df['Constituent Author'].value_counts()"
   ]
  },
  {
   "cell_type": "code",
   "execution_count": 20,
   "id": "a226b343",
   "metadata": {},
   "outputs": [
    {
     "data": {
      "text/plain": [
       "<class 'float'>    406758\n",
       "<class 'str'>        1446\n",
       "Name: Constituent Author, dtype: int64"
      ]
     },
     "execution_count": 20,
     "metadata": {},
     "output_type": "execute_result"
    }
   ],
   "source": [
    "df['Constituent Author'].apply(type).value_counts()"
   ]
  },
  {
   "cell_type": "markdown",
   "id": "9210ae5e",
   "metadata": {},
   "source": [
    "### Article Issues"
   ]
  },
  {
   "cell_type": "code",
   "execution_count": 22,
   "id": "98fc468a",
   "metadata": {},
   "outputs": [
    {
     "data": {
      "text/plain": [
       "Iran                                                             54015\n",
       "Proliferation                                                     8258\n",
       "Arms Reduction                                                    3394\n",
       "Iran, Proliferation                                               3046\n",
       "Iran, Politics                                                    2984\n",
       "                                                                 ...  \n",
       "Relevant Article, Iran, Missile Defense                              1\n",
       "Argentina                                                            1\n",
       "Relevant Article, Missile Defense, North Korea, Proliferation        1\n",
       "Missile Defense, North Korea                                         1\n",
       "Proliferation, Iran, Arms Reduction                                  1\n",
       "Name: Article Issues, Length: 231, dtype: int64"
      ]
     },
     "execution_count": 22,
     "metadata": {},
     "output_type": "execute_result"
    }
   ],
   "source": [
    "df['Article Issues'].value_counts()"
   ]
  },
  {
   "cell_type": "code",
   "execution_count": 23,
   "id": "611399c8",
   "metadata": {},
   "outputs": [
    {
     "data": {
      "text/plain": [
       "<class 'float'>    318321\n",
       "<class 'str'>       89883\n",
       "Name: Article Issues, dtype: int64"
      ]
     },
     "execution_count": 23,
     "metadata": {},
     "output_type": "execute_result"
    }
   ],
   "source": [
    "df['Article Issues'].apply(type).value_counts()"
   ]
  },
  {
   "cell_type": "markdown",
   "id": "e7723b62",
   "metadata": {},
   "source": [
    "### Custom Group"
   ]
  },
  {
   "cell_type": "code",
   "execution_count": 24,
   "id": "56fa441d",
   "metadata": {},
   "outputs": [
    {
     "data": {
      "text/plain": [
       "Op-Ed                  16617\n",
       "Iran                   15379\n",
       "Commentary             14550\n",
       "North Korea            10654\n",
       "Editorial               6564\n",
       "                       ...  \n",
       "Republic of Belarus        1\n",
       "Africa                     1\n",
       "Guinea                     1\n",
       "Yemen                      1\n",
       "Greece                     1\n",
       "Name: Custom Group, Length: 64, dtype: int64"
      ]
     },
     "execution_count": 24,
     "metadata": {},
     "output_type": "execute_result"
    }
   ],
   "source": [
    "df['Custom Group'].value_counts()"
   ]
  },
  {
   "cell_type": "code",
   "execution_count": 25,
   "id": "e51264cf",
   "metadata": {},
   "outputs": [
    {
     "data": {
      "text/plain": [
       "<class 'float'>    311756\n",
       "<class 'str'>       96448\n",
       "Name: Custom Group, dtype: int64"
      ]
     },
     "execution_count": 25,
     "metadata": {},
     "output_type": "execute_result"
    }
   ],
   "source": [
    "df['Custom Group'].apply(type).value_counts()"
   ]
  },
  {
   "cell_type": "markdown",
   "id": "9e855b7c",
   "metadata": {},
   "source": [
    "### Media Group"
   ]
  },
  {
   "cell_type": "code",
   "execution_count": 26,
   "id": "e058cef7",
   "metadata": {},
   "outputs": [
    {
     "data": {
      "text/plain": [
       "Capitol Hill Media    45516\n",
       "Beltway               17975\n",
       "Name: Media Group, dtype: int64"
      ]
     },
     "execution_count": 26,
     "metadata": {},
     "output_type": "execute_result"
    }
   ],
   "source": [
    "df['Media Group'].value_counts()"
   ]
  },
  {
   "cell_type": "code",
   "execution_count": 27,
   "id": "c6694b3d",
   "metadata": {},
   "outputs": [
    {
     "data": {
      "text/plain": [
       "<class 'float'>    344713\n",
       "<class 'str'>       63491\n",
       "Name: Media Group, dtype: int64"
      ]
     },
     "execution_count": 27,
     "metadata": {},
     "output_type": "execute_result"
    }
   ],
   "source": [
    "df['Media Group'].apply(type).value_counts()"
   ]
  },
  {
   "cell_type": "markdown",
   "id": "dbf7c823",
   "metadata": {},
   "source": [
    "### fulltext"
   ]
  },
  {
   "cell_type": "code",
   "execution_count": 28,
   "id": "b1c7a9b9",
   "metadata": {},
   "outputs": [
    {
     "data": {
      "text/plain": [
       "<class 'str'>      404341\n",
       "<class 'float'>      3863\n",
       "Name: fulltext, dtype: int64"
      ]
     },
     "execution_count": 28,
     "metadata": {},
     "output_type": "execute_result"
    }
   ],
   "source": [
    "df['fulltext'].apply(type).value_counts()"
   ]
  },
  {
   "cell_type": "code",
   "execution_count": 29,
   "id": "be5ab662",
   "metadata": {},
   "outputs": [
    {
     "data": {
      "text/plain": [
       "3863"
      ]
     },
     "execution_count": 29,
     "metadata": {},
     "output_type": "execute_result"
    }
   ],
   "source": [
    "df['fulltext'].isna().sum()"
   ]
  },
  {
   "cell_type": "markdown",
   "id": "d2027872",
   "metadata": {},
   "source": [
    "### source_name_cleaned"
   ]
  },
  {
   "cell_type": "code",
   "execution_count": 31,
   "id": "9fdcfd8a",
   "metadata": {},
   "outputs": [
    {
     "data": {
      "text/plain": [
       "Donald Trump                          15249\n",
       "Unnamed Obama White House Official     9696\n",
       "Barack Obama                           9593\n",
       "Unnamed Analyst/Expert                 8597\n",
       "Benjamin Netanyahu                     5977\n",
       "                                      ...  \n",
       "Randolph Bourne                           1\n",
       "Dean Obeidallah                           1\n",
       "Drew Hammill                              1\n",
       "Carlie Waibel                             1\n",
       "Steve Bell                                1\n",
       "Name: source_name_cleaned, Length: 16806, dtype: int64"
      ]
     },
     "execution_count": 31,
     "metadata": {},
     "output_type": "execute_result"
    }
   ],
   "source": [
    "df['source_name_cleaned'].value_counts()"
   ]
  },
  {
   "cell_type": "code",
   "execution_count": null,
   "id": "da4a17b4",
   "metadata": {},
   "outputs": [],
   "source": []
  }
 ],
 "metadata": {
  "kernelspec": {
   "display_name": "Python 3 (ipykernel)",
   "language": "python",
   "name": "python3"
  },
  "language_info": {
   "codemirror_mode": {
    "name": "ipython",
    "version": 3
   },
   "file_extension": ".py",
   "mimetype": "text/x-python",
   "name": "python",
   "nbconvert_exporter": "python",
   "pygments_lexer": "ipython3",
   "version": "3.9.12"
  }
 },
 "nbformat": 4,
 "nbformat_minor": 5
}
