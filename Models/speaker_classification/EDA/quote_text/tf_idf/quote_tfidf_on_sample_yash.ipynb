{
 "cells": [
  {
   "cell_type": "code",
   "execution_count": 1,
   "metadata": {},
   "outputs": [],
   "source": [
    "import numpy as np\n",
    "import pandas as pd\n",
    "import json\n",
    "import csv\n",
    "import regex as re\n",
    "import seaborn as sns\n",
    "import os"
   ]
  },
  {
   "cell_type": "code",
   "execution_count": 2,
   "metadata": {},
   "outputs": [],
   "source": [
    "# Setting directory structure\n",
    "root_dir = 'C:\\\\Users\\\\yashd\\\\Desktop\\\\rethink-media\\\\quote-classification\\\\'\n",
    "data_dir = 'Data\\\\cleaned_data\\\\'"
   ]
  },
  {
   "cell_type": "code",
   "execution_count": 3,
   "metadata": {},
   "outputs": [],
   "source": [
    "# Importing cleaned sample data for EDA\n",
    "os.chdir(root_dir)\n",
    "GNI88_df = pd.read_csv(root_dir + data_dir + 'GNI88_cleaned_sample.csv')"
   ]
  },
  {
   "cell_type": "code",
   "execution_count": 4,
   "metadata": {},
   "outputs": [],
   "source": [
    "# lookup dictionary which can convert a speaker type to its classification group in constant time\n",
    "source_to_group = {'Foreign Gov/Mil Official': \"Foreign Government\",\n",
    "                   'Military': \"Foreign Government\", #added in manually\n",
    "                   'EU Official' : \"Foreign Government\", #added in manually\n",
    "                   'Former Russian Official' : \"Foreign Government\", #added in manually\n",
    "                   'South Korean Official' : \"Foreign Government\", #added in manually\n",
    "                   'Media/Journalist': \"External Commentator\",\n",
    "                   'Analyst/Commentator': \"External Commentator\",\n",
    "                   'Citizen': \"External Commentator\",\n",
    "                   'Blogger': \"External Commentator\",\n",
    "                   'Public Polling': \"External Commentator\",\n",
    "                   'Partisans/Fmr. Politicians': \"External Commentator\",\n",
    "                   'Nuke Organization': \"Organization\",\n",
    "                   'International Orgs': \"International\",\n",
    "                   'Non-Profit/NGO': \"Organization\",\n",
    "                   'Think Tanks': \"Organization\",\n",
    "                   'Nuke Organization - Other': \"Organization\",\n",
    "                   'US Rep. & Staff': \"US Congress\",\n",
    "                   'US Senate & Staff': \"US Congress\",\n",
    "                   'Federal Official': \"US Federal Officials\",\n",
    "                   'State/Local Official': \"US Federal Officials\",\n",
    "                   'Judicial Official': \"US Federal Officials\", \n",
    "                   'Former Admin. Officials': \"US Federal Officials\", \n",
    "                   'Regulator': \"International\",\n",
    "                   'US Military': \"US Defense\",\n",
    "                   'Defense Forces': \"US Defense\",\n",
    "                   'Defense': \"US Defense\",\n",
    "                   'US Police': \"US Defense\",\n",
    "                   'Deputy': \"US Defense\",\n",
    "                   'Academic': \"Academic\",\n",
    "                   'Nuke Organization - Academic': \"Organization\",\n",
    "                   'Nuclear Scientist': \"Academic\",\n",
    "                   'Other': \"Other\",\n",
    "                   'Chairman': \"Other\",\n",
    "                   'Terrorist/Extremist': \"Other\",\n",
    "                   'Corporate Official': \"Other\",\n",
    "                   'Information minister': \"Other\",\n",
    "                   'Religious/Clerical': \"Other\",\n",
    "                   'Attorney': \"Other\", \n",
    "                   'Ambassador': \"Other\",\n",
    "                   'Former Ambassador' : \"Other\",\n",
    "                   'Nuclear Official': \"Other\",\n",
    "                   'Activist' : \"Other\" #added in manually\n",
    "                  }"
   ]
  },
  {
   "cell_type": "code",
   "execution_count": 5,
   "metadata": {},
   "outputs": [],
   "source": [
    "# credit: Daniel\n",
    "def assign_source_to_group(source_type):\n",
    "  \"\"\"Inputs:\n",
    "     - source_type: str, source type from quote datafame\n",
    "     Outputs:\n",
    "     - str of the bigger speaker category to which source_type belongs\"\"\"\n",
    "  if type(source_type) != str:\n",
    "    return \"Other\"\n",
    "  else:\n",
    "    return source_to_group[source_type]"
   ]
  },
  {
   "cell_type": "code",
   "execution_count": 6,
   "metadata": {},
   "outputs": [],
   "source": [
    "# credit: Tiffany\n",
    "GNI88_df[\"Speaker Group\"] = GNI88_df.apply(lambda row: assign_source_to_group(row[\"Source Type\"]),axis=1)"
   ]
  },
  {
   "cell_type": "code",
   "execution_count": 7,
   "metadata": {},
   "outputs": [
    {
     "data": {
      "text/plain": [
       "US Federal Officials    488\n",
       "Foreign Government      487\n",
       "External Commentator    431\n",
       "Organization            188\n",
       "US Congress             175\n",
       "Other                    81\n",
       "International            61\n",
       "Academic                 47\n",
       "US Defense               42\n",
       "Name: Speaker Group, dtype: int64"
      ]
     },
     "execution_count": 7,
     "metadata": {},
     "output_type": "execute_result"
    }
   ],
   "source": [
    "GNI88_df['Speaker Group'].value_counts()"
   ]
  },
  {
   "cell_type": "code",
   "execution_count": 8,
   "metadata": {},
   "outputs": [
    {
     "name": "stdout",
     "output_type": "stream",
     "text": [
      "Wall time: 360 ms\n"
     ]
    }
   ],
   "source": [
    "%%time\n",
    "# Credit: https://github.com/dlab-berkeley/Python-Text-Analysis-Fundamentals/blob/main/day-2/02-unsupervised-solutions.ipynb\n",
    "from sklearn.feature_extraction.text import TfidfVectorizer\n",
    "\n",
    "tfidfvec = TfidfVectorizer()\n",
    "sparse_tfidf = tfidfvec.fit_transform(GNI88_df['QText'])"
   ]
  },
  {
   "cell_type": "code",
   "execution_count": 9,
   "metadata": {},
   "outputs": [
    {
     "data": {
      "text/html": [
       "<div>\n",
       "<style scoped>\n",
       "    .dataframe tbody tr th:only-of-type {\n",
       "        vertical-align: middle;\n",
       "    }\n",
       "\n",
       "    .dataframe tbody tr th {\n",
       "        vertical-align: top;\n",
       "    }\n",
       "\n",
       "    .dataframe thead th {\n",
       "        text-align: right;\n",
       "    }\n",
       "</style>\n",
       "<table border=\"1\" class=\"dataframe\">\n",
       "  <thead>\n",
       "    <tr style=\"text-align: right;\">\n",
       "      <th></th>\n",
       "      <th>000</th>\n",
       "      <th>01</th>\n",
       "      <th>06</th>\n",
       "      <th>08</th>\n",
       "      <th>10</th>\n",
       "      <th>100</th>\n",
       "      <th>11</th>\n",
       "      <th>117</th>\n",
       "      <th>12</th>\n",
       "      <th>1251</th>\n",
       "      <th>...</th>\n",
       "      <th>zarif</th>\n",
       "      <th>zebari</th>\n",
       "      <th>zero</th>\n",
       "      <th>zeroed</th>\n",
       "      <th>zhao</th>\n",
       "      <th>zimbabwe</th>\n",
       "      <th>zionist</th>\n",
       "      <th>zone</th>\n",
       "      <th>½very</th>\n",
       "      <th>Speaker Group</th>\n",
       "    </tr>\n",
       "  </thead>\n",
       "  <tbody>\n",
       "    <tr>\n",
       "      <th>0</th>\n",
       "      <td>0.0</td>\n",
       "      <td>0.0</td>\n",
       "      <td>0.0</td>\n",
       "      <td>0.0</td>\n",
       "      <td>0.0</td>\n",
       "      <td>0.0</td>\n",
       "      <td>0.0</td>\n",
       "      <td>0.0</td>\n",
       "      <td>0.0</td>\n",
       "      <td>0.0</td>\n",
       "      <td>...</td>\n",
       "      <td>0.0</td>\n",
       "      <td>0.0</td>\n",
       "      <td>0.0</td>\n",
       "      <td>0.0</td>\n",
       "      <td>0.0</td>\n",
       "      <td>0.0</td>\n",
       "      <td>0.0</td>\n",
       "      <td>0.0</td>\n",
       "      <td>0.0</td>\n",
       "      <td>US Federal Officials</td>\n",
       "    </tr>\n",
       "    <tr>\n",
       "      <th>1</th>\n",
       "      <td>0.0</td>\n",
       "      <td>0.0</td>\n",
       "      <td>0.0</td>\n",
       "      <td>0.0</td>\n",
       "      <td>0.0</td>\n",
       "      <td>0.0</td>\n",
       "      <td>0.0</td>\n",
       "      <td>0.0</td>\n",
       "      <td>0.0</td>\n",
       "      <td>0.0</td>\n",
       "      <td>...</td>\n",
       "      <td>0.0</td>\n",
       "      <td>0.0</td>\n",
       "      <td>0.0</td>\n",
       "      <td>0.0</td>\n",
       "      <td>0.0</td>\n",
       "      <td>0.0</td>\n",
       "      <td>0.0</td>\n",
       "      <td>0.0</td>\n",
       "      <td>0.0</td>\n",
       "      <td>Academic</td>\n",
       "    </tr>\n",
       "    <tr>\n",
       "      <th>2</th>\n",
       "      <td>0.0</td>\n",
       "      <td>0.0</td>\n",
       "      <td>0.0</td>\n",
       "      <td>0.0</td>\n",
       "      <td>0.0</td>\n",
       "      <td>0.0</td>\n",
       "      <td>0.0</td>\n",
       "      <td>0.0</td>\n",
       "      <td>0.0</td>\n",
       "      <td>0.0</td>\n",
       "      <td>...</td>\n",
       "      <td>0.0</td>\n",
       "      <td>0.0</td>\n",
       "      <td>0.0</td>\n",
       "      <td>0.0</td>\n",
       "      <td>0.0</td>\n",
       "      <td>0.0</td>\n",
       "      <td>0.0</td>\n",
       "      <td>0.0</td>\n",
       "      <td>0.0</td>\n",
       "      <td>External Commentator</td>\n",
       "    </tr>\n",
       "    <tr>\n",
       "      <th>3</th>\n",
       "      <td>0.0</td>\n",
       "      <td>0.0</td>\n",
       "      <td>0.0</td>\n",
       "      <td>0.0</td>\n",
       "      <td>0.0</td>\n",
       "      <td>0.0</td>\n",
       "      <td>0.0</td>\n",
       "      <td>0.0</td>\n",
       "      <td>0.0</td>\n",
       "      <td>0.0</td>\n",
       "      <td>...</td>\n",
       "      <td>0.0</td>\n",
       "      <td>0.0</td>\n",
       "      <td>0.0</td>\n",
       "      <td>0.0</td>\n",
       "      <td>0.0</td>\n",
       "      <td>0.0</td>\n",
       "      <td>0.0</td>\n",
       "      <td>0.0</td>\n",
       "      <td>0.0</td>\n",
       "      <td>External Commentator</td>\n",
       "    </tr>\n",
       "    <tr>\n",
       "      <th>4</th>\n",
       "      <td>0.0</td>\n",
       "      <td>0.0</td>\n",
       "      <td>0.0</td>\n",
       "      <td>0.0</td>\n",
       "      <td>0.0</td>\n",
       "      <td>0.0</td>\n",
       "      <td>0.0</td>\n",
       "      <td>0.0</td>\n",
       "      <td>0.0</td>\n",
       "      <td>0.0</td>\n",
       "      <td>...</td>\n",
       "      <td>0.0</td>\n",
       "      <td>0.0</td>\n",
       "      <td>0.0</td>\n",
       "      <td>0.0</td>\n",
       "      <td>0.0</td>\n",
       "      <td>0.0</td>\n",
       "      <td>0.0</td>\n",
       "      <td>0.0</td>\n",
       "      <td>0.0</td>\n",
       "      <td>International</td>\n",
       "    </tr>\n",
       "  </tbody>\n",
       "</table>\n",
       "<p>5 rows × 6557 columns</p>\n",
       "</div>"
      ],
      "text/plain": [
       "   000   01   06   08   10  100   11  117   12  1251  ...  zarif  zebari  \\\n",
       "0  0.0  0.0  0.0  0.0  0.0  0.0  0.0  0.0  0.0   0.0  ...    0.0     0.0   \n",
       "1  0.0  0.0  0.0  0.0  0.0  0.0  0.0  0.0  0.0   0.0  ...    0.0     0.0   \n",
       "2  0.0  0.0  0.0  0.0  0.0  0.0  0.0  0.0  0.0   0.0  ...    0.0     0.0   \n",
       "3  0.0  0.0  0.0  0.0  0.0  0.0  0.0  0.0  0.0   0.0  ...    0.0     0.0   \n",
       "4  0.0  0.0  0.0  0.0  0.0  0.0  0.0  0.0  0.0   0.0  ...    0.0     0.0   \n",
       "\n",
       "   zero  zeroed  zhao  zimbabwe  zionist  zone  ½very         Speaker Group  \n",
       "0   0.0     0.0   0.0       0.0      0.0   0.0    0.0  US Federal Officials  \n",
       "1   0.0     0.0   0.0       0.0      0.0   0.0    0.0              Academic  \n",
       "2   0.0     0.0   0.0       0.0      0.0   0.0    0.0  External Commentator  \n",
       "3   0.0     0.0   0.0       0.0      0.0   0.0    0.0  External Commentator  \n",
       "4   0.0     0.0   0.0       0.0      0.0   0.0    0.0         International  \n",
       "\n",
       "[5 rows x 6557 columns]"
      ]
     },
     "execution_count": 9,
     "metadata": {},
     "output_type": "execute_result"
    }
   ],
   "source": [
    "# Credit: https://github.com/dlab-berkeley/Python-Text-Analysis-Fundamentals/blob/main/day-2/02-unsupervised-solutions.ipynb\n",
    "tfidf = pd.DataFrame(sparse_tfidf.toarray(), columns=tfidfvec.get_feature_names_out())\n",
    "tfidf['Speaker Group'] = GNI88_df[\"Speaker Group\"]\n",
    "tfidf.head()"
   ]
  },
  {
   "cell_type": "code",
   "execution_count": 10,
   "metadata": {},
   "outputs": [
    {
     "data": {
      "text/plain": [
       "transparency     1.000000\n",
       "regrettable      0.913663\n",
       "alliance         0.768822\n",
       "anyway           0.704642\n",
       "reporting        0.703620\n",
       "motive           0.678958\n",
       "complies         0.664410\n",
       "paves            0.664309\n",
       "hypersonic       0.663833\n",
       "programme        0.658202\n",
       "suspension       0.653073\n",
       "provoked         0.640745\n",
       "peaceful         0.626072\n",
       "respond          0.613546\n",
       "saw              0.611792\n",
       "immediately      0.610720\n",
       "works            0.596979\n",
       "ere              0.592748\n",
       "icbms            0.585818\n",
       "decision         0.585396\n",
       "dragged          0.585348\n",
       "price            0.583478\n",
       "stupidest        0.583370\n",
       "purposes         0.581497\n",
       "information      0.578012\n",
       "threats          0.576867\n",
       "inviolability    0.576527\n",
       "risks            0.575073\n",
       "expense          0.567936\n",
       "needs            0.566924\n",
       "dtype: float64"
      ]
     },
     "execution_count": 10,
     "metadata": {},
     "output_type": "execute_result"
    }
   ],
   "source": [
    "# Supposed best features within quote text that distinguish foreign government sources\n",
    "foreign_gov = tfidf[tfidf['Speaker Group']==\"Foreign Government\"]\n",
    "tfi_ranked = foreign_gov.max(numeric_only=True).sort_values(ascending=False)\n",
    "tfi_ranked.head(30)"
   ]
  },
  {
   "cell_type": "code",
   "execution_count": 11,
   "metadata": {},
   "outputs": [
    {
     "data": {
      "text/plain": [
       "balanced      1.000000\n",
       "deterrence    0.768585\n",
       "fine          0.729195\n",
       "inquire       0.711468\n",
       "true          0.684469\n",
       "guy           0.610364\n",
       "privately     0.602120\n",
       "your          0.594310\n",
       "too           0.593885\n",
       "me            0.570042\n",
       "men           0.568367\n",
       "rule          0.568328\n",
       "operate       0.566780\n",
       "mistake       0.566407\n",
       "thing         0.556501\n",
       "crap          0.549951\n",
       "seoul         0.549910\n",
       "leaning       0.549647\n",
       "shed          0.545548\n",
       "considered    0.543536\n",
       "nukes         0.540245\n",
       "unclear       0.538810\n",
       "khamenei      0.536783\n",
       "cash          0.535875\n",
       "ruling        0.534533\n",
       "got           0.533740\n",
       "you           0.528882\n",
       "term          0.528480\n",
       "vote          0.526156\n",
       "ought         0.526070\n",
       "dtype: float64"
      ]
     },
     "execution_count": 11,
     "metadata": {},
     "output_type": "execute_result"
    }
   ],
   "source": [
    "# Supposed best features within quote text that distinguish external commentator sources\n",
    "external_commentator = tfidf[tfidf['Speaker Group']==\"External Commentator\"]\n",
    "tfi_ranked = external_commentator.max(numeric_only=True).sort_values(ascending=False)\n",
    "tfi_ranked.head(30)"
   ]
  },
  {
   "cell_type": "code",
   "execution_count": 12,
   "metadata": {},
   "outputs": [
    {
     "data": {
      "text/plain": [
       "senators         0.752786\n",
       "ir               0.702909\n",
       "feet             0.672560\n",
       "capability       0.672142\n",
       "ambitious        0.647604\n",
       "breaker          0.642886\n",
       "findings         0.613641\n",
       "contradictory    0.585584\n",
       "unknowns         0.571284\n",
       "78               0.562934\n",
       "dismantlement    0.553648\n",
       "prominent        0.549619\n",
       "they             0.545887\n",
       "agenda           0.534081\n",
       "billion          0.526825\n",
       "reac             0.520053\n",
       "heard            0.517735\n",
       "look             0.513092\n",
       "76               0.506082\n",
       "unstable         0.501340\n",
       "purpose          0.496696\n",
       "iaea             0.492063\n",
       "think            0.485044\n",
       "strength         0.484053\n",
       "statements       0.482933\n",
       "what             0.479758\n",
       "unannounced      0.479680\n",
       "launchers        0.477703\n",
       "kill             0.474025\n",
       "become           0.473842\n",
       "dtype: float64"
      ]
     },
     "execution_count": 12,
     "metadata": {},
     "output_type": "execute_result"
    }
   ],
   "source": [
    "# Supposed best features within quote text that distinguish organization sources\n",
    "organization = tfidf[tfidf['Speaker Group']==\"Organization\"]\n",
    "tfi_ranked = organization.max(numeric_only=True).sort_values(ascending=False)\n",
    "tfi_ranked.head(30)"
   ]
  },
  {
   "cell_type": "code",
   "execution_count": 14,
   "metadata": {},
   "outputs": [
    {
     "data": {
      "text/plain": [
       "supports        0.777522\n",
       "defend          0.751664\n",
       "accident        0.736171\n",
       "true            0.722789\n",
       "trust           0.652738\n",
       "capitulating    0.623996\n",
       "right           0.611072\n",
       "caution         0.605200\n",
       "running         0.558650\n",
       "ratcheted       0.558126\n",
       "debris          0.557774\n",
       "highest         0.552155\n",
       "honor           0.547316\n",
       "cia             0.544836\n",
       "text            0.543521\n",
       "accompanying    0.543521\n",
       "majority        0.521808\n",
       "waiting         0.517330\n",
       "replied         0.516326\n",
       "serious         0.511555\n",
       "degree          0.509329\n",
       "close           0.492846\n",
       "eliminates      0.485683\n",
       "w93             0.483123\n",
       "eased           0.480592\n",
       "boxing          0.480321\n",
       "respond         0.477825\n",
       "friendly        0.474107\n",
       "creates         0.473665\n",
       "succeed         0.471564\n",
       "dtype: float64"
      ]
     },
     "execution_count": 14,
     "metadata": {},
     "output_type": "execute_result"
    }
   ],
   "source": [
    "# Supposed best features within quote text that distinguish US congress sources\n",
    "us_congress = tfidf[tfidf['Speaker Group']==\"US Congress\"]\n",
    "tfi_ranked = us_congress.max(numeric_only=True).sort_values(ascending=False)\n",
    "tfi_ranked.head(30)"
   ]
  },
  {
   "cell_type": "code",
   "execution_count": 15,
   "metadata": {},
   "outputs": [
    {
     "data": {
      "text/plain": [
       "implicit       0.815180\n",
       "defend         0.807438\n",
       "paying         0.795691\n",
       "prefers        0.767420\n",
       "informed       0.738646\n",
       "alternative    0.714254\n",
       "bluster        0.714110\n",
       "gotten         0.699090\n",
       "tomorrow       0.683082\n",
       "bite           0.656715\n",
       "she            0.647778\n",
       "interview      0.646565\n",
       "resumption     0.645815\n",
       "deceptions     0.645572\n",
       "lick           0.638129\n",
       "hoped          0.632656\n",
       "minds          0.631501\n",
       "formalize      0.621593\n",
       "conducted      0.621492\n",
       "now            0.613614\n",
       "happens        0.605635\n",
       "dubbing        0.604691\n",
       "reining        0.601478\n",
       "intrusive      0.600815\n",
       "increased      0.582552\n",
       "resort         0.580608\n",
       "options        0.577350\n",
       "preferred      0.576895\n",
       "seven          0.574873\n",
       "bank           0.572595\n",
       "dtype: float64"
      ]
     },
     "execution_count": 15,
     "metadata": {},
     "output_type": "execute_result"
    }
   ],
   "source": [
    "# Supposed best features within quote text that distinguish US federal official sources\n",
    "us_fed_officials = tfidf[tfidf['Speaker Group']==\"US Federal Officials\"]\n",
    "tfi_ranked = us_fed_officials.max(numeric_only=True).sort_values(ascending=False)\n",
    "tfi_ranked.head(30)"
   ]
  },
  {
   "cell_type": "code",
   "execution_count": 16,
   "metadata": {},
   "outputs": [
    {
     "data": {
      "text/plain": [
       "equivalent       0.714039\n",
       "investigation    0.703242\n",
       "received         0.644200\n",
       "grade            0.633402\n",
       "various          0.632661\n",
       "assessed         0.586807\n",
       "wind             0.583162\n",
       "risky            0.519410\n",
       "enormously       0.519410\n",
       "type             0.518817\n",
       "path             0.515547\n",
       "here             0.507694\n",
       "savings          0.501398\n",
       "identified       0.475690\n",
       "actually         0.462342\n",
       "air              0.460489\n",
       "atlantic         0.444749\n",
       "well             0.432053\n",
       "category         0.428060\n",
       "unsuccessful     0.426214\n",
       "signer           0.413652\n",
       "absent           0.413652\n",
       "warships         0.403661\n",
       "signs            0.403661\n",
       "answered         0.402916\n",
       "we               0.401739\n",
       "shelter          0.401335\n",
       "ged              0.401335\n",
       "there            0.400897\n",
       "tourism          0.397578\n",
       "dtype: float64"
      ]
     },
     "execution_count": 16,
     "metadata": {},
     "output_type": "execute_result"
    }
   ],
   "source": [
    "# Supposed best features within quote text that distinguish US defense sources\n",
    "us_defense = tfidf[tfidf['Speaker Group']==\"US Defense\"]\n",
    "tfi_ranked = us_defense.max(numeric_only=True).sort_values(ascending=False)\n",
    "tfi_ranked.head(30)"
   ]
  },
  {
   "cell_type": "code",
   "execution_count": 17,
   "metadata": {},
   "outputs": [
    {
     "data": {
      "text/plain": [
       "option             0.704566\n",
       "pushing            0.663678\n",
       "peaceable          0.607813\n",
       "ending             0.537388\n",
       "negotiable         0.520896\n",
       "mouth              0.513780\n",
       "disagreement       0.500923\n",
       "board              0.485431\n",
       "historic           0.476346\n",
       "hear               0.468748\n",
       "matter             0.461420\n",
       "one                0.460902\n",
       "advocates          0.431302\n",
       "accomplishments    0.418524\n",
       "possible           0.416828\n",
       "fails              0.414764\n",
       "our                0.407916\n",
       "containment        0.401937\n",
       "seeing             0.399789\n",
       "feels              0.397066\n",
       "climate            0.396795\n",
       "proud              0.381841\n",
       "still              0.372008\n",
       "you                0.367939\n",
       "mideast            0.361544\n",
       "pendulum           0.359578\n",
       "swing              0.359578\n",
       "distracted         0.355274\n",
       "chaotic            0.355274\n",
       "theatrics          0.355274\n",
       "dtype: float64"
      ]
     },
     "execution_count": 17,
     "metadata": {},
     "output_type": "execute_result"
    }
   ],
   "source": [
    "# Supposed best features within quote text that distinguish academic sources\n",
    "academic = tfidf[tfidf['Speaker Group']==\"Academic\"]\n",
    "tfi_ranked = academic.max(numeric_only=True).sort_values(ascending=False)\n",
    "tfi_ranked.head(30)"
   ]
  },
  {
   "cell_type": "code",
   "execution_count": 18,
   "metadata": {},
   "outputs": [
    {
     "data": {
      "text/plain": [
       "paint           0.696367\n",
       "applicable      0.662309\n",
       "very            0.644025\n",
       "dime            0.593447\n",
       "toll            0.568697\n",
       "food            0.566047\n",
       "polish          0.563696\n",
       "duty            0.563426\n",
       "attackers       0.560006\n",
       "definitely      0.546891\n",
       "demolition      0.543420\n",
       "pivot           0.541432\n",
       "plant           0.535110\n",
       "case            0.531544\n",
       "react           0.528431\n",
       "combat          0.525065\n",
       "stopped         0.522144\n",
       "breach          0.518461\n",
       "religious       0.511932\n",
       "gunpoint        0.511802\n",
       "technicians     0.511802\n",
       "special         0.511374\n",
       "multilateral    0.486205\n",
       "bash            0.484576\n",
       "hypersonic      0.478633\n",
       "didn            0.474784\n",
       "successful      0.470142\n",
       "madman          0.470042\n",
       "northrop        0.463932\n",
       "directed        0.463258\n",
       "dtype: float64"
      ]
     },
     "execution_count": 18,
     "metadata": {},
     "output_type": "execute_result"
    }
   ],
   "source": [
    "# Supposed best features within quote text that distinguish other sources\n",
    "other = tfidf[tfidf['Speaker Group']==\"Other\"]\n",
    "tfi_ranked = other.max(numeric_only=True).sort_values(ascending=False)\n",
    "tfi_ranked.head(30)"
   ]
  },
  {
   "cell_type": "code",
   "execution_count": 19,
   "metadata": {},
   "outputs": [
    {
     "data": {
      "text/plain": [
       "hopeful        0.806031\n",
       "limited        0.758911\n",
       "practices      0.729898\n",
       "progress       0.594632\n",
       "related        0.560234\n",
       "organized      0.559499\n",
       "ongoing        0.544969\n",
       "regrettably    0.534008\n",
       "discussions    0.530758\n",
       "financial      0.507258\n",
       "assessment     0.506564\n",
       "repository     0.495759\n",
       "knowledge      0.495759\n",
       "enrichment     0.489681\n",
       "solidly        0.488459\n",
       "enter          0.486831\n",
       "2003           0.481773\n",
       "current        0.476930\n",
       "phase          0.468164\n",
       "arrived        0.465573\n",
       "provide        0.459447\n",
       "agency         0.455951\n",
       "blasts         0.455593\n",
       "chamber        0.455593\n",
       "fakhrizadeh    0.452307\n",
       "ballistic      0.449954\n",
       "drive          0.432996\n",
       "offers         0.432445\n",
       "position       0.426659\n",
       "can            0.424393\n",
       "dtype: float64"
      ]
     },
     "execution_count": 19,
     "metadata": {},
     "output_type": "execute_result"
    }
   ],
   "source": [
    "# Supposed best features within quote text that distinguish international sources\n",
    "international = tfidf[tfidf['Speaker Group']==\"International\"]\n",
    "tfi_ranked = international.max(numeric_only=True).sort_values(ascending=False)\n",
    "tfi_ranked.head(30)"
   ]
  }
 ],
 "metadata": {
  "kernelspec": {
   "display_name": "Python 3",
   "language": "python",
   "name": "python3"
  },
  "language_info": {
   "codemirror_mode": {
    "name": "ipython",
    "version": 3
   },
   "file_extension": ".py",
   "mimetype": "text/x-python",
   "name": "python",
   "nbconvert_exporter": "python",
   "pygments_lexer": "ipython3",
   "version": "3.7.6"
  }
 },
 "nbformat": 4,
 "nbformat_minor": 4
}
