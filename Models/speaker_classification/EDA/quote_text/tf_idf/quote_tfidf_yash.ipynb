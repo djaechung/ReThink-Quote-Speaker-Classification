{
 "cells": [
  {
   "cell_type": "code",
   "execution_count": 1,
   "metadata": {},
   "outputs": [],
   "source": [
    "import numpy as np\n",
    "import pandas as pd\n",
    "import json\n",
    "import csv\n",
    "import regex as re\n",
    "import seaborn as sns\n",
    "import os\n",
    "import re\n",
    "import string"
   ]
  },
  {
   "cell_type": "code",
   "execution_count": 2,
   "metadata": {},
   "outputs": [],
   "source": [
    "# Setting directory structure\n",
    "root_dir = 'C:\\\\Users\\\\yashd\\\\Desktop\\\\rethink-media\\\\quote-classification\\\\'\n",
    "data_dir = 'Data\\\\cleaned_data\\\\'"
   ]
  },
  {
   "cell_type": "code",
   "execution_count": 3,
   "metadata": {},
   "outputs": [
    {
     "data": {
      "text/plain": [
       "1730"
      ]
     },
     "execution_count": 3,
     "metadata": {},
     "output_type": "execute_result"
    }
   ],
   "source": [
    "import requests\n",
    "url =\"https://raw.githubusercontent.com/hyperreality/American-British-English-Translator/master/data/british_spellings.json\"\n",
    "british_to_american_dict = requests.get(url).json()\n",
    "len(british_to_american_dict.keys())"
   ]
  },
  {
   "cell_type": "code",
   "execution_count": 4,
   "metadata": {},
   "outputs": [
    {
     "name": "stdout",
     "output_type": "stream",
     "text": [
      "Wall time: 28.2 s\n"
     ]
    }
   ],
   "source": [
    "%%time\n",
    "# Importing cleaned sample data for EDA\n",
    "os.chdir(root_dir)\n",
    "GNI88_df = pd.read_csv(root_dir + data_dir + 'GNI88_cleaned_data.csv', low_memory = False)\n",
    "# Dropping the row with 1 NaN value in QText\n",
    "#GNI88_df[~GNI88_df['QText'].isna()]"
   ]
  },
  {
   "cell_type": "code",
   "execution_count": 5,
   "metadata": {},
   "outputs": [],
   "source": [
    "# lookup dictionary which can convert a speaker type to its classification group in constant time\n",
    "source_to_group = {'Foreign Gov/Mil Official': \"Foreign Government\",\n",
    "                   'Military': \"Foreign Government\", #added in manually\n",
    "                   'EU Official' : \"Foreign Government\", #added in manually\n",
    "                   'Former Russian Official' : \"Foreign Government\", #added in manually\n",
    "                   'South Korean Official' : \"Foreign Government\", #added in manually\n",
    "                   'Media/Journalist': \"External Commentator\",\n",
    "                   'Analyst/Commentator': \"External Commentator\",\n",
    "                   'Citizen': \"External Commentator\",\n",
    "                   'Blogger': \"External Commentator\",\n",
    "                   'Public Polling': \"External Commentator\",\n",
    "                   'Partisans/Fmr. Politicians': \"External Commentator\",\n",
    "                   'Nuke Organization': \"Organization\",\n",
    "                   'International Orgs': \"International\",\n",
    "                   'Non-Profit/NGO': \"Organization\",\n",
    "                   'Think Tanks': \"Organization\",\n",
    "                   'Nuke Organization - Other': \"Organization\",\n",
    "                   'US Rep. & Staff': \"US Federal Officials\",\n",
    "                   'US Senate & Staff': \"US Federal Officials\",\n",
    "                   'Federal Official': \"US Federal Officials\",\n",
    "                   'State/Local Official': \"US Federal Officials\",\n",
    "                   'Judicial Official': \"US Federal Officials\", \n",
    "                   'Former Admin. Officials': \"US Federal Officials\", \n",
    "                   'Regulator': \"International\",\n",
    "                   'US Military': \"US Defense\",\n",
    "                   'Defense Forces': \"US Defense\",\n",
    "                   'Defense': \"US Defense\",\n",
    "                   'US Police': \"US Defense\",\n",
    "                   'Deputy': \"US Defense\",\n",
    "                   'Academic': \"Academic\",\n",
    "                   'Nuke Organization - Academic': \"Organization\",\n",
    "                   'Nuclear Scientist': \"Academic\",\n",
    "                   'Other': \"Other\",\n",
    "                   'Chairman': \"Other\",\n",
    "                   'Terrorist/Extremist': \"Other\",\n",
    "                   'Corporate Official': \"Other\",\n",
    "                   'Information minister': \"Other\",\n",
    "                   'Religious/Clerical': \"Other\",\n",
    "                   'Attorney': \"Other\", \n",
    "                   'Ambassador': \"Other\",\n",
    "                   'Former Ambassador' : \"Other\",\n",
    "                   'Nuclear Official': \"Other\",\n",
    "                   'Activist' : \"Other\" #added in manually\n",
    "                  }"
   ]
  },
  {
   "cell_type": "code",
   "execution_count": 6,
   "metadata": {},
   "outputs": [],
   "source": [
    "# credit: Daniel\n",
    "def assign_source_to_group(source_type):\n",
    "  \"\"\" \n",
    "  Inputs:\n",
    "     - source_type: str, source type from quote datafame\n",
    "     Outputs:\n",
    "     - str of the bigger speaker category to which source_type belongs\n",
    "  \"\"\"\n",
    "# Everything not covered in the keys falls under 'Other'\n",
    "  if type(source_type) != str or source_type not in source_to_group.keys():\n",
    "    return \"Other\"\n",
    "  else:\n",
    "    return source_to_group[source_type]"
   ]
  },
  {
   "cell_type": "code",
   "execution_count": 7,
   "metadata": {},
   "outputs": [],
   "source": [
    "# credit: Tiffany\n",
    "GNI88_df[\"Speaker Group\"] = GNI88_df.apply(lambda row: assign_source_to_group(row[\"Source Type\"]),axis=1)"
   ]
  },
  {
   "cell_type": "code",
   "execution_count": 8,
   "metadata": {},
   "outputs": [
    {
     "data": {
      "text/plain": [
       "US Federal Officials    135522\n",
       "Foreign Government       98928\n",
       "External Commentator     86408\n",
       "Organization             37981\n",
       "Other                    16586\n",
       "International            11814\n",
       "Academic                 10623\n",
       "US Defense               10342\n",
       "Name: Speaker Group, dtype: int64"
      ]
     },
     "execution_count": 8,
     "metadata": {},
     "output_type": "execute_result"
    }
   ],
   "source": [
    "GNI88_df['Speaker Group'].value_counts()"
   ]
  },
  {
   "cell_type": "code",
   "execution_count": 9,
   "metadata": {},
   "outputs": [
    {
     "name": "stdout",
     "output_type": "stream",
     "text": [
      "Wall time: 1min 8s\n"
     ]
    }
   ],
   "source": [
    "%%time\n",
    "# Credit: https://github.com/dlab-berkeley/Python-Text-Analysis-Fundamentals/blob/main/day-2/02-unsupervised-solutions.ipynb\n",
    "from sklearn.feature_extraction.text import TfidfVectorizer\n",
    "\n",
    "tfidfvec = TfidfVectorizer(min_df = 500)\n",
    "sparse_tfidf = tfidfvec.fit_transform(GNI88_df['QText'].values.astype('str'))"
   ]
  },
  {
   "cell_type": "code",
   "execution_count": 10,
   "metadata": {},
   "outputs": [
    {
     "data": {
      "text/html": [
       "<div>\n",
       "<style scoped>\n",
       "    .dataframe tbody tr th:only-of-type {\n",
       "        vertical-align: middle;\n",
       "    }\n",
       "\n",
       "    .dataframe tbody tr th {\n",
       "        vertical-align: top;\n",
       "    }\n",
       "\n",
       "    .dataframe thead th {\n",
       "        text-align: right;\n",
       "    }\n",
       "</style>\n",
       "<table border=\"1\" class=\"dataframe\">\n",
       "  <thead>\n",
       "    <tr style=\"text-align: right;\">\n",
       "      <th></th>\n",
       "      <th>000</th>\n",
       "      <th>10</th>\n",
       "      <th>100</th>\n",
       "      <th>11</th>\n",
       "      <th>12</th>\n",
       "      <th>14</th>\n",
       "      <th>15</th>\n",
       "      <th>16</th>\n",
       "      <th>17</th>\n",
       "      <th>18</th>\n",
       "      <th>...</th>\n",
       "      <th>yongbyon</th>\n",
       "      <th>york</th>\n",
       "      <th>you</th>\n",
       "      <th>young</th>\n",
       "      <th>your</th>\n",
       "      <th>zaporizhzhia</th>\n",
       "      <th>zarif</th>\n",
       "      <th>zero</th>\n",
       "      <th>zone</th>\n",
       "      <th>Speaker Group</th>\n",
       "    </tr>\n",
       "  </thead>\n",
       "  <tbody>\n",
       "    <tr>\n",
       "      <th>0</th>\n",
       "      <td>0.0</td>\n",
       "      <td>0.0</td>\n",
       "      <td>0.0</td>\n",
       "      <td>0.0</td>\n",
       "      <td>0.0</td>\n",
       "      <td>0.0</td>\n",
       "      <td>0.0</td>\n",
       "      <td>0.0</td>\n",
       "      <td>0.0</td>\n",
       "      <td>0.0</td>\n",
       "      <td>...</td>\n",
       "      <td>0.0</td>\n",
       "      <td>0.0</td>\n",
       "      <td>0.00000</td>\n",
       "      <td>0.0</td>\n",
       "      <td>0.0</td>\n",
       "      <td>0.0</td>\n",
       "      <td>0.0</td>\n",
       "      <td>0.0</td>\n",
       "      <td>0.0</td>\n",
       "      <td>External Commentator</td>\n",
       "    </tr>\n",
       "    <tr>\n",
       "      <th>1</th>\n",
       "      <td>0.0</td>\n",
       "      <td>0.0</td>\n",
       "      <td>0.0</td>\n",
       "      <td>0.0</td>\n",
       "      <td>0.0</td>\n",
       "      <td>0.0</td>\n",
       "      <td>0.0</td>\n",
       "      <td>0.0</td>\n",
       "      <td>0.0</td>\n",
       "      <td>0.0</td>\n",
       "      <td>...</td>\n",
       "      <td>0.0</td>\n",
       "      <td>0.0</td>\n",
       "      <td>0.00000</td>\n",
       "      <td>0.0</td>\n",
       "      <td>0.0</td>\n",
       "      <td>0.0</td>\n",
       "      <td>0.0</td>\n",
       "      <td>0.0</td>\n",
       "      <td>0.0</td>\n",
       "      <td>US Defense</td>\n",
       "    </tr>\n",
       "    <tr>\n",
       "      <th>2</th>\n",
       "      <td>0.0</td>\n",
       "      <td>0.0</td>\n",
       "      <td>0.0</td>\n",
       "      <td>0.0</td>\n",
       "      <td>0.0</td>\n",
       "      <td>0.0</td>\n",
       "      <td>0.0</td>\n",
       "      <td>0.0</td>\n",
       "      <td>0.0</td>\n",
       "      <td>0.0</td>\n",
       "      <td>...</td>\n",
       "      <td>0.0</td>\n",
       "      <td>0.0</td>\n",
       "      <td>0.00000</td>\n",
       "      <td>0.0</td>\n",
       "      <td>0.0</td>\n",
       "      <td>0.0</td>\n",
       "      <td>0.0</td>\n",
       "      <td>0.0</td>\n",
       "      <td>0.0</td>\n",
       "      <td>US Defense</td>\n",
       "    </tr>\n",
       "    <tr>\n",
       "      <th>3</th>\n",
       "      <td>0.0</td>\n",
       "      <td>0.0</td>\n",
       "      <td>0.0</td>\n",
       "      <td>0.0</td>\n",
       "      <td>0.0</td>\n",
       "      <td>0.0</td>\n",
       "      <td>0.0</td>\n",
       "      <td>0.0</td>\n",
       "      <td>0.0</td>\n",
       "      <td>0.0</td>\n",
       "      <td>...</td>\n",
       "      <td>0.0</td>\n",
       "      <td>0.0</td>\n",
       "      <td>0.00000</td>\n",
       "      <td>0.0</td>\n",
       "      <td>0.0</td>\n",
       "      <td>0.0</td>\n",
       "      <td>0.0</td>\n",
       "      <td>0.0</td>\n",
       "      <td>0.0</td>\n",
       "      <td>US Federal Officials</td>\n",
       "    </tr>\n",
       "    <tr>\n",
       "      <th>4</th>\n",
       "      <td>0.0</td>\n",
       "      <td>0.0</td>\n",
       "      <td>0.0</td>\n",
       "      <td>0.0</td>\n",
       "      <td>0.0</td>\n",
       "      <td>0.0</td>\n",
       "      <td>0.0</td>\n",
       "      <td>0.0</td>\n",
       "      <td>0.0</td>\n",
       "      <td>0.0</td>\n",
       "      <td>...</td>\n",
       "      <td>0.0</td>\n",
       "      <td>0.0</td>\n",
       "      <td>0.19658</td>\n",
       "      <td>0.0</td>\n",
       "      <td>0.0</td>\n",
       "      <td>0.0</td>\n",
       "      <td>0.0</td>\n",
       "      <td>0.0</td>\n",
       "      <td>0.0</td>\n",
       "      <td>US Federal Officials</td>\n",
       "    </tr>\n",
       "  </tbody>\n",
       "</table>\n",
       "<p>5 rows × 2154 columns</p>\n",
       "</div>"
      ],
      "text/plain": [
       "   000   10  100   11   12   14   15   16   17   18  ...  yongbyon  york  \\\n",
       "0  0.0  0.0  0.0  0.0  0.0  0.0  0.0  0.0  0.0  0.0  ...       0.0   0.0   \n",
       "1  0.0  0.0  0.0  0.0  0.0  0.0  0.0  0.0  0.0  0.0  ...       0.0   0.0   \n",
       "2  0.0  0.0  0.0  0.0  0.0  0.0  0.0  0.0  0.0  0.0  ...       0.0   0.0   \n",
       "3  0.0  0.0  0.0  0.0  0.0  0.0  0.0  0.0  0.0  0.0  ...       0.0   0.0   \n",
       "4  0.0  0.0  0.0  0.0  0.0  0.0  0.0  0.0  0.0  0.0  ...       0.0   0.0   \n",
       "\n",
       "       you  young  your  zaporizhzhia  zarif  zero  zone         Speaker Group  \n",
       "0  0.00000    0.0   0.0           0.0    0.0   0.0   0.0  External Commentator  \n",
       "1  0.00000    0.0   0.0           0.0    0.0   0.0   0.0            US Defense  \n",
       "2  0.00000    0.0   0.0           0.0    0.0   0.0   0.0            US Defense  \n",
       "3  0.00000    0.0   0.0           0.0    0.0   0.0   0.0  US Federal Officials  \n",
       "4  0.19658    0.0   0.0           0.0    0.0   0.0   0.0  US Federal Officials  \n",
       "\n",
       "[5 rows x 2154 columns]"
      ]
     },
     "execution_count": 10,
     "metadata": {},
     "output_type": "execute_result"
    }
   ],
   "source": [
    "# Credit: https://github.com/dlab-berkeley/Python-Text-Analysis-Fundamentals/blob/main/day-2/02-unsupervised-solutions.ipynb\n",
    "tfidf = pd.DataFrame(sparse_tfidf[:sparse_tfidf.shape[0]].toarray(), columns=tfidfvec.get_feature_names_out())\n",
    "tfidf['Speaker Group'] = GNI88_df[\"Speaker Group\"]\n",
    "tfidf.head()"
   ]
  },
  {
   "cell_type": "code",
   "execution_count": 11,
   "metadata": {},
   "outputs": [
    {
     "data": {
      "text/plain": [
       "perfect     1.0\n",
       "he          1.0\n",
       "strong      1.0\n",
       "regime      1.0\n",
       "red         1.0\n",
       "groups      1.0\n",
       "great       1.0\n",
       "and         1.0\n",
       "behavior    1.0\n",
       "reckless    1.0\n",
       "good        1.0\n",
       "take        1.0\n",
       "before      1.0\n",
       "tehran      1.0\n",
       "another     1.0\n",
       "that        1.0\n",
       "the         1.0\n",
       "israel      1.0\n",
       "actions     1.0\n",
       "measures    1.0\n",
       "military    1.0\n",
       "act         1.0\n",
       "be          1.0\n",
       "strikes     1.0\n",
       "standing    1.0\n",
       "to          1.0\n",
       "historic    1.0\n",
       "is          1.0\n",
       "reset       1.0\n",
       "iran        1.0\n",
       "dtype: float64"
      ]
     },
     "execution_count": 11,
     "metadata": {},
     "output_type": "execute_result"
    }
   ],
   "source": [
    "# Supposed best features within quote text that distinguish foreign government sources\n",
    "foreign_gov = tfidf[tfidf['Speaker Group']==\"Foreign Government\"]\n",
    "tfi_ranked = foreign_gov.max(numeric_only=True).sort_values(ascending=False)\n",
    "tfi_ranked.head(30)"
   ]
  },
  {
   "cell_type": "code",
   "execution_count": 12,
   "metadata": {},
   "outputs": [
    {
     "data": {
      "text/plain": [
       "he             1.0\n",
       "end            1.0\n",
       "new            1.0\n",
       "while          1.0\n",
       "export         1.0\n",
       "feel           1.0\n",
       "for            1.0\n",
       "absolutely     1.0\n",
       "war            1.0\n",
       "geneva         1.0\n",
       "great          1.0\n",
       "guy            1.0\n",
       "more           1.0\n",
       "wolf           1.0\n",
       "sanctions      1.0\n",
       "announced      1.0\n",
       "and            1.0\n",
       "an             1.0\n",
       "said           1.0\n",
       "in             1.0\n",
       "risk           1.0\n",
       "we             1.0\n",
       "right          1.0\n",
       "maybe          1.0\n",
       "respond        1.0\n",
       "republicans    1.0\n",
       "well           1.0\n",
       "it             1.0\n",
       "what           1.0\n",
       "readiness      1.0\n",
       "dtype: float64"
      ]
     },
     "execution_count": 12,
     "metadata": {},
     "output_type": "execute_result"
    }
   ],
   "source": [
    "# Supposed best features within quote text that distinguish external commentator sources\n",
    "external_commentator = tfidf[tfidf['Speaker Group']==\"External Commentator\"]\n",
    "tfi_ranked = external_commentator.max(numeric_only=True).sort_values(ascending=False)\n",
    "tfi_ranked.head(30)"
   ]
  },
  {
   "cell_type": "code",
   "execution_count": 13,
   "metadata": {},
   "outputs": [
    {
     "data": {
      "text/plain": [
       "reality        1.0\n",
       "tuesday        1.0\n",
       "quite          1.0\n",
       "senators       1.0\n",
       "an             1.0\n",
       "of             1.0\n",
       "and            1.0\n",
       "don            1.0\n",
       "no             1.0\n",
       "the            1.0\n",
       "missile        1.0\n",
       "not            1.0\n",
       "end            1.0\n",
       "iranians       1.0\n",
       "is             1.0\n",
       "by             1.0\n",
       "high           1.0\n",
       "significant    1.0\n",
       "dangerous      1.0\n",
       "modern         1.0\n",
       "condition      1.0\n",
       "in             1.0\n",
       "total          1.0\n",
       "totally        1.0\n",
       "more           1.0\n",
       "it             1.0\n",
       "weak           1.0\n",
       "national       1.0\n",
       "him            1.0\n",
       "limits         1.0\n",
       "dtype: float64"
      ]
     },
     "execution_count": 13,
     "metadata": {},
     "output_type": "execute_result"
    }
   ],
   "source": [
    "# Supposed best features within quote text that distinguish organization sources\n",
    "organization = tfidf[tfidf['Speaker Group']==\"Organization\"]\n",
    "tfi_ranked = organization.max(numeric_only=True).sort_values(ascending=False)\n",
    "tfi_ranked.head(30)"
   ]
  },
  {
   "cell_type": "code",
   "execution_count": 15,
   "metadata": {},
   "outputs": [
    {
     "data": {
      "text/plain": [
       "bombs          1.0\n",
       "big            1.0\n",
       "citizens       1.0\n",
       "everything     1.0\n",
       "for            1.0\n",
       "provocation    1.0\n",
       "war            1.0\n",
       "had            1.0\n",
       "diplomat       1.0\n",
       "being          1.0\n",
       "diplomatic     1.0\n",
       "language       1.0\n",
       "direct         1.0\n",
       "that           1.0\n",
       "large          1.0\n",
       "of             1.0\n",
       "confidence     1.0\n",
       "team           1.0\n",
       "quite          1.0\n",
       "or             1.0\n",
       "end            1.0\n",
       "course         1.0\n",
       "think          1.0\n",
       "they           1.0\n",
       "him            1.0\n",
       "we             1.0\n",
       "public         1.0\n",
       "china          1.0\n",
       "obligations    1.0\n",
       "in             1.0\n",
       "dtype: float64"
      ]
     },
     "execution_count": 15,
     "metadata": {},
     "output_type": "execute_result"
    }
   ],
   "source": [
    "# Supposed best features within quote text that distinguish US federal official sources\n",
    "us_fed_officials = tfidf[tfidf['Speaker Group']==\"US Federal Officials\"]\n",
    "tfi_ranked = us_fed_officials.max(numeric_only=True).sort_values(ascending=False)\n",
    "tfi_ranked.head(30)"
   ]
  },
  {
   "cell_type": "code",
   "execution_count": 16,
   "metadata": {},
   "outputs": [
    {
     "data": {
      "text/plain": [
       "weapon         1.000000\n",
       "significant    1.000000\n",
       "at             1.000000\n",
       "and            1.000000\n",
       "technical      1.000000\n",
       "of             1.000000\n",
       "as             1.000000\n",
       "right          1.000000\n",
       "failed         1.000000\n",
       "no             1.000000\n",
       "absolutely     1.000000\n",
       "figure         1.000000\n",
       "do             1.000000\n",
       "was            1.000000\n",
       "continues      0.978860\n",
       "sense          0.961994\n",
       "includes       0.946695\n",
       "missile        0.942023\n",
       "quite          0.939917\n",
       "senator        0.919043\n",
       "grade          0.904765\n",
       "force          0.903630\n",
       "planned        0.900066\n",
       "testing        0.889684\n",
       "koreans        0.881353\n",
       "have           0.875684\n",
       "nobody         0.874204\n",
       "exercise       0.870016\n",
       "degree         0.868204\n",
       "closed         0.866976\n",
       "dtype: float64"
      ]
     },
     "execution_count": 16,
     "metadata": {},
     "output_type": "execute_result"
    }
   ],
   "source": [
    "# Supposed best features within quote text that distinguish US defense sources\n",
    "us_defense = tfidf[tfidf['Speaker Group']==\"US Defense\"]\n",
    "tfi_ranked = us_defense.max(numeric_only=True).sort_values(ascending=False)\n",
    "tfi_ranked.head(30)"
   ]
  },
  {
   "cell_type": "code",
   "execution_count": 17,
   "metadata": {},
   "outputs": [
    {
     "data": {
      "text/plain": [
       "on            1.000000\n",
       "limited       1.000000\n",
       "it            1.000000\n",
       "are           1.000000\n",
       "very          1.000000\n",
       "fail          1.000000\n",
       "western       0.955138\n",
       "complex       0.939251\n",
       "don           0.936197\n",
       "was           0.929971\n",
       "second        0.923042\n",
       "problem       0.922286\n",
       "definitely    0.916769\n",
       "challenge     0.914372\n",
       "political     0.911434\n",
       "break         0.909974\n",
       "claim         0.908770\n",
       "pressure      0.889169\n",
       "boost         0.885022\n",
       "seems         0.877534\n",
       "am            0.872446\n",
       "think         0.871049\n",
       "geneva        0.870673\n",
       "create        0.868965\n",
       "future        0.867319\n",
       "budget        0.865673\n",
       "talk          0.859919\n",
       "worse         0.857654\n",
       "iranians      0.844731\n",
       "feel          0.835533\n",
       "dtype: float64"
      ]
     },
     "execution_count": 17,
     "metadata": {},
     "output_type": "execute_result"
    }
   ],
   "source": [
    "# Supposed best features within quote text that distinguish academic sources\n",
    "academic = tfidf[tfidf['Speaker Group']==\"Academic\"]\n",
    "tfi_ranked = academic.max(numeric_only=True).sort_values(ascending=False)\n",
    "tfi_ranked.head(30)"
   ]
  },
  {
   "cell_type": "code",
   "execution_count": 18,
   "metadata": {},
   "outputs": [
    {
     "data": {
      "text/plain": [
       "korea            1.000000\n",
       "imminent         1.000000\n",
       "is               1.000000\n",
       "destabilizing    1.000000\n",
       "and              1.000000\n",
       "none             1.000000\n",
       "false            1.000000\n",
       "significant      1.000000\n",
       "another          1.000000\n",
       "group            0.979319\n",
       "attacks          0.978140\n",
       "information      0.977462\n",
       "urged            0.960909\n",
       "consequences     0.960620\n",
       "bill             0.942661\n",
       "missile          0.942023\n",
       "firing           0.937102\n",
       "re               0.935168\n",
       "currently        0.932141\n",
       "strongly         0.931726\n",
       "old              0.928433\n",
       "certainly        0.927862\n",
       "almost           0.925197\n",
       "someone          0.911746\n",
       "fight            0.909235\n",
       "meeting          0.898669\n",
       "china            0.896448\n",
       "history          0.887377\n",
       "percent          0.886603\n",
       "failed           0.883169\n",
       "dtype: float64"
      ]
     },
     "execution_count": 18,
     "metadata": {},
     "output_type": "execute_result"
    }
   ],
   "source": [
    "# Supposed best features within quote text that distinguish other sources\n",
    "other = tfidf[tfidf['Speaker Group']==\"Other\"]\n",
    "tfi_ranked = other.max(numeric_only=True).sort_values(ascending=False)\n",
    "tfi_ranked.head(30)"
   ]
  },
  {
   "cell_type": "code",
   "execution_count": 19,
   "metadata": {},
   "outputs": [
    {
     "data": {
      "text/plain": [
       "is             1.000000\n",
       "political      1.000000\n",
       "game           1.000000\n",
       "double         1.000000\n",
       "vienna         1.000000\n",
       "and            1.000000\n",
       "very           1.000000\n",
       "strong         1.000000\n",
       "useful         1.000000\n",
       "many           1.000000\n",
       "credible       1.000000\n",
       "quite          1.000000\n",
       "important      1.000000\n",
       "development    1.000000\n",
       "enemy          1.000000\n",
       "it             1.000000\n",
       "progress       1.000000\n",
       "concern        1.000000\n",
       "thursday       0.977591\n",
       "sound          0.974631\n",
       "multiple       0.968623\n",
       "provocative    0.968086\n",
       "highly         0.964659\n",
       "resolutions    0.963956\n",
       "information    0.957389\n",
       "halt           0.931577\n",
       "obviously      0.920194\n",
       "outcome        0.895733\n",
       "tehran         0.890706\n",
       "choice         0.878926\n",
       "dtype: float64"
      ]
     },
     "execution_count": 19,
     "metadata": {},
     "output_type": "execute_result"
    }
   ],
   "source": [
    "# Supposed best features within quote text that distinguish international sources\n",
    "international = tfidf[tfidf['Speaker Group']==\"International\"]\n",
    "tfi_ranked = international.max(numeric_only=True).sort_values(ascending=False)\n",
    "tfi_ranked.head(30)"
   ]
  }
 ],
 "metadata": {
  "kernelspec": {
   "display_name": "Python 3",
   "language": "python",
   "name": "python3"
  },
  "language_info": {
   "codemirror_mode": {
    "name": "ipython",
    "version": 3
   },
   "file_extension": ".py",
   "mimetype": "text/x-python",
   "name": "python",
   "nbconvert_exporter": "python",
   "pygments_lexer": "ipython3",
   "version": "3.7.6"
  }
 },
 "nbformat": 4,
 "nbformat_minor": 4
}
