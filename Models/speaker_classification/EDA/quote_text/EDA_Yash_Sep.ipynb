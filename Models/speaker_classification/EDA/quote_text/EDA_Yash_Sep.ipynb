{
 "cells": [
  {
   "cell_type": "code",
   "execution_count": 32,
   "metadata": {},
   "outputs": [],
   "source": [
    "# Importing required libraries\n",
    "import pandas as pd\n",
    "import numpy as np\n",
    "import matplotlib.pyplot as plt\n",
    "import seaborn as sns\n",
    "import os\n",
    "import re\n",
    "import string\n",
    "from nltk import word_tokenize\n",
    "from nltk.tokenize import sent_tokenize\n",
    "from nltk.corpus import stopwords"
   ]
  },
  {
   "cell_type": "code",
   "execution_count": 2,
   "metadata": {},
   "outputs": [
    {
     "name": "stderr",
     "output_type": "stream",
     "text": [
      "No model was supplied, defaulted to facebook/bart-large-mnli (https://huggingface.co/facebook/bart-large-mnli)\n"
     ]
    }
   ],
   "source": [
    "from transformers import pipeline\n",
    "classifier = pipeline(\"zero-shot-classification\")"
   ]
  },
  {
   "cell_type": "code",
   "execution_count": 3,
   "metadata": {},
   "outputs": [],
   "source": [
    "def ultimate_tokenize(sentence):\n",
    "    # Remove punctuation and digits\n",
    "    sentence = sentence.translate(str.maketrans('', '', string.punctuation + string.digits))\n",
    "    return word_tokenize(sentence.lower())"
   ]
  },
  {
   "cell_type": "code",
   "execution_count": 4,
   "metadata": {},
   "outputs": [],
   "source": [
    "def cleaning(interview):\n",
    "    \n",
    "    tokens = ultimate_tokenize(interview)\n",
    "    from nltk.corpus import stopwords\n",
    "    \n",
    "    stops = stopwords.words('english')\n",
    "    stops.extend(['yeah','hello','ye','yes','okay','ok'])\n",
    "    stops.extend('.,[,],(,),;,/,-,\\',?,\",:,<,>,n\\'t,|,#,\\'s,\\\",\\'re,\\'ve,\\'ll,\\'d,\\'re,’'.split(','))\n",
    "    stops.extend(',')\n",
    "    \n",
    "    # 6. Remove stop words. \n",
    "    words = [w for w in tokens if not w in stops]\n",
    "    \n",
    "    sent = ' '.join(words)\n",
    "    return sent"
   ]
  },
  {
   "cell_type": "code",
   "execution_count": 5,
   "metadata": {},
   "outputs": [],
   "source": [
    "# Setting directory structure\n",
    "root_dir = 'C:\\\\Users\\\\yashd\\\\Desktop\\\\rethink-media\\\\quote-classification\\\\'\n",
    "data_dir = 'Data\\\\cleaned_data\\\\'"
   ]
  },
  {
   "cell_type": "code",
   "execution_count": 6,
   "metadata": {},
   "outputs": [
    {
     "name": "stderr",
     "output_type": "stream",
     "text": [
      "C:\\Users\\yashd\\anaconda3\\lib\\site-packages\\IPython\\core\\interactiveshell.py:3331: DtypeWarning: Columns (9,10,24) have mixed types.Specify dtype option on import or set low_memory=False.\n",
      "  exec(code_obj, self.user_global_ns, self.user_ns)\n"
     ]
    }
   ],
   "source": [
    "# Importing cleaned sample data for EDA\n",
    "os.chdir(root_dir)\n",
    "GNI88_df = pd.read_csv(root_dir + data_dir + 'GNI88_cleaned_data.csv')"
   ]
  },
  {
   "cell_type": "code",
   "execution_count": 12,
   "metadata": {},
   "outputs": [
    {
     "data": {
      "text/plain": [
       "Index(['artdate', 'Article ID', 'Headline', 'Quote ID', 'Article Status',\n",
       "       'Article Position', 'Messages', 'Submessages', 'Quote Position',\n",
       "       'Legacy Quote Tag', 'On/Off Message', 'QText', 'Source Name',\n",
       "       'Source Type', 'Source Party Affiliation', 'Source Ethnicity',\n",
       "       'Source Nationality', 'Source Gender', 'Source Religion',\n",
       "       'Legacy Source Tag', 'Constituent Group', 'Media Name', 'Media Medium',\n",
       "       'Journalist Name', 'Constituent Author', 'Article Issues',\n",
       "       'Custom Group', 'Media Group', 'fulltext', 'source_name_cleaned'],\n",
       "      dtype='object')"
      ]
     },
     "execution_count": 12,
     "metadata": {},
     "output_type": "execute_result"
    }
   ],
   "source": [
    "GNI88_df.columns"
   ]
  },
  {
   "cell_type": "code",
   "execution_count": 13,
   "metadata": {},
   "outputs": [
    {
     "data": {
      "text/plain": [
       "Grand List     237\n",
       "Off-Message    128\n",
       "Name: Legacy Quote Tag, dtype: int64"
      ]
     },
     "execution_count": 13,
     "metadata": {},
     "output_type": "execute_result"
    }
   ],
   "source": [
    "GNI88_df['Legacy Quote Tag'].value_counts()"
   ]
  },
  {
   "cell_type": "code",
   "execution_count": 14,
   "metadata": {},
   "outputs": [
    {
     "data": {
      "text/plain": [
       "Not On Message    4571\n",
       "On Message        1537\n",
       "Name: On/Off Message, dtype: int64"
      ]
     },
     "execution_count": 14,
     "metadata": {},
     "output_type": "execute_result"
    }
   ],
   "source": [
    "GNI88_df['On/Off Message'].value_counts()"
   ]
  },
  {
   "cell_type": "code",
   "execution_count": 16,
   "metadata": {},
   "outputs": [
    {
     "data": {
      "text/plain": [
       "170.82429330504675"
      ]
     },
     "execution_count": 16,
     "metadata": {},
     "output_type": "execute_result"
    }
   ],
   "source": [
    "# Dropping the 1 float value quote text to conduct analysis\n",
    "GNI88_df = GNI88_df[(GNI88_df['QText'].map(lambda x : type(x)) != float)]\n",
    "shortest_quote = min(GNI88_df['QText'].astype(str), key = len)\n",
    "longest_quote = max(GNI88_df['QText'], key = len)\n",
    "num_words_min = len(shortest_quote.split())\n",
    "num_words_max = len(longest_quote.split())\n",
    "GNI88_df['QText'].str.len().mean()"
   ]
  },
  {
   "cell_type": "code",
   "execution_count": 17,
   "metadata": {},
   "outputs": [
    {
     "data": {
      "text/plain": [
       "1"
      ]
     },
     "execution_count": 17,
     "metadata": {},
     "output_type": "execute_result"
    }
   ],
   "source": [
    "GNI88_df['QText'].str.len().min()"
   ]
  },
  {
   "cell_type": "code",
   "execution_count": 18,
   "metadata": {},
   "outputs": [
    {
     "data": {
      "text/plain": [
       "False    404302\n",
       "True       3901\n",
       "Name: Source Name, dtype: int64"
      ]
     },
     "execution_count": 18,
     "metadata": {},
     "output_type": "execute_result"
    }
   ],
   "source": [
    "GNI88_df['Source Name'].isna().value_counts()"
   ]
  },
  {
   "cell_type": "code",
   "execution_count": 19,
   "metadata": {},
   "outputs": [
    {
     "data": {
      "text/plain": [
       "Donald Trump OLD                          15091\n",
       "Barack Obama OLD                           9458\n",
       "Unnamed Obama White House Official OLD     9428\n",
       "Unnamed Analyst/Expert                     8597\n",
       "Benjamin Netanyahu                         5977\n",
       "                                          ...  \n",
       "Aleksey Pushkov                               1\n",
       "Hesham Ghanbari                               1\n",
       "Ihor Romanenko                                1\n",
       "Mikhail Margelov                              1\n",
       "Steve Bell                                    1\n",
       "Name: Source Name, Length: 16921, dtype: int64"
      ]
     },
     "execution_count": 19,
     "metadata": {},
     "output_type": "execute_result"
    }
   ],
   "source": [
    "GNI88_df['Source Name'].value_counts()"
   ]
  },
  {
   "cell_type": "code",
   "execution_count": 20,
   "metadata": {},
   "outputs": [
    {
     "data": {
      "text/plain": [
       "16922"
      ]
     },
     "execution_count": 20,
     "metadata": {},
     "output_type": "execute_result"
    }
   ],
   "source": [
    "len(GNI88_df['Source Name'].unique())"
   ]
  },
  {
   "cell_type": "code",
   "execution_count": 21,
   "metadata": {},
   "outputs": [
    {
     "data": {
      "text/plain": [
       "'Foreign Gov/Mil Official, Federal Official, Media/Journalist, Analyst/Commentator, US Senate & Staff, Nuke Organization, Former Admin. Officials, US Rep. & Staff, US Military, Academic, Nuke Organization - Academic, International Orgs, Citizen, Non-Profit/NGO, Think Tanks, Partisans/Fmr. Politicians, Corporate Official, Regulator, State/Local Official, Other, Blogger, Public Polling, Religious/Clerical, Nuclear Scientist, Attorney, Terrorist/Extremist, US Police, Judicial Official, Nuclear Official, Military, Defense, Former DIA intelligence, Former Soviet Military Officer, Deputy, Defense Forces, Activist, Chairman, retired US Military, P & S - Former Government, Director, Ambassador, Information minister, Ministry, EU Official, Former Ambassador, diplomat, Research Group, Embassy, South Korean Official, Former Russian Official, Backend developer at Skylum, a software developing company'"
      ]
     },
     "execution_count": 21,
     "metadata": {},
     "output_type": "execute_result"
    }
   ],
   "source": [
    "', '.join(GNI88_df['Source Type'].value_counts().index.tolist())"
   ]
  },
  {
   "cell_type": "code",
   "execution_count": 22,
   "metadata": {},
   "outputs": [
    {
     "data": {
      "text/plain": [
       "Republican     42808\n",
       "Democrat       33044\n",
       "Independent      556\n",
       "The hill           1\n",
       "Name: Source Party Affiliation, dtype: int64"
      ]
     },
     "execution_count": 22,
     "metadata": {},
     "output_type": "execute_result"
    }
   ],
   "source": [
    "GNI88_df['Source Party Affiliation'].value_counts()"
   ]
  },
  {
   "cell_type": "code",
   "execution_count": 23,
   "metadata": {},
   "outputs": [
    {
     "data": {
      "text/plain": [
       "United States    200638\n",
       "Iran              30660\n",
       "Israel            13694\n",
       "Russia            11988\n",
       "South Korea       11178\n",
       "                  ...  \n",
       "Ucrania               1\n",
       "Guyana                1\n",
       "Peru                  1\n",
       "Liechtenstein         1\n",
       "Chechnya              1\n",
       "Name: Source Nationality, Length: 120, dtype: int64"
      ]
     },
     "execution_count": 23,
     "metadata": {},
     "output_type": "execute_result"
    }
   ],
   "source": [
    "GNI88_df['Source Nationality'].value_counts()"
   ]
  },
  {
   "cell_type": "code",
   "execution_count": 24,
   "metadata": {},
   "outputs": [
    {
     "data": {
      "text/plain": [
       "artdate                     object\n",
       "Article ID                   int64\n",
       "Headline                    object\n",
       "Quote ID                     int64\n",
       "Article Status              object\n",
       "Article Position            object\n",
       "Messages                    object\n",
       "Submessages                 object\n",
       "Quote Position              object\n",
       "Legacy Quote Tag            object\n",
       "On/Off Message              object\n",
       "QText                       object\n",
       "Source Name                 object\n",
       "Source Type                 object\n",
       "Source Party Affiliation    object\n",
       "Source Ethnicity            object\n",
       "Source Nationality          object\n",
       "Source Gender               object\n",
       "Source Religion             object\n",
       "Legacy Source Tag           object\n",
       "Constituent Group           object\n",
       "Media Name                  object\n",
       "Media Medium                object\n",
       "Journalist Name             object\n",
       "Constituent Author          object\n",
       "Article Issues              object\n",
       "Custom Group                object\n",
       "Media Group                 object\n",
       "fulltext                    object\n",
       "source_name_cleaned         object\n",
       "dtype: object"
      ]
     },
     "execution_count": 24,
     "metadata": {},
     "output_type": "execute_result"
    }
   ],
   "source": [
    "GNI88_df.dtypes"
   ]
  },
  {
   "cell_type": "code",
   "execution_count": 25,
   "metadata": {},
   "outputs": [
    {
     "data": {
      "text/plain": [
       "Male            233190\n",
       "Unknown         115731\n",
       "Female           28258\n",
       "Organization     21658\n",
       "Name: Source Gender, dtype: int64"
      ]
     },
     "execution_count": 25,
     "metadata": {},
     "output_type": "execute_result"
    }
   ],
   "source": [
    "GNI88_df['Source Gender'].value_counts()"
   ]
  },
  {
   "cell_type": "code",
   "execution_count": 26,
   "metadata": {},
   "outputs": [
    {
     "data": {
      "text/plain": [
       "Unknown    343877\n",
       "Name: Source Religion, dtype: int64"
      ]
     },
     "execution_count": 26,
     "metadata": {},
     "output_type": "execute_result"
    }
   ],
   "source": [
    "GNI88_df['Source Religion'].value_counts()"
   ]
  },
  {
   "cell_type": "code",
   "execution_count": 27,
   "metadata": {},
   "outputs": [
    {
     "data": {
      "text/plain": [
       "True     331794\n",
       "False     76409\n",
       "Name: Source Party Affiliation, dtype: int64"
      ]
     },
     "execution_count": 27,
     "metadata": {},
     "output_type": "execute_result"
    }
   ],
   "source": [
    "GNI88_df['Source Party Affiliation'].isna().value_counts()"
   ]
  },
  {
   "cell_type": "code",
   "execution_count": 28,
   "metadata": {},
   "outputs": [
    {
     "data": {
      "text/plain": [
       "Person of Color    4824\n",
       "Name: Source Ethnicity, dtype: int64"
      ]
     },
     "execution_count": 28,
     "metadata": {},
     "output_type": "execute_result"
    }
   ],
   "source": [
    "GNI88_df['Source Ethnicity'].value_counts()"
   ]
  },
  {
   "cell_type": "code",
   "execution_count": 29,
   "metadata": {},
   "outputs": [],
   "source": [
    "top_words = GNI88_df['QText'].str.split().explode().value_counts()"
   ]
  },
  {
   "cell_type": "code",
   "execution_count": 30,
   "metadata": {},
   "outputs": [
    {
     "data": {
      "text/plain": [
       "the               629073\n",
       "to                405971\n",
       "of                276685\n",
       "and               269593\n",
       "a                 257785\n",
       "                   ...  \n",
       "decades:               6\n",
       "1600                   6\n",
       "slowing,               6\n",
       "counterfeiting         6\n",
       "Them                   6\n",
       "Name: QText, Length: 44202, dtype: int64"
      ]
     },
     "execution_count": 30,
     "metadata": {},
     "output_type": "execute_result"
    }
   ],
   "source": [
    "top_words[top_words.to_frame()['QText'].map(lambda x: x > 5)]"
   ]
  },
  {
   "cell_type": "code",
   "execution_count": 34,
   "metadata": {},
   "outputs": [
    {
     "name": "stdout",
     "output_type": "stream",
     "text": [
      "Wall time: 9min 14s\n"
     ]
    },
    {
     "data": {
      "text/plain": [
       "0         add emergency missile defense ship repair mone...\n",
       "1         modest expectations ability predict kim jong u...\n",
       "2                                        rhetoric president\n",
       "3         could result loss millions lives possibility n...\n",
       "4         essentially transactional weve pretty stable r...\n",
       "                                ...                        \n",
       "408199    trump administration strategy preemptive blood...\n",
       "408200    preference achieve denuclearization korean pen...\n",
       "408201    president lacks authorityfor attack wouldspark...\n",
       "408202    completely different machine said adding would...\n",
       "408203    russia intervened syrian civil war aid preside...\n",
       "Name: QText, Length: 408203, dtype: object"
      ]
     },
     "execution_count": 34,
     "metadata": {},
     "output_type": "execute_result"
    }
   ],
   "source": [
    "%%time\n",
    "stopwords_removed = GNI88_df['QText'].map(cleaning)\n",
    "stopwords_removed"
   ]
  },
  {
   "cell_type": "code",
   "execution_count": 36,
   "metadata": {},
   "outputs": [
    {
     "data": {
      "text/plain": [
       "nuclear             154707\n",
       "iran                 89547\n",
       "us                   64631\n",
       "north                64069\n",
       "would                59666\n",
       "                     ...  \n",
       "americaninspired         1\n",
       "jovially                 1\n",
       "uraniumremoval           1\n",
       "darnednear               1\n",
       "wouldspark               1\n",
       "Name: QText, Length: 68855, dtype: int64"
      ]
     },
     "execution_count": 36,
     "metadata": {},
     "output_type": "execute_result"
    }
   ],
   "source": [
    "stopwords_removed.str.split().explode().value_counts()"
   ]
  },
  {
   "cell_type": "code",
   "execution_count": null,
   "metadata": {},
   "outputs": [],
   "source": []
  }
 ],
 "metadata": {
  "kernelspec": {
   "display_name": "Python 3",
   "language": "python",
   "name": "python3"
  },
  "language_info": {
   "codemirror_mode": {
    "name": "ipython",
    "version": 3
   },
   "file_extension": ".py",
   "mimetype": "text/x-python",
   "name": "python",
   "nbconvert_exporter": "python",
   "pygments_lexer": "ipython3",
   "version": "3.7.6"
  }
 },
 "nbformat": 4,
 "nbformat_minor": 4
}
