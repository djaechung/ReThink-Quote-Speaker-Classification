{
 "cells": [
  {
   "cell_type": "code",
   "execution_count": 1,
   "id": "ae5c8245",
   "metadata": {},
   "outputs": [],
   "source": [
    "import pandas as pd\n",
    "import numpy as np\n",
    "from datetime import datetime\n",
    "from collections import Counter\n",
    "import seaborn as sns"
   ]
  },
  {
   "cell_type": "code",
   "execution_count": 2,
   "id": "128b8f85",
   "metadata": {},
   "outputs": [
    {
     "name": "stderr",
     "output_type": "stream",
     "text": [
      "/Users/carla/opt/anaconda3/lib/python3.9/site-packages/IPython/core/interactiveshell.py:3444: DtypeWarning: Columns (9,10,24) have mixed types.Specify dtype option on import or set low_memory=False.\n",
      "  exec(code_obj, self.user_global_ns, self.user_ns)\n"
     ]
    }
   ],
   "source": [
    "GNI88 = pd.read_csv(\"GNI88_cleaned_data.csv\")"
   ]
  },
  {
   "cell_type": "code",
   "execution_count": 3,
   "id": "666d388a",
   "metadata": {},
   "outputs": [
    {
     "data": {
      "text/html": [
       "<div>\n",
       "<style scoped>\n",
       "    .dataframe tbody tr th:only-of-type {\n",
       "        vertical-align: middle;\n",
       "    }\n",
       "\n",
       "    .dataframe tbody tr th {\n",
       "        vertical-align: top;\n",
       "    }\n",
       "\n",
       "    .dataframe thead th {\n",
       "        text-align: right;\n",
       "    }\n",
       "</style>\n",
       "<table border=\"1\" class=\"dataframe\">\n",
       "  <thead>\n",
       "    <tr style=\"text-align: right;\">\n",
       "      <th></th>\n",
       "      <th>artdate</th>\n",
       "      <th>Article ID</th>\n",
       "      <th>Headline</th>\n",
       "      <th>Quote ID</th>\n",
       "      <th>Article Status</th>\n",
       "      <th>Article Position</th>\n",
       "      <th>Messages</th>\n",
       "      <th>Submessages</th>\n",
       "      <th>Quote Position</th>\n",
       "      <th>Legacy Quote Tag</th>\n",
       "      <th>...</th>\n",
       "      <th>Constituent Group</th>\n",
       "      <th>Media Name</th>\n",
       "      <th>Media Medium</th>\n",
       "      <th>Journalist Name</th>\n",
       "      <th>Constituent Author</th>\n",
       "      <th>Article Issues</th>\n",
       "      <th>Custom Group</th>\n",
       "      <th>Media Group</th>\n",
       "      <th>fulltext</th>\n",
       "      <th>source_name_cleaned</th>\n",
       "    </tr>\n",
       "  </thead>\n",
       "  <tbody>\n",
       "    <tr>\n",
       "      <th>0</th>\n",
       "      <td>2018-02-05</td>\n",
       "      <td>3774467</td>\n",
       "      <td>Opinion: They Voted for Caps. Now They Want Mo...</td>\n",
       "      <td>7096188</td>\n",
       "      <td>Opinion</td>\n",
       "      <td>Neutral</td>\n",
       "      <td>OLD Spending</td>\n",
       "      <td>OLD Nukes Budget Campaign</td>\n",
       "      <td>Neutral</td>\n",
       "      <td>NaN</td>\n",
       "      <td>...</td>\n",
       "      <td>None (Legacy Other)</td>\n",
       "      <td>Roll Call</td>\n",
       "      <td>Print</td>\n",
       "      <td>Bell, Steve</td>\n",
       "      <td>NaN</td>\n",
       "      <td>NaN</td>\n",
       "      <td>Commentary</td>\n",
       "      <td>Capitol Hill Media</td>\n",
       "      <td>Opinion: They Voted for Caps. Now They Want Mo...</td>\n",
       "      <td>Steve Bell</td>\n",
       "    </tr>\n",
       "    <tr>\n",
       "      <th>1</th>\n",
       "      <td>2018-02-23</td>\n",
       "      <td>3777413</td>\n",
       "      <td>Can James Mattis Prevent Nuclear War With Nort...</td>\n",
       "      <td>7105520</td>\n",
       "      <td>News</td>\n",
       "      <td>Neutral</td>\n",
       "      <td>OLD Proliferation</td>\n",
       "      <td>OLD State Level Nuclear Programs</td>\n",
       "      <td>Neutral</td>\n",
       "      <td>NaN</td>\n",
       "      <td>...</td>\n",
       "      <td>None (Legacy Other)</td>\n",
       "      <td>News Week</td>\n",
       "      <td>NaN</td>\n",
       "      <td>Fryer-biggs, Zachary</td>\n",
       "      <td>NaN</td>\n",
       "      <td>NaN</td>\n",
       "      <td>NaN</td>\n",
       "      <td>NaN</td>\n",
       "      <td>Can James Mattis Prevent Nuclear War With Nort...</td>\n",
       "      <td>James Mattis</td>\n",
       "    </tr>\n",
       "    <tr>\n",
       "      <th>2</th>\n",
       "      <td>2018-02-23</td>\n",
       "      <td>3777413</td>\n",
       "      <td>Can James Mattis Prevent Nuclear War With Nort...</td>\n",
       "      <td>7105517</td>\n",
       "      <td>News</td>\n",
       "      <td>Neutral</td>\n",
       "      <td>OLD Proliferation</td>\n",
       "      <td>OLD State Level Nuclear Programs</td>\n",
       "      <td>Neutral</td>\n",
       "      <td>NaN</td>\n",
       "      <td>...</td>\n",
       "      <td>None (Legacy Other)</td>\n",
       "      <td>News Week</td>\n",
       "      <td>NaN</td>\n",
       "      <td>Fryer-biggs, Zachary</td>\n",
       "      <td>NaN</td>\n",
       "      <td>NaN</td>\n",
       "      <td>NaN</td>\n",
       "      <td>NaN</td>\n",
       "      <td>Can James Mattis Prevent Nuclear War With Nort...</td>\n",
       "      <td>James Mattis</td>\n",
       "    </tr>\n",
       "    <tr>\n",
       "      <th>3</th>\n",
       "      <td>2018-02-23</td>\n",
       "      <td>3777413</td>\n",
       "      <td>Can James Mattis Prevent Nuclear War With Nort...</td>\n",
       "      <td>7105518</td>\n",
       "      <td>News</td>\n",
       "      <td>Neutral</td>\n",
       "      <td>OLD Proliferation</td>\n",
       "      <td>OLD State Level Nuclear Programs</td>\n",
       "      <td>Positive</td>\n",
       "      <td>NaN</td>\n",
       "      <td>...</td>\n",
       "      <td>NaN</td>\n",
       "      <td>News Week</td>\n",
       "      <td>NaN</td>\n",
       "      <td>Fryer-biggs, Zachary</td>\n",
       "      <td>NaN</td>\n",
       "      <td>NaN</td>\n",
       "      <td>NaN</td>\n",
       "      <td>NaN</td>\n",
       "      <td>Can James Mattis Prevent Nuclear War With Nort...</td>\n",
       "      <td>Leon E. Panetta</td>\n",
       "    </tr>\n",
       "    <tr>\n",
       "      <th>4</th>\n",
       "      <td>2018-02-23</td>\n",
       "      <td>3777413</td>\n",
       "      <td>Can James Mattis Prevent Nuclear War With Nort...</td>\n",
       "      <td>7105527</td>\n",
       "      <td>News</td>\n",
       "      <td>Neutral</td>\n",
       "      <td>OLD Proliferation</td>\n",
       "      <td>OLD State Level Nuclear Programs</td>\n",
       "      <td>Neutral</td>\n",
       "      <td>NaN</td>\n",
       "      <td>...</td>\n",
       "      <td>NaN</td>\n",
       "      <td>News Week</td>\n",
       "      <td>NaN</td>\n",
       "      <td>Fryer-biggs, Zachary</td>\n",
       "      <td>NaN</td>\n",
       "      <td>NaN</td>\n",
       "      <td>NaN</td>\n",
       "      <td>NaN</td>\n",
       "      <td>Can James Mattis Prevent Nuclear War With Nort...</td>\n",
       "      <td>Chuck Hagel</td>\n",
       "    </tr>\n",
       "  </tbody>\n",
       "</table>\n",
       "<p>5 rows × 30 columns</p>\n",
       "</div>"
      ],
      "text/plain": [
       "      artdate  Article ID                                           Headline  \\\n",
       "0  2018-02-05     3774467  Opinion: They Voted for Caps. Now They Want Mo...   \n",
       "1  2018-02-23     3777413  Can James Mattis Prevent Nuclear War With Nort...   \n",
       "2  2018-02-23     3777413  Can James Mattis Prevent Nuclear War With Nort...   \n",
       "3  2018-02-23     3777413  Can James Mattis Prevent Nuclear War With Nort...   \n",
       "4  2018-02-23     3777413  Can James Mattis Prevent Nuclear War With Nort...   \n",
       "\n",
       "   Quote ID Article Status Article Position           Messages  \\\n",
       "0   7096188        Opinion          Neutral       OLD Spending   \n",
       "1   7105520           News          Neutral  OLD Proliferation   \n",
       "2   7105517           News          Neutral  OLD Proliferation   \n",
       "3   7105518           News          Neutral  OLD Proliferation   \n",
       "4   7105527           News          Neutral  OLD Proliferation   \n",
       "\n",
       "                        Submessages Quote Position Legacy Quote Tag  ...  \\\n",
       "0         OLD Nukes Budget Campaign        Neutral              NaN  ...   \n",
       "1  OLD State Level Nuclear Programs        Neutral              NaN  ...   \n",
       "2  OLD State Level Nuclear Programs        Neutral              NaN  ...   \n",
       "3  OLD State Level Nuclear Programs       Positive              NaN  ...   \n",
       "4  OLD State Level Nuclear Programs        Neutral              NaN  ...   \n",
       "\n",
       "     Constituent Group Media Name Media Medium       Journalist Name  \\\n",
       "0  None (Legacy Other)  Roll Call        Print           Bell, Steve   \n",
       "1  None (Legacy Other)  News Week          NaN  Fryer-biggs, Zachary   \n",
       "2  None (Legacy Other)  News Week          NaN  Fryer-biggs, Zachary   \n",
       "3                  NaN  News Week          NaN  Fryer-biggs, Zachary   \n",
       "4                  NaN  News Week          NaN  Fryer-biggs, Zachary   \n",
       "\n",
       "  Constituent Author Article Issues Custom Group         Media Group  \\\n",
       "0                NaN            NaN   Commentary  Capitol Hill Media   \n",
       "1                NaN            NaN          NaN                 NaN   \n",
       "2                NaN            NaN          NaN                 NaN   \n",
       "3                NaN            NaN          NaN                 NaN   \n",
       "4                NaN            NaN          NaN                 NaN   \n",
       "\n",
       "                                            fulltext source_name_cleaned  \n",
       "0  Opinion: They Voted for Caps. Now They Want Mo...          Steve Bell  \n",
       "1  Can James Mattis Prevent Nuclear War With Nort...        James Mattis  \n",
       "2  Can James Mattis Prevent Nuclear War With Nort...        James Mattis  \n",
       "3  Can James Mattis Prevent Nuclear War With Nort...     Leon E. Panetta  \n",
       "4  Can James Mattis Prevent Nuclear War With Nort...         Chuck Hagel  \n",
       "\n",
       "[5 rows x 30 columns]"
      ]
     },
     "execution_count": 3,
     "metadata": {},
     "output_type": "execute_result"
    }
   ],
   "source": [
    "GNI88.head()"
   ]
  },
  {
   "cell_type": "code",
   "execution_count": 4,
   "id": "626d4410",
   "metadata": {},
   "outputs": [
    {
     "data": {
      "text/plain": [
       "artdate                     object\n",
       "Article ID                   int64\n",
       "Headline                    object\n",
       "Quote ID                     int64\n",
       "Article Status              object\n",
       "Article Position            object\n",
       "Messages                    object\n",
       "Submessages                 object\n",
       "Quote Position              object\n",
       "Legacy Quote Tag            object\n",
       "On/Off Message              object\n",
       "QText                       object\n",
       "Source Name                 object\n",
       "Source Type                 object\n",
       "Source Party Affiliation    object\n",
       "Source Ethnicity            object\n",
       "Source Nationality          object\n",
       "Source Gender               object\n",
       "Source Religion             object\n",
       "Legacy Source Tag           object\n",
       "Constituent Group           object\n",
       "Media Name                  object\n",
       "Media Medium                object\n",
       "Journalist Name             object\n",
       "Constituent Author          object\n",
       "Article Issues              object\n",
       "Custom Group                object\n",
       "Media Group                 object\n",
       "fulltext                    object\n",
       "source_name_cleaned         object\n",
       "dtype: object"
      ]
     },
     "execution_count": 4,
     "metadata": {},
     "output_type": "execute_result"
    }
   ],
   "source": [
    "# Check data types\n",
    "GNI88.dtypes"
   ]
  },
  {
   "cell_type": "code",
   "execution_count": 5,
   "id": "72517a54",
   "metadata": {},
   "outputs": [
    {
     "data": {
      "text/plain": [
       "0"
      ]
     },
     "execution_count": 5,
     "metadata": {},
     "output_type": "execute_result"
    }
   ],
   "source": [
    "# Check null values\n",
    "GNI88['artdate'].isnull().sum()"
   ]
  },
  {
   "cell_type": "code",
   "execution_count": 6,
   "id": "e800c5c2",
   "metadata": {},
   "outputs": [
    {
     "data": {
      "text/plain": [
       "0"
      ]
     },
     "execution_count": 6,
     "metadata": {},
     "output_type": "execute_result"
    }
   ],
   "source": [
    "GNI88['Article ID'].isnull().sum()"
   ]
  },
  {
   "cell_type": "code",
   "execution_count": 7,
   "id": "b9204b2b",
   "metadata": {},
   "outputs": [
    {
     "data": {
      "text/plain": [
       "1662"
      ]
     },
     "execution_count": 7,
     "metadata": {},
     "output_type": "execute_result"
    }
   ],
   "source": [
    "GNI88['Headline'].isnull().sum()"
   ]
  },
  {
   "cell_type": "code",
   "execution_count": 8,
   "id": "32730052",
   "metadata": {},
   "outputs": [
    {
     "data": {
      "text/plain": [
       "0"
      ]
     },
     "execution_count": 8,
     "metadata": {},
     "output_type": "execute_result"
    }
   ],
   "source": [
    "GNI88['Quote ID'].isnull().sum()"
   ]
  },
  {
   "cell_type": "code",
   "execution_count": 9,
   "id": "61a90029",
   "metadata": {},
   "outputs": [
    {
     "data": {
      "text/plain": [
       "0"
      ]
     },
     "execution_count": 9,
     "metadata": {},
     "output_type": "execute_result"
    }
   ],
   "source": [
    "GNI88['Article Status'].isnull().sum()"
   ]
  },
  {
   "cell_type": "code",
   "execution_count": 10,
   "id": "f452ae01",
   "metadata": {},
   "outputs": [
    {
     "data": {
      "text/plain": [
       "11399"
      ]
     },
     "execution_count": 10,
     "metadata": {},
     "output_type": "execute_result"
    }
   ],
   "source": [
    "GNI88['Article Position'].isnull().sum()"
   ]
  },
  {
   "cell_type": "code",
   "execution_count": 11,
   "id": "2d8db7bc",
   "metadata": {},
   "outputs": [
    {
     "data": {
      "text/plain": [
       "3704"
      ]
     },
     "execution_count": 11,
     "metadata": {},
     "output_type": "execute_result"
    }
   ],
   "source": [
    "GNI88['Messages'].isnull().sum()"
   ]
  },
  {
   "cell_type": "code",
   "execution_count": 12,
   "id": "b76af891",
   "metadata": {},
   "outputs": [
    {
     "data": {
      "text/plain": [
       "3704"
      ]
     },
     "execution_count": 12,
     "metadata": {},
     "output_type": "execute_result"
    }
   ],
   "source": [
    "GNI88['Submessages'].isnull().sum()"
   ]
  },
  {
   "cell_type": "code",
   "execution_count": 13,
   "id": "986529c4",
   "metadata": {},
   "outputs": [
    {
     "data": {
      "text/plain": [
       "3731"
      ]
     },
     "execution_count": 13,
     "metadata": {},
     "output_type": "execute_result"
    }
   ],
   "source": [
    "GNI88['Quote Position'].isnull().sum()"
   ]
  },
  {
   "cell_type": "code",
   "execution_count": 15,
   "id": "f357cc78",
   "metadata": {},
   "outputs": [
    {
     "name": "stdout",
     "output_type": "stream",
     "text": [
      "2022-09-12 00:00:00\n",
      "2011-01-03 00:00:00\n"
     ]
    }
   ],
   "source": [
    "# artdate data range\n",
    "\n",
    "unique_article = GNI88.drop_duplicates(subset='Article ID', keep=\"first\")\n",
    "\n",
    "date_list = unique_article['artdate'].tolist()\n",
    "\n",
    "datetime_list = [datetime.strptime(date,\"%Y-%m-%d\") for date in date_list]\n",
    "\n",
    "print(max(datetime_list)) # oldest\n",
    "print(min(datetime_list)) # earliest"
   ]
  },
  {
   "cell_type": "code",
   "execution_count": 16,
   "id": "48f5fd61",
   "metadata": {},
   "outputs": [
    {
     "name": "stderr",
     "output_type": "stream",
     "text": [
      "/var/folders/tc/bh92rdln5b97ks_khyc1_kbh0000gn/T/ipykernel_42304/942963319.py:3: SettingWithCopyWarning: \n",
      "A value is trying to be set on a copy of a slice from a DataFrame.\n",
      "Try using .loc[row_indexer,col_indexer] = value instead\n",
      "\n",
      "See the caveats in the documentation: https://pandas.pydata.org/pandas-docs/stable/user_guide/indexing.html#returning-a-view-versus-a-copy\n",
      "  unique_article['year'] = year_col\n"
     ]
    },
    {
     "data": {
      "text/plain": [
       "<AxesSubplot:xlabel='year', ylabel='Count'>"
      ]
     },
     "execution_count": 16,
     "metadata": {},
     "output_type": "execute_result"
    },
    {
     "data": {
      "image/png": "[encoded data removed]",
      "text/plain": [
       "<Figure size 432x288 with 1 Axes>"
      ]
     },
     "metadata": {},
     "output_type": "display_data"
    }
   ],
   "source": [
    "# Numbers of articles collected in GNI88\n",
    "\n",
    "year_list = [date[:4] for date in date_list]\n",
    "year_col = [eval(i) for i in year_list]\n",
    "unique_article['year'] = year_col\n",
    "sns.set(style=\"darkgrid\")\n",
    "sns.set(font_scale=1)\n",
    "sns.histplot(data=unique_article, x='year', discrete=True) "
   ]
  },
  {
   "cell_type": "code",
   "execution_count": 17,
   "id": "ba0aa008",
   "metadata": {},
   "outputs": [
    {
     "data": {
      "text/plain": [
       "(77943, 31)"
      ]
     },
     "execution_count": 17,
     "metadata": {},
     "output_type": "execute_result"
    }
   ],
   "source": [
    "# article id\n",
    "\n",
    "unique_article.shape"
   ]
  },
  {
   "cell_type": "code",
   "execution_count": 18,
   "id": "6354a34d",
   "metadata": {},
   "outputs": [
    {
     "data": {
      "text/plain": [
       "(408204, 30)"
      ]
     },
     "execution_count": 18,
     "metadata": {},
     "output_type": "execute_result"
    }
   ],
   "source": [
    "# Quote id\n",
    "\n",
    "GNI88.shape"
   ]
  },
  {
   "cell_type": "code",
   "execution_count": 19,
   "id": "77561d85",
   "metadata": {},
   "outputs": [
    {
     "data": {
      "text/plain": [
       "Counter({'Opinion': 11804, 'News': 66139})"
      ]
     },
     "execution_count": 19,
     "metadata": {},
     "output_type": "execute_result"
    }
   ],
   "source": [
    "# article status\n",
    "\n",
    "Counter(unique_article['Article Status'].tolist())"
   ]
  },
  {
   "cell_type": "code",
   "execution_count": 20,
   "id": "471deccd",
   "metadata": {},
   "outputs": [
    {
     "data": {
      "text/plain": [
       "<AxesSubplot:xlabel='Article Status', ylabel='count'>"
      ]
     },
     "execution_count": 20,
     "metadata": {},
     "output_type": "execute_result"
    },
    {
     "data": {
      "image/png": "[encoded data removed]",
      "text/plain": [
       "<Figure size 432x288 with 1 Axes>"
      ]
     },
     "metadata": {},
     "output_type": "display_data"
    }
   ],
   "source": [
    "sns.countplot(data = unique_article, x = 'Article Status')"
   ]
  },
  {
   "cell_type": "code",
   "execution_count": 21,
   "id": "137dc8cc",
   "metadata": {},
   "outputs": [
    {
     "data": {
      "text/plain": [
       "Counter({'Neutral': 64003, 'Positive': 5942, 'Negative': 5082, nan: 2916})"
      ]
     },
     "execution_count": 21,
     "metadata": {},
     "output_type": "execute_result"
    }
   ],
   "source": [
    "# Article Position\n",
    "\n",
    "Counter(unique_article['Article Position'].tolist())"
   ]
  },
  {
   "cell_type": "code",
   "execution_count": 22,
   "id": "bab2e512",
   "metadata": {},
   "outputs": [
    {
     "data": {
      "text/plain": [
       "<AxesSubplot:xlabel='Article Position', ylabel='count'>"
      ]
     },
     "execution_count": 22,
     "metadata": {},
     "output_type": "execute_result"
    },
    {
     "data": {
      "image/png": "[encoded data removed]",
      "text/plain": [
       "<Figure size 432x288 with 1 Axes>"
      ]
     },
     "metadata": {},
     "output_type": "display_data"
    }
   ],
   "source": [
    "sns.countplot(data = unique_article, x = 'Article Position')"
   ]
  },
  {
   "cell_type": "code",
   "execution_count": 23,
   "id": "6cb95bb5",
   "metadata": {},
   "outputs": [
    {
     "data": {
      "text/plain": [
       "Counter({'OLD Spending': 5626,\n",
       "         'OLD Proliferation': 95818,\n",
       "         'OLD Missile Defense': 40638,\n",
       "         'OLD Arms Reduction': 17639,\n",
       "         'OLD Other': 779,\n",
       "         'OLD Foreign Policy Narrative': 18751,\n",
       "         'OLD Iran': 159752,\n",
       "         'OLD Sequestration': 94,\n",
       "         'Arms Reduction': 27263,\n",
       "         nan: 3704,\n",
       "         'North Korea': 8082,\n",
       "         'US Nuclear and Missile Policy': 6715,\n",
       "         'Iran': 6073,\n",
       "         'Pakistan': 175,\n",
       "         'India': 148,\n",
       "         'China': 2158,\n",
       "         'Nuclear Consequences': 7181,\n",
       "         'Russia': 7024,\n",
       "         'KSA': 57,\n",
       "         'Israel': 113,\n",
       "         'Turkey': 12,\n",
       "         'Ukraine': 402})"
      ]
     },
     "execution_count": 23,
     "metadata": {},
     "output_type": "execute_result"
    }
   ],
   "source": [
    "# Messages\n",
    "\n",
    "Counter(GNI88['Messages'].tolist())"
   ]
  },
  {
   "cell_type": "code",
   "execution_count": 24,
   "id": "7648939c",
   "metadata": {},
   "outputs": [
    {
     "data": {
      "text/plain": [
       "Counter({'OLD Nukes Budget Campaign': 1660,\n",
       "         'OLD State Level Nuclear Programs': 90161,\n",
       "         'OLD Deployment and Testing': 23111,\n",
       "         'OLD START Treaty': 3805,\n",
       "         'OLD European/Russian Missile Defense': 8283,\n",
       "         'OLD Arms Reduction': 3085,\n",
       "         'OLD US Arsenal': 6538,\n",
       "         'OLD Modernization': 2308,\n",
       "         'OLD Loose Nuclear Materials': 3351,\n",
       "         'OLD Other': 779,\n",
       "         'OLD Domestic Programs': 9155,\n",
       "         'OLD  Politics': 6709,\n",
       "         'OLD NSA Budget': 866,\n",
       "         'OLD Non-Proliferation': 206,\n",
       "         'OLD NPT': 1296,\n",
       "         'OLD Negotiations': 88836,\n",
       "         'OLD Russia Reset': 10442,\n",
       "         'OLD Terrorist Threat': 1611,\n",
       "         'OLD Proliferation': 402,\n",
       "         'OLD Missile Defense': 89,\n",
       "         'OLD Foreign Policy Narrative': 1600,\n",
       "         'OLD Spending': 586,\n",
       "         'OLD Iranian Domestic Politics': 23491,\n",
       "         'OLD Tactical Nukes Treaty': 343,\n",
       "         'OLD Covert Ops': 4377,\n",
       "         'OLD Sequestration': 94,\n",
       "         'OLD CTBT': 622,\n",
       "         'OLD AQ Khan Network': 176,\n",
       "         'OLD Sanctions': 29623,\n",
       "         'JCPOA': 5497,\n",
       "         'OLD INF Treaty': 1920,\n",
       "         nan: 3704,\n",
       "         'OLD Fissile Material Cut Off Treaty': 117,\n",
       "         'OLD Iran Rapid Response': 4215,\n",
       "         'OLD Iran': 9210,\n",
       "         'OLD Russia Negotiations 2019': 30,\n",
       "         'North Korea Deployments': 1908,\n",
       "         'US/NATO Missile Defense': 888,\n",
       "         'Spending and Modernization': 1173,\n",
       "         'Iran Negotiations': 5537,\n",
       "         'Iran Nuclear Activity': 5265,\n",
       "         'US Nuclear Arsenal': 4009,\n",
       "         'Iran Sanctions': 2848,\n",
       "         'North Korea Sanctions': 930,\n",
       "         'North Korea Negotiations': 2442,\n",
       "         'Worldwide Nukes Policy': 5122,\n",
       "         'START': 1550,\n",
       "         'China Negotiations': 462,\n",
       "         'North Korea Nuclear Activity': 5232,\n",
       "         'Conflict with North Korea': 942,\n",
       "         'Pakistan Nuclear Activity': 169,\n",
       "         'Iran Deployments': 157,\n",
       "         'Conflict with Iran': 651,\n",
       "         'India Nuclear Activity': 100,\n",
       "         'NATO Arsenal': 454,\n",
       "         'China Nuclear Activity': 1855,\n",
       "         'Loose Fissile Materials': 5848,\n",
       "         'NPT': 269,\n",
       "         'Health Issues': 402,\n",
       "         'CTBT': 64,\n",
       "         'Actinides': 458,\n",
       "         'Russia Sanctions': 406,\n",
       "         'INF': 209,\n",
       "         'Russia Nuclear Deployments': 5616,\n",
       "         'Russia Nuclear Activity': 1104,\n",
       "         'China Sanctions': 67,\n",
       "         'Russia Negotiations': 1639,\n",
       "         'China Deployments': 303,\n",
       "         'Terrorist Threat': 51,\n",
       "         'Nuclear Consequences': 105,\n",
       "         'NNSA Budget': 191,\n",
       "         'Fissile Material Cut-Off Treaty': 5,\n",
       "         'Nuclear Survivors': 317,\n",
       "         'TPNW 2017': 91,\n",
       "         'KSA Nuclear Activity': 54,\n",
       "         'SALT II': 3,\n",
       "         'Israel Nuclear Activity': 89,\n",
       "         'Israel Negotiations': 57,\n",
       "         'Israel Deployments': 24,\n",
       "         'Tactical Nukes Treaty': 61,\n",
       "         'Turkey Deployments': 6,\n",
       "         'Israel Sanctions': 4,\n",
       "         'Turkey Nuclear Activity': 6,\n",
       "         'India Deployments': 48,\n",
       "         'KSA Deployment': 3,\n",
       "         'Russia Deployment': 304,\n",
       "         'Pakistan Deployments': 6,\n",
       "         'Ukraine Nuclear Activity': 402})"
      ]
     },
     "execution_count": 24,
     "metadata": {},
     "output_type": "execute_result"
    }
   ],
   "source": [
    "# Submessages\n",
    "\n",
    "Counter(GNI88['Submessages'].tolist())"
   ]
  },
  {
   "cell_type": "code",
   "execution_count": 25,
   "id": "65c54f89",
   "metadata": {},
   "outputs": [
    {
     "data": {
      "text/plain": [
       "88"
      ]
     },
     "execution_count": 25,
     "metadata": {},
     "output_type": "execute_result"
    }
   ],
   "source": [
    "len(Counter(GNI88['Submessages'].tolist()))"
   ]
  },
  {
   "cell_type": "code",
   "execution_count": 26,
   "id": "03ca66b4",
   "metadata": {},
   "outputs": [
    {
     "data": {
      "text/plain": [
       "Counter({'Neutral': 242529, 'Positive': 92392, 'Negative': 69552, nan: 3731})"
      ]
     },
     "execution_count": 26,
     "metadata": {},
     "output_type": "execute_result"
    }
   ],
   "source": [
    "# Quote Position\n",
    "\n",
    "Counter(GNI88['Quote Position'].tolist())"
   ]
  },
  {
   "cell_type": "code",
   "execution_count": 27,
   "id": "a082ba3b",
   "metadata": {},
   "outputs": [
    {
     "data": {
      "text/plain": [
       "<AxesSubplot:xlabel='Quote Position', ylabel='count'>"
      ]
     },
     "execution_count": 27,
     "metadata": {},
     "output_type": "execute_result"
    },
    {
     "data": {
      "image/png": "[encoded data removed]",
      "text/plain": [
       "<Figure size 432x288 with 1 Axes>"
      ]
     },
     "metadata": {},
     "output_type": "display_data"
    }
   ],
   "source": [
    "sns.countplot(data = GNI88, x = 'Quote Position')"
   ]
  },
  {
   "cell_type": "code",
   "execution_count": null,
   "id": "39200a45",
   "metadata": {},
   "outputs": [],
   "source": []
  }
 ],
 "metadata": {
  "kernelspec": {
   "display_name": "Python 3 (ipykernel)",
   "language": "python",
   "name": "python3"
  },
  "language_info": {
   "codemirror_mode": {
    "name": "ipython",
    "version": 3
   },
   "file_extension": ".py",
   "mimetype": "text/x-python",
   "name": "python",
   "nbconvert_exporter": "python",
   "pygments_lexer": "ipython3",
   "version": "3.9.7"
  }
 },
 "nbformat": 4,
 "nbformat_minor": 5
}
