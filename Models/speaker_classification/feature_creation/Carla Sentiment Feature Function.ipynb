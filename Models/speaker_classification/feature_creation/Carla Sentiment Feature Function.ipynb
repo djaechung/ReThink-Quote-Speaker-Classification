{
 "cells": [
  {
   "cell_type": "code",
   "execution_count": 54,
   "id": "7d75a13e",
   "metadata": {},
   "outputs": [],
   "source": [
    "import pandas as pd\n",
    "import numpy as np\n",
    "from collections import Counter\n",
    "import seaborn as sns\n",
    "import matplotlib.pyplot as plt\n",
    "from vaderSentiment.vaderSentiment import SentimentIntensityAnalyzer\n",
    "from scipy import stats as st\n",
    "import json\n",
    "import re\n",
    "from nltk.tokenize.regexp import WhitespaceTokenizer\n",
    "from nltk import tokenize"
   ]
  },
  {
   "cell_type": "code",
   "execution_count": 55,
   "id": "764b4476",
   "metadata": {},
   "outputs": [
    {
     "name": "stderr",
     "output_type": "stream",
     "text": [
      "/Users/carla/opt/anaconda3/lib/python3.9/site-packages/IPython/core/interactiveshell.py:3444: DtypeWarning: Columns (9,10,24) have mixed types.Specify dtype option on import or set low_memory=False.\n",
      "  exec(code_obj, self.user_global_ns, self.user_ns)\n"
     ]
    }
   ],
   "source": [
    "GNI88 = pd.read_csv(\"/Users/carla/Desktop/internships/rethinkmedia/GNI88_cleaned_data.csv\")"
   ]
  },
  {
   "cell_type": "code",
   "execution_count": 56,
   "id": "03d392bf",
   "metadata": {},
   "outputs": [],
   "source": [
    "GNI88 = GNI88[GNI88['Article Status']=='News'].reset_index(drop=True)\n",
    "GNI88 = GNI88.drop(labels=329076, axis=0) #empty quote"
   ]
  },
  {
   "cell_type": "code",
   "execution_count": 57,
   "id": "e15ea40b",
   "metadata": {},
   "outputs": [],
   "source": [
    "# dictionary containing the classification groups for all speaker types\n",
    "source_groups = {\"Foreign Government\": ['Foreign Gov/Mil Official'],\n",
    "                \"Experts\": ['Nuke Organization','Non-Profit/NGO','Think Tanks',\n",
    "                            'Nuke Organization - Other', 'Nuke Organization - Academic',\n",
    "                            'International Orgs','Academic','Nuclear Scientist',\"Analyst/Commentator\",\n",
    "                            'Attorney','Regulator'],\n",
    "                \"US Congress\": ['US Rep. & Staff','US Senate & Staff', 'Partisans/Fmr. Politicians'],\n",
    "                \"US Federal Officials\": ['Federal Official','State/Local Official',\n",
    "                                        'Former Admin. Officials','Judicial Official'],\n",
    "                \"US Defense\": ['US Military','Defense Forces','Defense'],\n",
    "                \"Media\": [\"Media/Journalist\",\"Blogger\"],\n",
    "                \"Corporate Official\": ['Corporate Official'],\n",
    "                \"Other\": ['Other','Chairman','Terrorist/Extremist','Information minister',\n",
    "                          'Religious/Clerical', 'Ambassador', 'Nuclear Official',\n",
    "                          'Citizen','Public Polling','US Police','Deputy']}"
   ]
  },
  {
   "cell_type": "code",
   "execution_count": 58,
   "id": "a1c2c0b0",
   "metadata": {},
   "outputs": [],
   "source": [
    "# Helper function that inverts a dictionary. This will be useful for using speaker groups\n",
    "# later on in model evaluation\n",
    "def invert_dict(dictionary):\n",
    "  \"\"\"Inputs:\n",
    "     - dictionary: dict, dictionary we wish to invert\n",
    "     Outputs:\n",
    "     - dict, where keys are the initial dictionary's values and values are the initial dictionary's keys\"\"\"\n",
    "  # get a list of all items in all dictionary values\n",
    "  speaker_types = list(np.concatenate(list(dictionary.values())).flat)\n",
    "  # each speaker type will become its own key now, and the value will be the speaker group it's a part of\n",
    "  inverted_dict = {}\n",
    "  for speaker_type in speaker_types:\n",
    "    # find the group the speaker_type belongs in\n",
    "    speaker_group = [key for key, value in dictionary.items() if speaker_type in value][0]\n",
    "    # update the inverted dictionary such that the key is the speaker type and the value is the speaker group\n",
    "    inverted_dict[speaker_type] = speaker_group\n",
    "  return inverted_dict"
   ]
  },
  {
   "cell_type": "code",
   "execution_count": 59,
   "id": "0370e572",
   "metadata": {},
   "outputs": [],
   "source": [
    "source_to_group = invert_dict(source_groups)"
   ]
  },
  {
   "cell_type": "code",
   "execution_count": 60,
   "id": "ccee3c60",
   "metadata": {},
   "outputs": [],
   "source": [
    "def assign_source_to_group(source_type):\n",
    "  \"\"\"Inputs:\n",
    "     - source_type: str, source type from quote datafame\n",
    "     Outputs:\n",
    "     - str of the bigger speaker category to which source_type belongs\"\"\"\n",
    "  if type(source_type) != str:\n",
    "    return \"Other\"\n",
    "  try:\n",
    "    return source_to_group[source_type]\n",
    "  except:\n",
    "    return \"Other\""
   ]
  },
  {
   "cell_type": "code",
   "execution_count": 61,
   "id": "c9d29775",
   "metadata": {},
   "outputs": [],
   "source": [
    "GNI88['Source Type'] = GNI88['Source Type'].apply(assign_source_to_group)"
   ]
  },
  {
   "cell_type": "code",
   "execution_count": 62,
   "id": "cccf74fc",
   "metadata": {},
   "outputs": [
    {
     "data": {
      "text/html": [
       "<div>\n",
       "<style scoped>\n",
       "    .dataframe tbody tr th:only-of-type {\n",
       "        vertical-align: middle;\n",
       "    }\n",
       "\n",
       "    .dataframe tbody tr th {\n",
       "        vertical-align: top;\n",
       "    }\n",
       "\n",
       "    .dataframe thead th {\n",
       "        text-align: right;\n",
       "    }\n",
       "</style>\n",
       "<table border=\"1\" class=\"dataframe\">\n",
       "  <thead>\n",
       "    <tr style=\"text-align: right;\">\n",
       "      <th></th>\n",
       "      <th>artdate</th>\n",
       "      <th>Article ID</th>\n",
       "      <th>Headline</th>\n",
       "      <th>Quote ID</th>\n",
       "      <th>Article Status</th>\n",
       "      <th>Article Position</th>\n",
       "      <th>Messages</th>\n",
       "      <th>Submessages</th>\n",
       "      <th>Quote Position</th>\n",
       "      <th>Legacy Quote Tag</th>\n",
       "      <th>...</th>\n",
       "      <th>Constituent Group</th>\n",
       "      <th>Media Name</th>\n",
       "      <th>Media Medium</th>\n",
       "      <th>Journalist Name</th>\n",
       "      <th>Constituent Author</th>\n",
       "      <th>Article Issues</th>\n",
       "      <th>Custom Group</th>\n",
       "      <th>Media Group</th>\n",
       "      <th>fulltext</th>\n",
       "      <th>source_name_cleaned</th>\n",
       "    </tr>\n",
       "  </thead>\n",
       "  <tbody>\n",
       "    <tr>\n",
       "      <th>0</th>\n",
       "      <td>2018-02-23</td>\n",
       "      <td>3777413</td>\n",
       "      <td>Can James Mattis Prevent Nuclear War With Nort...</td>\n",
       "      <td>7105520</td>\n",
       "      <td>News</td>\n",
       "      <td>Neutral</td>\n",
       "      <td>OLD Proliferation</td>\n",
       "      <td>OLD State Level Nuclear Programs</td>\n",
       "      <td>Neutral</td>\n",
       "      <td>NaN</td>\n",
       "      <td>...</td>\n",
       "      <td>None (Legacy Other)</td>\n",
       "      <td>News Week</td>\n",
       "      <td>NaN</td>\n",
       "      <td>Fryer-biggs, Zachary</td>\n",
       "      <td>NaN</td>\n",
       "      <td>NaN</td>\n",
       "      <td>NaN</td>\n",
       "      <td>NaN</td>\n",
       "      <td>Can James Mattis Prevent Nuclear War With Nort...</td>\n",
       "      <td>James Mattis</td>\n",
       "    </tr>\n",
       "    <tr>\n",
       "      <th>1</th>\n",
       "      <td>2018-02-23</td>\n",
       "      <td>3777413</td>\n",
       "      <td>Can James Mattis Prevent Nuclear War With Nort...</td>\n",
       "      <td>7105517</td>\n",
       "      <td>News</td>\n",
       "      <td>Neutral</td>\n",
       "      <td>OLD Proliferation</td>\n",
       "      <td>OLD State Level Nuclear Programs</td>\n",
       "      <td>Neutral</td>\n",
       "      <td>NaN</td>\n",
       "      <td>...</td>\n",
       "      <td>None (Legacy Other)</td>\n",
       "      <td>News Week</td>\n",
       "      <td>NaN</td>\n",
       "      <td>Fryer-biggs, Zachary</td>\n",
       "      <td>NaN</td>\n",
       "      <td>NaN</td>\n",
       "      <td>NaN</td>\n",
       "      <td>NaN</td>\n",
       "      <td>Can James Mattis Prevent Nuclear War With Nort...</td>\n",
       "      <td>James Mattis</td>\n",
       "    </tr>\n",
       "    <tr>\n",
       "      <th>2</th>\n",
       "      <td>2018-02-23</td>\n",
       "      <td>3777413</td>\n",
       "      <td>Can James Mattis Prevent Nuclear War With Nort...</td>\n",
       "      <td>7105518</td>\n",
       "      <td>News</td>\n",
       "      <td>Neutral</td>\n",
       "      <td>OLD Proliferation</td>\n",
       "      <td>OLD State Level Nuclear Programs</td>\n",
       "      <td>Positive</td>\n",
       "      <td>NaN</td>\n",
       "      <td>...</td>\n",
       "      <td>NaN</td>\n",
       "      <td>News Week</td>\n",
       "      <td>NaN</td>\n",
       "      <td>Fryer-biggs, Zachary</td>\n",
       "      <td>NaN</td>\n",
       "      <td>NaN</td>\n",
       "      <td>NaN</td>\n",
       "      <td>NaN</td>\n",
       "      <td>Can James Mattis Prevent Nuclear War With Nort...</td>\n",
       "      <td>Leon E. Panetta</td>\n",
       "    </tr>\n",
       "    <tr>\n",
       "      <th>3</th>\n",
       "      <td>2018-02-23</td>\n",
       "      <td>3777413</td>\n",
       "      <td>Can James Mattis Prevent Nuclear War With Nort...</td>\n",
       "      <td>7105527</td>\n",
       "      <td>News</td>\n",
       "      <td>Neutral</td>\n",
       "      <td>OLD Proliferation</td>\n",
       "      <td>OLD State Level Nuclear Programs</td>\n",
       "      <td>Neutral</td>\n",
       "      <td>NaN</td>\n",
       "      <td>...</td>\n",
       "      <td>NaN</td>\n",
       "      <td>News Week</td>\n",
       "      <td>NaN</td>\n",
       "      <td>Fryer-biggs, Zachary</td>\n",
       "      <td>NaN</td>\n",
       "      <td>NaN</td>\n",
       "      <td>NaN</td>\n",
       "      <td>NaN</td>\n",
       "      <td>Can James Mattis Prevent Nuclear War With Nort...</td>\n",
       "      <td>Chuck Hagel</td>\n",
       "    </tr>\n",
       "    <tr>\n",
       "      <th>4</th>\n",
       "      <td>2018-02-15</td>\n",
       "      <td>3777414</td>\n",
       "      <td>For His Book 'Directorate S,' Journalist Steve...</td>\n",
       "      <td>7105525</td>\n",
       "      <td>News</td>\n",
       "      <td>Neutral</td>\n",
       "      <td>OLD Proliferation</td>\n",
       "      <td>OLD State Level Nuclear Programs</td>\n",
       "      <td>Positive</td>\n",
       "      <td>NaN</td>\n",
       "      <td>...</td>\n",
       "      <td>None (Legacy Other)</td>\n",
       "      <td>NPR</td>\n",
       "      <td>NaN</td>\n",
       "      <td>Kelly, Mary</td>\n",
       "      <td>NaN</td>\n",
       "      <td>NaN</td>\n",
       "      <td>NaN</td>\n",
       "      <td>NaN</td>\n",
       "      <td>For His Book 'Directorate S,' Journalist Steve...</td>\n",
       "      <td>Steve Coll</td>\n",
       "    </tr>\n",
       "  </tbody>\n",
       "</table>\n",
       "<p>5 rows × 30 columns</p>\n",
       "</div>"
      ],
      "text/plain": [
       "      artdate  Article ID                                           Headline  \\\n",
       "0  2018-02-23     3777413  Can James Mattis Prevent Nuclear War With Nort...   \n",
       "1  2018-02-23     3777413  Can James Mattis Prevent Nuclear War With Nort...   \n",
       "2  2018-02-23     3777413  Can James Mattis Prevent Nuclear War With Nort...   \n",
       "3  2018-02-23     3777413  Can James Mattis Prevent Nuclear War With Nort...   \n",
       "4  2018-02-15     3777414  For His Book 'Directorate S,' Journalist Steve...   \n",
       "\n",
       "   Quote ID Article Status Article Position           Messages  \\\n",
       "0   7105520           News          Neutral  OLD Proliferation   \n",
       "1   7105517           News          Neutral  OLD Proliferation   \n",
       "2   7105518           News          Neutral  OLD Proliferation   \n",
       "3   7105527           News          Neutral  OLD Proliferation   \n",
       "4   7105525           News          Neutral  OLD Proliferation   \n",
       "\n",
       "                        Submessages Quote Position Legacy Quote Tag  ...  \\\n",
       "0  OLD State Level Nuclear Programs        Neutral              NaN  ...   \n",
       "1  OLD State Level Nuclear Programs        Neutral              NaN  ...   \n",
       "2  OLD State Level Nuclear Programs       Positive              NaN  ...   \n",
       "3  OLD State Level Nuclear Programs        Neutral              NaN  ...   \n",
       "4  OLD State Level Nuclear Programs       Positive              NaN  ...   \n",
       "\n",
       "     Constituent Group Media Name Media Medium       Journalist Name  \\\n",
       "0  None (Legacy Other)  News Week          NaN  Fryer-biggs, Zachary   \n",
       "1  None (Legacy Other)  News Week          NaN  Fryer-biggs, Zachary   \n",
       "2                  NaN  News Week          NaN  Fryer-biggs, Zachary   \n",
       "3                  NaN  News Week          NaN  Fryer-biggs, Zachary   \n",
       "4  None (Legacy Other)        NPR          NaN           Kelly, Mary   \n",
       "\n",
       "  Constituent Author Article Issues Custom Group Media Group  \\\n",
       "0                NaN            NaN          NaN         NaN   \n",
       "1                NaN            NaN          NaN         NaN   \n",
       "2                NaN            NaN          NaN         NaN   \n",
       "3                NaN            NaN          NaN         NaN   \n",
       "4                NaN            NaN          NaN         NaN   \n",
       "\n",
       "                                            fulltext source_name_cleaned  \n",
       "0  Can James Mattis Prevent Nuclear War With Nort...        James Mattis  \n",
       "1  Can James Mattis Prevent Nuclear War With Nort...        James Mattis  \n",
       "2  Can James Mattis Prevent Nuclear War With Nort...     Leon E. Panetta  \n",
       "3  Can James Mattis Prevent Nuclear War With Nort...         Chuck Hagel  \n",
       "4  For His Book 'Directorate S,' Journalist Steve...          Steve Coll  \n",
       "\n",
       "[5 rows x 30 columns]"
      ]
     },
     "execution_count": 62,
     "metadata": {},
     "output_type": "execute_result"
    }
   ],
   "source": [
    "GNI88.head()"
   ]
  },
  {
   "cell_type": "markdown",
   "id": "c99f7969",
   "metadata": {},
   "source": [
    "### Subjectivity Feature Function"
   ]
  },
  {
   "cell_type": "code",
   "execution_count": 63,
   "id": "6d08b548",
   "metadata": {},
   "outputs": [],
   "source": [
    "#Loading the MPQA Subjectivity Clues Lexicon (https://mpqa.cs.pitt.edu/lexicons/subj_lexicon/)\n",
    "mpqa_dict = json.load(open(\"/Users/carla/Desktop/internships/rethinkmedia/mpqa_dict.json\", \"r\"))\n",
    "\n",
    "def get_subjectivity(art_str, mpqa_dict):\n",
    "    subjectivity, adjectives, sub_adjectives = 0, 0, 0\n",
    "    words = re.sub(\"[^\\w]\", \" \",  art_str).split()\n",
    "    \n",
    "    for w in words:\n",
    "        if w in mpqa_dict:  \n",
    "            if mpqa_dict[w]['subj'] == 'weaksubj':\n",
    "                subjectivity += 0.1\n",
    "            if mpqa_dict[w]['subj'] == 'strongsubj':\n",
    "                subjectivity += 1\n",
    "            if mpqa_dict[w]['pos'] == 'adj' :\n",
    "                adjectives += 1\n",
    "                if mpqa_dict[w]['subj'] == 'weaksubj':\n",
    "                    sub_adjectives += 0.1\n",
    "                if mpqa_dict[w]['subj'] == 'strongsubj':\n",
    "                    sub_adjectives += 1\n",
    "    \n",
    "    return subjectivity, sub_adjectives"
   ]
  },
  {
   "cell_type": "markdown",
   "id": "dc69e37b",
   "metadata": {},
   "source": [
    "### Sentiment Feature Function"
   ]
  },
  {
   "cell_type": "markdown",
   "id": "4f693f0f",
   "metadata": {},
   "source": [
    "### Idea1: divide paragraphs in sentences"
   ]
  },
  {
   "cell_type": "code",
   "execution_count": 64,
   "id": "dbfebbc9",
   "metadata": {},
   "outputs": [],
   "source": [
    "vader = SentimentIntensityAnalyzer()\n",
    "\n",
    "def sentence_vader(string):\n",
    "    sentence_list = tokenize.sent_tokenize(string)\n",
    "    score_list = []\n",
    "    for sentence in sentence_list:\n",
    "        score = vader.polarity_scores(sentence)\n",
    "        score_list.append(score['compound'])\n",
    "    return np.mean(score_list)"
   ]
  },
  {
   "cell_type": "code",
   "execution_count": 65,
   "id": "8b734ab7",
   "metadata": {},
   "outputs": [
    {
     "data": {
      "text/plain": [
       "0.4036"
      ]
     },
     "execution_count": 65,
     "metadata": {},
     "output_type": "execute_result"
    }
   ],
   "source": [
    "sentence_vader(GNI88['QText'][234016])"
   ]
  },
  {
   "cell_type": "code",
   "execution_count": 80,
   "id": "8ebfb981",
   "metadata": {},
   "outputs": [],
   "source": [
    "GNI88_vader1 = GNI88.copy()\n",
    "GNI88_vader1['Quote Sentiment Score'] = GNI88['QText'].apply(lambda x: sentence_vader(x))"
   ]
  },
  {
   "cell_type": "code",
   "execution_count": 81,
   "id": "079f5293",
   "metadata": {},
   "outputs": [
    {
     "data": {
      "text/html": [
       "<div>\n",
       "<style scoped>\n",
       "    .dataframe tbody tr th:only-of-type {\n",
       "        vertical-align: middle;\n",
       "    }\n",
       "\n",
       "    .dataframe tbody tr th {\n",
       "        vertical-align: top;\n",
       "    }\n",
       "\n",
       "    .dataframe thead th {\n",
       "        text-align: right;\n",
       "    }\n",
       "</style>\n",
       "<table border=\"1\" class=\"dataframe\">\n",
       "  <thead>\n",
       "    <tr style=\"text-align: right;\">\n",
       "      <th></th>\n",
       "      <th>artdate</th>\n",
       "      <th>Article ID</th>\n",
       "      <th>Headline</th>\n",
       "      <th>Quote ID</th>\n",
       "      <th>Article Status</th>\n",
       "      <th>Article Position</th>\n",
       "      <th>Messages</th>\n",
       "      <th>Submessages</th>\n",
       "      <th>Quote Position</th>\n",
       "      <th>Legacy Quote Tag</th>\n",
       "      <th>...</th>\n",
       "      <th>Media Name</th>\n",
       "      <th>Media Medium</th>\n",
       "      <th>Journalist Name</th>\n",
       "      <th>Constituent Author</th>\n",
       "      <th>Article Issues</th>\n",
       "      <th>Custom Group</th>\n",
       "      <th>Media Group</th>\n",
       "      <th>fulltext</th>\n",
       "      <th>source_name_cleaned</th>\n",
       "      <th>Quote Sentiment Score</th>\n",
       "    </tr>\n",
       "  </thead>\n",
       "  <tbody>\n",
       "    <tr>\n",
       "      <th>0</th>\n",
       "      <td>2018-02-23</td>\n",
       "      <td>3777413</td>\n",
       "      <td>Can James Mattis Prevent Nuclear War With Nort...</td>\n",
       "      <td>7105520</td>\n",
       "      <td>News</td>\n",
       "      <td>Neutral</td>\n",
       "      <td>OLD Proliferation</td>\n",
       "      <td>OLD State Level Nuclear Programs</td>\n",
       "      <td>Neutral</td>\n",
       "      <td>NaN</td>\n",
       "      <td>...</td>\n",
       "      <td>News Week</td>\n",
       "      <td>NaN</td>\n",
       "      <td>Fryer-biggs, Zachary</td>\n",
       "      <td>NaN</td>\n",
       "      <td>NaN</td>\n",
       "      <td>NaN</td>\n",
       "      <td>NaN</td>\n",
       "      <td>Can James Mattis Prevent Nuclear War With Nort...</td>\n",
       "      <td>James Mattis</td>\n",
       "      <td>0.3182</td>\n",
       "    </tr>\n",
       "    <tr>\n",
       "      <th>1</th>\n",
       "      <td>2018-02-23</td>\n",
       "      <td>3777413</td>\n",
       "      <td>Can James Mattis Prevent Nuclear War With Nort...</td>\n",
       "      <td>7105517</td>\n",
       "      <td>News</td>\n",
       "      <td>Neutral</td>\n",
       "      <td>OLD Proliferation</td>\n",
       "      <td>OLD State Level Nuclear Programs</td>\n",
       "      <td>Neutral</td>\n",
       "      <td>NaN</td>\n",
       "      <td>...</td>\n",
       "      <td>News Week</td>\n",
       "      <td>NaN</td>\n",
       "      <td>Fryer-biggs, Zachary</td>\n",
       "      <td>NaN</td>\n",
       "      <td>NaN</td>\n",
       "      <td>NaN</td>\n",
       "      <td>NaN</td>\n",
       "      <td>Can James Mattis Prevent Nuclear War With Nort...</td>\n",
       "      <td>James Mattis</td>\n",
       "      <td>0.0000</td>\n",
       "    </tr>\n",
       "    <tr>\n",
       "      <th>2</th>\n",
       "      <td>2018-02-23</td>\n",
       "      <td>3777413</td>\n",
       "      <td>Can James Mattis Prevent Nuclear War With Nort...</td>\n",
       "      <td>7105518</td>\n",
       "      <td>News</td>\n",
       "      <td>Neutral</td>\n",
       "      <td>OLD Proliferation</td>\n",
       "      <td>OLD State Level Nuclear Programs</td>\n",
       "      <td>Positive</td>\n",
       "      <td>NaN</td>\n",
       "      <td>...</td>\n",
       "      <td>News Week</td>\n",
       "      <td>NaN</td>\n",
       "      <td>Fryer-biggs, Zachary</td>\n",
       "      <td>NaN</td>\n",
       "      <td>NaN</td>\n",
       "      <td>NaN</td>\n",
       "      <td>NaN</td>\n",
       "      <td>Can James Mattis Prevent Nuclear War With Nort...</td>\n",
       "      <td>Leon E. Panetta</td>\n",
       "      <td>-0.3546</td>\n",
       "    </tr>\n",
       "    <tr>\n",
       "      <th>3</th>\n",
       "      <td>2018-02-23</td>\n",
       "      <td>3777413</td>\n",
       "      <td>Can James Mattis Prevent Nuclear War With Nort...</td>\n",
       "      <td>7105527</td>\n",
       "      <td>News</td>\n",
       "      <td>Neutral</td>\n",
       "      <td>OLD Proliferation</td>\n",
       "      <td>OLD State Level Nuclear Programs</td>\n",
       "      <td>Neutral</td>\n",
       "      <td>NaN</td>\n",
       "      <td>...</td>\n",
       "      <td>News Week</td>\n",
       "      <td>NaN</td>\n",
       "      <td>Fryer-biggs, Zachary</td>\n",
       "      <td>NaN</td>\n",
       "      <td>NaN</td>\n",
       "      <td>NaN</td>\n",
       "      <td>NaN</td>\n",
       "      <td>Can James Mattis Prevent Nuclear War With Nort...</td>\n",
       "      <td>Chuck Hagel</td>\n",
       "      <td>0.5348</td>\n",
       "    </tr>\n",
       "    <tr>\n",
       "      <th>4</th>\n",
       "      <td>2018-02-15</td>\n",
       "      <td>3777414</td>\n",
       "      <td>For His Book 'Directorate S,' Journalist Steve...</td>\n",
       "      <td>7105525</td>\n",
       "      <td>News</td>\n",
       "      <td>Neutral</td>\n",
       "      <td>OLD Proliferation</td>\n",
       "      <td>OLD State Level Nuclear Programs</td>\n",
       "      <td>Positive</td>\n",
       "      <td>NaN</td>\n",
       "      <td>...</td>\n",
       "      <td>NPR</td>\n",
       "      <td>NaN</td>\n",
       "      <td>Kelly, Mary</td>\n",
       "      <td>NaN</td>\n",
       "      <td>NaN</td>\n",
       "      <td>NaN</td>\n",
       "      <td>NaN</td>\n",
       "      <td>For His Book 'Directorate S,' Journalist Steve...</td>\n",
       "      <td>Steve Coll</td>\n",
       "      <td>0.0876</td>\n",
       "    </tr>\n",
       "  </tbody>\n",
       "</table>\n",
       "<p>5 rows × 31 columns</p>\n",
       "</div>"
      ],
      "text/plain": [
       "      artdate  Article ID                                           Headline  \\\n",
       "0  2018-02-23     3777413  Can James Mattis Prevent Nuclear War With Nort...   \n",
       "1  2018-02-23     3777413  Can James Mattis Prevent Nuclear War With Nort...   \n",
       "2  2018-02-23     3777413  Can James Mattis Prevent Nuclear War With Nort...   \n",
       "3  2018-02-23     3777413  Can James Mattis Prevent Nuclear War With Nort...   \n",
       "4  2018-02-15     3777414  For His Book 'Directorate S,' Journalist Steve...   \n",
       "\n",
       "   Quote ID Article Status Article Position           Messages  \\\n",
       "0   7105520           News          Neutral  OLD Proliferation   \n",
       "1   7105517           News          Neutral  OLD Proliferation   \n",
       "2   7105518           News          Neutral  OLD Proliferation   \n",
       "3   7105527           News          Neutral  OLD Proliferation   \n",
       "4   7105525           News          Neutral  OLD Proliferation   \n",
       "\n",
       "                        Submessages Quote Position Legacy Quote Tag  ...  \\\n",
       "0  OLD State Level Nuclear Programs        Neutral              NaN  ...   \n",
       "1  OLD State Level Nuclear Programs        Neutral              NaN  ...   \n",
       "2  OLD State Level Nuclear Programs       Positive              NaN  ...   \n",
       "3  OLD State Level Nuclear Programs        Neutral              NaN  ...   \n",
       "4  OLD State Level Nuclear Programs       Positive              NaN  ...   \n",
       "\n",
       "  Media Name Media Medium       Journalist Name Constituent Author  \\\n",
       "0  News Week          NaN  Fryer-biggs, Zachary                NaN   \n",
       "1  News Week          NaN  Fryer-biggs, Zachary                NaN   \n",
       "2  News Week          NaN  Fryer-biggs, Zachary                NaN   \n",
       "3  News Week          NaN  Fryer-biggs, Zachary                NaN   \n",
       "4        NPR          NaN           Kelly, Mary                NaN   \n",
       "\n",
       "  Article Issues Custom Group Media Group  \\\n",
       "0            NaN          NaN         NaN   \n",
       "1            NaN          NaN         NaN   \n",
       "2            NaN          NaN         NaN   \n",
       "3            NaN          NaN         NaN   \n",
       "4            NaN          NaN         NaN   \n",
       "\n",
       "                                            fulltext source_name_cleaned  \\\n",
       "0  Can James Mattis Prevent Nuclear War With Nort...        James Mattis   \n",
       "1  Can James Mattis Prevent Nuclear War With Nort...        James Mattis   \n",
       "2  Can James Mattis Prevent Nuclear War With Nort...     Leon E. Panetta   \n",
       "3  Can James Mattis Prevent Nuclear War With Nort...         Chuck Hagel   \n",
       "4  For His Book 'Directorate S,' Journalist Steve...          Steve Coll   \n",
       "\n",
       "  Quote Sentiment Score  \n",
       "0                0.3182  \n",
       "1                0.0000  \n",
       "2               -0.3546  \n",
       "3                0.5348  \n",
       "4                0.0876  \n",
       "\n",
       "[5 rows x 31 columns]"
      ]
     },
     "execution_count": 81,
     "metadata": {},
     "output_type": "execute_result"
    }
   ],
   "source": [
    "GNI88_vader1.head()"
   ]
  },
  {
   "cell_type": "code",
   "execution_count": 82,
   "id": "fc052d03",
   "metadata": {},
   "outputs": [
    {
     "name": "stdout",
     "output_type": "stream",
     "text": [
      "0.007077091577354983\n",
      "0.982\n",
      "-0.9895\n",
      "52056\n",
      "290017\n"
     ]
    }
   ],
   "source": [
    "print(np.mean(GNI88_vader1['Quote Sentiment Score']))\n",
    "print(np.max(GNI88_vader1['Quote Sentiment Score']))\n",
    "print(np.min(GNI88_vader1['Quote Sentiment Score']))\n",
    "print(np.argmax(GNI88_vader1['Quote Sentiment Score']))\n",
    "print(np.argmin(GNI88_vader1['Quote Sentiment Score']))"
   ]
  },
  {
   "cell_type": "code",
   "execution_count": 83,
   "id": "2a2a01ba",
   "metadata": {},
   "outputs": [
    {
     "name": "stdout",
     "output_type": "stream",
     "text": [
      "We seek peace always as a country, as does Japan, but as you know and the United States knows, peace comes through strength and we will stand strongly with Japan and strongly with our allies for a peace and security in this region,\n",
      "\n",
      "\"A war with 15-kt weapons,\"   or about the explosive force of the weapons deployed against Hiroshima and Nagasaki   \"could lead to fatalities approximately equal to those worldwide in WWII and a war with 100-kt weapons could directly kill about 2.5 times as many as died worldwide in WWII, and in this nuclear war, the fatalities could occur in a single week,\"\n",
      "\n"
     ]
    }
   ],
   "source": [
    "print(GNI88_vader1['QText'][52056] + \"\\n\")\n",
    "print(GNI88_vader1['QText'][290017] + \"\\n\")"
   ]
  },
  {
   "cell_type": "code",
   "execution_count": 85,
   "id": "b3c0e640",
   "metadata": {},
   "outputs": [],
   "source": [
    "def sentiment_class(x):\n",
    "    if x > 0:\n",
    "        return \"Positive\"\n",
    "    if x < 0:\n",
    "        return \"Negative\"\n",
    "    else: \n",
    "        return \"Neutral\"\n",
    "\n",
    "GNI88_vader1['Quote Sentiment'] = GNI88_vader1['Quote Sentiment Score'].apply(lambda x: sentiment_class(x))"
   ]
  },
  {
   "cell_type": "code",
   "execution_count": 86,
   "id": "9587422b",
   "metadata": {},
   "outputs": [],
   "source": [
    "vader_FG = GNI88_vader1[GNI88_vader1['Source Type'] == 'Foreign Government']\n",
    "vader_E = GNI88_vader1[GNI88_vader1['Source Type'] == 'Experts']\n",
    "vader_UC = GNI88_vader1[GNI88_vader1['Source Type'] == 'US Congress']\n",
    "vader_UF = GNI88_vader1[GNI88_vader1['Source Type'] == 'US Federal Officials']\n",
    "vader_UD = GNI88_vader1[GNI88_vader1['Source Type'] == 'US Defense']\n",
    "vader_M = GNI88_vader1[GNI88_vader1['Source Type'] == 'Media']\n",
    "vader_CO = GNI88_vader1[GNI88_vader1['Source Type'] == 'Corporate Official']\n",
    "vader_O = GNI88_vader1[GNI88_vader1['Source Type'] == 'Other']"
   ]
  },
  {
   "cell_type": "code",
   "execution_count": 95,
   "id": "33bb267d",
   "metadata": {},
   "outputs": [
    {
     "name": "stdout",
     "output_type": "stream",
     "text": [
      "0.01484532303790394\n"
     ]
    },
    {
     "data": {
      "image/png": "[encoded data removed]",
      "text/plain": [
       "<Figure size 432x288 with 1 Axes>"
      ]
     },
     "metadata": {},
     "output_type": "display_data"
    }
   ],
   "source": [
    "## Foreign Government\n",
    "\n",
    "sns.set(style=\"darkgrid\")\n",
    "sns.set(font_scale=1)\n",
    "sns.histplot(data=vader_FG, x='Quote Sentiment', stat = \"probability\", discrete=True) \n",
    "print(np.mean(vader_FG['Quote Sentiment Score']))"
   ]
  },
  {
   "cell_type": "code",
   "execution_count": 96,
   "id": "aacc96ca",
   "metadata": {},
   "outputs": [
    {
     "name": "stdout",
     "output_type": "stream",
     "text": [
      "-0.013004982143749618\n"
     ]
    },
    {
     "data": {
      "image/png": "[encoded data removed]",
      "text/plain": [
       "<Figure size 432x288 with 1 Axes>"
      ]
     },
     "metadata": {},
     "output_type": "display_data"
    }
   ],
   "source": [
    "## Expert\n",
    "\n",
    "sns.histplot(data=vader_E, x='Quote Sentiment', stat = \"probability\", discrete=True) \n",
    "print(np.mean(vader_E['Quote Sentiment Score']))"
   ]
  },
  {
   "cell_type": "code",
   "execution_count": 97,
   "id": "5c25dc22",
   "metadata": {},
   "outputs": [
    {
     "name": "stdout",
     "output_type": "stream",
     "text": [
      "0.01704340577902237\n"
     ]
    },
    {
     "data": {
      "image/png": "[encoded data removed]",
      "text/plain": [
       "<Figure size 432x288 with 1 Axes>"
      ]
     },
     "metadata": {},
     "output_type": "display_data"
    }
   ],
   "source": [
    "## US Congress\n",
    "\n",
    "sns.histplot(data=vader_UC, x='Quote Sentiment', stat = \"probability\", discrete=True)\n",
    "print(np.mean(vader_UC['Quote Sentiment Score']))"
   ]
  },
  {
   "cell_type": "code",
   "execution_count": 98,
   "id": "10e286f6",
   "metadata": {},
   "outputs": [
    {
     "name": "stdout",
     "output_type": "stream",
     "text": [
      "0.03852253379440918\n"
     ]
    },
    {
     "data": {
      "image/png": "[encoded data removed]",
      "text/plain": [
       "<Figure size 432x288 with 1 Axes>"
      ]
     },
     "metadata": {},
     "output_type": "display_data"
    }
   ],
   "source": [
    "## US Federal Officials\n",
    "\n",
    "sns.histplot(data=vader_UF, x='Quote Sentiment', stat = \"probability\", discrete=True)\n",
    "print(np.mean(vader_UF['Quote Sentiment Score']))"
   ]
  },
  {
   "cell_type": "code",
   "execution_count": 99,
   "id": "e25a5910",
   "metadata": {},
   "outputs": [
    {
     "name": "stdout",
     "output_type": "stream",
     "text": [
      "-0.0019041375945658416\n"
     ]
    },
    {
     "data": {
      "image/png": "[encoded data removed]",
      "text/plain": [
       "<Figure size 432x288 with 1 Axes>"
      ]
     },
     "metadata": {},
     "output_type": "display_data"
    }
   ],
   "source": [
    "## US Defense\n",
    "\n",
    "sns.histplot(data=vader_UD, x='Quote Sentiment', stat = \"probability\", discrete=True) \n",
    "print(np.mean(vader_UD['Quote Sentiment Score']))"
   ]
  },
  {
   "cell_type": "code",
   "execution_count": 100,
   "id": "289223b0",
   "metadata": {},
   "outputs": [
    {
     "name": "stdout",
     "output_type": "stream",
     "text": [
      "-0.03063507626636084\n"
     ]
    },
    {
     "data": {
      "image/png": "[encoded data removed]",
      "text/plain": [
       "<Figure size 432x288 with 1 Axes>"
      ]
     },
     "metadata": {},
     "output_type": "display_data"
    }
   ],
   "source": [
    "## Media\n",
    "\n",
    "sns.histplot(data=vader_M, x='Quote Sentiment', stat = \"probability\", discrete=True) \n",
    "print(np.mean(vader_M['Quote Sentiment Score']))"
   ]
  },
  {
   "cell_type": "code",
   "execution_count": 101,
   "id": "aae3ce9a",
   "metadata": {},
   "outputs": [
    {
     "name": "stdout",
     "output_type": "stream",
     "text": [
      "0.05398238365744474\n"
     ]
    },
    {
     "data": {
      "image/png": "[encoded data removed]",
      "text/plain": [
       "<Figure size 432x288 with 1 Axes>"
      ]
     },
     "metadata": {},
     "output_type": "display_data"
    }
   ],
   "source": [
    "## Corporate Officials\n",
    "\n",
    "sns.histplot(data=vader_CO, x='Quote Sentiment', stat = \"probability\", discrete=True) \n",
    "print(np.mean(vader_CO['Quote Sentiment Score']))"
   ]
  },
  {
   "cell_type": "code",
   "execution_count": 102,
   "id": "1ff6780d",
   "metadata": {},
   "outputs": [
    {
     "name": "stdout",
     "output_type": "stream",
     "text": [
      "-0.08670464361301246\n"
     ]
    },
    {
     "data": {
      "image/png": "[encoded data removed]",
      "text/plain": [
       "<Figure size 432x288 with 1 Axes>"
      ]
     },
     "metadata": {},
     "output_type": "display_data"
    }
   ],
   "source": [
    "## Other\n",
    "\n",
    "sns.histplot(data=vader_O, x='Quote Sentiment', stat = \"probability\", discrete=True) \n",
    "print(np.mean(vader_O['Quote Sentiment Score']))"
   ]
  },
  {
   "cell_type": "code",
   "execution_count": 103,
   "id": "a56fd65f",
   "metadata": {},
   "outputs": [
    {
     "data": {
      "text/plain": [
       "Ttest_indResult(statistic=5.015869699180189, pvalue=5.285518204732463e-07)"
      ]
     },
     "execution_count": 103,
     "metadata": {},
     "output_type": "execute_result"
    }
   ],
   "source": [
    "## Foreign Goverment v.s all\n",
    "\n",
    "FG = vader_FG['Quote Sentiment Score'].to_numpy()\n",
    "st.ttest_ind(a=FG, b=GNI88_vader1['Quote Sentiment Score'].to_numpy(), equal_var=False)"
   ]
  },
  {
   "cell_type": "code",
   "execution_count": 104,
   "id": "c33f9c3b",
   "metadata": {},
   "outputs": [
    {
     "data": {
      "text/plain": [
       "Ttest_indResult(statistic=-11.778228619655735, pvalue=5.30431140671467e-32)"
      ]
     },
     "execution_count": 104,
     "metadata": {},
     "output_type": "execute_result"
    }
   ],
   "source": [
    "## Expert v.s all\n",
    "\n",
    "E = vader_E['Quote Sentiment Score'].to_numpy()\n",
    "st.ttest_ind(a=E, b=GNI88_vader1['Quote Sentiment Score'].to_numpy(), equal_var=False)"
   ]
  },
  {
   "cell_type": "code",
   "execution_count": 105,
   "id": "cf4262dc",
   "metadata": {},
   "outputs": [
    {
     "data": {
      "text/plain": [
       "Ttest_indResult(statistic=4.289254986831861, pvalue=1.796564927318801e-05)"
      ]
     },
     "execution_count": 105,
     "metadata": {},
     "output_type": "execute_result"
    }
   ],
   "source": [
    "## US Congress v.s all\n",
    "\n",
    "UC = vader_UC['Quote Sentiment Score'].to_numpy()\n",
    "st.ttest_ind(a=UC, b=GNI88_vader1['Quote Sentiment Score'].to_numpy(), equal_var=False)"
   ]
  },
  {
   "cell_type": "code",
   "execution_count": 106,
   "id": "a6f81575",
   "metadata": {},
   "outputs": [
    {
     "data": {
      "text/plain": [
       "Ttest_indResult(statistic=20.66730254827444, pvalue=9.23579100091581e-95)"
      ]
     },
     "execution_count": 106,
     "metadata": {},
     "output_type": "execute_result"
    }
   ],
   "source": [
    "## US Federal Official v.s all\n",
    "\n",
    "UF = vader_UF['Quote Sentiment Score'].to_numpy()\n",
    "st.ttest_ind(a=UF, b=GNI88_vader1['Quote Sentiment Score'].to_numpy(), equal_var=False)"
   ]
  },
  {
   "cell_type": "code",
   "execution_count": 107,
   "id": "7d4d7b20",
   "metadata": {},
   "outputs": [
    {
     "data": {
      "text/plain": [
       "Ttest_indResult(statistic=-2.1269024470565348, pvalue=0.03345253235973856)"
      ]
     },
     "execution_count": 107,
     "metadata": {},
     "output_type": "execute_result"
    }
   ],
   "source": [
    "## US Defense v.s all\n",
    "\n",
    "UD = vader_UD['Quote Sentiment Score'].to_numpy()\n",
    "st.ttest_ind(a=UD, b=GNI88_vader1['Quote Sentiment Score'].to_numpy(), equal_var=False)"
   ]
  },
  {
   "cell_type": "code",
   "execution_count": 108,
   "id": "27b86e86",
   "metadata": {},
   "outputs": [
    {
     "data": {
      "text/plain": [
       "Ttest_indResult(statistic=-16.760002335474073, pvalue=8.209547655441481e-63)"
      ]
     },
     "execution_count": 108,
     "metadata": {},
     "output_type": "execute_result"
    }
   ],
   "source": [
    "## Media v.s all\n",
    "\n",
    "M = vader_M['Quote Sentiment Score'].to_numpy()\n",
    "st.ttest_ind(a=M, b=GNI88_vader1['Quote Sentiment Score'].to_numpy(), equal_var=False)"
   ]
  },
  {
   "cell_type": "code",
   "execution_count": 109,
   "id": "1c3b8d62",
   "metadata": {},
   "outputs": [
    {
     "data": {
      "text/plain": [
       "Ttest_indResult(statistic=8.453739562752462, pvalue=3.6683600647145937e-17)"
      ]
     },
     "execution_count": 109,
     "metadata": {},
     "output_type": "execute_result"
    }
   ],
   "source": [
    "## Corporate Official v.s all\n",
    "\n",
    "CO = vader_CO['Quote Sentiment Score'].to_numpy()\n",
    "st.ttest_ind(a=CO, b=GNI88_vader1['Quote Sentiment Score'].to_numpy(), equal_var=False)"
   ]
  },
  {
   "cell_type": "code",
   "execution_count": 110,
   "id": "98bd8b32",
   "metadata": {},
   "outputs": [
    {
     "data": {
      "text/plain": [
       "Ttest_indResult(statistic=-28.490920828960178, pvalue=4.559978151230584e-175)"
      ]
     },
     "execution_count": 110,
     "metadata": {},
     "output_type": "execute_result"
    }
   ],
   "source": [
    "## Other v.s all\n",
    "\n",
    "O = vader_O['Quote Sentiment Score'].to_numpy()\n",
    "st.ttest_ind(a=O, b=GNI88_vader1['Quote Sentiment Score'].to_numpy(), equal_var=False)"
   ]
  },
  {
   "cell_type": "markdown",
   "id": "ce882b5b",
   "metadata": {},
   "source": [
    "### Idea2: truncate the paragraphs each 15 words"
   ]
  },
  {
   "cell_type": "code",
   "execution_count": 172,
   "id": "20992cee",
   "metadata": {},
   "outputs": [],
   "source": [
    "def vader_15(string):\n",
    "    split_string = string.split(\" \")\n",
    "    length = len(split_string)\n",
    "    sentence_list = []\n",
    "    for i in range(length//15):\n",
    "        sentence = \" \".join(split_string[i*15:(i+1)*15])\n",
    "        sentence_list.append(sentence)\n",
    "    if length % 15 != 0:\n",
    "        digit = length%15\n",
    "        remainder = \" \".join(split_string[-digit:])\n",
    "        sentence_list.append(remainder)\n",
    "    \n",
    "    score_list = []\n",
    "    for sentence in sentence_list:\n",
    "        score = vader.polarity_scores(sentence)\n",
    "        score_list.append(score['compound'])\n",
    "    return np.mean(score_list)"
   ]
  },
  {
   "cell_type": "code",
   "execution_count": 173,
   "id": "39a4d7c9",
   "metadata": {},
   "outputs": [
    {
     "data": {
      "text/plain": [
       "0.3617916666666667"
      ]
     },
     "execution_count": 173,
     "metadata": {},
     "output_type": "execute_result"
    }
   ],
   "source": [
    "vader_15(GNI88['QText'][234016])"
   ]
  },
  {
   "cell_type": "code",
   "execution_count": 174,
   "id": "18ed859f",
   "metadata": {},
   "outputs": [],
   "source": [
    "GNI88_vader2 = GNI88.copy()\n",
    "GNI88_vader2['Quote Sentiment Score'] = GNI88['QText'].apply(lambda x: vader_15(x))"
   ]
  },
  {
   "cell_type": "code",
   "execution_count": 175,
   "id": "89f9846f",
   "metadata": {},
   "outputs": [
    {
     "name": "stdout",
     "output_type": "stream",
     "text": [
      "0.0026282015326198915\n",
      "0.94155\n",
      "-0.945\n",
      "91565\n",
      "261015\n"
     ]
    }
   ],
   "source": [
    "print(np.mean(GNI88_vader2['Quote Sentiment Score']))\n",
    "print(np.max(GNI88_vader2['Quote Sentiment Score']))\n",
    "print(np.min(GNI88_vader2['Quote Sentiment Score']))\n",
    "print(np.argmax(GNI88_vader2['Quote Sentiment Score']))\n",
    "print(np.argmin(GNI88_vader2['Quote Sentiment Score']))"
   ]
  },
  {
   "cell_type": "code",
   "execution_count": 176,
   "id": "e6451cee",
   "metadata": {},
   "outputs": [
    {
     "name": "stdout",
     "output_type": "stream",
     "text": [
      "His country like him. I like him. Love him. Love him. Guess what? Yes, yes, I love him. I love him. The guy is awesome.\n",
      "\n",
      "I kill, I kill those who have killed my brother!\n",
      "\n"
     ]
    }
   ],
   "source": [
    "print(GNI88_vader2['QText'][91565] + \"\\n\")\n",
    "print(GNI88_vader2['QText'][261015] + \"\\n\")"
   ]
  },
  {
   "cell_type": "code",
   "execution_count": 177,
   "id": "df67084b",
   "metadata": {},
   "outputs": [],
   "source": [
    "GNI88_vader2['Quote Sentiment'] = GNI88_vader2['Quote Sentiment Score'].apply(lambda x: sentiment_class(x))"
   ]
  },
  {
   "cell_type": "code",
   "execution_count": 178,
   "id": "ac89c26b",
   "metadata": {},
   "outputs": [],
   "source": [
    "vader_FG = GNI88_vader2[GNI88_vader2['Source Type'] == 'Foreign Government']\n",
    "vader_E = GNI88_vader2[GNI88_vader2['Source Type'] == 'Experts']\n",
    "vader_UC = GNI88_vader2[GNI88_vader2['Source Type'] == 'US Congress']\n",
    "vader_UF = GNI88_vader2[GNI88_vader2['Source Type'] == 'US Federal Officials']\n",
    "vader_UD = GNI88_vader2[GNI88_vader2['Source Type'] == 'US Defense']\n",
    "vader_M = GNI88_vader2[GNI88_vader2['Source Type'] == 'Media']\n",
    "vader_CO = GNI88_vader2[GNI88_vader2['Source Type'] == 'Corporate Official']\n",
    "vader_O = GNI88_vader2[GNI88_vader2['Source Type'] == 'Other']"
   ]
  },
  {
   "cell_type": "code",
   "execution_count": 179,
   "id": "a0c551ed",
   "metadata": {},
   "outputs": [
    {
     "name": "stdout",
     "output_type": "stream",
     "text": [
      "0.007048029321877197\n"
     ]
    },
    {
     "data": {
      "image/png": "[encoded data removed]",
      "text/plain": [
       "<Figure size 432x288 with 1 Axes>"
      ]
     },
     "metadata": {},
     "output_type": "display_data"
    }
   ],
   "source": [
    "## Foreign Government\n",
    "\n",
    "sns.set(style=\"darkgrid\")\n",
    "sns.set(font_scale=1)\n",
    "sns.histplot(data=vader_FG, x='Quote Sentiment', stat = \"probability\", discrete=True) \n",
    "print(np.mean(vader_FG['Quote Sentiment Score']))"
   ]
  },
  {
   "cell_type": "code",
   "execution_count": 180,
   "id": "3b7eee15",
   "metadata": {},
   "outputs": [
    {
     "name": "stdout",
     "output_type": "stream",
     "text": [
      "-0.009834045668854303\n"
     ]
    },
    {
     "data": {
      "image/png": "[encoded data removed]",
      "text/plain": [
       "<Figure size 432x288 with 1 Axes>"
      ]
     },
     "metadata": {},
     "output_type": "display_data"
    }
   ],
   "source": [
    "## Expert\n",
    "\n",
    "sns.histplot(data=vader_E, x='Quote Sentiment', stat = \"probability\", discrete=True) \n",
    "print(np.mean(vader_E['Quote Sentiment Score']))"
   ]
  },
  {
   "cell_type": "code",
   "execution_count": 181,
   "id": "07b5e0fa",
   "metadata": {},
   "outputs": [
    {
     "name": "stdout",
     "output_type": "stream",
     "text": [
      "0.007481159603939562\n"
     ]
    },
    {
     "data": {
      "image/png": "[encoded data removed]",
      "text/plain": [
       "<Figure size 432x288 with 1 Axes>"
      ]
     },
     "metadata": {},
     "output_type": "display_data"
    }
   ],
   "source": [
    "## US Congress\n",
    "\n",
    "sns.histplot(data=vader_UC, x='Quote Sentiment', stat = \"probability\", discrete=True)\n",
    "print(np.mean(vader_UC['Quote Sentiment Score']))"
   ]
  },
  {
   "cell_type": "code",
   "execution_count": 182,
   "id": "58f8a93a",
   "metadata": {},
   "outputs": [
    {
     "name": "stdout",
     "output_type": "stream",
     "text": [
      "0.02240908437952389\n"
     ]
    },
    {
     "data": {
      "image/png": "[encoded data removed]",
      "text/plain": [
       "<Figure size 432x288 with 1 Axes>"
      ]
     },
     "metadata": {},
     "output_type": "display_data"
    }
   ],
   "source": [
    "## US Federal Officials\n",
    "\n",
    "sns.histplot(data=vader_UF, x='Quote Sentiment', stat = \"probability\", discrete=True)\n",
    "print(np.mean(vader_UF['Quote Sentiment Score']))"
   ]
  },
  {
   "cell_type": "code",
   "execution_count": 183,
   "id": "d7839421",
   "metadata": {},
   "outputs": [
    {
     "name": "stdout",
     "output_type": "stream",
     "text": [
      "-0.0018116396943822623\n"
     ]
    },
    {
     "data": {
      "image/png": "[encoded data removed]",
      "text/plain": [
       "<Figure size 432x288 with 1 Axes>"
      ]
     },
     "metadata": {},
     "output_type": "display_data"
    }
   ],
   "source": [
    "## US Defense\n",
    "\n",
    "sns.histplot(data=vader_UD, x='Quote Sentiment', stat = \"probability\", discrete=True) \n",
    "print(np.mean(vader_UD['Quote Sentiment Score']))"
   ]
  },
  {
   "cell_type": "code",
   "execution_count": 184,
   "id": "6173f01f",
   "metadata": {},
   "outputs": [
    {
     "name": "stdout",
     "output_type": "stream",
     "text": [
      "-0.020456421942934053\n"
     ]
    },
    {
     "data": {
      "image/png": "[encoded data removed]",
      "text/plain": [
       "<Figure size 432x288 with 1 Axes>"
      ]
     },
     "metadata": {},
     "output_type": "display_data"
    }
   ],
   "source": [
    "## Media\n",
    "\n",
    "sns.histplot(data=vader_M, x='Quote Sentiment', stat = \"probability\", discrete=True) \n",
    "print(np.mean(vader_M['Quote Sentiment Score']))"
   ]
  },
  {
   "cell_type": "code",
   "execution_count": 185,
   "id": "2e0553ec",
   "metadata": {},
   "outputs": [
    {
     "name": "stdout",
     "output_type": "stream",
     "text": [
      "0.031172418343475124\n"
     ]
    },
    {
     "data": {
      "image/png": "[encoded data removed]",
      "text/plain": [
       "<Figure size 432x288 with 1 Axes>"
      ]
     },
     "metadata": {},
     "output_type": "display_data"
    }
   ],
   "source": [
    "## Corporate Officials\n",
    "\n",
    "sns.histplot(data=vader_CO, x='Quote Sentiment', stat = \"probability\", discrete=True) \n",
    "print(np.mean(vader_CO['Quote Sentiment Score']))"
   ]
  },
  {
   "cell_type": "code",
   "execution_count": 186,
   "id": "fc070401",
   "metadata": {},
   "outputs": [
    {
     "name": "stdout",
     "output_type": "stream",
     "text": [
      "-0.05319668249917068\n"
     ]
    },
    {
     "data": {
      "image/png": "[encoded data removed]",
      "text/plain": [
       "<Figure size 432x288 with 1 Axes>"
      ]
     },
     "metadata": {},
     "output_type": "display_data"
    }
   ],
   "source": [
    "## Other\n",
    "\n",
    "sns.histplot(data=vader_O, x='Quote Sentiment', stat = \"probability\", discrete=True) \n",
    "print(np.mean(vader_O['Quote Sentiment Score']))"
   ]
  },
  {
   "cell_type": "code",
   "execution_count": 189,
   "id": "919e5bc7",
   "metadata": {},
   "outputs": [
    {
     "data": {
      "text/plain": [
       "Ttest_indResult(statistic=4.285921585571204, pvalue=1.8210026324120282e-05)"
      ]
     },
     "execution_count": 189,
     "metadata": {},
     "output_type": "execute_result"
    }
   ],
   "source": [
    "## Foreign Goverment v.s all\n",
    "\n",
    "FG = vader_FG['Quote Sentiment Score'].to_numpy()\n",
    "st.ttest_ind(a=FG, b=GNI88_vader2['Quote Sentiment Score'].to_numpy(), equal_var=False)"
   ]
  },
  {
   "cell_type": "code",
   "execution_count": 190,
   "id": "e0a3eb83",
   "metadata": {},
   "outputs": [
    {
     "data": {
      "text/plain": [
       "Ttest_indResult(statistic=-11.414425053864717, pvalue=3.694019801294893e-30)"
      ]
     },
     "execution_count": 190,
     "metadata": {},
     "output_type": "execute_result"
    }
   ],
   "source": [
    "## Expert v.s all\n",
    "\n",
    "E = vader_E['Quote Sentiment Score'].to_numpy()\n",
    "st.ttest_ind(a=E, b=GNI88_vader2['Quote Sentiment Score'].to_numpy(), equal_var=False)"
   ]
  },
  {
   "cell_type": "code",
   "execution_count": 191,
   "id": "5359c4bb",
   "metadata": {},
   "outputs": [
    {
     "data": {
      "text/plain": [
       "Ttest_indResult(statistic=3.150554028709474, pvalue=0.0016307115769793987)"
      ]
     },
     "execution_count": 191,
     "metadata": {},
     "output_type": "execute_result"
    }
   ],
   "source": [
    "## US Congress v.s all\n",
    "\n",
    "UC = vader_UC['Quote Sentiment Score'].to_numpy()\n",
    "st.ttest_ind(a=UC, b=GNI88_vader2['Quote Sentiment Score'].to_numpy(), equal_var=False)"
   ]
  },
  {
   "cell_type": "code",
   "execution_count": 192,
   "id": "970a0f22",
   "metadata": {},
   "outputs": [
    {
     "data": {
      "text/plain": [
       "Ttest_indResult(statistic=19.87461496048787, pvalue=8.747709491245481e-88)"
      ]
     },
     "execution_count": 192,
     "metadata": {},
     "output_type": "execute_result"
    }
   ],
   "source": [
    "## US Federal Official v.s all\n",
    "\n",
    "UF = vader_UF['Quote Sentiment Score'].to_numpy()\n",
    "st.ttest_ind(a=UF, b=GNI88_vader2['Quote Sentiment Score'].to_numpy(), equal_var=False)"
   ]
  },
  {
   "cell_type": "code",
   "execution_count": 193,
   "id": "a9175a7c",
   "metadata": {},
   "outputs": [
    {
     "data": {
      "text/plain": [
       "Ttest_indResult(statistic=-1.658170064631945, pvalue=0.0973143107297289)"
      ]
     },
     "execution_count": 193,
     "metadata": {},
     "output_type": "execute_result"
    }
   ],
   "source": [
    "## US Defense v.s all\n",
    "\n",
    "UD = vader_UD['Quote Sentiment Score'].to_numpy()\n",
    "st.ttest_ind(a=UD, b=GNI88_vader2['Quote Sentiment Score'].to_numpy(), equal_var=False)"
   ]
  },
  {
   "cell_type": "code",
   "execution_count": 194,
   "id": "e6b98eb4",
   "metadata": {},
   "outputs": [
    {
     "data": {
      "text/plain": [
       "Ttest_indResult(statistic=-15.969140883641504, pvalue=3.261508828841866e-57)"
      ]
     },
     "execution_count": 194,
     "metadata": {},
     "output_type": "execute_result"
    }
   ],
   "source": [
    "## Media v.s all\n",
    "\n",
    "M = vader_M['Quote Sentiment Score'].to_numpy()\n",
    "st.ttest_ind(a=M, b=GNI88_vader2['Quote Sentiment Score'].to_numpy(), equal_var=False)"
   ]
  },
  {
   "cell_type": "code",
   "execution_count": 195,
   "id": "068d49c6",
   "metadata": {},
   "outputs": [
    {
     "data": {
      "text/plain": [
       "Ttest_indResult(statistic=7.698116951320243, pvalue=1.656660948087668e-14)"
      ]
     },
     "execution_count": 195,
     "metadata": {},
     "output_type": "execute_result"
    }
   ],
   "source": [
    "## Corporate Official v.s all\n",
    "\n",
    "CO = vader_CO['Quote Sentiment Score'].to_numpy()\n",
    "st.ttest_ind(a=CO, b=GNI88_vader2['Quote Sentiment Score'].to_numpy(), equal_var=False)"
   ]
  },
  {
   "cell_type": "code",
   "execution_count": 196,
   "id": "eab477dc",
   "metadata": {},
   "outputs": [
    {
     "data": {
      "text/plain": [
       "Ttest_indResult(statistic=-26.45784950765612, pvalue=1.145180138269566e-151)"
      ]
     },
     "execution_count": 196,
     "metadata": {},
     "output_type": "execute_result"
    }
   ],
   "source": [
    "## Other v.s all\n",
    "\n",
    "O = vader_O['Quote Sentiment Score'].to_numpy()\n",
    "st.ttest_ind(a=O, b=GNI88_vader2['Quote Sentiment Score'].to_numpy(), equal_var=False)"
   ]
  },
  {
   "cell_type": "code",
   "execution_count": null,
   "id": "c0f0103f",
   "metadata": {},
   "outputs": [],
   "source": []
  }
 ],
 "metadata": {
  "kernelspec": {
   "display_name": "Python 3 (ipykernel)",
   "language": "python",
   "name": "python3"
  },
  "language_info": {
   "codemirror_mode": {
    "name": "ipython",
    "version": 3
   },
   "file_extension": ".py",
   "mimetype": "text/x-python",
   "name": "python",
   "nbconvert_exporter": "python",
   "pygments_lexer": "ipython3",
   "version": "3.9.7"
  }
 },
 "nbformat": 4,
 "nbformat_minor": 5
}
