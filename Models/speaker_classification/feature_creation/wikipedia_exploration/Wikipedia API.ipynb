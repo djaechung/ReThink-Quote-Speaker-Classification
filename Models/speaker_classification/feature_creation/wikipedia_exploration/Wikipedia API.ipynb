{
 "cells": [
  {
   "cell_type": "markdown",
   "metadata": {},
   "source": [
    "## Set up Wikipedia API"
   ]
  },
  {
   "cell_type": "code",
   "execution_count": 2,
   "metadata": {
    "scrolled": true
   },
   "outputs": [
    {
     "name": "stdout",
     "output_type": "stream",
     "text": [
      "Collecting wikipedia\n",
      "  Using cached https://files.pythonhosted.org/packages/67/35/25e68fbc99e672127cc6fbb14b8ec1ba3dfef035bf1e4c90f78f24a80b7d/wikipedia-1.4.0.tar.gz\n",
      "Requirement already satisfied: beautifulsoup4 in c:\\users\\tiffl\\anaconda3\\lib\\site-packages (from wikipedia) (4.6.0)\n",
      "Requirement already satisfied: requests<3.0.0,>=2.0.0 in c:\\users\\tiffl\\anaconda3\\lib\\site-packages (from wikipedia) (2.18.4)\n",
      "Requirement already satisfied: chardet<3.1.0,>=3.0.2 in c:\\users\\tiffl\\anaconda3\\lib\\site-packages (from requests<3.0.0,>=2.0.0->wikipedia) (3.0.4)\n",
      "Requirement already satisfied: idna<2.7,>=2.5 in c:\\users\\tiffl\\anaconda3\\lib\\site-packages (from requests<3.0.0,>=2.0.0->wikipedia) (2.6)\n",
      "Requirement already satisfied: urllib3<1.23,>=1.21.1 in c:\\users\\tiffl\\anaconda3\\lib\\site-packages (from requests<3.0.0,>=2.0.0->wikipedia) (1.22)\n",
      "Requirement already satisfied: certifi>=2017.4.17 in c:\\users\\tiffl\\anaconda3\\lib\\site-packages (from requests<3.0.0,>=2.0.0->wikipedia) (2018.4.16)\n",
      "Building wheels for collected packages: wikipedia\n",
      "  Building wheel for wikipedia (setup.py): started\n",
      "  Building wheel for wikipedia (setup.py): finished with status 'done'\n",
      "  Stored in directory: C:\\Users\\tiffl\\AppData\\Local\\pip\\Cache\\wheels\\87\\2a\\18\\4e471fd96d12114d16fe4a446d00c3b38fb9efcb744bd31f4a\n",
      "Successfully built wikipedia\n",
      "Installing collected packages: wikipedia\n",
      "Successfully installed wikipedia-1.4.0\n"
     ]
    },
    {
     "name": "stderr",
     "output_type": "stream",
     "text": [
      "WARNING: You are using pip version 19.1.1, however version 21.3.1 is available.\n",
      "You should consider upgrading via the 'python -m pip install --upgrade pip' command.\n"
     ]
    }
   ],
   "source": [
    "!pip install wikipedia"
   ]
  },
  {
   "cell_type": "code",
   "execution_count": 26,
   "metadata": {},
   "outputs": [],
   "source": [
    "import wikipedia\n",
    "# the following imports resolve the certificate error\n",
    "import os\n",
    "import urllib3\n",
    "urllib3.disable_warnings(urllib3.exceptions.InsecureRequestWarning)\n",
    "os.environ['CURL_CA_BUNDLE'] = \"\"\n",
    "os.environ['PYTHONWARNINGS']=\"ignore:Unverified HTTPS request\""
   ]
  },
  {
   "cell_type": "markdown",
   "metadata": {},
   "source": [
    "## Testing Wikipedia API Functions"
   ]
  },
  {
   "cell_type": "code",
   "execution_count": 31,
   "metadata": {},
   "outputs": [
    {
     "name": "stdout",
     "output_type": "stream",
     "text": [
      "['Joe Biden', 'Hunter Biden', 'Jill Biden', 'Biden–Ukraine conspiracy theory', 'Family of Joe Biden', 'Beau Biden', 'Ashley Biden', 'Presidency of Joe Biden', 'Neilia Hunter Biden', 'Cabinet of Joe Biden']\n",
      "1.01 µs ± 33.1 ns per loop (mean ± std. dev. of 7 runs, 1000000 loops each)\n"
     ]
    }
   ],
   "source": [
    "# getting suggestions\n",
    "print(wikipedia.search(\"Biden\"))\n",
    "%timeit wikipedia.search(\"Biden\")"
   ]
  },
  {
   "cell_type": "code",
   "execution_count": 36,
   "metadata": {},
   "outputs": [
    {
     "name": "stdout",
     "output_type": "stream",
     "text": [
      "Joseph Robinette Biden Jr. ( BY-dən; born November 20, 1942) is an American politician who is the 46th and current president of the United States.\n"
     ]
    }
   ],
   "source": [
    "# finding result for the search\n",
    "# sentences = 2 refers to numbers of line\n",
    "result = wikipedia.summary(\"Biden\", sentences = 2)\n",
    "# WARNING: can get a disambiguation error (e.g., \"corona\"... beer? borealis? song?)\n",
    "# slight misspellings appear to still work\n",
    "\n",
    "print(result)"
   ]
  },
  {
   "cell_type": "code",
   "execution_count": 19,
   "metadata": {},
   "outputs": [
    {
     "name": "stdout",
     "output_type": "stream",
     "text": [
      "<bound method WikipediaPage.html of <WikipediaPage 'Joe Biden'>>\n",
      "Joe Biden\n",
      "['100 Days Masking Challenge', '100th United States Congress', '101st United States Congress', '102nd United States Congress', '103rd United States Congress', '104th United States Congress', '105th United States Congress', '106th United States Congress', '107th United States Congress', '108th United States Congress']\n"
     ]
    }
   ],
   "source": [
    "\"\"\"The page() method is used to get the contents, categories, coordinates, images, \n",
    "links and other metadata of a Wikipedia page.\"\"\"\n",
    "\n",
    "# wikipedia page object is created\n",
    "page_object = wikipedia.page(\"Biden\")\n",
    " \n",
    "# printing html of page_object\n",
    "print(page_object.html)\n",
    " \n",
    "# printing title\n",
    "print(page_object.original_title)\n",
    " \n",
    "# printing links on that page object\n",
    "print(page_object.links[0:10])"
   ]
  },
  {
   "cell_type": "markdown",
   "metadata": {},
   "source": [
    "## Using Wikipedia API on Speaker Names"
   ]
  },
  {
   "cell_type": "code",
   "execution_count": 51,
   "metadata": {},
   "outputs": [
    {
     "data": {
      "text/plain": [
       "\"Donald John Trump (born June 14, 1946) is an American politician, media personality, and businessman who served as the 45th president of the United States from 2017 to 2021.\\nBorn and raised in Queens, New York City, Trump graduated from the Wharton School of the University of Pennsylvania with a bachelor's degree in 1968.\""
      ]
     },
     "execution_count": 51,
     "metadata": {},
     "output_type": "execute_result"
    }
   ],
   "source": [
    "\"\"\"Given a speaker name (str), use wikipedia API to find the corresponding speaker type.\"\"\"\n",
    "def find_speaker(name, exact=True):\n",
    "    if not exact: \n",
    "        name = wikipedia.search(name)[0] #guaranteed page hit; assuming the first search result is what we want\n",
    "    first_sentences = wikipedia.summary(name, sentences = 2) #counts a period as end of a sentence\n",
    "    return first_sentences\n",
    "\n",
    "find_speaker(\"President Trump\")"
   ]
  },
  {
   "cell_type": "code",
   "execution_count": 52,
   "metadata": {},
   "outputs": [
    {
     "name": "stdout",
     "output_type": "stream",
     "text": [
      "1.6 µs ± 57.1 ns per loop (mean ± std. dev. of 7 runs, 1000000 loops each)\n"
     ]
    }
   ],
   "source": [
    "%timeit find_speaker(\"President Trump\")"
   ]
  },
  {
   "cell_type": "code",
   "execution_count": 62,
   "metadata": {},
   "outputs": [
    {
     "name": "stdout",
     "output_type": "stream",
     "text": [
      "Joseph Robinette Biden Jr. ( BY-dən; born November 20, 1942) is an American politician who is the 46th and current president of the United States.\n",
      "\n",
      " John Anthony Barrasso III ( bə-RAH-soh; born July 21, 1952) is an American physician and politician serving as the senior United States senator from Wyoming. A member of the Republican Party, he previously served in the Wyoming State Senate.\n",
      "\n",
      " Roger Frederick Wicker (born July 5, 1951) is an American attorney and politician serving as the senior United States senator from Mississippi, in office since 2007. A member of the Republican Party, Wicker previously served as a member of the United States House of Representatives and the Mississippi State Senate.\n",
      "\n",
      " Kathleen Holland Hicks (born September 25, 1970) is an American government official who has served as the United States deputy secretary of defense since February 9, 2021, where she will lead the modernization of the country's nuclear triad. Hicks is the first Senate-confirmed woman in this role.\n",
      "\n",
      " Christopher Watson Grady (born November 28, 1962) is a United States Navy admiral who serves as the 12th vice chairman of the Joint Chiefs of Staff since December 20, 2021. He most recently served as the commander of United States Fleet Forces Command and United States Naval Forces Northern Command from May 2018 to December 2021, with additional duties as commander of United States Naval Forces Strategic Command and Joint Force Maritime Component Commander from February 2019.\n"
     ]
    }
   ],
   "source": [
    "#testing a variety of names\n",
    "print(find_speaker(\"Biden\"))\n",
    "print(\"\\n\",find_speaker(\"Senator John Barrasso\"))\n",
    "print(\"\\n\",find_speaker(\"Sen Roger Wicker\"))\n",
    "print(\"\\n\",find_speaker(\"Kathleen H. Hicks\"))\n",
    "print(\"\\n\",find_speaker(\"Navy Adm. Christopher W.\"))"
   ]
  },
  {
   "cell_type": "markdown",
   "metadata": {},
   "source": [
    "Considerations:\n",
    "\n",
    "- extract speaker type from wikipedia summary... regex? NER? key words?\n",
    "- worth it compared to extracting speaker type from article? (speed concerns)\n",
    "- what are the speaker types? broad categories or specific titles\n",
    "- create system where wikipedia results are stored? first check with stored list?"
   ]
  }
 ],
 "metadata": {
  "kernelspec": {
   "display_name": "Python 3",
   "language": "python",
   "name": "python3"
  },
  "language_info": {
   "codemirror_mode": {
    "name": "ipython",
    "version": 3
   },
   "file_extension": ".py",
   "mimetype": "text/x-python",
   "name": "python",
   "nbconvert_exporter": "python",
   "pygments_lexer": "ipython3",
   "version": "3.6.5"
  }
 },
 "nbformat": 4,
 "nbformat_minor": 2
}
