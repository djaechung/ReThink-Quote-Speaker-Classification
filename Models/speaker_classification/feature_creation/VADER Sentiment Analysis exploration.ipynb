{
 "cells": [
  {
   "cell_type": "code",
   "execution_count": 1,
   "id": "d6bc681c",
   "metadata": {},
   "outputs": [],
   "source": [
    "import pandas as pd\n",
    "import numpy as np\n",
    "from collections import Counter\n",
    "import seaborn as sns\n",
    "import matplotlib.pyplot as plt\n",
    "from vaderSentiment.vaderSentiment import SentimentIntensityAnalyzer\n",
    "from scipy import stats as st\n",
    "import json\n",
    "import re\n",
    "from nltk.tokenize.regexp import WhitespaceTokenizer"
   ]
  },
  {
   "cell_type": "code",
   "execution_count": 2,
   "id": "56af0b76",
   "metadata": {},
   "outputs": [
    {
     "name": "stderr",
     "output_type": "stream",
     "text": [
      "/Users/carla/opt/anaconda3/lib/python3.9/site-packages/IPython/core/interactiveshell.py:3444: DtypeWarning: Columns (9,10,24) have mixed types.Specify dtype option on import or set low_memory=False.\n",
      "  exec(code_obj, self.user_global_ns, self.user_ns)\n"
     ]
    }
   ],
   "source": [
    "GNI88 = pd.read_csv(\"/Users/carla/Desktop/internships/rethinkmedia/GNI88_cleaned_data.csv\")"
   ]
  },
  {
   "cell_type": "code",
   "execution_count": 3,
   "id": "31a222ea",
   "metadata": {},
   "outputs": [],
   "source": [
    "GNI88 = GNI88[GNI88['Article Status']=='News'].reset_index(drop=True)"
   ]
  },
  {
   "cell_type": "code",
   "execution_count": 4,
   "id": "add7a651",
   "metadata": {},
   "outputs": [
    {
     "data": {
      "text/html": [
       "<div>\n",
       "<style scoped>\n",
       "    .dataframe tbody tr th:only-of-type {\n",
       "        vertical-align: middle;\n",
       "    }\n",
       "\n",
       "    .dataframe tbody tr th {\n",
       "        vertical-align: top;\n",
       "    }\n",
       "\n",
       "    .dataframe thead th {\n",
       "        text-align: right;\n",
       "    }\n",
       "</style>\n",
       "<table border=\"1\" class=\"dataframe\">\n",
       "  <thead>\n",
       "    <tr style=\"text-align: right;\">\n",
       "      <th></th>\n",
       "      <th>artdate</th>\n",
       "      <th>Article ID</th>\n",
       "      <th>Headline</th>\n",
       "      <th>Quote ID</th>\n",
       "      <th>Article Status</th>\n",
       "      <th>Article Position</th>\n",
       "      <th>Messages</th>\n",
       "      <th>Submessages</th>\n",
       "      <th>Quote Position</th>\n",
       "      <th>Legacy Quote Tag</th>\n",
       "      <th>...</th>\n",
       "      <th>Constituent Group</th>\n",
       "      <th>Media Name</th>\n",
       "      <th>Media Medium</th>\n",
       "      <th>Journalist Name</th>\n",
       "      <th>Constituent Author</th>\n",
       "      <th>Article Issues</th>\n",
       "      <th>Custom Group</th>\n",
       "      <th>Media Group</th>\n",
       "      <th>fulltext</th>\n",
       "      <th>source_name_cleaned</th>\n",
       "    </tr>\n",
       "  </thead>\n",
       "  <tbody>\n",
       "    <tr>\n",
       "      <th>0</th>\n",
       "      <td>2018-02-23</td>\n",
       "      <td>3777413</td>\n",
       "      <td>Can James Mattis Prevent Nuclear War With Nort...</td>\n",
       "      <td>7105520</td>\n",
       "      <td>News</td>\n",
       "      <td>Neutral</td>\n",
       "      <td>OLD Proliferation</td>\n",
       "      <td>OLD State Level Nuclear Programs</td>\n",
       "      <td>Neutral</td>\n",
       "      <td>NaN</td>\n",
       "      <td>...</td>\n",
       "      <td>None (Legacy Other)</td>\n",
       "      <td>News Week</td>\n",
       "      <td>NaN</td>\n",
       "      <td>Fryer-biggs, Zachary</td>\n",
       "      <td>NaN</td>\n",
       "      <td>NaN</td>\n",
       "      <td>NaN</td>\n",
       "      <td>NaN</td>\n",
       "      <td>Can James Mattis Prevent Nuclear War With Nort...</td>\n",
       "      <td>James Mattis</td>\n",
       "    </tr>\n",
       "    <tr>\n",
       "      <th>1</th>\n",
       "      <td>2018-02-23</td>\n",
       "      <td>3777413</td>\n",
       "      <td>Can James Mattis Prevent Nuclear War With Nort...</td>\n",
       "      <td>7105517</td>\n",
       "      <td>News</td>\n",
       "      <td>Neutral</td>\n",
       "      <td>OLD Proliferation</td>\n",
       "      <td>OLD State Level Nuclear Programs</td>\n",
       "      <td>Neutral</td>\n",
       "      <td>NaN</td>\n",
       "      <td>...</td>\n",
       "      <td>None (Legacy Other)</td>\n",
       "      <td>News Week</td>\n",
       "      <td>NaN</td>\n",
       "      <td>Fryer-biggs, Zachary</td>\n",
       "      <td>NaN</td>\n",
       "      <td>NaN</td>\n",
       "      <td>NaN</td>\n",
       "      <td>NaN</td>\n",
       "      <td>Can James Mattis Prevent Nuclear War With Nort...</td>\n",
       "      <td>James Mattis</td>\n",
       "    </tr>\n",
       "    <tr>\n",
       "      <th>2</th>\n",
       "      <td>2018-02-23</td>\n",
       "      <td>3777413</td>\n",
       "      <td>Can James Mattis Prevent Nuclear War With Nort...</td>\n",
       "      <td>7105518</td>\n",
       "      <td>News</td>\n",
       "      <td>Neutral</td>\n",
       "      <td>OLD Proliferation</td>\n",
       "      <td>OLD State Level Nuclear Programs</td>\n",
       "      <td>Positive</td>\n",
       "      <td>NaN</td>\n",
       "      <td>...</td>\n",
       "      <td>NaN</td>\n",
       "      <td>News Week</td>\n",
       "      <td>NaN</td>\n",
       "      <td>Fryer-biggs, Zachary</td>\n",
       "      <td>NaN</td>\n",
       "      <td>NaN</td>\n",
       "      <td>NaN</td>\n",
       "      <td>NaN</td>\n",
       "      <td>Can James Mattis Prevent Nuclear War With Nort...</td>\n",
       "      <td>Leon E. Panetta</td>\n",
       "    </tr>\n",
       "    <tr>\n",
       "      <th>3</th>\n",
       "      <td>2018-02-23</td>\n",
       "      <td>3777413</td>\n",
       "      <td>Can James Mattis Prevent Nuclear War With Nort...</td>\n",
       "      <td>7105527</td>\n",
       "      <td>News</td>\n",
       "      <td>Neutral</td>\n",
       "      <td>OLD Proliferation</td>\n",
       "      <td>OLD State Level Nuclear Programs</td>\n",
       "      <td>Neutral</td>\n",
       "      <td>NaN</td>\n",
       "      <td>...</td>\n",
       "      <td>NaN</td>\n",
       "      <td>News Week</td>\n",
       "      <td>NaN</td>\n",
       "      <td>Fryer-biggs, Zachary</td>\n",
       "      <td>NaN</td>\n",
       "      <td>NaN</td>\n",
       "      <td>NaN</td>\n",
       "      <td>NaN</td>\n",
       "      <td>Can James Mattis Prevent Nuclear War With Nort...</td>\n",
       "      <td>Chuck Hagel</td>\n",
       "    </tr>\n",
       "    <tr>\n",
       "      <th>4</th>\n",
       "      <td>2018-02-15</td>\n",
       "      <td>3777414</td>\n",
       "      <td>For His Book 'Directorate S,' Journalist Steve...</td>\n",
       "      <td>7105525</td>\n",
       "      <td>News</td>\n",
       "      <td>Neutral</td>\n",
       "      <td>OLD Proliferation</td>\n",
       "      <td>OLD State Level Nuclear Programs</td>\n",
       "      <td>Positive</td>\n",
       "      <td>NaN</td>\n",
       "      <td>...</td>\n",
       "      <td>None (Legacy Other)</td>\n",
       "      <td>NPR</td>\n",
       "      <td>NaN</td>\n",
       "      <td>Kelly, Mary</td>\n",
       "      <td>NaN</td>\n",
       "      <td>NaN</td>\n",
       "      <td>NaN</td>\n",
       "      <td>NaN</td>\n",
       "      <td>For His Book 'Directorate S,' Journalist Steve...</td>\n",
       "      <td>Steve Coll</td>\n",
       "    </tr>\n",
       "  </tbody>\n",
       "</table>\n",
       "<p>5 rows × 30 columns</p>\n",
       "</div>"
      ],
      "text/plain": [
       "      artdate  Article ID                                           Headline  \\\n",
       "0  2018-02-23     3777413  Can James Mattis Prevent Nuclear War With Nort...   \n",
       "1  2018-02-23     3777413  Can James Mattis Prevent Nuclear War With Nort...   \n",
       "2  2018-02-23     3777413  Can James Mattis Prevent Nuclear War With Nort...   \n",
       "3  2018-02-23     3777413  Can James Mattis Prevent Nuclear War With Nort...   \n",
       "4  2018-02-15     3777414  For His Book 'Directorate S,' Journalist Steve...   \n",
       "\n",
       "   Quote ID Article Status Article Position           Messages  \\\n",
       "0   7105520           News          Neutral  OLD Proliferation   \n",
       "1   7105517           News          Neutral  OLD Proliferation   \n",
       "2   7105518           News          Neutral  OLD Proliferation   \n",
       "3   7105527           News          Neutral  OLD Proliferation   \n",
       "4   7105525           News          Neutral  OLD Proliferation   \n",
       "\n",
       "                        Submessages Quote Position Legacy Quote Tag  ...  \\\n",
       "0  OLD State Level Nuclear Programs        Neutral              NaN  ...   \n",
       "1  OLD State Level Nuclear Programs        Neutral              NaN  ...   \n",
       "2  OLD State Level Nuclear Programs       Positive              NaN  ...   \n",
       "3  OLD State Level Nuclear Programs        Neutral              NaN  ...   \n",
       "4  OLD State Level Nuclear Programs       Positive              NaN  ...   \n",
       "\n",
       "     Constituent Group Media Name Media Medium       Journalist Name  \\\n",
       "0  None (Legacy Other)  News Week          NaN  Fryer-biggs, Zachary   \n",
       "1  None (Legacy Other)  News Week          NaN  Fryer-biggs, Zachary   \n",
       "2                  NaN  News Week          NaN  Fryer-biggs, Zachary   \n",
       "3                  NaN  News Week          NaN  Fryer-biggs, Zachary   \n",
       "4  None (Legacy Other)        NPR          NaN           Kelly, Mary   \n",
       "\n",
       "  Constituent Author Article Issues Custom Group Media Group  \\\n",
       "0                NaN            NaN          NaN         NaN   \n",
       "1                NaN            NaN          NaN         NaN   \n",
       "2                NaN            NaN          NaN         NaN   \n",
       "3                NaN            NaN          NaN         NaN   \n",
       "4                NaN            NaN          NaN         NaN   \n",
       "\n",
       "                                            fulltext source_name_cleaned  \n",
       "0  Can James Mattis Prevent Nuclear War With Nort...        James Mattis  \n",
       "1  Can James Mattis Prevent Nuclear War With Nort...        James Mattis  \n",
       "2  Can James Mattis Prevent Nuclear War With Nort...     Leon E. Panetta  \n",
       "3  Can James Mattis Prevent Nuclear War With Nort...         Chuck Hagel  \n",
       "4  For His Book 'Directorate S,' Journalist Steve...          Steve Coll  \n",
       "\n",
       "[5 rows x 30 columns]"
      ]
     },
     "execution_count": 4,
     "metadata": {},
     "output_type": "execute_result"
    }
   ],
   "source": [
    "GNI88.head()"
   ]
  },
  {
   "cell_type": "code",
   "execution_count": 5,
   "id": "d88831b4",
   "metadata": {},
   "outputs": [
    {
     "data": {
      "text/plain": [
       "(361546, 30)"
      ]
     },
     "execution_count": 5,
     "metadata": {},
     "output_type": "execute_result"
    }
   ],
   "source": [
    "GNI88.shape"
   ]
  },
  {
   "cell_type": "markdown",
   "id": "9f1a439d",
   "metadata": {},
   "source": [
    "### Vader ( lexicon and rule-based sentiment analysis tool)"
   ]
  },
  {
   "cell_type": "code",
   "execution_count": 6,
   "id": "06c1385e",
   "metadata": {},
   "outputs": [
    {
     "name": "stdout",
     "output_type": "stream",
     "text": [
      "I have modest expectations of my ability to predict Kim Jong Un's behavior,\n",
      "\n",
      "the rhetoric is up to the president.\n",
      "\n",
      "[It] could result in not only the loss of millions of lives but the possibility of a nuclear confrontation\n",
      "\n",
      "It's been essentially transactional, but we've had a pretty stable relationship with Pakistan. You can go through the other nuclear powers as well\n",
      "\n",
      "Now, Pakistan is a much larger population. It has a hundred-plus nuclear bombs. Its internal security is a matter of great interest to the United States because if Pakistan fell apart and its nuclear weapons fell into the wrong hands, it could be devastating. And so this was always the challenge.\n"
     ]
    }
   ],
   "source": [
    "print(GNI88['QText'][0] + \"\\n\")\n",
    "print(GNI88['QText'][1] + \"\\n\")\n",
    "print(GNI88['QText'][2] + \"\\n\")\n",
    "print(GNI88['QText'][3] + \"\\n\")\n",
    "print(GNI88['QText'][4] )"
   ]
  },
  {
   "cell_type": "code",
   "execution_count": 7,
   "id": "18668990",
   "metadata": {},
   "outputs": [
    {
     "name": "stdout",
     "output_type": "stream",
     "text": [
      "{'neg': 0.0, 'neu': 0.839, 'pos': 0.161, 'compound': 0.3182}\n",
      "{'neg': 0.0, 'neu': 1.0, 'pos': 0.0, 'compound': 0.0}\n",
      "{'neg': 0.138, 'neu': 0.793, 'pos': 0.069, 'compound': -0.3546}\n",
      "{'neg': 0.0, 'neu': 0.672, 'pos': 0.328, 'compound': 0.8674}\n",
      "{'neg': 0.154, 'neu': 0.627, 'pos': 0.219, 'compound': 0.34}\n"
     ]
    }
   ],
   "source": [
    "vader = SentimentIntensityAnalyzer()\n",
    "print(vader.polarity_scores(GNI88['QText'][0]))\n",
    "print(vader.polarity_scores(GNI88['QText'][1]))\n",
    "print(vader.polarity_scores(GNI88['QText'][2]))\n",
    "print(vader.polarity_scores(GNI88['QText'][3]))\n",
    "print(vader.polarity_scores(GNI88['QText'][4]))\n",
    "\n",
    "# looks good"
   ]
  },
  {
   "cell_type": "code",
   "execution_count": 8,
   "id": "a56abe84",
   "metadata": {},
   "outputs": [
    {
     "data": {
      "text/plain": [
       "329075    \"Not all of those bombers collecting data over...\n",
       "329076                                                  NaN\n",
       "Name: QText, dtype: object"
      ]
     },
     "execution_count": 8,
     "metadata": {},
     "output_type": "execute_result"
    }
   ],
   "source": [
    "GNI88[GNI88['Article ID'] == 52405317]['QText']"
   ]
  },
  {
   "cell_type": "code",
   "execution_count": 9,
   "id": "1630e636",
   "metadata": {},
   "outputs": [],
   "source": [
    "# implement\n",
    "\n",
    "GNI88 = GNI88.drop(labels=329076, axis=0)\n",
    "GNI88_vader = GNI88.copy()\n",
    "GNI88_vader['Quote Sentiment'] = GNI88_vader[\"QText\"].apply(vader.polarity_scores)"
   ]
  },
  {
   "cell_type": "code",
   "execution_count": 10,
   "id": "36fe7caa",
   "metadata": {},
   "outputs": [],
   "source": [
    "GNI88_vader['Quote Sentiment Score'] = GNI88_vader['Quote Sentiment'].apply(lambda x: x['compound'])\n",
    "\n",
    "def sentiment_class(x):\n",
    "    if x['compound'] > 0:\n",
    "        return \"Positive\"\n",
    "    if x['compound'] < 0:\n",
    "        return \"Negative\"\n",
    "    else: \n",
    "        return \"Neutral\"\n",
    "\n",
    "GNI88_vader['Quote Sentiment'] = GNI88_vader['Quote Sentiment'].apply(lambda x: sentiment_class(x))"
   ]
  },
  {
   "cell_type": "code",
   "execution_count": 11,
   "id": "4fcd6418",
   "metadata": {},
   "outputs": [
    {
     "data": {
      "text/html": [
       "<div>\n",
       "<style scoped>\n",
       "    .dataframe tbody tr th:only-of-type {\n",
       "        vertical-align: middle;\n",
       "    }\n",
       "\n",
       "    .dataframe tbody tr th {\n",
       "        vertical-align: top;\n",
       "    }\n",
       "\n",
       "    .dataframe thead th {\n",
       "        text-align: right;\n",
       "    }\n",
       "</style>\n",
       "<table border=\"1\" class=\"dataframe\">\n",
       "  <thead>\n",
       "    <tr style=\"text-align: right;\">\n",
       "      <th></th>\n",
       "      <th>artdate</th>\n",
       "      <th>Article ID</th>\n",
       "      <th>Headline</th>\n",
       "      <th>Quote ID</th>\n",
       "      <th>Article Status</th>\n",
       "      <th>Article Position</th>\n",
       "      <th>Messages</th>\n",
       "      <th>Submessages</th>\n",
       "      <th>Quote Position</th>\n",
       "      <th>Legacy Quote Tag</th>\n",
       "      <th>...</th>\n",
       "      <th>Media Medium</th>\n",
       "      <th>Journalist Name</th>\n",
       "      <th>Constituent Author</th>\n",
       "      <th>Article Issues</th>\n",
       "      <th>Custom Group</th>\n",
       "      <th>Media Group</th>\n",
       "      <th>fulltext</th>\n",
       "      <th>source_name_cleaned</th>\n",
       "      <th>Quote Sentiment</th>\n",
       "      <th>Quote Sentiment Score</th>\n",
       "    </tr>\n",
       "  </thead>\n",
       "  <tbody>\n",
       "    <tr>\n",
       "      <th>0</th>\n",
       "      <td>2018-02-23</td>\n",
       "      <td>3777413</td>\n",
       "      <td>Can James Mattis Prevent Nuclear War With Nort...</td>\n",
       "      <td>7105520</td>\n",
       "      <td>News</td>\n",
       "      <td>Neutral</td>\n",
       "      <td>OLD Proliferation</td>\n",
       "      <td>OLD State Level Nuclear Programs</td>\n",
       "      <td>Neutral</td>\n",
       "      <td>NaN</td>\n",
       "      <td>...</td>\n",
       "      <td>NaN</td>\n",
       "      <td>Fryer-biggs, Zachary</td>\n",
       "      <td>NaN</td>\n",
       "      <td>NaN</td>\n",
       "      <td>NaN</td>\n",
       "      <td>NaN</td>\n",
       "      <td>Can James Mattis Prevent Nuclear War With Nort...</td>\n",
       "      <td>James Mattis</td>\n",
       "      <td>Positive</td>\n",
       "      <td>0.3182</td>\n",
       "    </tr>\n",
       "    <tr>\n",
       "      <th>1</th>\n",
       "      <td>2018-02-23</td>\n",
       "      <td>3777413</td>\n",
       "      <td>Can James Mattis Prevent Nuclear War With Nort...</td>\n",
       "      <td>7105517</td>\n",
       "      <td>News</td>\n",
       "      <td>Neutral</td>\n",
       "      <td>OLD Proliferation</td>\n",
       "      <td>OLD State Level Nuclear Programs</td>\n",
       "      <td>Neutral</td>\n",
       "      <td>NaN</td>\n",
       "      <td>...</td>\n",
       "      <td>NaN</td>\n",
       "      <td>Fryer-biggs, Zachary</td>\n",
       "      <td>NaN</td>\n",
       "      <td>NaN</td>\n",
       "      <td>NaN</td>\n",
       "      <td>NaN</td>\n",
       "      <td>Can James Mattis Prevent Nuclear War With Nort...</td>\n",
       "      <td>James Mattis</td>\n",
       "      <td>Neutral</td>\n",
       "      <td>0.0000</td>\n",
       "    </tr>\n",
       "    <tr>\n",
       "      <th>2</th>\n",
       "      <td>2018-02-23</td>\n",
       "      <td>3777413</td>\n",
       "      <td>Can James Mattis Prevent Nuclear War With Nort...</td>\n",
       "      <td>7105518</td>\n",
       "      <td>News</td>\n",
       "      <td>Neutral</td>\n",
       "      <td>OLD Proliferation</td>\n",
       "      <td>OLD State Level Nuclear Programs</td>\n",
       "      <td>Positive</td>\n",
       "      <td>NaN</td>\n",
       "      <td>...</td>\n",
       "      <td>NaN</td>\n",
       "      <td>Fryer-biggs, Zachary</td>\n",
       "      <td>NaN</td>\n",
       "      <td>NaN</td>\n",
       "      <td>NaN</td>\n",
       "      <td>NaN</td>\n",
       "      <td>Can James Mattis Prevent Nuclear War With Nort...</td>\n",
       "      <td>Leon E. Panetta</td>\n",
       "      <td>Negative</td>\n",
       "      <td>-0.3546</td>\n",
       "    </tr>\n",
       "    <tr>\n",
       "      <th>3</th>\n",
       "      <td>2018-02-23</td>\n",
       "      <td>3777413</td>\n",
       "      <td>Can James Mattis Prevent Nuclear War With Nort...</td>\n",
       "      <td>7105527</td>\n",
       "      <td>News</td>\n",
       "      <td>Neutral</td>\n",
       "      <td>OLD Proliferation</td>\n",
       "      <td>OLD State Level Nuclear Programs</td>\n",
       "      <td>Neutral</td>\n",
       "      <td>NaN</td>\n",
       "      <td>...</td>\n",
       "      <td>NaN</td>\n",
       "      <td>Fryer-biggs, Zachary</td>\n",
       "      <td>NaN</td>\n",
       "      <td>NaN</td>\n",
       "      <td>NaN</td>\n",
       "      <td>NaN</td>\n",
       "      <td>Can James Mattis Prevent Nuclear War With Nort...</td>\n",
       "      <td>Chuck Hagel</td>\n",
       "      <td>Positive</td>\n",
       "      <td>0.8674</td>\n",
       "    </tr>\n",
       "    <tr>\n",
       "      <th>4</th>\n",
       "      <td>2018-02-15</td>\n",
       "      <td>3777414</td>\n",
       "      <td>For His Book 'Directorate S,' Journalist Steve...</td>\n",
       "      <td>7105525</td>\n",
       "      <td>News</td>\n",
       "      <td>Neutral</td>\n",
       "      <td>OLD Proliferation</td>\n",
       "      <td>OLD State Level Nuclear Programs</td>\n",
       "      <td>Positive</td>\n",
       "      <td>NaN</td>\n",
       "      <td>...</td>\n",
       "      <td>NaN</td>\n",
       "      <td>Kelly, Mary</td>\n",
       "      <td>NaN</td>\n",
       "      <td>NaN</td>\n",
       "      <td>NaN</td>\n",
       "      <td>NaN</td>\n",
       "      <td>For His Book 'Directorate S,' Journalist Steve...</td>\n",
       "      <td>Steve Coll</td>\n",
       "      <td>Positive</td>\n",
       "      <td>0.3400</td>\n",
       "    </tr>\n",
       "  </tbody>\n",
       "</table>\n",
       "<p>5 rows × 32 columns</p>\n",
       "</div>"
      ],
      "text/plain": [
       "      artdate  Article ID                                           Headline  \\\n",
       "0  2018-02-23     3777413  Can James Mattis Prevent Nuclear War With Nort...   \n",
       "1  2018-02-23     3777413  Can James Mattis Prevent Nuclear War With Nort...   \n",
       "2  2018-02-23     3777413  Can James Mattis Prevent Nuclear War With Nort...   \n",
       "3  2018-02-23     3777413  Can James Mattis Prevent Nuclear War With Nort...   \n",
       "4  2018-02-15     3777414  For His Book 'Directorate S,' Journalist Steve...   \n",
       "\n",
       "   Quote ID Article Status Article Position           Messages  \\\n",
       "0   7105520           News          Neutral  OLD Proliferation   \n",
       "1   7105517           News          Neutral  OLD Proliferation   \n",
       "2   7105518           News          Neutral  OLD Proliferation   \n",
       "3   7105527           News          Neutral  OLD Proliferation   \n",
       "4   7105525           News          Neutral  OLD Proliferation   \n",
       "\n",
       "                        Submessages Quote Position Legacy Quote Tag  ...  \\\n",
       "0  OLD State Level Nuclear Programs        Neutral              NaN  ...   \n",
       "1  OLD State Level Nuclear Programs        Neutral              NaN  ...   \n",
       "2  OLD State Level Nuclear Programs       Positive              NaN  ...   \n",
       "3  OLD State Level Nuclear Programs        Neutral              NaN  ...   \n",
       "4  OLD State Level Nuclear Programs       Positive              NaN  ...   \n",
       "\n",
       "  Media Medium       Journalist Name Constituent Author Article Issues  \\\n",
       "0          NaN  Fryer-biggs, Zachary                NaN            NaN   \n",
       "1          NaN  Fryer-biggs, Zachary                NaN            NaN   \n",
       "2          NaN  Fryer-biggs, Zachary                NaN            NaN   \n",
       "3          NaN  Fryer-biggs, Zachary                NaN            NaN   \n",
       "4          NaN           Kelly, Mary                NaN            NaN   \n",
       "\n",
       "  Custom Group Media Group                                           fulltext  \\\n",
       "0          NaN         NaN  Can James Mattis Prevent Nuclear War With Nort...   \n",
       "1          NaN         NaN  Can James Mattis Prevent Nuclear War With Nort...   \n",
       "2          NaN         NaN  Can James Mattis Prevent Nuclear War With Nort...   \n",
       "3          NaN         NaN  Can James Mattis Prevent Nuclear War With Nort...   \n",
       "4          NaN         NaN  For His Book 'Directorate S,' Journalist Steve...   \n",
       "\n",
       "  source_name_cleaned Quote Sentiment Quote Sentiment Score  \n",
       "0        James Mattis        Positive                0.3182  \n",
       "1        James Mattis         Neutral                0.0000  \n",
       "2     Leon E. Panetta        Negative               -0.3546  \n",
       "3         Chuck Hagel        Positive                0.8674  \n",
       "4          Steve Coll        Positive                0.3400  \n",
       "\n",
       "[5 rows x 32 columns]"
      ]
     },
     "execution_count": 11,
     "metadata": {},
     "output_type": "execute_result"
    }
   ],
   "source": [
    "GNI88_vader.head()"
   ]
  },
  {
   "cell_type": "code",
   "execution_count": 12,
   "id": "bbe5a5eb",
   "metadata": {},
   "outputs": [
    {
     "name": "stdout",
     "output_type": "stream",
     "text": [
      "0.007653028806924242\n",
      "0.9947\n",
      "-0.9976\n",
      "234016\n",
      "332392\n"
     ]
    }
   ],
   "source": [
    "print(np.mean(GNI88_vader['Quote Sentiment Score']))\n",
    "print(np.max(GNI88_vader['Quote Sentiment Score']))\n",
    "print(np.min(GNI88_vader['Quote Sentiment Score']))\n",
    "print(np.argmax(GNI88_vader['Quote Sentiment Score']))\n",
    "print(np.argmin(GNI88_vader['Quote Sentiment Score']))"
   ]
  },
  {
   "cell_type": "code",
   "execution_count": 13,
   "id": "996cb1c4",
   "metadata": {},
   "outputs": [
    {
     "data": {
      "text/plain": [
       "Counter({'Positive': 152191, 'Neutral': 66342, 'Negative': 143012})"
      ]
     },
     "execution_count": 13,
     "metadata": {},
     "output_type": "execute_result"
    }
   ],
   "source": [
    "Counter(GNI88_vader['Quote Sentiment'].tolist())"
   ]
  },
  {
   "cell_type": "code",
   "execution_count": 14,
   "id": "e4b93ed2",
   "metadata": {},
   "outputs": [
    {
     "name": "stdout",
     "output_type": "stream",
     "text": [
      "But overall, the reality is that for America to be able to preserve our interests and to encourage freedom to spread around the world. America has to be strong. And we have to stand by our friends. And we have distance ourselves from our friends under this administration. We have to show a commitment to a strong military. This President is shrinking from our military commitments. And at the same time, we have to promote our values around the world and the President was silent when there were dissident voices that took to the streets in Iran. He should have been outspoken, aggressively supporting those voices. Likewise, with the Arab Spring now turning into an Arab winter, he has been asleep for the switch. He has been ineffective in being able to promote democracy and freedom and the free exercise of personal rights in parts of the world that are obviously critical to the stability of the world. So, this President has really failed, I think an almost every dimension of foreign policy, this President has weakened America's relative strength.\n",
      "\n",
      "When both sides think catastrophe will always be averted, each behaves more rashly. Republicans and Democrats alike have characterized the debt-ceiling fight as a game of chicken, in which two drivers barrel toward each other and each hopes that the other swerves away first. Political pundits have described some strategies for resolving the conflict, such as changing the Senate’s filibuster rules to allow a simple majority to raise the debt limit, as “nuclear options.” Language like this might seem to melodramatize the legislative process, but the comparisons are apt. Nuclear-war strategists have long understood how recklessness, or the appearance of recklessness, may help one side get the other to relent during a single game of chicken. But these strategists’ work also offers a warning for Congress: The more times the game is played, the more treacherous it becomes, because when both sides become convinced that catastrophe will always be averted in the end, each behaves more rashly. Tensions between Democrats and Republicans on Capitol Hill have cooled after a temporary extension of the debt limit last month, but they could quickly escalate as a new deadline looms in mid-December. If the possibility of default is anything other than zero, it will happen if debt-ceiling chicken is played enough times. Will this latest round be the time our luck finally runs out? From a nuclear strategist’s point of view, the way the United States has repeatedly flirted with a potentially catastrophic default on the national debt bears an uncomfortable resemblance to the crises of the early Cold War. During the period from the first Berlin Crisis, in 1948, to the Cuban Missile Crisis, in 1962, a superpower standoff with the potential to escalate into all-out nuclear war occurred every few years. Under the Eisenhower administration’s policy of “massive retaliation,” Washington sought to contain communism by leaving open the possibility that a conventional conflict could lead to the use of nuclear weapons. But the mercurial Soviet leader Nikita Khrushchev appeared all too willing to test Western resolve. This apocalyptic environment encouraged strategic theorists to seek ways to make brinkmanship more effective and “win” at it. The most influential theorist contemplating brinkmanship strategies was the future Nobel laureate Thomas Schelling. He sought a solution to the problem of making deterrence credible: If thermonuclear war could not be won, then why would the Communists take seriously American threats to use nuclear weapons, especially to retaliate against a nonnuclear attack on U.S. allies? If risking full-scale nuclear war, in which most Americans might perish, struck Soviet leaders as too irrational, it wouldn’t serve as a credible deterrent threat.\n",
      "\n"
     ]
    }
   ],
   "source": [
    "GNI88_vader = GNI88_vader.reset_index()\n",
    "print(GNI88_vader['QText'][234016] + \"\\n\")\n",
    "print(GNI88_vader['QText'][332392] + \"\\n\")"
   ]
  },
  {
   "cell_type": "code",
   "execution_count": 15,
   "id": "fdd75ff4",
   "metadata": {},
   "outputs": [],
   "source": [
    "source_groups = {\"Foreign Government\": ['Foreign Gov/Mil Official'],\n",
    "                \"Experts\": ['Nuke Organization','Non-Profit/NGO','Think Tanks',\n",
    "                            'Nuke Organization - Other', 'Nuke Organization - Academic',\n",
    "                            'International Orgs','Academic','Nuclear Scientist',\"Analyst/Commentator\",\n",
    "                            'Attorney','Regulator'],\n",
    "                \"US Congress\": ['US Rep. & Staff','US Senate & Staff', 'Partisans/Fmr. Politicians'],\n",
    "                \"US Federal Officials\": ['Federal Official','State/Local Official',\n",
    "                                        'Former Admin. Officials','Judicial Official'],\n",
    "                \"US Defense\": ['Military','US Military','retired US Military','Defense Forces','Defense'],\n",
    "                \"Media\": [\"Media/Journalist\",\"Blogger\"],\n",
    "                \"Corporate Official\": ['Corporate Official'],\n",
    "                \"Other\": ['Other','Chairman','Terrorist/Extremist','Information minister',\n",
    "                          'Religious/Clerical', 'Ambassador', 'Nuclear Official',\n",
    "                          'Citizen','Public Polling','US Police','Deputy'\n",
    "                         \n",
    "                         \n",
    "                         ]}"
   ]
  },
  {
   "cell_type": "code",
   "execution_count": 16,
   "id": "6233f9e3",
   "metadata": {},
   "outputs": [],
   "source": [
    "# Helper function that inverts a dictionary. This will be useful for using speaker groups\n",
    "# later on in model evaluation\n",
    "def invert_dict(dictionary):\n",
    "  \"\"\"Inputs:\n",
    "     - dictionary: dict, dictionary we wish to invert\n",
    "     Outputs:\n",
    "     - dict, where keys are the initial dictionary's values and values are the initial dictionary's keys\"\"\"\n",
    "  # get a list of all items in all dictionary values\n",
    "  speaker_types = list(np.concatenate(list(dictionary.values())).flat)\n",
    "  # each speaker type will become its own key now, and the value will be the speaker group it's a part of\n",
    "  inverted_dict = {}\n",
    "  for speaker_type in speaker_types:\n",
    "    # find the group the speaker_type belongs in\n",
    "    speaker_group = [key for key, value in dictionary.items() if speaker_type in value][0]\n",
    "    # update the inverted dictionary such that the key is the speaker type and the value is the speaker group\n",
    "    inverted_dict[speaker_type] = speaker_group\n",
    "  return inverted_dict"
   ]
  },
  {
   "cell_type": "code",
   "execution_count": 17,
   "id": "6e18ec85",
   "metadata": {},
   "outputs": [],
   "source": [
    "source_to_group = invert_dict(source_groups)"
   ]
  },
  {
   "cell_type": "code",
   "execution_count": 18,
   "id": "dbbd2b28",
   "metadata": {},
   "outputs": [],
   "source": [
    "def assign_source_to_group(source_type):\n",
    "  \"\"\"Inputs:\n",
    "     - source_type: str, source type from quote datafame\n",
    "     Outputs:\n",
    "     - str of the bigger speaker category to which source_type belongs\"\"\"\n",
    "  if type(source_type) != str:\n",
    "    return \"Other\"\n",
    "  try:\n",
    "    return source_to_group[source_type]\n",
    "  except:\n",
    "    return \"Other\""
   ]
  },
  {
   "cell_type": "code",
   "execution_count": 19,
   "id": "806a5472",
   "metadata": {},
   "outputs": [],
   "source": [
    "GNI88_vader['Source Type'] = GNI88_vader['Source Type'].apply(assign_source_to_group)"
   ]
  },
  {
   "cell_type": "code",
   "execution_count": 20,
   "id": "15d02b49",
   "metadata": {},
   "outputs": [],
   "source": [
    "vader_FG = GNI88_vader[GNI88_vader['Source Type'] == 'Foreign Government']\n",
    "vader_E = GNI88_vader[GNI88_vader['Source Type'] == 'Experts']\n",
    "vader_UC = GNI88_vader[GNI88_vader['Source Type'] == 'US Congress']\n",
    "vader_UF = GNI88_vader[GNI88_vader['Source Type'] == 'US Federal Officials']\n",
    "vader_UD = GNI88_vader[GNI88_vader['Source Type'] == 'US Defense']\n",
    "vader_M = GNI88_vader[GNI88_vader['Source Type'] == 'Media']\n",
    "vader_CO = GNI88_vader[GNI88_vader['Source Type'] == 'Corporate Official']\n",
    "vader_O = GNI88_vader[GNI88_vader['Source Type'] == 'Other']"
   ]
  },
  {
   "cell_type": "code",
   "execution_count": 21,
   "id": "ea24d77a",
   "metadata": {},
   "outputs": [
    {
     "name": "stdout",
     "output_type": "stream",
     "text": [
      "0.015907881412670636\n"
     ]
    },
    {
     "data": {
      "image/png": "[encoded data removed]",
      "text/plain": [
       "<Figure size 432x288 with 1 Axes>"
      ]
     },
     "metadata": {},
     "output_type": "display_data"
    }
   ],
   "source": [
    "## Foreign Government\n",
    "\n",
    "sns.set(style=\"darkgrid\")\n",
    "sns.set(font_scale=1)\n",
    "sns.histplot(data=vader_FG, x='Quote Sentiment', stat = \"probability\", discrete=True) \n",
    "print(np.mean(vader_FG['Quote Sentiment Score']))"
   ]
  },
  {
   "cell_type": "code",
   "execution_count": 22,
   "id": "1eef6453",
   "metadata": {},
   "outputs": [
    {
     "name": "stdout",
     "output_type": "stream",
     "text": [
      "-0.013842322372699247\n"
     ]
    },
    {
     "data": {
      "image/png": "[encoded data removed]",
      "text/plain": [
       "<Figure size 432x288 with 1 Axes>"
      ]
     },
     "metadata": {},
     "output_type": "display_data"
    }
   ],
   "source": [
    "## Expert\n",
    "\n",
    "sns.histplot(data=vader_E, x='Quote Sentiment', stat = \"probability\", discrete=True) \n",
    "print(np.mean(vader_E['Quote Sentiment Score']))"
   ]
  },
  {
   "cell_type": "code",
   "execution_count": 23,
   "id": "3419074a",
   "metadata": {},
   "outputs": [
    {
     "name": "stdout",
     "output_type": "stream",
     "text": [
      "0.01812295600076945\n"
     ]
    },
    {
     "data": {
      "image/png": "[encoded data removed]",
      "text/plain": [
       "<Figure size 432x288 with 1 Axes>"
      ]
     },
     "metadata": {},
     "output_type": "display_data"
    }
   ],
   "source": [
    "## US Congress\n",
    "\n",
    "sns.histplot(data=vader_UC, x='Quote Sentiment', stat = \"probability\", discrete=True)\n",
    "print(np.mean(vader_UC['Quote Sentiment Score']))"
   ]
  },
  {
   "cell_type": "code",
   "execution_count": 24,
   "id": "50d92512",
   "metadata": {},
   "outputs": [
    {
     "name": "stdout",
     "output_type": "stream",
     "text": [
      "0.04604036624783299\n"
     ]
    },
    {
     "data": {
      "image/png": "[encoded data removed]",
      "text/plain": [
       "<Figure size 432x288 with 1 Axes>"
      ]
     },
     "metadata": {},
     "output_type": "display_data"
    }
   ],
   "source": [
    "## US Federal Officials\n",
    "\n",
    "sns.histplot(data=vader_UF, x='Quote Sentiment', stat = \"probability\", discrete=True)\n",
    "print(np.mean(vader_UF['Quote Sentiment Score']))"
   ]
  },
  {
   "cell_type": "code",
   "execution_count": 25,
   "id": "c852d53f",
   "metadata": {},
   "outputs": [
    {
     "name": "stdout",
     "output_type": "stream",
     "text": [
      "-0.0005703279377758763\n"
     ]
    },
    {
     "data": {
      "image/png": "[encoded data removed]",
      "text/plain": [
       "<Figure size 432x288 with 1 Axes>"
      ]
     },
     "metadata": {},
     "output_type": "display_data"
    }
   ],
   "source": [
    "## US Defense\n",
    "\n",
    "sns.histplot(data=vader_UD, x='Quote Sentiment', stat = \"probability\", discrete=True) \n",
    "print(np.mean(vader_UD['Quote Sentiment Score']))"
   ]
  },
  {
   "cell_type": "code",
   "execution_count": 26,
   "id": "fe21c7d6",
   "metadata": {},
   "outputs": [
    {
     "name": "stdout",
     "output_type": "stream",
     "text": [
      "-0.04436544733068746\n"
     ]
    },
    {
     "data": {
      "image/png": "[encoded data removed]",
      "text/plain": [
       "<Figure size 432x288 with 1 Axes>"
      ]
     },
     "metadata": {},
     "output_type": "display_data"
    }
   ],
   "source": [
    "## Media\n",
    "\n",
    "sns.histplot(data=vader_M, x='Quote Sentiment', stat = \"probability\", discrete=True) \n",
    "print(np.mean(vader_M['Quote Sentiment Score']))"
   ]
  },
  {
   "cell_type": "code",
   "execution_count": 27,
   "id": "6a9b2c1b",
   "metadata": {},
   "outputs": [
    {
     "name": "stdout",
     "output_type": "stream",
     "text": [
      "0.05959628934750896\n"
     ]
    },
    {
     "data": {
      "image/png": "[encoded data removed]",
      "text/plain": [
       "<Figure size 432x288 with 1 Axes>"
      ]
     },
     "metadata": {},
     "output_type": "display_data"
    }
   ],
   "source": [
    "## Corporate Officials\n",
    "\n",
    "sns.histplot(data=vader_CO, x='Quote Sentiment', stat = \"probability\", discrete=True) \n",
    "print(np.mean(vader_CO['Quote Sentiment Score']))"
   ]
  },
  {
   "cell_type": "code",
   "execution_count": 28,
   "id": "431a0dbe",
   "metadata": {},
   "outputs": [
    {
     "name": "stdout",
     "output_type": "stream",
     "text": [
      "-0.099074422415204\n"
     ]
    },
    {
     "data": {
      "image/png": "[encoded data removed]",
      "text/plain": [
       "<Figure size 432x288 with 1 Axes>"
      ]
     },
     "metadata": {},
     "output_type": "display_data"
    }
   ],
   "source": [
    "## Other\n",
    "\n",
    "sns.histplot(data=vader_O, x='Quote Sentiment', stat = \"probability\", discrete=True) \n",
    "print(np.mean(vader_O['Quote Sentiment Score']))"
   ]
  },
  {
   "cell_type": "markdown",
   "id": "3744d57e",
   "metadata": {},
   "source": [
    "### T test: if the differences in means are statistically significant"
   ]
  },
  {
   "cell_type": "code",
   "execution_count": 29,
   "id": "339d85ae",
   "metadata": {},
   "outputs": [
    {
     "data": {
      "text/plain": [
       "Ttest_indResult(statistic=4.965719840714171, pvalue=6.85199350908595e-07)"
      ]
     },
     "execution_count": 29,
     "metadata": {},
     "output_type": "execute_result"
    }
   ],
   "source": [
    "## Foreign Goverment v.s all\n",
    "\n",
    "FG = vader_FG['Quote Sentiment Score'].to_numpy()\n",
    "st.ttest_ind(a=FG, b=GNI88_vader['Quote Sentiment Score'].to_numpy(), equal_var=False)"
   ]
  },
  {
   "cell_type": "code",
   "execution_count": 30,
   "id": "34691768",
   "metadata": {},
   "outputs": [
    {
     "data": {
      "text/plain": [
       "Ttest_indResult(statistic=-11.292471325737491, pvalue=1.4891137452616998e-29)"
      ]
     },
     "execution_count": 30,
     "metadata": {},
     "output_type": "execute_result"
    }
   ],
   "source": [
    "## Expert v.s all\n",
    "\n",
    "E = vader_E['Quote Sentiment Score'].to_numpy()\n",
    "st.ttest_ind(a=E, b=GNI88_vader['Quote Sentiment Score'].to_numpy(), equal_var=False)"
   ]
  },
  {
   "cell_type": "code",
   "execution_count": 31,
   "id": "e8db688a",
   "metadata": {},
   "outputs": [
    {
     "data": {
      "text/plain": [
       "Ttest_indResult(statistic=3.9483639135702653, pvalue=7.88108485383031e-05)"
      ]
     },
     "execution_count": 31,
     "metadata": {},
     "output_type": "execute_result"
    }
   ],
   "source": [
    "## US Congress v.s all\n",
    "\n",
    "UC = vader_UC['Quote Sentiment Score'].to_numpy()\n",
    "st.ttest_ind(a=UC, b=GNI88_vader['Quote Sentiment Score'].to_numpy(), equal_var=False)"
   ]
  },
  {
   "cell_type": "code",
   "execution_count": 32,
   "id": "1a271694",
   "metadata": {},
   "outputs": [
    {
     "data": {
      "text/plain": [
       "Ttest_indResult(statistic=22.89508557415369, pvalue=8.149714521140886e-116)"
      ]
     },
     "execution_count": 32,
     "metadata": {},
     "output_type": "execute_result"
    }
   ],
   "source": [
    "## US Federal Official v.s all\n",
    "\n",
    "UF = vader_UF['Quote Sentiment Score'].to_numpy()\n",
    "st.ttest_ind(a=UF, b=GNI88_vader['Quote Sentiment Score'].to_numpy(), equal_var=False)"
   ]
  },
  {
   "cell_type": "code",
   "execution_count": 33,
   "id": "cb11189b",
   "metadata": {},
   "outputs": [
    {
     "data": {
      "text/plain": [
       "Ttest_indResult(statistic=-1.7672549640793282, pvalue=0.07721582847108206)"
      ]
     },
     "execution_count": 33,
     "metadata": {},
     "output_type": "execute_result"
    }
   ],
   "source": [
    "## US Defense v.s all\n",
    "\n",
    "UD = vader_UD['Quote Sentiment Score'].to_numpy()\n",
    "st.ttest_ind(a=UD, b=GNI88_vader['Quote Sentiment Score'].to_numpy(), equal_var=False)"
   ]
  },
  {
   "cell_type": "code",
   "execution_count": 34,
   "id": "e0f6b630",
   "metadata": {},
   "outputs": [
    {
     "data": {
      "text/plain": [
       "Ttest_indResult(statistic=-17.14072267212831, pvalue=1.3831483832720477e-65)"
      ]
     },
     "execution_count": 34,
     "metadata": {},
     "output_type": "execute_result"
    }
   ],
   "source": [
    "## Media v.s all\n",
    "\n",
    "M = vader_M['Quote Sentiment Score'].to_numpy()\n",
    "st.ttest_ind(a=M, b=GNI88_vader['Quote Sentiment Score'].to_numpy(), equal_var=False)"
   ]
  },
  {
   "cell_type": "code",
   "execution_count": 35,
   "id": "cee023d4",
   "metadata": {},
   "outputs": [
    {
     "data": {
      "text/plain": [
       "Ttest_indResult(statistic=8.674449370699667, pvalue=5.5530222346632004e-18)"
      ]
     },
     "execution_count": 35,
     "metadata": {},
     "output_type": "execute_result"
    }
   ],
   "source": [
    "## Corporate Official v.s all\n",
    "\n",
    "CO = vader_CO['Quote Sentiment Score'].to_numpy()\n",
    "st.ttest_ind(a=CO, b=GNI88_vader['Quote Sentiment Score'].to_numpy(), equal_var=False)"
   ]
  },
  {
   "cell_type": "code",
   "execution_count": 36,
   "id": "c8251233",
   "metadata": {},
   "outputs": [
    {
     "data": {
      "text/plain": [
       "Ttest_indResult(statistic=-28.877640025298035, pvalue=1.078051361728296e-179)"
      ]
     },
     "execution_count": 36,
     "metadata": {},
     "output_type": "execute_result"
    }
   ],
   "source": [
    "## Other v.s all\n",
    "\n",
    "O = vader_O['Quote Sentiment Score'].to_numpy()\n",
    "st.ttest_ind(a=O, b=GNI88_vader['Quote Sentiment Score'].to_numpy(), equal_var=False)"
   ]
  },
  {
   "cell_type": "markdown",
   "id": "aa044f27",
   "metadata": {},
   "source": [
    "### Longer quotes tend to be more positive/negative? "
   ]
  },
  {
   "cell_type": "markdown",
   "id": "f45d861a",
   "metadata": {},
   "source": [
    "### YES"
   ]
  },
  {
   "cell_type": "markdown",
   "id": "c8e3268a",
   "metadata": {},
   "source": [
    "https://medium.com/@piocalderon/vader-sentiment-analysis-explained-f1c4f9101cd9#:~:text=VADER%20\n",
    "\n",
    "https://github.com/nltk/nltk/issues/1490"
   ]
  },
  {
   "cell_type": "markdown",
   "id": "9c8ec592",
   "metadata": {},
   "source": [
    "### Solutions:\n",
    "### 1. take the function's inverse and divide the x by the quote length, but we will lose the [-1,1] boundaries\n",
    "### 2. break down the paragraphs into sentences, take the vader scores' average\n",
    "### 3. others?"
   ]
  },
  {
   "cell_type": "code",
   "execution_count": 37,
   "id": "10942fa1",
   "metadata": {},
   "outputs": [],
   "source": [
    "GNI88_vader2 = GNI88_vader.copy()"
   ]
  },
  {
   "cell_type": "code",
   "execution_count": 38,
   "id": "1b9f1ebb",
   "metadata": {},
   "outputs": [],
   "source": [
    "## Try the first solution\n",
    "\n",
    "def vader_inverse(score):\n",
    "    x = np.sqrt(15*score**2/(1-score**2))\n",
    "    return x\n",
    "    \n",
    "GNI88_vader2['Quote Sentiment Score'] = GNI88_vader2['Quote Sentiment Score'].apply(lambda x: vader_inverse(x))"
   ]
  },
  {
   "cell_type": "code",
   "execution_count": 39,
   "id": "c2531764",
   "metadata": {},
   "outputs": [
    {
     "name": "stderr",
     "output_type": "stream",
     "text": [
      "/var/folders/tc/bh92rdln5b97ks_khyc1_kbh0000gn/T/ipykernel_77867/290167688.py:6: SettingWithCopyWarning: \n",
      "A value is trying to be set on a copy of a slice from a DataFrame\n",
      "\n",
      "See the caveats in the documentation: https://pandas.pydata.org/pandas-docs/stable/user_guide/indexing.html#returning-a-view-versus-a-copy\n",
      "  GNI88_vader2['Quote Sentiment Score'][i] = GNI88_vader2['Quote Sentiment Score'][i]/quote_len\n",
      "/var/folders/tc/bh92rdln5b97ks_khyc1_kbh0000gn/T/ipykernel_77867/290167688.py:3: SettingWithCopyWarning: \n",
      "A value is trying to be set on a copy of a slice from a DataFrame\n",
      "\n",
      "See the caveats in the documentation: https://pandas.pydata.org/pandas-docs/stable/user_guide/indexing.html#returning-a-view-versus-a-copy\n",
      "  GNI88_vader2['Quote Sentiment Score'][i] = -GNI88_vader2['Quote Sentiment Score'][i]\n"
     ]
    }
   ],
   "source": [
    "for i in range(len(GNI88_vader2)):\n",
    "    if GNI88_vader2['Quote Sentiment'][i] == 'Negative':\n",
    "        GNI88_vader2['Quote Sentiment Score'][i] = -GNI88_vader2['Quote Sentiment Score'][i]\n",
    "    tokens = WhitespaceTokenizer().tokenize(GNI88_vader2['QText'][i])\n",
    "    quote_len = len(tokens)\n",
    "    GNI88_vader2['Quote Sentiment Score'][i] = GNI88_vader2['Quote Sentiment Score'][i]/quote_len"
   ]
  },
  {
   "cell_type": "code",
   "execution_count": 40,
   "id": "0a793c48",
   "metadata": {},
   "outputs": [
    {
     "data": {
      "text/html": [
       "<div>\n",
       "<style scoped>\n",
       "    .dataframe tbody tr th:only-of-type {\n",
       "        vertical-align: middle;\n",
       "    }\n",
       "\n",
       "    .dataframe tbody tr th {\n",
       "        vertical-align: top;\n",
       "    }\n",
       "\n",
       "    .dataframe thead th {\n",
       "        text-align: right;\n",
       "    }\n",
       "</style>\n",
       "<table border=\"1\" class=\"dataframe\">\n",
       "  <thead>\n",
       "    <tr style=\"text-align: right;\">\n",
       "      <th></th>\n",
       "      <th>index</th>\n",
       "      <th>artdate</th>\n",
       "      <th>Article ID</th>\n",
       "      <th>Headline</th>\n",
       "      <th>Quote ID</th>\n",
       "      <th>Article Status</th>\n",
       "      <th>Article Position</th>\n",
       "      <th>Messages</th>\n",
       "      <th>Submessages</th>\n",
       "      <th>Quote Position</th>\n",
       "      <th>...</th>\n",
       "      <th>Media Medium</th>\n",
       "      <th>Journalist Name</th>\n",
       "      <th>Constituent Author</th>\n",
       "      <th>Article Issues</th>\n",
       "      <th>Custom Group</th>\n",
       "      <th>Media Group</th>\n",
       "      <th>fulltext</th>\n",
       "      <th>source_name_cleaned</th>\n",
       "      <th>Quote Sentiment</th>\n",
       "      <th>Quote Sentiment Score</th>\n",
       "    </tr>\n",
       "  </thead>\n",
       "  <tbody>\n",
       "    <tr>\n",
       "      <th>0</th>\n",
       "      <td>0</td>\n",
       "      <td>2018-02-23</td>\n",
       "      <td>3777413</td>\n",
       "      <td>Can James Mattis Prevent Nuclear War With Nort...</td>\n",
       "      <td>7105520</td>\n",
       "      <td>News</td>\n",
       "      <td>Neutral</td>\n",
       "      <td>OLD Proliferation</td>\n",
       "      <td>OLD State Level Nuclear Programs</td>\n",
       "      <td>Neutral</td>\n",
       "      <td>...</td>\n",
       "      <td>NaN</td>\n",
       "      <td>Fryer-biggs, Zachary</td>\n",
       "      <td>NaN</td>\n",
       "      <td>NaN</td>\n",
       "      <td>NaN</td>\n",
       "      <td>NaN</td>\n",
       "      <td>Can James Mattis Prevent Nuclear War With Nort...</td>\n",
       "      <td>James Mattis</td>\n",
       "      <td>Positive</td>\n",
       "      <td>0.099996</td>\n",
       "    </tr>\n",
       "    <tr>\n",
       "      <th>1</th>\n",
       "      <td>1</td>\n",
       "      <td>2018-02-23</td>\n",
       "      <td>3777413</td>\n",
       "      <td>Can James Mattis Prevent Nuclear War With Nort...</td>\n",
       "      <td>7105517</td>\n",
       "      <td>News</td>\n",
       "      <td>Neutral</td>\n",
       "      <td>OLD Proliferation</td>\n",
       "      <td>OLD State Level Nuclear Programs</td>\n",
       "      <td>Neutral</td>\n",
       "      <td>...</td>\n",
       "      <td>NaN</td>\n",
       "      <td>Fryer-biggs, Zachary</td>\n",
       "      <td>NaN</td>\n",
       "      <td>NaN</td>\n",
       "      <td>NaN</td>\n",
       "      <td>NaN</td>\n",
       "      <td>Can James Mattis Prevent Nuclear War With Nort...</td>\n",
       "      <td>James Mattis</td>\n",
       "      <td>Neutral</td>\n",
       "      <td>0.000000</td>\n",
       "    </tr>\n",
       "    <tr>\n",
       "      <th>2</th>\n",
       "      <td>2</td>\n",
       "      <td>2018-02-23</td>\n",
       "      <td>3777413</td>\n",
       "      <td>Can James Mattis Prevent Nuclear War With Nort...</td>\n",
       "      <td>7105518</td>\n",
       "      <td>News</td>\n",
       "      <td>Neutral</td>\n",
       "      <td>OLD Proliferation</td>\n",
       "      <td>OLD State Level Nuclear Programs</td>\n",
       "      <td>Positive</td>\n",
       "      <td>...</td>\n",
       "      <td>NaN</td>\n",
       "      <td>Fryer-biggs, Zachary</td>\n",
       "      <td>NaN</td>\n",
       "      <td>NaN</td>\n",
       "      <td>NaN</td>\n",
       "      <td>NaN</td>\n",
       "      <td>Can James Mattis Prevent Nuclear War With Nort...</td>\n",
       "      <td>Leon E. Panetta</td>\n",
       "      <td>Negative</td>\n",
       "      <td>-0.077306</td>\n",
       "    </tr>\n",
       "    <tr>\n",
       "      <th>3</th>\n",
       "      <td>3</td>\n",
       "      <td>2018-02-23</td>\n",
       "      <td>3777413</td>\n",
       "      <td>Can James Mattis Prevent Nuclear War With Nort...</td>\n",
       "      <td>7105527</td>\n",
       "      <td>News</td>\n",
       "      <td>Neutral</td>\n",
       "      <td>OLD Proliferation</td>\n",
       "      <td>OLD State Level Nuclear Programs</td>\n",
       "      <td>Neutral</td>\n",
       "      <td>...</td>\n",
       "      <td>NaN</td>\n",
       "      <td>Fryer-biggs, Zachary</td>\n",
       "      <td>NaN</td>\n",
       "      <td>NaN</td>\n",
       "      <td>NaN</td>\n",
       "      <td>NaN</td>\n",
       "      <td>Can James Mattis Prevent Nuclear War With Nort...</td>\n",
       "      <td>Chuck Hagel</td>\n",
       "      <td>Positive</td>\n",
       "      <td>0.293526</td>\n",
       "    </tr>\n",
       "    <tr>\n",
       "      <th>4</th>\n",
       "      <td>4</td>\n",
       "      <td>2018-02-15</td>\n",
       "      <td>3777414</td>\n",
       "      <td>For His Book 'Directorate S,' Journalist Steve...</td>\n",
       "      <td>7105525</td>\n",
       "      <td>News</td>\n",
       "      <td>Neutral</td>\n",
       "      <td>OLD Proliferation</td>\n",
       "      <td>OLD State Level Nuclear Programs</td>\n",
       "      <td>Positive</td>\n",
       "      <td>...</td>\n",
       "      <td>NaN</td>\n",
       "      <td>Kelly, Mary</td>\n",
       "      <td>NaN</td>\n",
       "      <td>NaN</td>\n",
       "      <td>NaN</td>\n",
       "      <td>NaN</td>\n",
       "      <td>For His Book 'Directorate S,' Journalist Steve...</td>\n",
       "      <td>Steve Coll</td>\n",
       "      <td>Positive</td>\n",
       "      <td>0.027456</td>\n",
       "    </tr>\n",
       "  </tbody>\n",
       "</table>\n",
       "<p>5 rows × 33 columns</p>\n",
       "</div>"
      ],
      "text/plain": [
       "   index     artdate  Article ID  \\\n",
       "0      0  2018-02-23     3777413   \n",
       "1      1  2018-02-23     3777413   \n",
       "2      2  2018-02-23     3777413   \n",
       "3      3  2018-02-23     3777413   \n",
       "4      4  2018-02-15     3777414   \n",
       "\n",
       "                                            Headline  Quote ID Article Status  \\\n",
       "0  Can James Mattis Prevent Nuclear War With Nort...   7105520           News   \n",
       "1  Can James Mattis Prevent Nuclear War With Nort...   7105517           News   \n",
       "2  Can James Mattis Prevent Nuclear War With Nort...   7105518           News   \n",
       "3  Can James Mattis Prevent Nuclear War With Nort...   7105527           News   \n",
       "4  For His Book 'Directorate S,' Journalist Steve...   7105525           News   \n",
       "\n",
       "  Article Position           Messages                       Submessages  \\\n",
       "0          Neutral  OLD Proliferation  OLD State Level Nuclear Programs   \n",
       "1          Neutral  OLD Proliferation  OLD State Level Nuclear Programs   \n",
       "2          Neutral  OLD Proliferation  OLD State Level Nuclear Programs   \n",
       "3          Neutral  OLD Proliferation  OLD State Level Nuclear Programs   \n",
       "4          Neutral  OLD Proliferation  OLD State Level Nuclear Programs   \n",
       "\n",
       "  Quote Position  ... Media Medium       Journalist Name Constituent Author  \\\n",
       "0        Neutral  ...          NaN  Fryer-biggs, Zachary                NaN   \n",
       "1        Neutral  ...          NaN  Fryer-biggs, Zachary                NaN   \n",
       "2       Positive  ...          NaN  Fryer-biggs, Zachary                NaN   \n",
       "3        Neutral  ...          NaN  Fryer-biggs, Zachary                NaN   \n",
       "4       Positive  ...          NaN           Kelly, Mary                NaN   \n",
       "\n",
       "  Article Issues Custom Group Media Group  \\\n",
       "0            NaN          NaN         NaN   \n",
       "1            NaN          NaN         NaN   \n",
       "2            NaN          NaN         NaN   \n",
       "3            NaN          NaN         NaN   \n",
       "4            NaN          NaN         NaN   \n",
       "\n",
       "                                            fulltext source_name_cleaned  \\\n",
       "0  Can James Mattis Prevent Nuclear War With Nort...        James Mattis   \n",
       "1  Can James Mattis Prevent Nuclear War With Nort...        James Mattis   \n",
       "2  Can James Mattis Prevent Nuclear War With Nort...     Leon E. Panetta   \n",
       "3  Can James Mattis Prevent Nuclear War With Nort...         Chuck Hagel   \n",
       "4  For His Book 'Directorate S,' Journalist Steve...          Steve Coll   \n",
       "\n",
       "  Quote Sentiment Quote Sentiment Score  \n",
       "0        Positive              0.099996  \n",
       "1         Neutral              0.000000  \n",
       "2        Negative             -0.077306  \n",
       "3        Positive              0.293526  \n",
       "4        Positive              0.027456  \n",
       "\n",
       "[5 rows x 33 columns]"
      ]
     },
     "execution_count": 40,
     "metadata": {},
     "output_type": "execute_result"
    }
   ],
   "source": [
    "GNI88_vader2.head()"
   ]
  },
  {
   "cell_type": "code",
   "execution_count": 41,
   "id": "ccdd8662",
   "metadata": {},
   "outputs": [
    {
     "name": "stdout",
     "output_type": "stream",
     "text": [
      "-0.0006757708757572987\n",
      "2.7001050131949005\n",
      "-2.9002026819242315\n",
      "151557\n",
      "88318\n"
     ]
    }
   ],
   "source": [
    "print(np.mean(GNI88_vader2['Quote Sentiment Score']))\n",
    "print(np.max(GNI88_vader2['Quote Sentiment Score']))\n",
    "print(np.min(GNI88_vader2['Quote Sentiment Score']))\n",
    "print(np.argmax(GNI88_vader2['Quote Sentiment Score']))\n",
    "print(np.argmin(GNI88_vader2['Quote Sentiment Score']))"
   ]
  },
  {
   "cell_type": "code",
   "execution_count": 42,
   "id": "d2cb87c2",
   "metadata": {},
   "outputs": [
    {
     "name": "stdout",
     "output_type": "stream",
     "text": [
      "perfect\n",
      "\n",
      "warmonger\n",
      "\n"
     ]
    }
   ],
   "source": [
    "GNI88_vader2 = GNI88_vader2.reset_index()\n",
    "print(GNI88_vader2['QText'][151557] + \"\\n\")\n",
    "print(GNI88_vader2['QText'][88318] + \"\\n\")"
   ]
  },
  {
   "cell_type": "code",
   "execution_count": 43,
   "id": "a1517689",
   "metadata": {},
   "outputs": [],
   "source": [
    "vader2_FG = GNI88_vader2[GNI88_vader2['Source Type'] == 'Foreign Government']\n",
    "vader2_E = GNI88_vader2[GNI88_vader2['Source Type'] == 'Experts']\n",
    "vader2_UC = GNI88_vader2[GNI88_vader2['Source Type'] == 'US Congress']\n",
    "vader2_UF = GNI88_vader2[GNI88_vader2['Source Type'] == 'US Federal Officials']\n",
    "vader2_UD = GNI88_vader2[GNI88_vader2['Source Type'] == 'US Defense']\n",
    "vader2_M = GNI88_vader2[GNI88_vader2['Source Type'] == 'Media']\n",
    "vader2_CO = GNI88_vader2[GNI88_vader2['Source Type'] == 'Corporate Official']\n",
    "vader2_O = GNI88_vader2[GNI88_vader2['Source Type'] == 'Other']"
   ]
  },
  {
   "cell_type": "code",
   "execution_count": 44,
   "id": "5b740e02",
   "metadata": {},
   "outputs": [
    {
     "name": "stdout",
     "output_type": "stream",
     "text": [
      "0.0012975553777567074\n"
     ]
    },
    {
     "data": {
      "image/png": "[encoded data removed]",
      "text/plain": [
       "<Figure size 432x288 with 1 Axes>"
      ]
     },
     "metadata": {},
     "output_type": "display_data"
    }
   ],
   "source": [
    "## Foreign Government\n",
    "\n",
    "sns.set(style=\"darkgrid\")\n",
    "sns.set(font_scale=1)\n",
    "sns.histplot(data=vader2_FG, x='Quote Sentiment', stat = \"probability\", discrete=True) \n",
    "print(np.mean(vader2_FG['Quote Sentiment Score']))"
   ]
  },
  {
   "cell_type": "code",
   "execution_count": 45,
   "id": "034fca48",
   "metadata": {},
   "outputs": [
    {
     "name": "stdout",
     "output_type": "stream",
     "text": [
      "-0.005431944455675267\n"
     ]
    },
    {
     "data": {
      "image/png": "[encoded data removed]",
      "text/plain": [
       "<Figure size 432x288 with 1 Axes>"
      ]
     },
     "metadata": {},
     "output_type": "display_data"
    }
   ],
   "source": [
    "## Expert\n",
    "\n",
    "sns.histplot(data=vader2_E, x='Quote Sentiment', stat = \"probability\", discrete=True) \n",
    "print(np.mean(vader2_E['Quote Sentiment Score']))"
   ]
  },
  {
   "cell_type": "code",
   "execution_count": 46,
   "id": "42d57584",
   "metadata": {},
   "outputs": [
    {
     "name": "stdout",
     "output_type": "stream",
     "text": [
      "0.0006395610299314198\n"
     ]
    },
    {
     "data": {
      "image/png": "[encoded data removed]",
      "text/plain": [
       "<Figure size 432x288 with 1 Axes>"
      ]
     },
     "metadata": {},
     "output_type": "display_data"
    }
   ],
   "source": [
    "## US Congress\n",
    "\n",
    "sns.histplot(data=vader2_UC, x='Quote Sentiment', stat = \"probability\", discrete=True)\n",
    "print(np.mean(vader2_UC['Quote Sentiment Score']))"
   ]
  },
  {
   "cell_type": "code",
   "execution_count": 47,
   "id": "36535a02",
   "metadata": {},
   "outputs": [
    {
     "name": "stdout",
     "output_type": "stream",
     "text": [
      "0.007992068579735856\n"
     ]
    },
    {
     "data": {
      "image/png": "[encoded data removed]",
      "text/plain": [
       "<Figure size 432x288 with 1 Axes>"
      ]
     },
     "metadata": {},
     "output_type": "display_data"
    }
   ],
   "source": [
    "## US Federal Officials\n",
    "\n",
    "sns.histplot(data=vader2_UF, x='Quote Sentiment', stat = \"probability\", discrete=True)\n",
    "print(np.mean(vader2_UF['Quote Sentiment Score']))"
   ]
  },
  {
   "cell_type": "code",
   "execution_count": 48,
   "id": "252da74f",
   "metadata": {},
   "outputs": [
    {
     "name": "stdout",
     "output_type": "stream",
     "text": [
      "-0.0027835939091769577\n"
     ]
    },
    {
     "data": {
      "image/png": "[encoded data removed]",
      "text/plain": [
       "<Figure size 432x288 with 1 Axes>"
      ]
     },
     "metadata": {},
     "output_type": "display_data"
    }
   ],
   "source": [
    "## US Defense\n",
    "\n",
    "sns.histplot(data=vader2_UD, x='Quote Sentiment', stat = \"probability\", discrete=True) \n",
    "print(np.mean(vader2_UD['Quote Sentiment Score']))"
   ]
  },
  {
   "cell_type": "code",
   "execution_count": 49,
   "id": "66d72f9b",
   "metadata": {},
   "outputs": [
    {
     "name": "stdout",
     "output_type": "stream",
     "text": [
      "-0.010849393369529049\n"
     ]
    },
    {
     "data": {
      "image/png": "[encoded data removed]",
      "text/plain": [
       "<Figure size 432x288 with 1 Axes>"
      ]
     },
     "metadata": {},
     "output_type": "display_data"
    }
   ],
   "source": [
    "## Media\n",
    "\n",
    "sns.histplot(data=vader2_M, x='Quote Sentiment', stat = \"probability\", discrete=True) \n",
    "print(np.mean(vader2_M['Quote Sentiment Score']))"
   ]
  },
  {
   "cell_type": "code",
   "execution_count": 50,
   "id": "ae702522",
   "metadata": {},
   "outputs": [
    {
     "name": "stdout",
     "output_type": "stream",
     "text": [
      "0.012078071471569151\n"
     ]
    },
    {
     "data": {
      "image/png": "[encoded data removed]",
      "text/plain": [
       "<Figure size 432x288 with 1 Axes>"
      ]
     },
     "metadata": {},
     "output_type": "display_data"
    }
   ],
   "source": [
    "## Corporate Officials\n",
    "\n",
    "sns.histplot(data=vader2_CO, x='Quote Sentiment', stat = \"probability\", discrete=True) \n",
    "print(np.mean(vader2_CO['Quote Sentiment Score']))"
   ]
  },
  {
   "cell_type": "code",
   "execution_count": 51,
   "id": "5037c73b",
   "metadata": {},
   "outputs": [
    {
     "name": "stdout",
     "output_type": "stream",
     "text": [
      "-0.02635130812981292\n"
     ]
    },
    {
     "data": {
      "image/png": "[encoded data removed]",
      "text/plain": [
       "<Figure size 432x288 with 1 Axes>"
      ]
     },
     "metadata": {},
     "output_type": "display_data"
    }
   ],
   "source": [
    "## Other\n",
    "\n",
    "sns.histplot(data=vader2_O, x='Quote Sentiment', stat = \"probability\", discrete=True) \n",
    "print(np.mean(vader2_O['Quote Sentiment Score']))"
   ]
  },
  {
   "cell_type": "markdown",
   "id": "c1189021",
   "metadata": {},
   "source": [
    "### T test: if the differences in means are statistically significant"
   ]
  },
  {
   "cell_type": "code",
   "execution_count": 52,
   "id": "797f20fb",
   "metadata": {},
   "outputs": [
    {
     "data": {
      "text/plain": [
       "Ttest_indResult(statistic=3.7157174237859683, pvalue=0.00020270539141837478)"
      ]
     },
     "execution_count": 52,
     "metadata": {},
     "output_type": "execute_result"
    }
   ],
   "source": [
    "## Foreign Goverment v.s all\n",
    "\n",
    "FG = vader2_FG['Quote Sentiment Score'].to_numpy()\n",
    "st.ttest_ind(a=FG, b=GNI88_vader2['Quote Sentiment Score'].to_numpy(), equal_var=False)"
   ]
  },
  {
   "cell_type": "code",
   "execution_count": 53,
   "id": "107c8a13",
   "metadata": {},
   "outputs": [
    {
     "data": {
      "text/plain": [
       "Ttest_indResult(statistic=-8.844739184413955, pvalue=9.312816449465367e-19)"
      ]
     },
     "execution_count": 53,
     "metadata": {},
     "output_type": "execute_result"
    }
   ],
   "source": [
    "## Expert v.s all\n",
    "\n",
    "E = vader2_E['Quote Sentiment Score'].to_numpy()\n",
    "st.ttest_ind(a=E, b=GNI88_vader2['Quote Sentiment Score'].to_numpy(), equal_var=False)"
   ]
  },
  {
   "cell_type": "code",
   "execution_count": 54,
   "id": "792718a4",
   "metadata": {},
   "outputs": [
    {
     "data": {
      "text/plain": [
       "Ttest_indResult(statistic=1.6544026182888383, pvalue=0.09805299298865776)"
      ]
     },
     "execution_count": 54,
     "metadata": {},
     "output_type": "execute_result"
    }
   ],
   "source": [
    "## US Congress v.s all\n",
    "\n",
    "UC = vader2_UC['Quote Sentiment Score'].to_numpy()\n",
    "st.ttest_ind(a=UC, b=GNI88_vader2['Quote Sentiment Score'].to_numpy(), equal_var=False)"
   ]
  },
  {
   "cell_type": "code",
   "execution_count": 55,
   "id": "d74cbff8",
   "metadata": {},
   "outputs": [
    {
     "data": {
      "text/plain": [
       "Ttest_indResult(statistic=17.396575408624418, pvalue=1.0192264281259353e-67)"
      ]
     },
     "execution_count": 55,
     "metadata": {},
     "output_type": "execute_result"
    }
   ],
   "source": [
    "## US Federal Official v.s all\n",
    "\n",
    "UF = vader2_UF['Quote Sentiment Score'].to_numpy()\n",
    "st.ttest_ind(a=UF, b=GNI88_vader2['Quote Sentiment Score'].to_numpy(), equal_var=False)"
   ]
  },
  {
   "cell_type": "code",
   "execution_count": 56,
   "id": "b1b77147",
   "metadata": {},
   "outputs": [
    {
     "data": {
      "text/plain": [
       "Ttest_indResult(statistic=-1.6600363417038628, pvalue=0.09693799033648602)"
      ]
     },
     "execution_count": 56,
     "metadata": {},
     "output_type": "execute_result"
    }
   ],
   "source": [
    "## US Defense v.s all\n",
    "\n",
    "UD = vader2_UD['Quote Sentiment Score'].to_numpy()\n",
    "st.ttest_ind(a=UD, b=GNI88_vader2['Quote Sentiment Score'].to_numpy(), equal_var=False)"
   ]
  },
  {
   "cell_type": "code",
   "execution_count": 57,
   "id": "a882fce7",
   "metadata": {},
   "outputs": [
    {
     "data": {
      "text/plain": [
       "Ttest_indResult(statistic=-14.58095549987619, pvalue=5.021775115714129e-48)"
      ]
     },
     "execution_count": 57,
     "metadata": {},
     "output_type": "execute_result"
    }
   ],
   "source": [
    "## Media v.s all\n",
    "\n",
    "M = vader2_M['Quote Sentiment Score'].to_numpy()\n",
    "st.ttest_ind(a=M, b=GNI88_vader2['Quote Sentiment Score'].to_numpy(), equal_var=False)"
   ]
  },
  {
   "cell_type": "code",
   "execution_count": 58,
   "id": "0f6d5e45",
   "metadata": {},
   "outputs": [
    {
     "data": {
      "text/plain": [
       "Ttest_indResult(statistic=6.946225679467687, pvalue=4.237241107389726e-12)"
      ]
     },
     "execution_count": 58,
     "metadata": {},
     "output_type": "execute_result"
    }
   ],
   "source": [
    "## Corporate Official v.s all\n",
    "\n",
    "CO = vader2_CO['Quote Sentiment Score'].to_numpy()\n",
    "st.ttest_ind(a=CO, b=GNI88_vader2['Quote Sentiment Score'].to_numpy(), equal_var=False)"
   ]
  },
  {
   "cell_type": "code",
   "execution_count": 59,
   "id": "cc52e5ee",
   "metadata": {},
   "outputs": [
    {
     "data": {
      "text/plain": [
       "Ttest_indResult(statistic=-23.977296442764036, pvalue=2.747162402822002e-125)"
      ]
     },
     "execution_count": 59,
     "metadata": {},
     "output_type": "execute_result"
    }
   ],
   "source": [
    "## Other v.s all\n",
    "\n",
    "O = vader2_O['Quote Sentiment Score'].to_numpy()\n",
    "st.ttest_ind(a=O, b=GNI88_vader2['Quote Sentiment Score'].to_numpy(), equal_var=False)"
   ]
  },
  {
   "cell_type": "markdown",
   "id": "9bf475ce",
   "metadata": {},
   "source": [
    "### Takeaway:\n",
    "### 1. distributions still look the same after the normalization, and most of the mean differences are still statistically significant\n",
    "### 2. plz help to check if my normalization is right. github:https://github.com/cjhutto/vaderSentiment\n",
    "### 3. hard to design a cut-off now--the scores are no longer bounded"
   ]
  },
  {
   "cell_type": "markdown",
   "id": "f1bbfa0a",
   "metadata": {},
   "source": [
    "### Subjectivity"
   ]
  },
  {
   "cell_type": "code",
   "execution_count": 60,
   "id": "ab066349",
   "metadata": {},
   "outputs": [],
   "source": [
    "#Loading the MPQA Subjectivity Clues Lexicon (https://mpqa.cs.pitt.edu/lexicons/subj_lexicon/)\n",
    "mpqa_dict = json.load(open(\"/Users/carla/Desktop/internships/rethinkmedia/mpqa_dict.json\", \"r\"))\n",
    "\n",
    "def get_subjectivity(art_str, mpqa_dict):\n",
    "    subjectivity, adjectives, sub_adjectives = 0, 0, 0\n",
    "    words = re.sub(\"[^\\w]\", \" \",  art_str).split()\n",
    "    \n",
    "    for w in words:\n",
    "        if w in mpqa_dict:  \n",
    "            if mpqa_dict[w]['subj'] == 'weaksubj':\n",
    "                subjectivity += 0.1\n",
    "            if mpqa_dict[w]['subj'] == 'strongsubj':\n",
    "                subjectivity += 1\n",
    "            if mpqa_dict[w]['pos'] == 'adj' :\n",
    "                adjectives += 1\n",
    "                if mpqa_dict[w]['subj'] == 'weaksubj':\n",
    "                    sub_adjectives += 0.1\n",
    "                if mpqa_dict[w]['subj'] == 'strongsubj':\n",
    "                    sub_adjectives += 1\n",
    "    \n",
    "    return subjectivity, sub_adjectives\n",
    "\n",
    "#GNI88 = GNI88.drop(labels=329076, axis=0)\n",
    "GNI88_sub = GNI88.copy()\n",
    "GNI88_sub[\"subjectivity\"] = GNI88_sub[\"QText\"].apply(get_subjectivity, mpqa_dict=mpqa_dict)\n",
    "GNI88_sub[['subjectivity_feature','adj_subjectivity_feature']] = pd.DataFrame(GNI88_sub[\"subjectivity\"].tolist(), index= GNI88_sub.index)"
   ]
  },
  {
   "cell_type": "code",
   "execution_count": 61,
   "id": "e84cc0f1",
   "metadata": {},
   "outputs": [],
   "source": [
    "GNI88_sub['Source Type'] = GNI88_sub['Source Type'].apply(assign_source_to_group)"
   ]
  },
  {
   "cell_type": "code",
   "execution_count": 62,
   "id": "cfdc0138",
   "metadata": {},
   "outputs": [],
   "source": [
    "GNI88_sub = GNI88_sub.reset_index()"
   ]
  },
  {
   "cell_type": "code",
   "execution_count": 63,
   "id": "ac135c81",
   "metadata": {},
   "outputs": [
    {
     "name": "stderr",
     "output_type": "stream",
     "text": [
      "/var/folders/tc/bh92rdln5b97ks_khyc1_kbh0000gn/T/ipykernel_77867/3043663480.py:4: SettingWithCopyWarning: \n",
      "A value is trying to be set on a copy of a slice from a DataFrame\n",
      "\n",
      "See the caveats in the documentation: https://pandas.pydata.org/pandas-docs/stable/user_guide/indexing.html#returning-a-view-versus-a-copy\n",
      "  GNI88_sub['subjectivity_feature'][i] = GNI88_sub['subjectivity_feature'][i]*100/quote_len\n",
      "/var/folders/tc/bh92rdln5b97ks_khyc1_kbh0000gn/T/ipykernel_77867/3043663480.py:5: SettingWithCopyWarning: \n",
      "A value is trying to be set on a copy of a slice from a DataFrame\n",
      "\n",
      "See the caveats in the documentation: https://pandas.pydata.org/pandas-docs/stable/user_guide/indexing.html#returning-a-view-versus-a-copy\n",
      "  GNI88_sub['adj_subjectivity_feature'][i] = GNI88_sub['adj_subjectivity_feature'][i]*100/quote_len\n"
     ]
    }
   ],
   "source": [
    "for i in range(len(GNI88_sub)):\n",
    "    tokens = WhitespaceTokenizer().tokenize(GNI88_sub['QText'][i])\n",
    "    quote_len = len(tokens)\n",
    "    GNI88_sub['subjectivity_feature'][i] = GNI88_sub['subjectivity_feature'][i]*100/quote_len\n",
    "    GNI88_sub['adj_subjectivity_feature'][i] = GNI88_sub['adj_subjectivity_feature'][i]*100/quote_len"
   ]
  },
  {
   "cell_type": "code",
   "execution_count": 64,
   "id": "bb1ad0c8",
   "metadata": {},
   "outputs": [
    {
     "data": {
      "text/html": [
       "<div>\n",
       "<style scoped>\n",
       "    .dataframe tbody tr th:only-of-type {\n",
       "        vertical-align: middle;\n",
       "    }\n",
       "\n",
       "    .dataframe tbody tr th {\n",
       "        vertical-align: top;\n",
       "    }\n",
       "\n",
       "    .dataframe thead th {\n",
       "        text-align: right;\n",
       "    }\n",
       "</style>\n",
       "<table border=\"1\" class=\"dataframe\">\n",
       "  <thead>\n",
       "    <tr style=\"text-align: right;\">\n",
       "      <th></th>\n",
       "      <th>index</th>\n",
       "      <th>artdate</th>\n",
       "      <th>Article ID</th>\n",
       "      <th>Headline</th>\n",
       "      <th>Quote ID</th>\n",
       "      <th>Article Status</th>\n",
       "      <th>Article Position</th>\n",
       "      <th>Messages</th>\n",
       "      <th>Submessages</th>\n",
       "      <th>Quote Position</th>\n",
       "      <th>...</th>\n",
       "      <th>Journalist Name</th>\n",
       "      <th>Constituent Author</th>\n",
       "      <th>Article Issues</th>\n",
       "      <th>Custom Group</th>\n",
       "      <th>Media Group</th>\n",
       "      <th>fulltext</th>\n",
       "      <th>source_name_cleaned</th>\n",
       "      <th>subjectivity</th>\n",
       "      <th>subjectivity_feature</th>\n",
       "      <th>adj_subjectivity_feature</th>\n",
       "    </tr>\n",
       "  </thead>\n",
       "  <tbody>\n",
       "    <tr>\n",
       "      <th>0</th>\n",
       "      <td>0</td>\n",
       "      <td>2018-02-23</td>\n",
       "      <td>3777413</td>\n",
       "      <td>Can James Mattis Prevent Nuclear War With Nort...</td>\n",
       "      <td>7105520</td>\n",
       "      <td>News</td>\n",
       "      <td>Neutral</td>\n",
       "      <td>OLD Proliferation</td>\n",
       "      <td>OLD State Level Nuclear Programs</td>\n",
       "      <td>Neutral</td>\n",
       "      <td>...</td>\n",
       "      <td>Fryer-biggs, Zachary</td>\n",
       "      <td>NaN</td>\n",
       "      <td>NaN</td>\n",
       "      <td>NaN</td>\n",
       "      <td>NaN</td>\n",
       "      <td>Can James Mattis Prevent Nuclear War With Nort...</td>\n",
       "      <td>James Mattis</td>\n",
       "      <td>(0.2, 0.1)</td>\n",
       "      <td>1.538462</td>\n",
       "      <td>0.769231</td>\n",
       "    </tr>\n",
       "    <tr>\n",
       "      <th>1</th>\n",
       "      <td>1</td>\n",
       "      <td>2018-02-23</td>\n",
       "      <td>3777413</td>\n",
       "      <td>Can James Mattis Prevent Nuclear War With Nort...</td>\n",
       "      <td>7105517</td>\n",
       "      <td>News</td>\n",
       "      <td>Neutral</td>\n",
       "      <td>OLD Proliferation</td>\n",
       "      <td>OLD State Level Nuclear Programs</td>\n",
       "      <td>Neutral</td>\n",
       "      <td>...</td>\n",
       "      <td>Fryer-biggs, Zachary</td>\n",
       "      <td>NaN</td>\n",
       "      <td>NaN</td>\n",
       "      <td>NaN</td>\n",
       "      <td>NaN</td>\n",
       "      <td>Can James Mattis Prevent Nuclear War With Nort...</td>\n",
       "      <td>James Mattis</td>\n",
       "      <td>(0.1, 0)</td>\n",
       "      <td>1.428571</td>\n",
       "      <td>0.000000</td>\n",
       "    </tr>\n",
       "    <tr>\n",
       "      <th>2</th>\n",
       "      <td>2</td>\n",
       "      <td>2018-02-23</td>\n",
       "      <td>3777413</td>\n",
       "      <td>Can James Mattis Prevent Nuclear War With Nort...</td>\n",
       "      <td>7105518</td>\n",
       "      <td>News</td>\n",
       "      <td>Neutral</td>\n",
       "      <td>OLD Proliferation</td>\n",
       "      <td>OLD State Level Nuclear Programs</td>\n",
       "      <td>Positive</td>\n",
       "      <td>...</td>\n",
       "      <td>Fryer-biggs, Zachary</td>\n",
       "      <td>NaN</td>\n",
       "      <td>NaN</td>\n",
       "      <td>NaN</td>\n",
       "      <td>NaN</td>\n",
       "      <td>Can James Mattis Prevent Nuclear War With Nort...</td>\n",
       "      <td>Leon E. Panetta</td>\n",
       "      <td>(1.3, 0)</td>\n",
       "      <td>6.842105</td>\n",
       "      <td>0.000000</td>\n",
       "    </tr>\n",
       "    <tr>\n",
       "      <th>3</th>\n",
       "      <td>3</td>\n",
       "      <td>2018-02-23</td>\n",
       "      <td>3777413</td>\n",
       "      <td>Can James Mattis Prevent Nuclear War With Nort...</td>\n",
       "      <td>7105527</td>\n",
       "      <td>News</td>\n",
       "      <td>Neutral</td>\n",
       "      <td>OLD Proliferation</td>\n",
       "      <td>OLD State Level Nuclear Programs</td>\n",
       "      <td>Neutral</td>\n",
       "      <td>...</td>\n",
       "      <td>Fryer-biggs, Zachary</td>\n",
       "      <td>NaN</td>\n",
       "      <td>NaN</td>\n",
       "      <td>NaN</td>\n",
       "      <td>NaN</td>\n",
       "      <td>Can James Mattis Prevent Nuclear War With Nort...</td>\n",
       "      <td>Chuck Hagel</td>\n",
       "      <td>(2.2, 0)</td>\n",
       "      <td>9.565217</td>\n",
       "      <td>0.000000</td>\n",
       "    </tr>\n",
       "    <tr>\n",
       "      <th>4</th>\n",
       "      <td>4</td>\n",
       "      <td>2018-02-15</td>\n",
       "      <td>3777414</td>\n",
       "      <td>For His Book 'Directorate S,' Journalist Steve...</td>\n",
       "      <td>7105525</td>\n",
       "      <td>News</td>\n",
       "      <td>Neutral</td>\n",
       "      <td>OLD Proliferation</td>\n",
       "      <td>OLD State Level Nuclear Programs</td>\n",
       "      <td>Positive</td>\n",
       "      <td>...</td>\n",
       "      <td>Kelly, Mary</td>\n",
       "      <td>NaN</td>\n",
       "      <td>NaN</td>\n",
       "      <td>NaN</td>\n",
       "      <td>NaN</td>\n",
       "      <td>For His Book 'Directorate S,' Journalist Steve...</td>\n",
       "      <td>Steve Coll</td>\n",
       "      <td>(5.7, 3)</td>\n",
       "      <td>11.176471</td>\n",
       "      <td>5.882353</td>\n",
       "    </tr>\n",
       "  </tbody>\n",
       "</table>\n",
       "<p>5 rows × 34 columns</p>\n",
       "</div>"
      ],
      "text/plain": [
       "   index     artdate  Article ID  \\\n",
       "0      0  2018-02-23     3777413   \n",
       "1      1  2018-02-23     3777413   \n",
       "2      2  2018-02-23     3777413   \n",
       "3      3  2018-02-23     3777413   \n",
       "4      4  2018-02-15     3777414   \n",
       "\n",
       "                                            Headline  Quote ID Article Status  \\\n",
       "0  Can James Mattis Prevent Nuclear War With Nort...   7105520           News   \n",
       "1  Can James Mattis Prevent Nuclear War With Nort...   7105517           News   \n",
       "2  Can James Mattis Prevent Nuclear War With Nort...   7105518           News   \n",
       "3  Can James Mattis Prevent Nuclear War With Nort...   7105527           News   \n",
       "4  For His Book 'Directorate S,' Journalist Steve...   7105525           News   \n",
       "\n",
       "  Article Position           Messages                       Submessages  \\\n",
       "0          Neutral  OLD Proliferation  OLD State Level Nuclear Programs   \n",
       "1          Neutral  OLD Proliferation  OLD State Level Nuclear Programs   \n",
       "2          Neutral  OLD Proliferation  OLD State Level Nuclear Programs   \n",
       "3          Neutral  OLD Proliferation  OLD State Level Nuclear Programs   \n",
       "4          Neutral  OLD Proliferation  OLD State Level Nuclear Programs   \n",
       "\n",
       "  Quote Position  ...       Journalist Name Constituent Author Article Issues  \\\n",
       "0        Neutral  ...  Fryer-biggs, Zachary                NaN            NaN   \n",
       "1        Neutral  ...  Fryer-biggs, Zachary                NaN            NaN   \n",
       "2       Positive  ...  Fryer-biggs, Zachary                NaN            NaN   \n",
       "3        Neutral  ...  Fryer-biggs, Zachary                NaN            NaN   \n",
       "4       Positive  ...           Kelly, Mary                NaN            NaN   \n",
       "\n",
       "  Custom Group Media Group                                           fulltext  \\\n",
       "0          NaN         NaN  Can James Mattis Prevent Nuclear War With Nort...   \n",
       "1          NaN         NaN  Can James Mattis Prevent Nuclear War With Nort...   \n",
       "2          NaN         NaN  Can James Mattis Prevent Nuclear War With Nort...   \n",
       "3          NaN         NaN  Can James Mattis Prevent Nuclear War With Nort...   \n",
       "4          NaN         NaN  For His Book 'Directorate S,' Journalist Steve...   \n",
       "\n",
       "  source_name_cleaned subjectivity subjectivity_feature  \\\n",
       "0        James Mattis   (0.2, 0.1)             1.538462   \n",
       "1        James Mattis     (0.1, 0)             1.428571   \n",
       "2     Leon E. Panetta     (1.3, 0)             6.842105   \n",
       "3         Chuck Hagel     (2.2, 0)             9.565217   \n",
       "4          Steve Coll     (5.7, 3)            11.176471   \n",
       "\n",
       "  adj_subjectivity_feature  \n",
       "0                 0.769231  \n",
       "1                 0.000000  \n",
       "2                 0.000000  \n",
       "3                 0.000000  \n",
       "4                 5.882353  \n",
       "\n",
       "[5 rows x 34 columns]"
      ]
     },
     "execution_count": 64,
     "metadata": {},
     "output_type": "execute_result"
    }
   ],
   "source": [
    "GNI88_sub.head()"
   ]
  },
  {
   "cell_type": "code",
   "execution_count": 65,
   "id": "d8bc03b5",
   "metadata": {},
   "outputs": [],
   "source": [
    "sub_FG = GNI88_sub[GNI88_sub['Source Type'] == 'Foreign Government']\n",
    "sub_E = GNI88_sub[GNI88_sub['Source Type'] == 'Experts']\n",
    "sub_UC = GNI88_sub[GNI88_sub['Source Type'] == 'US Congress']\n",
    "sub_UF = GNI88_sub[GNI88_sub['Source Type'] == 'US Federal Officials']\n",
    "sub_UD = GNI88_sub[GNI88_sub['Source Type'] == 'US Defense']\n",
    "sub_M = GNI88_sub[GNI88_sub['Source Type'] == 'Media']\n",
    "sub_CO = GNI88_sub[GNI88_sub['Source Type'] == 'Corporate Official']\n",
    "sub_O = GNI88_sub[GNI88_sub['Source Type'] == 'Other']"
   ]
  },
  {
   "cell_type": "code",
   "execution_count": 66,
   "id": "7b09f07b",
   "metadata": {},
   "outputs": [
    {
     "name": "stdout",
     "output_type": "stream",
     "text": [
      "6.52472005779592\n"
     ]
    },
    {
     "data": {
      "image/png": "[encoded data removed]",
      "text/plain": [
       "<Figure size 432x288 with 1 Axes>"
      ]
     },
     "metadata": {},
     "output_type": "display_data"
    }
   ],
   "source": [
    "## Foreign Government\n",
    "\n",
    "sns.set(style=\"darkgrid\")\n",
    "sns.set(font_scale=1)\n",
    "sns.histplot(data=sub_FG, x='subjectivity_feature', stat = \"probability\", bins = 20) \n",
    "print(np.mean(sub_FG['subjectivity_feature']))"
   ]
  },
  {
   "cell_type": "code",
   "execution_count": 67,
   "id": "1cd3233e",
   "metadata": {},
   "outputs": [
    {
     "name": "stdout",
     "output_type": "stream",
     "text": [
      "1.5362265724957611\n"
     ]
    },
    {
     "data": {
      "image/png": "[encoded data removed]",
      "text/plain": [
       "<Figure size 432x288 with 1 Axes>"
      ]
     },
     "metadata": {},
     "output_type": "display_data"
    }
   ],
   "source": [
    "sns.histplot(data=sub_FG, x='adj_subjectivity_feature', stat = \"probability\", bins = 20) \n",
    "print(np.mean(sub_FG['adj_subjectivity_feature']))"
   ]
  },
  {
   "cell_type": "code",
   "execution_count": 68,
   "id": "c5fea356",
   "metadata": {},
   "outputs": [
    {
     "name": "stdout",
     "output_type": "stream",
     "text": [
      "6.778301238875614\n"
     ]
    },
    {
     "data": {
      "image/png": "[encoded data removed]",
      "text/plain": [
       "<Figure size 432x288 with 1 Axes>"
      ]
     },
     "metadata": {},
     "output_type": "display_data"
    }
   ],
   "source": [
    "## Expert\n",
    "\n",
    "sns.histplot(data=sub_E, x='subjectivity_feature', stat = \"probability\", bins = 20) \n",
    "print(np.mean(sub_E['subjectivity_feature']))"
   ]
  },
  {
   "cell_type": "code",
   "execution_count": 69,
   "id": "1eaee28e",
   "metadata": {},
   "outputs": [
    {
     "name": "stdout",
     "output_type": "stream",
     "text": [
      "1.5100368536067137\n"
     ]
    },
    {
     "data": {
      "image/png": "[encoded data removed]",
      "text/plain": [
       "<Figure size 432x288 with 1 Axes>"
      ]
     },
     "metadata": {},
     "output_type": "display_data"
    }
   ],
   "source": [
    "sns.histplot(data=sub_E, x='adj_subjectivity_feature', stat = \"probability\", bins = 20) \n",
    "print(np.mean(sub_E['adj_subjectivity_feature']))"
   ]
  },
  {
   "cell_type": "code",
   "execution_count": 70,
   "id": "37dcf6fd",
   "metadata": {},
   "outputs": [
    {
     "name": "stdout",
     "output_type": "stream",
     "text": [
      "8.080674535488036\n"
     ]
    },
    {
     "data": {
      "image/png": "[encoded data removed]",
      "text/plain": [
       "<Figure size 432x288 with 1 Axes>"
      ]
     },
     "metadata": {},
     "output_type": "display_data"
    }
   ],
   "source": [
    "## US Congress\n",
    "\n",
    "sns.histplot(data=sub_UC, x='subjectivity_feature', stat = \"probability\", bins = 20) \n",
    "print(np.mean(sub_UC['subjectivity_feature']))"
   ]
  },
  {
   "cell_type": "code",
   "execution_count": 71,
   "id": "443f50c1",
   "metadata": {},
   "outputs": [
    {
     "name": "stdout",
     "output_type": "stream",
     "text": [
      "1.726354666616209\n"
     ]
    },
    {
     "data": {
      "image/png": "[encoded data removed]",
      "text/plain": [
       "<Figure size 432x288 with 1 Axes>"
      ]
     },
     "metadata": {},
     "output_type": "display_data"
    }
   ],
   "source": [
    "sns.histplot(data=sub_UC, x='adj_subjectivity_feature', stat = \"probability\", bins = 20) \n",
    "print(np.mean(sub_UC['adj_subjectivity_feature']))"
   ]
  },
  {
   "cell_type": "code",
   "execution_count": 72,
   "id": "f00a9a8b",
   "metadata": {},
   "outputs": [
    {
     "name": "stdout",
     "output_type": "stream",
     "text": [
      "6.910380231388709\n"
     ]
    },
    {
     "data": {
      "image/png": "[encoded data removed]",
      "text/plain": [
       "<Figure size 432x288 with 1 Axes>"
      ]
     },
     "metadata": {},
     "output_type": "display_data"
    }
   ],
   "source": [
    "## US Federal Official\n",
    "\n",
    "sns.histplot(data=sub_UF, x='subjectivity_feature', stat = \"probability\", bins = 20) \n",
    "print(np.mean(sub_UF['subjectivity_feature']))"
   ]
  },
  {
   "cell_type": "code",
   "execution_count": 73,
   "id": "30ede2e9",
   "metadata": {},
   "outputs": [
    {
     "name": "stdout",
     "output_type": "stream",
     "text": [
      "1.5213354125564447\n"
     ]
    },
    {
     "data": {
      "image/png": "[encoded data removed]",
      "text/plain": [
       "<Figure size 432x288 with 1 Axes>"
      ]
     },
     "metadata": {},
     "output_type": "display_data"
    }
   ],
   "source": [
    "sns.histplot(data=sub_UF, x='adj_subjectivity_feature', stat = \"probability\", bins = 20) \n",
    "print(np.mean(sub_UF['adj_subjectivity_feature']))"
   ]
  },
  {
   "cell_type": "code",
   "execution_count": 74,
   "id": "227a0ced",
   "metadata": {},
   "outputs": [
    {
     "name": "stdout",
     "output_type": "stream",
     "text": [
      "6.25660814976687\n"
     ]
    },
    {
     "data": {
      "image/png": "[encoded data removed]",
      "text/plain": [
       "<Figure size 432x288 with 1 Axes>"
      ]
     },
     "metadata": {},
     "output_type": "display_data"
    }
   ],
   "source": [
    "## US Defense \n",
    "\n",
    "sns.histplot(data=sub_UD, x='subjectivity_feature', stat = \"probability\", bins = 20) \n",
    "print(np.mean(sub_UD['subjectivity_feature']))"
   ]
  },
  {
   "cell_type": "code",
   "execution_count": 75,
   "id": "c1546348",
   "metadata": {},
   "outputs": [
    {
     "name": "stdout",
     "output_type": "stream",
     "text": [
      "1.4053842238866079\n"
     ]
    },
    {
     "data": {
      "image/png": "[encoded data removed]",
      "text/plain": [
       "<Figure size 432x288 with 1 Axes>"
      ]
     },
     "metadata": {},
     "output_type": "display_data"
    }
   ],
   "source": [
    "sns.histplot(data=sub_UD, x='adj_subjectivity_feature', stat = \"probability\", bins = 20) \n",
    "print(np.mean(sub_UD['adj_subjectivity_feature']))"
   ]
  },
  {
   "cell_type": "code",
   "execution_count": 76,
   "id": "18cdc653",
   "metadata": {},
   "outputs": [
    {
     "name": "stdout",
     "output_type": "stream",
     "text": [
      "6.5539225728055515\n"
     ]
    },
    {
     "data": {
      "image/png": "[encoded data removed]",
      "text/plain": [
       "<Figure size 432x288 with 1 Axes>"
      ]
     },
     "metadata": {},
     "output_type": "display_data"
    }
   ],
   "source": [
    "## Media\n",
    "\n",
    "sns.histplot(data=sub_M, x='subjectivity_feature', stat = \"probability\", bins = 20) \n",
    "print(np.mean(sub_M['subjectivity_feature']))"
   ]
  },
  {
   "cell_type": "code",
   "execution_count": 77,
   "id": "056fa568",
   "metadata": {},
   "outputs": [
    {
     "name": "stdout",
     "output_type": "stream",
     "text": [
      "1.3383916380281367\n"
     ]
    },
    {
     "data": {
      "image/png": "[encoded data removed]",
      "text/plain": [
       "<Figure size 432x288 with 1 Axes>"
      ]
     },
     "metadata": {},
     "output_type": "display_data"
    }
   ],
   "source": [
    "sns.histplot(data=sub_M, x='adj_subjectivity_feature', stat = \"probability\", bins = 20) \n",
    "print(np.mean(sub_M['adj_subjectivity_feature']))"
   ]
  },
  {
   "cell_type": "code",
   "execution_count": 78,
   "id": "fdd5e56d",
   "metadata": {},
   "outputs": [
    {
     "name": "stdout",
     "output_type": "stream",
     "text": [
      "5.938892520614692\n"
     ]
    },
    {
     "data": {
      "image/png": "[encoded data removed]",
      "text/plain": [
       "<Figure size 432x288 with 1 Axes>"
      ]
     },
     "metadata": {},
     "output_type": "display_data"
    }
   ],
   "source": [
    "## Corporate Official\n",
    "\n",
    "sns.histplot(data=sub_CO, x='subjectivity_feature', stat = \"probability\", bins = 20) \n",
    "print(np.mean(sub_CO['subjectivity_feature']))"
   ]
  },
  {
   "cell_type": "code",
   "execution_count": 79,
   "id": "fa5d00f2",
   "metadata": {},
   "outputs": [
    {
     "name": "stdout",
     "output_type": "stream",
     "text": [
      "1.3105643242408085\n"
     ]
    },
    {
     "data": {
      "image/png": "[encoded data removed]",
      "text/plain": [
       "<Figure size 432x288 with 1 Axes>"
      ]
     },
     "metadata": {},
     "output_type": "display_data"
    }
   ],
   "source": [
    "sns.histplot(data=sub_CO, x='adj_subjectivity_feature', stat = \"probability\", bins = 20) \n",
    "print(np.mean(sub_CO['adj_subjectivity_feature']))"
   ]
  },
  {
   "cell_type": "code",
   "execution_count": 80,
   "id": "c622217e",
   "metadata": {},
   "outputs": [
    {
     "name": "stdout",
     "output_type": "stream",
     "text": [
      "6.327211944351584\n"
     ]
    },
    {
     "data": {
      "image/png": "[encoded data removed]",
      "text/plain": [
       "<Figure size 432x288 with 1 Axes>"
      ]
     },
     "metadata": {},
     "output_type": "display_data"
    }
   ],
   "source": [
    "## Other\n",
    "\n",
    "sns.histplot(data=sub_O, x='subjectivity_feature', stat = \"probability\", bins = 20) \n",
    "print(np.mean(sub_O['subjectivity_feature']))"
   ]
  },
  {
   "cell_type": "code",
   "execution_count": 81,
   "id": "9011f8ce",
   "metadata": {},
   "outputs": [
    {
     "name": "stdout",
     "output_type": "stream",
     "text": [
      "1.4763394977328779\n"
     ]
    },
    {
     "data": {
      "image/png": "[encoded data removed]",
      "text/plain": [
       "<Figure size 432x288 with 1 Axes>"
      ]
     },
     "metadata": {},
     "output_type": "display_data"
    }
   ],
   "source": [
    "sns.histplot(data=sub_O, x='adj_subjectivity_feature', stat = \"probability\", bins = 20) \n",
    "print(np.mean(sub_O['adj_subjectivity_feature']))"
   ]
  },
  {
   "cell_type": "markdown",
   "id": "d6e8f4e2",
   "metadata": {},
   "source": [
    "### T test: if the differences in means are statistically significant"
   ]
  },
  {
   "cell_type": "code",
   "execution_count": 82,
   "id": "8b003a82",
   "metadata": {},
   "outputs": [
    {
     "data": {
      "text/plain": [
       "Ttest_indResult(statistic=-12.379138301146456, pvalue=3.52894978271164e-35)"
      ]
     },
     "execution_count": 82,
     "metadata": {},
     "output_type": "execute_result"
    }
   ],
   "source": [
    "## Foreign Goverment v.s all\n",
    "\n",
    "FG = sub_FG['subjectivity_feature'].to_numpy()\n",
    "st.ttest_ind(a=FG, b=GNI88_sub['subjectivity_feature'].to_numpy(), equal_var=False)"
   ]
  },
  {
   "cell_type": "code",
   "execution_count": 83,
   "id": "f63c8628",
   "metadata": {},
   "outputs": [
    {
     "data": {
      "text/plain": [
       "Ttest_indResult(statistic=-1.3220659799891181, pvalue=0.18614911686484406)"
      ]
     },
     "execution_count": 83,
     "metadata": {},
     "output_type": "execute_result"
    }
   ],
   "source": [
    "## Expert v.s all\n",
    "\n",
    "E = sub_E['subjectivity_feature'].to_numpy()\n",
    "st.ttest_ind(a=E, b=GNI88_sub['subjectivity_feature'].to_numpy(), equal_var=False)"
   ]
  },
  {
   "cell_type": "code",
   "execution_count": 84,
   "id": "d15395ad",
   "metadata": {},
   "outputs": [
    {
     "data": {
      "text/plain": [
       "Ttest_indResult(statistic=34.70219701554458, pvalue=2.8976478748022972e-260)"
      ]
     },
     "execution_count": 84,
     "metadata": {},
     "output_type": "execute_result"
    }
   ],
   "source": [
    "## US Congress v.s all\n",
    "\n",
    "UC = sub_UC['subjectivity_feature'].to_numpy()\n",
    "st.ttest_ind(a=UC, b=GNI88_sub['subjectivity_feature'].to_numpy(), equal_var=False)"
   ]
  },
  {
   "cell_type": "code",
   "execution_count": 85,
   "id": "b0d8f81e",
   "metadata": {},
   "outputs": [
    {
     "data": {
      "text/plain": [
       "Ttest_indResult(statistic=4.324777688303259, pvalue=1.5278435854010176e-05)"
      ]
     },
     "execution_count": 85,
     "metadata": {},
     "output_type": "execute_result"
    }
   ],
   "source": [
    "## US Federal Official v.s all\n",
    "\n",
    "UF = sub_UF['subjectivity_feature'].to_numpy()\n",
    "st.ttest_ind(a=UF, b=GNI88_sub['subjectivity_feature'].to_numpy(), equal_var=False)"
   ]
  },
  {
   "cell_type": "code",
   "execution_count": 86,
   "id": "7e6dbfa4",
   "metadata": {},
   "outputs": [
    {
     "data": {
      "text/plain": [
       "Ttest_indResult(statistic=-9.179304883099796, pvalue=5.188601532392887e-20)"
      ]
     },
     "execution_count": 86,
     "metadata": {},
     "output_type": "execute_result"
    }
   ],
   "source": [
    "## US Defense v.s all\n",
    "\n",
    "UD = sub_UD['subjectivity_feature'].to_numpy()\n",
    "st.ttest_ind(a=UD, b=GNI88_sub['subjectivity_feature'].to_numpy(), equal_var=False)"
   ]
  },
  {
   "cell_type": "code",
   "execution_count": 87,
   "id": "3d237e52",
   "metadata": {},
   "outputs": [
    {
     "data": {
      "text/plain": [
       "Ttest_indResult(statistic=-7.7741662494373385, pvalue=7.791122362623432e-15)"
      ]
     },
     "execution_count": 87,
     "metadata": {},
     "output_type": "execute_result"
    }
   ],
   "source": [
    "## Media v.s all\n",
    "\n",
    "M = sub_M['subjectivity_feature'].to_numpy()\n",
    "st.ttest_ind(a=M, b=GNI88_sub['subjectivity_feature'].to_numpy(), equal_var=False)"
   ]
  },
  {
   "cell_type": "code",
   "execution_count": 88,
   "id": "a84e1a7a",
   "metadata": {},
   "outputs": [
    {
     "data": {
      "text/plain": [
       "Ttest_indResult(statistic=-9.369009663236003, pvalue=1.0877770935241028e-20)"
      ]
     },
     "execution_count": 88,
     "metadata": {},
     "output_type": "execute_result"
    }
   ],
   "source": [
    "## Corporate Official v.s all\n",
    "\n",
    "CO = sub_CO['subjectivity_feature'].to_numpy()\n",
    "st.ttest_ind(a=CO, b=GNI88_sub['subjectivity_feature'].to_numpy(), equal_var=False)"
   ]
  },
  {
   "cell_type": "code",
   "execution_count": 89,
   "id": "e60ae061",
   "metadata": {},
   "outputs": [
    {
     "data": {
      "text/plain": [
       "Ttest_indResult(statistic=-10.463143734874356, pvalue=1.4815251082696736e-25)"
      ]
     },
     "execution_count": 89,
     "metadata": {},
     "output_type": "execute_result"
    }
   ],
   "source": [
    "## Other v.s all\n",
    "\n",
    "O = sub_O['subjectivity_feature'].to_numpy()\n",
    "st.ttest_ind(a=O, b=GNI88_sub['subjectivity_feature'].to_numpy(), equal_var=False)"
   ]
  },
  {
   "cell_type": "markdown",
   "id": "5204e35f",
   "metadata": {},
   "source": [
    "### Takeaway:\n",
    "### 1. Each speaker type shows a different distribution of subjectivity scores\n",
    "### 2. Most of the differences in their mean scores are statistically significant\n",
    "### 3. The adj subjectivity scores generally have the same trends as their corresponding subjectivity scores, I didn't do t-test on them since I think they are highly correlated with subjectivity scores, so the conclusions are transferrable. "
   ]
  },
  {
   "cell_type": "code",
   "execution_count": null,
   "id": "b497644f",
   "metadata": {},
   "outputs": [],
   "source": []
  }
 ],
 "metadata": {
  "kernelspec": {
   "display_name": "Python 3 (ipykernel)",
   "language": "python",
   "name": "python3"
  },
  "language_info": {
   "codemirror_mode": {
    "name": "ipython",
    "version": 3
   },
   "file_extension": ".py",
   "mimetype": "text/x-python",
   "name": "python",
   "nbconvert_exporter": "python",
   "pygments_lexer": "ipython3",
   "version": "3.9.7"
  }
 },
 "nbformat": 4,
 "nbformat_minor": 5
}
