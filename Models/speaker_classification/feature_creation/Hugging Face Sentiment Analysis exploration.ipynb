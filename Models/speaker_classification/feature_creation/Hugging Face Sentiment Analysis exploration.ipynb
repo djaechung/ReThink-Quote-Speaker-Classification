{
 "cells": [
  {
   "cell_type": "code",
   "execution_count": 1,
   "id": "beaa27a8",
   "metadata": {},
   "outputs": [],
   "source": [
    "import pandas as pd\n",
    "import numpy as np\n",
    "from collections import Counter\n",
    "import seaborn as sns\n",
    "import matplotlib.pyplot as plt"
   ]
  },
  {
   "cell_type": "code",
   "execution_count": 2,
   "id": "33ec0aff",
   "metadata": {
    "scrolled": true
   },
   "outputs": [
    {
     "name": "stderr",
     "output_type": "stream",
     "text": [
      "/Users/carla/opt/anaconda3/lib/python3.9/site-packages/IPython/core/interactiveshell.py:3444: DtypeWarning: Columns (9,10,24) have mixed types.Specify dtype option on import or set low_memory=False.\n",
      "  exec(code_obj, self.user_global_ns, self.user_ns)\n"
     ]
    }
   ],
   "source": [
    "GNI88 = pd.read_csv(\"/Users/carla/Desktop/internships/rethinkmedia/GNI88_cleaned_data.csv\")"
   ]
  },
  {
   "cell_type": "code",
   "execution_count": 3,
   "id": "6739ca25",
   "metadata": {
    "scrolled": true
   },
   "outputs": [
    {
     "data": {
      "text/html": [
       "<div>\n",
       "<style scoped>\n",
       "    .dataframe tbody tr th:only-of-type {\n",
       "        vertical-align: middle;\n",
       "    }\n",
       "\n",
       "    .dataframe tbody tr th {\n",
       "        vertical-align: top;\n",
       "    }\n",
       "\n",
       "    .dataframe thead th {\n",
       "        text-align: right;\n",
       "    }\n",
       "</style>\n",
       "<table border=\"1\" class=\"dataframe\">\n",
       "  <thead>\n",
       "    <tr style=\"text-align: right;\">\n",
       "      <th></th>\n",
       "      <th>artdate</th>\n",
       "      <th>Article ID</th>\n",
       "      <th>Headline</th>\n",
       "      <th>Quote ID</th>\n",
       "      <th>Article Status</th>\n",
       "      <th>Article Position</th>\n",
       "      <th>Messages</th>\n",
       "      <th>Submessages</th>\n",
       "      <th>Quote Position</th>\n",
       "      <th>Legacy Quote Tag</th>\n",
       "      <th>...</th>\n",
       "      <th>Constituent Group</th>\n",
       "      <th>Media Name</th>\n",
       "      <th>Media Medium</th>\n",
       "      <th>Journalist Name</th>\n",
       "      <th>Constituent Author</th>\n",
       "      <th>Article Issues</th>\n",
       "      <th>Custom Group</th>\n",
       "      <th>Media Group</th>\n",
       "      <th>fulltext</th>\n",
       "      <th>source_name_cleaned</th>\n",
       "    </tr>\n",
       "  </thead>\n",
       "  <tbody>\n",
       "    <tr>\n",
       "      <th>0</th>\n",
       "      <td>2018-02-05</td>\n",
       "      <td>3774467</td>\n",
       "      <td>Opinion: They Voted for Caps. Now They Want Mo...</td>\n",
       "      <td>7096188</td>\n",
       "      <td>Opinion</td>\n",
       "      <td>Neutral</td>\n",
       "      <td>OLD Spending</td>\n",
       "      <td>OLD Nukes Budget Campaign</td>\n",
       "      <td>Neutral</td>\n",
       "      <td>NaN</td>\n",
       "      <td>...</td>\n",
       "      <td>None (Legacy Other)</td>\n",
       "      <td>Roll Call</td>\n",
       "      <td>Print</td>\n",
       "      <td>Bell, Steve</td>\n",
       "      <td>NaN</td>\n",
       "      <td>NaN</td>\n",
       "      <td>Commentary</td>\n",
       "      <td>Capitol Hill Media</td>\n",
       "      <td>Opinion: They Voted for Caps. Now They Want Mo...</td>\n",
       "      <td>Steve Bell</td>\n",
       "    </tr>\n",
       "    <tr>\n",
       "      <th>1</th>\n",
       "      <td>2018-02-23</td>\n",
       "      <td>3777413</td>\n",
       "      <td>Can James Mattis Prevent Nuclear War With Nort...</td>\n",
       "      <td>7105520</td>\n",
       "      <td>News</td>\n",
       "      <td>Neutral</td>\n",
       "      <td>OLD Proliferation</td>\n",
       "      <td>OLD State Level Nuclear Programs</td>\n",
       "      <td>Neutral</td>\n",
       "      <td>NaN</td>\n",
       "      <td>...</td>\n",
       "      <td>None (Legacy Other)</td>\n",
       "      <td>News Week</td>\n",
       "      <td>NaN</td>\n",
       "      <td>Fryer-biggs, Zachary</td>\n",
       "      <td>NaN</td>\n",
       "      <td>NaN</td>\n",
       "      <td>NaN</td>\n",
       "      <td>NaN</td>\n",
       "      <td>Can James Mattis Prevent Nuclear War With Nort...</td>\n",
       "      <td>James Mattis</td>\n",
       "    </tr>\n",
       "    <tr>\n",
       "      <th>2</th>\n",
       "      <td>2018-02-23</td>\n",
       "      <td>3777413</td>\n",
       "      <td>Can James Mattis Prevent Nuclear War With Nort...</td>\n",
       "      <td>7105517</td>\n",
       "      <td>News</td>\n",
       "      <td>Neutral</td>\n",
       "      <td>OLD Proliferation</td>\n",
       "      <td>OLD State Level Nuclear Programs</td>\n",
       "      <td>Neutral</td>\n",
       "      <td>NaN</td>\n",
       "      <td>...</td>\n",
       "      <td>None (Legacy Other)</td>\n",
       "      <td>News Week</td>\n",
       "      <td>NaN</td>\n",
       "      <td>Fryer-biggs, Zachary</td>\n",
       "      <td>NaN</td>\n",
       "      <td>NaN</td>\n",
       "      <td>NaN</td>\n",
       "      <td>NaN</td>\n",
       "      <td>Can James Mattis Prevent Nuclear War With Nort...</td>\n",
       "      <td>James Mattis</td>\n",
       "    </tr>\n",
       "    <tr>\n",
       "      <th>3</th>\n",
       "      <td>2018-02-23</td>\n",
       "      <td>3777413</td>\n",
       "      <td>Can James Mattis Prevent Nuclear War With Nort...</td>\n",
       "      <td>7105518</td>\n",
       "      <td>News</td>\n",
       "      <td>Neutral</td>\n",
       "      <td>OLD Proliferation</td>\n",
       "      <td>OLD State Level Nuclear Programs</td>\n",
       "      <td>Positive</td>\n",
       "      <td>NaN</td>\n",
       "      <td>...</td>\n",
       "      <td>NaN</td>\n",
       "      <td>News Week</td>\n",
       "      <td>NaN</td>\n",
       "      <td>Fryer-biggs, Zachary</td>\n",
       "      <td>NaN</td>\n",
       "      <td>NaN</td>\n",
       "      <td>NaN</td>\n",
       "      <td>NaN</td>\n",
       "      <td>Can James Mattis Prevent Nuclear War With Nort...</td>\n",
       "      <td>Leon E. Panetta</td>\n",
       "    </tr>\n",
       "    <tr>\n",
       "      <th>4</th>\n",
       "      <td>2018-02-23</td>\n",
       "      <td>3777413</td>\n",
       "      <td>Can James Mattis Prevent Nuclear War With Nort...</td>\n",
       "      <td>7105527</td>\n",
       "      <td>News</td>\n",
       "      <td>Neutral</td>\n",
       "      <td>OLD Proliferation</td>\n",
       "      <td>OLD State Level Nuclear Programs</td>\n",
       "      <td>Neutral</td>\n",
       "      <td>NaN</td>\n",
       "      <td>...</td>\n",
       "      <td>NaN</td>\n",
       "      <td>News Week</td>\n",
       "      <td>NaN</td>\n",
       "      <td>Fryer-biggs, Zachary</td>\n",
       "      <td>NaN</td>\n",
       "      <td>NaN</td>\n",
       "      <td>NaN</td>\n",
       "      <td>NaN</td>\n",
       "      <td>Can James Mattis Prevent Nuclear War With Nort...</td>\n",
       "      <td>Chuck Hagel</td>\n",
       "    </tr>\n",
       "  </tbody>\n",
       "</table>\n",
       "<p>5 rows × 30 columns</p>\n",
       "</div>"
      ],
      "text/plain": [
       "      artdate  Article ID                                           Headline  \\\n",
       "0  2018-02-05     3774467  Opinion: They Voted for Caps. Now They Want Mo...   \n",
       "1  2018-02-23     3777413  Can James Mattis Prevent Nuclear War With Nort...   \n",
       "2  2018-02-23     3777413  Can James Mattis Prevent Nuclear War With Nort...   \n",
       "3  2018-02-23     3777413  Can James Mattis Prevent Nuclear War With Nort...   \n",
       "4  2018-02-23     3777413  Can James Mattis Prevent Nuclear War With Nort...   \n",
       "\n",
       "   Quote ID Article Status Article Position           Messages  \\\n",
       "0   7096188        Opinion          Neutral       OLD Spending   \n",
       "1   7105520           News          Neutral  OLD Proliferation   \n",
       "2   7105517           News          Neutral  OLD Proliferation   \n",
       "3   7105518           News          Neutral  OLD Proliferation   \n",
       "4   7105527           News          Neutral  OLD Proliferation   \n",
       "\n",
       "                        Submessages Quote Position Legacy Quote Tag  ...  \\\n",
       "0         OLD Nukes Budget Campaign        Neutral              NaN  ...   \n",
       "1  OLD State Level Nuclear Programs        Neutral              NaN  ...   \n",
       "2  OLD State Level Nuclear Programs        Neutral              NaN  ...   \n",
       "3  OLD State Level Nuclear Programs       Positive              NaN  ...   \n",
       "4  OLD State Level Nuclear Programs        Neutral              NaN  ...   \n",
       "\n",
       "     Constituent Group Media Name Media Medium       Journalist Name  \\\n",
       "0  None (Legacy Other)  Roll Call        Print           Bell, Steve   \n",
       "1  None (Legacy Other)  News Week          NaN  Fryer-biggs, Zachary   \n",
       "2  None (Legacy Other)  News Week          NaN  Fryer-biggs, Zachary   \n",
       "3                  NaN  News Week          NaN  Fryer-biggs, Zachary   \n",
       "4                  NaN  News Week          NaN  Fryer-biggs, Zachary   \n",
       "\n",
       "  Constituent Author Article Issues Custom Group         Media Group  \\\n",
       "0                NaN            NaN   Commentary  Capitol Hill Media   \n",
       "1                NaN            NaN          NaN                 NaN   \n",
       "2                NaN            NaN          NaN                 NaN   \n",
       "3                NaN            NaN          NaN                 NaN   \n",
       "4                NaN            NaN          NaN                 NaN   \n",
       "\n",
       "                                            fulltext source_name_cleaned  \n",
       "0  Opinion: They Voted for Caps. Now They Want Mo...          Steve Bell  \n",
       "1  Can James Mattis Prevent Nuclear War With Nort...        James Mattis  \n",
       "2  Can James Mattis Prevent Nuclear War With Nort...        James Mattis  \n",
       "3  Can James Mattis Prevent Nuclear War With Nort...     Leon E. Panetta  \n",
       "4  Can James Mattis Prevent Nuclear War With Nort...         Chuck Hagel  \n",
       "\n",
       "[5 rows x 30 columns]"
      ]
     },
     "execution_count": 3,
     "metadata": {},
     "output_type": "execute_result"
    }
   ],
   "source": [
    "GNI88.head()"
   ]
  },
  {
   "cell_type": "markdown",
   "id": "1d0f8641",
   "metadata": {},
   "source": [
    "### Look at the \"Postive\" and \"Negative\" Articles and explore what their quotes are like"
   ]
  },
  {
   "cell_type": "code",
   "execution_count": 4,
   "id": "4ac364f8",
   "metadata": {},
   "outputs": [],
   "source": [
    "GNI88_positive = GNI88[GNI88['Article Position'] == 'Positive'].reset_index()"
   ]
  },
  {
   "cell_type": "code",
   "execution_count": 5,
   "id": "ff31b787",
   "metadata": {},
   "outputs": [
    {
     "data": {
      "text/html": [
       "<div>\n",
       "<style scoped>\n",
       "    .dataframe tbody tr th:only-of-type {\n",
       "        vertical-align: middle;\n",
       "    }\n",
       "\n",
       "    .dataframe tbody tr th {\n",
       "        vertical-align: top;\n",
       "    }\n",
       "\n",
       "    .dataframe thead th {\n",
       "        text-align: right;\n",
       "    }\n",
       "</style>\n",
       "<table border=\"1\" class=\"dataframe\">\n",
       "  <thead>\n",
       "    <tr style=\"text-align: right;\">\n",
       "      <th></th>\n",
       "      <th>index</th>\n",
       "      <th>artdate</th>\n",
       "      <th>Article ID</th>\n",
       "      <th>Headline</th>\n",
       "      <th>Quote ID</th>\n",
       "      <th>Article Status</th>\n",
       "      <th>Article Position</th>\n",
       "      <th>Messages</th>\n",
       "      <th>Submessages</th>\n",
       "      <th>Quote Position</th>\n",
       "      <th>...</th>\n",
       "      <th>Constituent Group</th>\n",
       "      <th>Media Name</th>\n",
       "      <th>Media Medium</th>\n",
       "      <th>Journalist Name</th>\n",
       "      <th>Constituent Author</th>\n",
       "      <th>Article Issues</th>\n",
       "      <th>Custom Group</th>\n",
       "      <th>Media Group</th>\n",
       "      <th>fulltext</th>\n",
       "      <th>source_name_cleaned</th>\n",
       "    </tr>\n",
       "  </thead>\n",
       "  <tbody>\n",
       "    <tr>\n",
       "      <th>0</th>\n",
       "      <td>24</td>\n",
       "      <td>2018-02-16</td>\n",
       "      <td>3777418</td>\n",
       "      <td>The Olympics won't solve the Korea crisis</td>\n",
       "      <td>7105528</td>\n",
       "      <td>Opinion</td>\n",
       "      <td>Positive</td>\n",
       "      <td>OLD Proliferation</td>\n",
       "      <td>OLD State Level Nuclear Programs</td>\n",
       "      <td>Positive</td>\n",
       "      <td>...</td>\n",
       "      <td>None (Legacy Other)</td>\n",
       "      <td>Los Angeles Times</td>\n",
       "      <td>Print</td>\n",
       "      <td>Klingner, Bruce</td>\n",
       "      <td>NaN</td>\n",
       "      <td>NaN</td>\n",
       "      <td>Op-Ed</td>\n",
       "      <td>NaN</td>\n",
       "      <td>The Olympics won't solve the Korea crisis\\r\\n\\...</td>\n",
       "      <td>Bruce Klingner</td>\n",
       "    </tr>\n",
       "    <tr>\n",
       "      <th>1</th>\n",
       "      <td>25</td>\n",
       "      <td>2018-02-16</td>\n",
       "      <td>3777418</td>\n",
       "      <td>The Olympics won't solve the Korea crisis</td>\n",
       "      <td>7105523</td>\n",
       "      <td>Opinion</td>\n",
       "      <td>Positive</td>\n",
       "      <td>OLD Proliferation</td>\n",
       "      <td>OLD State Level Nuclear Programs</td>\n",
       "      <td>Negative</td>\n",
       "      <td>...</td>\n",
       "      <td>None (Legacy Other)</td>\n",
       "      <td>Los Angeles Times</td>\n",
       "      <td>Print</td>\n",
       "      <td>Klingner, Bruce</td>\n",
       "      <td>NaN</td>\n",
       "      <td>NaN</td>\n",
       "      <td>Op-Ed</td>\n",
       "      <td>NaN</td>\n",
       "      <td>The Olympics won't solve the Korea crisis\\r\\n\\...</td>\n",
       "      <td>H.R. McMaster</td>\n",
       "    </tr>\n",
       "    <tr>\n",
       "      <th>2</th>\n",
       "      <td>26</td>\n",
       "      <td>2018-02-16</td>\n",
       "      <td>3777418</td>\n",
       "      <td>The Olympics won't solve the Korea crisis</td>\n",
       "      <td>7105531</td>\n",
       "      <td>Opinion</td>\n",
       "      <td>Positive</td>\n",
       "      <td>OLD Proliferation</td>\n",
       "      <td>OLD State Level Nuclear Programs</td>\n",
       "      <td>Positive</td>\n",
       "      <td>...</td>\n",
       "      <td>None (Legacy Other)</td>\n",
       "      <td>Los Angeles Times</td>\n",
       "      <td>Print</td>\n",
       "      <td>Klingner, Bruce</td>\n",
       "      <td>NaN</td>\n",
       "      <td>NaN</td>\n",
       "      <td>Op-Ed</td>\n",
       "      <td>NaN</td>\n",
       "      <td>The Olympics won't solve the Korea crisis\\r\\n\\...</td>\n",
       "      <td>Bruce Klingner</td>\n",
       "    </tr>\n",
       "    <tr>\n",
       "      <th>3</th>\n",
       "      <td>27</td>\n",
       "      <td>2018-02-16</td>\n",
       "      <td>3777418</td>\n",
       "      <td>The Olympics won't solve the Korea crisis</td>\n",
       "      <td>7105533</td>\n",
       "      <td>Opinion</td>\n",
       "      <td>Positive</td>\n",
       "      <td>OLD Proliferation</td>\n",
       "      <td>OLD State Level Nuclear Programs</td>\n",
       "      <td>Positive</td>\n",
       "      <td>...</td>\n",
       "      <td>None (Legacy Other)</td>\n",
       "      <td>Los Angeles Times</td>\n",
       "      <td>Print</td>\n",
       "      <td>Klingner, Bruce</td>\n",
       "      <td>NaN</td>\n",
       "      <td>NaN</td>\n",
       "      <td>Op-Ed</td>\n",
       "      <td>NaN</td>\n",
       "      <td>The Olympics won't solve the Korea crisis\\r\\n\\...</td>\n",
       "      <td>Bruce Klingner</td>\n",
       "    </tr>\n",
       "    <tr>\n",
       "      <th>4</th>\n",
       "      <td>28</td>\n",
       "      <td>2018-02-16</td>\n",
       "      <td>3777418</td>\n",
       "      <td>The Olympics won't solve the Korea crisis</td>\n",
       "      <td>7105526</td>\n",
       "      <td>Opinion</td>\n",
       "      <td>Positive</td>\n",
       "      <td>OLD Proliferation</td>\n",
       "      <td>OLD State Level Nuclear Programs</td>\n",
       "      <td>Negative</td>\n",
       "      <td>...</td>\n",
       "      <td>None (Legacy Other)</td>\n",
       "      <td>Los Angeles Times</td>\n",
       "      <td>Print</td>\n",
       "      <td>Klingner, Bruce</td>\n",
       "      <td>NaN</td>\n",
       "      <td>NaN</td>\n",
       "      <td>Op-Ed</td>\n",
       "      <td>NaN</td>\n",
       "      <td>The Olympics won't solve the Korea crisis\\r\\n\\...</td>\n",
       "      <td>Donald Trump</td>\n",
       "    </tr>\n",
       "  </tbody>\n",
       "</table>\n",
       "<p>5 rows × 31 columns</p>\n",
       "</div>"
      ],
      "text/plain": [
       "   index     artdate  Article ID                                   Headline  \\\n",
       "0     24  2018-02-16     3777418  The Olympics won't solve the Korea crisis   \n",
       "1     25  2018-02-16     3777418  The Olympics won't solve the Korea crisis   \n",
       "2     26  2018-02-16     3777418  The Olympics won't solve the Korea crisis   \n",
       "3     27  2018-02-16     3777418  The Olympics won't solve the Korea crisis   \n",
       "4     28  2018-02-16     3777418  The Olympics won't solve the Korea crisis   \n",
       "\n",
       "   Quote ID Article Status Article Position           Messages  \\\n",
       "0   7105528        Opinion         Positive  OLD Proliferation   \n",
       "1   7105523        Opinion         Positive  OLD Proliferation   \n",
       "2   7105531        Opinion         Positive  OLD Proliferation   \n",
       "3   7105533        Opinion         Positive  OLD Proliferation   \n",
       "4   7105526        Opinion         Positive  OLD Proliferation   \n",
       "\n",
       "                        Submessages Quote Position  ...    Constituent Group  \\\n",
       "0  OLD State Level Nuclear Programs       Positive  ...  None (Legacy Other)   \n",
       "1  OLD State Level Nuclear Programs       Negative  ...  None (Legacy Other)   \n",
       "2  OLD State Level Nuclear Programs       Positive  ...  None (Legacy Other)   \n",
       "3  OLD State Level Nuclear Programs       Positive  ...  None (Legacy Other)   \n",
       "4  OLD State Level Nuclear Programs       Negative  ...  None (Legacy Other)   \n",
       "\n",
       "          Media Name Media Medium  Journalist Name Constituent Author  \\\n",
       "0  Los Angeles Times        Print  Klingner, Bruce                NaN   \n",
       "1  Los Angeles Times        Print  Klingner, Bruce                NaN   \n",
       "2  Los Angeles Times        Print  Klingner, Bruce                NaN   \n",
       "3  Los Angeles Times        Print  Klingner, Bruce                NaN   \n",
       "4  Los Angeles Times        Print  Klingner, Bruce                NaN   \n",
       "\n",
       "  Article Issues Custom Group Media Group  \\\n",
       "0            NaN        Op-Ed         NaN   \n",
       "1            NaN        Op-Ed         NaN   \n",
       "2            NaN        Op-Ed         NaN   \n",
       "3            NaN        Op-Ed         NaN   \n",
       "4            NaN        Op-Ed         NaN   \n",
       "\n",
       "                                            fulltext source_name_cleaned  \n",
       "0  The Olympics won't solve the Korea crisis\\r\\n\\...      Bruce Klingner  \n",
       "1  The Olympics won't solve the Korea crisis\\r\\n\\...       H.R. McMaster  \n",
       "2  The Olympics won't solve the Korea crisis\\r\\n\\...      Bruce Klingner  \n",
       "3  The Olympics won't solve the Korea crisis\\r\\n\\...      Bruce Klingner  \n",
       "4  The Olympics won't solve the Korea crisis\\r\\n\\...        Donald Trump  \n",
       "\n",
       "[5 rows x 31 columns]"
      ]
     },
     "execution_count": 5,
     "metadata": {},
     "output_type": "execute_result"
    }
   ],
   "source": [
    "GNI88_positive.head()"
   ]
  },
  {
   "cell_type": "code",
   "execution_count": 6,
   "id": "64466239",
   "metadata": {},
   "outputs": [
    {
     "data": {
      "text/plain": [
       "'Launching a preemptive military strike, without any indication that a North Korean attack is imminent, would be an even bigger mistake. We would be starting a war in order to prevent a war. As Otto von Bismarck observed: \"Preventive war is like committing suicide out of fear of death.\"'"
      ]
     },
     "execution_count": 6,
     "metadata": {},
     "output_type": "execute_result"
    }
   ],
   "source": [
    "GNI88_positive['QText'][0]"
   ]
  },
  {
   "cell_type": "code",
   "execution_count": 7,
   "id": "621aad08",
   "metadata": {},
   "outputs": [
    {
     "data": {
      "text/plain": [
       "'President Trump finds this \"intolerable\" and has directed the military to prepare a preventive war option'"
      ]
     },
     "execution_count": 7,
     "metadata": {},
     "output_type": "execute_result"
    }
   ],
   "source": [
    "GNI88_positive['QText'][1]"
   ]
  },
  {
   "cell_type": "code",
   "execution_count": 8,
   "id": "a8477e97",
   "metadata": {},
   "outputs": [
    {
     "data": {
      "text/plain": [
       "\"Some proponents of preventive attack, including people within the Trump administration, argue that it could be carried off with no consequences because North Korea would realize that it couldn't prevail in an all-out war with the United States.This view. however, is predicated on an illogical assumption that the North's allegedly non-deterrable madman would somehow make a sane and rational assessment of the costs and benefits.\\r\\n\\r\\nIn fact, any U.S. military operation against North Korea would carry dangerous consequences.\""
      ]
     },
     "execution_count": 8,
     "metadata": {},
     "output_type": "execute_result"
    }
   ],
   "source": [
    "GNI88_positive['QText'][2]"
   ]
  },
  {
   "cell_type": "code",
   "execution_count": 9,
   "id": "e93245ec",
   "metadata": {},
   "outputs": [
    {
     "data": {
      "text/plain": [
       "'The Olympics won\\'t solve the Korea crisis\\r\\n\\r\\nIt was an inspiring sight: North and South Korean Olympic teams marching together behind a single unification flag. Could the opening ceremonies augur a new era of inter-Korean reconciliation?\\r\\n\\r\\nNot likely. Pyongyang still refuses to abandon its nuclear arsenal or start a dialogue with the United States. Meanwhile, Washington has announced that the \"toughest and most aggressive\" sanctions against the regime are forthcoming.\\r\\n\\r\\nWhen the Olympic flame leaves Pyeongchang, the nuclear crisis will return. And it will do so even if South Korean President Moon Jae-in tries to keep the spirit alive by accepting a rare invitation from Kim Jong Un to visit the North for a summit meeting.\\r\\n\\r\\nNorth Korea is close to being able to strike the American homeland with nuclear weapons. As national security advisor H.R. McMaster and Joseph Dunford, the current chairman of the Joint Chiefs, have made clear, President Trump finds this \"intolerable\" and has directed the military to prepare a preventive war option. Trump has also warned that the U.S. military is \"locked and loaded\" and threatened to \"totally destroy\" North Korea.\\r\\n\\r\\nSome proponents of preventive attack, including people within the Trump administration, argue that it could be carried off with no consequences because North Korea would realize that it couldn\\'t prevail in an all-out war with the United States.This view. however, is predicated on an illogical assumption that the North\\'s allegedly non-deterrable madman would somehow make a sane and rational assessment of the costs and benefits.\\r\\n\\r\\nIn fact, any U.S. military operation against North Korea would carry dangerous consequences.\\r\\n\\r\\nA minimalist strike would not end Pyongyang\\'s ICBM program. But it could very well spark a proportional response on U.S. military bases in South Korea. Would Washington accept those casualties, or escalate further?\\r\\n\\r\\nAn attack large enough to truly undermine the North\\'s ICBM program would require an extensive bombing campaign that could trigger what Defense Secretary James Mattis has warned would be a \"catastrophic\" war.\\r\\n\\r\\nEscalating threats from both sides are driving the danger of miscalculation to an all-time high.\\r\\n\\r\\nWould North Korea understand that a limited U.S. strike wasn\\'t the beginning of a shock-and-awe campaign to induce regime change? Could Pyongyang possibly misperceive a bloody nose attack as an attempt to decapitate its leadership?\\r\\n\\r\\nThe Congressional Research Service estimates that a conflict on the Korean Peninsula would leave \"between 30,000 and 300,000 dead\" in the first days of fighting. Casualty figures would soar higher if North Korea used its nuclear, biological and chemical weapons, or if China joined the conflict.\\r\\n\\r\\nThe emphasis on preventive attack undermines both components of the Trump administration\\'s \"maximum pressure and engagement\" strategy.\\r\\n\\r\\nSanctions have been ramped up only recently; they require time to work.\\r\\n\\r\\nMoreover, allies perceive the inclination toward preventive attack as inimical to their own interests. South Korea is concerned about becoming entangled in an unnecessary war, even as it fears abandonment by the United States in the face of North Korean threats.\\r\\n\\r\\nSeoul worries that Washington won\\'t risk Los Angeles for Seoul, but that it would trade Seoul for Los Angeles. Concern is so acute in South Korea, in fact, that Moon thought it necessary to declare: \"There cannot be any military action on the Korean Peninsula without a prior consent of the Republic of Korea.\"\\r\\n\\r\\nAll this fear could lead to discord between the United States and South Korea, something that in turn could be exploitable by Pyongyang. The North\\'s participation in the Winter Olympics, which highlighted common Korean themes, is part of Kim\\'s campaign to drive a wedge between the allies.\\r\\n\\r\\nIf it plays a high-stakes game of brinkmanship, the United States will paint itself into a corner. By defining the completion of North Korea\\'s ICBM program as an intolerable and strike-inducing event, the Trump administration would be drawing a red line it is not necessarily prepared to hold.\\r\\n\\r\\nEventually, every poker player must deliver on their bet, or be revealed as a bluffer. If the United States comes out looking like a bluffer, American credibility will be gravely eroded.\\r\\n\\r\\nWe are now closer to a war on the Korean Peninsula than at any point since 1994. The Trump administration should avoid both a premature return to negotiations and a reckless preventive attack. Instead, it should respond to the growing threat by seriously pursuing its policy of \"maximum pressure.\"\\r\\n\\r\\nThe administration has taken some steps that are weakening the regime. It has successfully gotten other countries to break either diplomatic or economic ties to North Korea. But the administration continues to shy away from applying any real pressure on China. That\\'s a mistake.\\r\\n\\r\\nLaunching a preemptive military strike, without any indication that a North Korean attack is imminent, would be an even bigger mistake. We would be starting a war in order to prevent a war. As Otto von Bismarck observed: \"Preventive war is like committing suicide out of fear of death.\"'"
      ]
     },
     "execution_count": 9,
     "metadata": {},
     "output_type": "execute_result"
    }
   ],
   "source": [
    "GNI88_positive['fulltext'][0]"
   ]
  },
  {
   "cell_type": "code",
   "execution_count": 10,
   "id": "816238cf",
   "metadata": {},
   "outputs": [],
   "source": [
    "GNI88_negative = GNI88[GNI88['Article Position'] == 'Negative'].reset_index()"
   ]
  },
  {
   "cell_type": "code",
   "execution_count": 11,
   "id": "e1fcf117",
   "metadata": {},
   "outputs": [
    {
     "data": {
      "text/html": [
       "<div>\n",
       "<style scoped>\n",
       "    .dataframe tbody tr th:only-of-type {\n",
       "        vertical-align: middle;\n",
       "    }\n",
       "\n",
       "    .dataframe tbody tr th {\n",
       "        vertical-align: top;\n",
       "    }\n",
       "\n",
       "    .dataframe thead th {\n",
       "        text-align: right;\n",
       "    }\n",
       "</style>\n",
       "<table border=\"1\" class=\"dataframe\">\n",
       "  <thead>\n",
       "    <tr style=\"text-align: right;\">\n",
       "      <th></th>\n",
       "      <th>index</th>\n",
       "      <th>artdate</th>\n",
       "      <th>Article ID</th>\n",
       "      <th>Headline</th>\n",
       "      <th>Quote ID</th>\n",
       "      <th>Article Status</th>\n",
       "      <th>Article Position</th>\n",
       "      <th>Messages</th>\n",
       "      <th>Submessages</th>\n",
       "      <th>Quote Position</th>\n",
       "      <th>...</th>\n",
       "      <th>Constituent Group</th>\n",
       "      <th>Media Name</th>\n",
       "      <th>Media Medium</th>\n",
       "      <th>Journalist Name</th>\n",
       "      <th>Constituent Author</th>\n",
       "      <th>Article Issues</th>\n",
       "      <th>Custom Group</th>\n",
       "      <th>Media Group</th>\n",
       "      <th>fulltext</th>\n",
       "      <th>source_name_cleaned</th>\n",
       "    </tr>\n",
       "  </thead>\n",
       "  <tbody>\n",
       "    <tr>\n",
       "      <th>0</th>\n",
       "      <td>125</td>\n",
       "      <td>2018-02-09</td>\n",
       "      <td>3779487</td>\n",
       "      <td>Pence vows to defend U.S. from N. Korea with w...</td>\n",
       "      <td>7114538</td>\n",
       "      <td>News</td>\n",
       "      <td>Negative</td>\n",
       "      <td>OLD Proliferation</td>\n",
       "      <td>OLD State Level Nuclear Programs</td>\n",
       "      <td>Negative</td>\n",
       "      <td>...</td>\n",
       "      <td>None (Legacy Other)</td>\n",
       "      <td>NBC</td>\n",
       "      <td>NaN</td>\n",
       "      <td>Edelman, Adam</td>\n",
       "      <td>NaN</td>\n",
       "      <td>NaN</td>\n",
       "      <td>NaN</td>\n",
       "      <td>NaN</td>\n",
       "      <td>Pence vows to defend U.S. from N. Korea with w...</td>\n",
       "      <td>Mike Pence</td>\n",
       "    </tr>\n",
       "    <tr>\n",
       "      <th>1</th>\n",
       "      <td>167</td>\n",
       "      <td>2018-02-13</td>\n",
       "      <td>3781378</td>\n",
       "      <td>Pentagon asks for major budget increase amid t...</td>\n",
       "      <td>7122737</td>\n",
       "      <td>News</td>\n",
       "      <td>Negative</td>\n",
       "      <td>OLD Missile Defense</td>\n",
       "      <td>OLD Domestic Programs</td>\n",
       "      <td>Negative</td>\n",
       "      <td>...</td>\n",
       "      <td>None (Legacy Other)</td>\n",
       "      <td>CNN</td>\n",
       "      <td>NaN</td>\n",
       "      <td>Rizzo, Jennifer</td>\n",
       "      <td>NaN</td>\n",
       "      <td>NaN</td>\n",
       "      <td>NaN</td>\n",
       "      <td>NaN</td>\n",
       "      <td>Pentagon asks for major budget increase amid t...</td>\n",
       "      <td>Donald Trump</td>\n",
       "    </tr>\n",
       "    <tr>\n",
       "      <th>2</th>\n",
       "      <td>414</td>\n",
       "      <td>2018-02-01</td>\n",
       "      <td>3784475</td>\n",
       "      <td>Boeing wins $6.6 billion deal to support missi...</td>\n",
       "      <td>7134205</td>\n",
       "      <td>News</td>\n",
       "      <td>Negative</td>\n",
       "      <td>OLD Missile Defense</td>\n",
       "      <td>OLD Domestic Programs</td>\n",
       "      <td>Neutral</td>\n",
       "      <td>...</td>\n",
       "      <td>None (Legacy Other)</td>\n",
       "      <td>Defense News</td>\n",
       "      <td>NaN</td>\n",
       "      <td>Judson, Jen</td>\n",
       "      <td>NaN</td>\n",
       "      <td>NaN</td>\n",
       "      <td>HI Missile Scare</td>\n",
       "      <td>NaN</td>\n",
       "      <td>Boeing wins $6.6 billion deal to support missi...</td>\n",
       "      <td>Statement DOD</td>\n",
       "    </tr>\n",
       "    <tr>\n",
       "      <th>3</th>\n",
       "      <td>415</td>\n",
       "      <td>2018-02-01</td>\n",
       "      <td>3784475</td>\n",
       "      <td>Boeing wins $6.6 billion deal to support missi...</td>\n",
       "      <td>7134209</td>\n",
       "      <td>News</td>\n",
       "      <td>Negative</td>\n",
       "      <td>OLD Missile Defense</td>\n",
       "      <td>OLD Domestic Programs</td>\n",
       "      <td>Negative</td>\n",
       "      <td>...</td>\n",
       "      <td>None (Legacy Other)</td>\n",
       "      <td>Defense News</td>\n",
       "      <td>NaN</td>\n",
       "      <td>Judson, Jen</td>\n",
       "      <td>NaN</td>\n",
       "      <td>NaN</td>\n",
       "      <td>HI Missile Scare</td>\n",
       "      <td>NaN</td>\n",
       "      <td>Boeing wins $6.6 billion deal to support missi...</td>\n",
       "      <td>Statement DOD</td>\n",
       "    </tr>\n",
       "    <tr>\n",
       "      <th>4</th>\n",
       "      <td>425</td>\n",
       "      <td>2018-02-06</td>\n",
       "      <td>3784486</td>\n",
       "      <td>North Korea using its Berlin embassy to acquir...</td>\n",
       "      <td>7134237</td>\n",
       "      <td>News</td>\n",
       "      <td>Negative</td>\n",
       "      <td>OLD Missile Defense</td>\n",
       "      <td>OLD Deployment and Testing</td>\n",
       "      <td>Negative</td>\n",
       "      <td>...</td>\n",
       "      <td>None (Legacy Other)</td>\n",
       "      <td>CNN</td>\n",
       "      <td>NaN</td>\n",
       "      <td>Capelouto, Susanna</td>\n",
       "      <td>NaN</td>\n",
       "      <td>NaN</td>\n",
       "      <td>NaN</td>\n",
       "      <td>NaN</td>\n",
       "      <td>North Korea using its Berlin embassy to acquir...</td>\n",
       "      <td>Georg Maassen</td>\n",
       "    </tr>\n",
       "  </tbody>\n",
       "</table>\n",
       "<p>5 rows × 31 columns</p>\n",
       "</div>"
      ],
      "text/plain": [
       "   index     artdate  Article ID  \\\n",
       "0    125  2018-02-09     3779487   \n",
       "1    167  2018-02-13     3781378   \n",
       "2    414  2018-02-01     3784475   \n",
       "3    415  2018-02-01     3784475   \n",
       "4    425  2018-02-06     3784486   \n",
       "\n",
       "                                            Headline  Quote ID Article Status  \\\n",
       "0  Pence vows to defend U.S. from N. Korea with w...   7114538           News   \n",
       "1  Pentagon asks for major budget increase amid t...   7122737           News   \n",
       "2  Boeing wins $6.6 billion deal to support missi...   7134205           News   \n",
       "3  Boeing wins $6.6 billion deal to support missi...   7134209           News   \n",
       "4  North Korea using its Berlin embassy to acquir...   7134237           News   \n",
       "\n",
       "  Article Position             Messages                       Submessages  \\\n",
       "0         Negative    OLD Proliferation  OLD State Level Nuclear Programs   \n",
       "1         Negative  OLD Missile Defense             OLD Domestic Programs   \n",
       "2         Negative  OLD Missile Defense             OLD Domestic Programs   \n",
       "3         Negative  OLD Missile Defense             OLD Domestic Programs   \n",
       "4         Negative  OLD Missile Defense        OLD Deployment and Testing   \n",
       "\n",
       "  Quote Position  ...    Constituent Group    Media Name Media Medium  \\\n",
       "0       Negative  ...  None (Legacy Other)           NBC          NaN   \n",
       "1       Negative  ...  None (Legacy Other)           CNN          NaN   \n",
       "2        Neutral  ...  None (Legacy Other)  Defense News          NaN   \n",
       "3       Negative  ...  None (Legacy Other)  Defense News          NaN   \n",
       "4       Negative  ...  None (Legacy Other)           CNN          NaN   \n",
       "\n",
       "      Journalist Name Constituent Author Article Issues      Custom Group  \\\n",
       "0       Edelman, Adam                NaN            NaN               NaN   \n",
       "1     Rizzo, Jennifer                NaN            NaN               NaN   \n",
       "2         Judson, Jen                NaN            NaN  HI Missile Scare   \n",
       "3         Judson, Jen                NaN            NaN  HI Missile Scare   \n",
       "4  Capelouto, Susanna                NaN            NaN               NaN   \n",
       "\n",
       "  Media Group                                           fulltext  \\\n",
       "0         NaN  Pence vows to defend U.S. from N. Korea with w...   \n",
       "1         NaN  Pentagon asks for major budget increase amid t...   \n",
       "2         NaN  Boeing wins $6.6 billion deal to support missi...   \n",
       "3         NaN  Boeing wins $6.6 billion deal to support missi...   \n",
       "4         NaN  North Korea using its Berlin embassy to acquir...   \n",
       "\n",
       "  source_name_cleaned  \n",
       "0          Mike Pence  \n",
       "1        Donald Trump  \n",
       "2       Statement DOD  \n",
       "3       Statement DOD  \n",
       "4       Georg Maassen  \n",
       "\n",
       "[5 rows x 31 columns]"
      ]
     },
     "execution_count": 11,
     "metadata": {},
     "output_type": "execute_result"
    }
   ],
   "source": [
    "GNI88_negative.head()"
   ]
  },
  {
   "cell_type": "code",
   "execution_count": 12,
   "id": "20b6c2b5",
   "metadata": {},
   "outputs": [
    {
     "data": {
      "text/plain": [
       "'Vice President Mike Pence, in an exclusive interview with NBC\\'s \"Nightly News,\" vowed that the U.S. would protect itself from North Korean nuclear threats by taking whatever \"action is necessary to defend our homeland.'"
      ]
     },
     "execution_count": 12,
     "metadata": {},
     "output_type": "execute_result"
    }
   ],
   "source": [
    "GNI88_negative['QText'][0]"
   ]
  },
  {
   "cell_type": "code",
   "execution_count": 13,
   "id": "1ea38886",
   "metadata": {},
   "outputs": [
    {
     "data": {
      "text/plain": [
       "\"If they stop, we'll stop, but they're not stopping. So if they're not going to stop, we're going to be so far ahead of everybody else in nuclear like you've never seen before\""
      ]
     },
     "execution_count": 13,
     "metadata": {},
     "output_type": "execute_result"
    }
   ],
   "source": [
    "GNI88_negative['QText'][1]"
   ]
  },
  {
   "cell_type": "code",
   "execution_count": 14,
   "id": "2bab21b6",
   "metadata": {},
   "outputs": [
    {
     "data": {
      "text/plain": [
       "'Under the contract modification, the MDA \"executes missile defeat and defense enhancements to complete the accelerated delivery of a new missile field with 20 additional silos and two additional silos in a previously constructed missiled field at Fort Greely, Alaska, and the procurement and deployment of 20 additional [GBIs]'"
      ]
     },
     "execution_count": 14,
     "metadata": {},
     "output_type": "execute_result"
    }
   ],
   "source": [
    "GNI88_negative['QText'][2]"
   ]
  },
  {
   "cell_type": "code",
   "execution_count": 15,
   "id": "c5ea6427",
   "metadata": {},
   "outputs": [
    {
     "data": {
      "text/plain": [
       "'Pence vows to defend U.S. from N. Korea with whatever \\'action is necessary\\'\\r\\n\\r\\nVice President Mike Pence, in an exclusive interview with NBC\\'s \"Nightly News,\" vowed that the U.S. would protect itself from North Korean nuclear threats by taking whatever \"action is necessary to defend our homeland.\"\\r\\n\\r\\nSpeaking with NBC\\'s Lester Holt on the sidelines of the23rd Olympic Winter Games, in PyeongChang, South Korea, Pence, who isleading the U.S. delegationthere, made clear that the U.S. was not ruling out military options as tensions continued to roil the Korean Peninsula.\\r\\n\\r\\n\"We\\'re going to continue to put all the pressure to bear economically and diplomatically, while preserving all of our military options to see that that happens,\" Pence said in a segment that aired Friday morning on \"Today.\"\\r\\n-Watch the full interview tonight on \"NBC Nightly News With Lester Holt\"\\r\\n\\r\\n\"President Trump and, and our allies in the region have agreed to delay our, our military exercises until after the Olympics. And, you know, President Moon, has appreciated that,\" he added, referring to South Korean leader Moon Jae-in.\\r\\n\\r\\n\"But we\\'re gonna make it crystal clear that our military, the Japanese self-defense forces, our allies here in South Korea, all of our allies across the region, are, are fully prepared to defend our nations and to take what is - action is necessary to defend our homeland,\" Pence said.\\r\\n\\r\\nDespite months ofescalating tensionover the North\\'snuclear and missile programs, North and South Korean athletes marched together during the opening ceremony. For the first time, they will compete together under a unified flag.\\r\\n\\r\\nNorth Korea ramped up its missile and nuclear program last year, testing its first three intercontinental ballistic missiles and most powerful nuclear weapon to date. This was met with international sanctions as well as aflurry of insults between President Donald Trump and North Korean state media.\\r\\n\\r\\nPence\\'s tough talk stands in stark contrast to the most recent approach by South Korea, whose high-level discussions with its neighbor last month resulted in the two nations agreeing to participate together in the Olympic games, which are taking place just 50 miles from the North Korean border.\\r\\n-And despite the ongoing tensions between the U.S. and North Korea, Pence could very well bump into members of the North Korean delegation - led by Kim Yo Jong, thesister of authoritarian leader Kim Jong Un, and his ceremonial head of state, Kim Yong Nam - at the games.\\r\\n\\r\\nPictures from Friday\\'s opening ceremony,in fact, showed Pence and his wife, Karen, seated adjacent to South Korea\\'s President Moon Jae-in and only one row in front of Kim Yo Jong.\\r\\n\\r\\nNorth Korea also sent athletes and cheerleaders as part of its 550-member delegation.'"
      ]
     },
     "execution_count": 15,
     "metadata": {},
     "output_type": "execute_result"
    }
   ],
   "source": [
    "GNI88_negative['fulltext'][0]"
   ]
  },
  {
   "cell_type": "markdown",
   "id": "7e82b50a",
   "metadata": {},
   "source": [
    "### Implement the sentiment analysis model"
   ]
  },
  {
   "cell_type": "code",
   "execution_count": 20,
   "id": "b3149ccb",
   "metadata": {},
   "outputs": [
    {
     "name": "stderr",
     "output_type": "stream",
     "text": [
      "No model was supplied, defaulted to distilbert-base-uncased-finetuned-sst-2-english and revision af0f99b (https://huggingface.co/distilbert-base-uncased-finetuned-sst-2-english).\n",
      "Using a pipeline without specifying a model name and revision in production is not recommended.\n",
      "Some layers from the model checkpoint at distilbert-base-uncased-finetuned-sst-2-english were not used when initializing TFDistilBertForSequenceClassification: ['dropout_19']\n",
      "- This IS expected if you are initializing TFDistilBertForSequenceClassification from the checkpoint of a model trained on another task or with another architecture (e.g. initializing a BertForSequenceClassification model from a BertForPreTraining model).\n",
      "- This IS NOT expected if you are initializing TFDistilBertForSequenceClassification from the checkpoint of a model that you expect to be exactly identical (initializing a BertForSequenceClassification model from a BertForSequenceClassification model).\n",
      "Some layers of TFDistilBertForSequenceClassification were not initialized from the model checkpoint at distilbert-base-uncased-finetuned-sst-2-english and are newly initialized: ['dropout_39']\n",
      "You should probably TRAIN this model on a down-stream task to be able to use it for predictions and inference.\n"
     ]
    },
    {
     "data": {
      "text/plain": [
       "[{'label': 'POSITIVE', 'score': 0.9998656511306763},\n",
       " {'label': 'NEGATIVE', 'score': 0.9991129040718079}]"
      ]
     },
     "execution_count": 20,
     "metadata": {},
     "output_type": "execute_result"
    }
   ],
   "source": [
    "# pip install -q transformers\n",
    "from transformers import pipeline\n",
    "sentiment_pipeline = pipeline(\"sentiment-analysis\")\n",
    "data = [\"I love you\", \"I hate you\"]\n",
    "sentiment_pipeline(data)"
   ]
  },
  {
   "cell_type": "code",
   "execution_count": 17,
   "id": "2089143d",
   "metadata": {},
   "outputs": [
    {
     "data": {
      "text/plain": [
       "[{'label': 'NEGATIVE', 'score': 0.9993492960929871},\n",
       " {'label': 'NEGATIVE', 'score': 0.9938384890556335},\n",
       " {'label': 'NEGATIVE', 'score': 0.9969114661216736}]"
      ]
     },
     "execution_count": 17,
     "metadata": {},
     "output_type": "execute_result"
    }
   ],
   "source": [
    "data = [GNI88_positive['QText'][0], GNI88_positive['QText'][1], GNI88_positive['QText'][2]]\n",
    "sentiment_pipeline(data)"
   ]
  },
  {
   "cell_type": "code",
   "execution_count": 18,
   "id": "b2de49df",
   "metadata": {},
   "outputs": [
    {
     "data": {
      "text/plain": [
       "[{'label': 'NEGATIVE', 'score': 0.8242616653442383},\n",
       " {'label': 'POSITIVE', 'score': 0.9965071082115173},\n",
       " {'label': 'POSITIVE', 'score': 0.82791668176651}]"
      ]
     },
     "execution_count": 18,
     "metadata": {},
     "output_type": "execute_result"
    }
   ],
   "source": [
    "data = [GNI88_negative['QText'][0], GNI88_negative['QText'][1], GNI88_negative['QText'][2]]\n",
    "sentiment_pipeline(data)"
   ]
  },
  {
   "cell_type": "markdown",
   "id": "f6644cdf",
   "metadata": {},
   "source": [
    "### 1st approach: keep the orginial binary output"
   ]
  },
  {
   "cell_type": "code",
   "execution_count": 19,
   "id": "0365e1dc",
   "metadata": {},
   "outputs": [],
   "source": [
    "GNI88_sentiment1 = GNI88.sample(n = 4000)\n",
    "GNI88_sentiment1['Quote Sentiment'] = GNI88_sentiment1[\"QText\"].apply(sentiment_pipeline)"
   ]
  },
  {
   "cell_type": "code",
   "execution_count": 21,
   "id": "57af7d07",
   "metadata": {},
   "outputs": [],
   "source": [
    "GNI88_sentiment1['Quote Sentiment Score'] = GNI88_sentiment1['Quote Sentiment'].apply(lambda x: x[0]['score'])\n",
    "GNI88_sentiment1['Quote Sentiment'] = GNI88_sentiment1['Quote Sentiment'].apply(lambda x: x[0]['label'])"
   ]
  },
  {
   "cell_type": "code",
   "execution_count": 22,
   "id": "72360546",
   "metadata": {},
   "outputs": [
    {
     "data": {
      "text/html": [
       "<div>\n",
       "<style scoped>\n",
       "    .dataframe tbody tr th:only-of-type {\n",
       "        vertical-align: middle;\n",
       "    }\n",
       "\n",
       "    .dataframe tbody tr th {\n",
       "        vertical-align: top;\n",
       "    }\n",
       "\n",
       "    .dataframe thead th {\n",
       "        text-align: right;\n",
       "    }\n",
       "</style>\n",
       "<table border=\"1\" class=\"dataframe\">\n",
       "  <thead>\n",
       "    <tr style=\"text-align: right;\">\n",
       "      <th></th>\n",
       "      <th>artdate</th>\n",
       "      <th>Article ID</th>\n",
       "      <th>Headline</th>\n",
       "      <th>Quote ID</th>\n",
       "      <th>Article Status</th>\n",
       "      <th>Article Position</th>\n",
       "      <th>Messages</th>\n",
       "      <th>Submessages</th>\n",
       "      <th>Quote Position</th>\n",
       "      <th>Legacy Quote Tag</th>\n",
       "      <th>...</th>\n",
       "      <th>Media Medium</th>\n",
       "      <th>Journalist Name</th>\n",
       "      <th>Constituent Author</th>\n",
       "      <th>Article Issues</th>\n",
       "      <th>Custom Group</th>\n",
       "      <th>Media Group</th>\n",
       "      <th>fulltext</th>\n",
       "      <th>source_name_cleaned</th>\n",
       "      <th>Quote Sentiment</th>\n",
       "      <th>Quote Sentiment Score</th>\n",
       "    </tr>\n",
       "  </thead>\n",
       "  <tbody>\n",
       "    <tr>\n",
       "      <th>44827</th>\n",
       "      <td>2017-08-30</td>\n",
       "      <td>5141974</td>\n",
       "      <td>NKorea leader urges more missile launches targ...</td>\n",
       "      <td>8876890</td>\n",
       "      <td>News</td>\n",
       "      <td>Negative</td>\n",
       "      <td>OLD Missile Defense</td>\n",
       "      <td>OLD Deployment and Testing</td>\n",
       "      <td>Negative</td>\n",
       "      <td>NaN</td>\n",
       "      <td>...</td>\n",
       "      <td>NaN</td>\n",
       "      <td>Klug, Foster</td>\n",
       "      <td>NaN</td>\n",
       "      <td>NaN</td>\n",
       "      <td>NaN</td>\n",
       "      <td>NaN</td>\n",
       "      <td>All Rights Reserved\\r\\n\\r\\n                   ...</td>\n",
       "      <td>Shinzo Abe</td>\n",
       "      <td>POSITIVE</td>\n",
       "      <td>0.999342</td>\n",
       "    </tr>\n",
       "    <tr>\n",
       "      <th>151326</th>\n",
       "      <td>2013-04-04</td>\n",
       "      <td>5179798</td>\n",
       "      <td>SKorea: North Korea moved missile to east coast</td>\n",
       "      <td>9076505</td>\n",
       "      <td>News</td>\n",
       "      <td>Neutral</td>\n",
       "      <td>OLD Proliferation</td>\n",
       "      <td>OLD State Level Nuclear Programs</td>\n",
       "      <td>Neutral</td>\n",
       "      <td>NaN</td>\n",
       "      <td>...</td>\n",
       "      <td>NaN</td>\n",
       "      <td>Kim, Sam</td>\n",
       "      <td>NaN</td>\n",
       "      <td>NaN</td>\n",
       "      <td>NaN</td>\n",
       "      <td>NaN</td>\n",
       "      <td>All Rights Reserved\\r\\n \\r\\n\\r\\n \\r\\n\\r\\n22 of...</td>\n",
       "      <td>Government North Korea</td>\n",
       "      <td>NEGATIVE</td>\n",
       "      <td>0.996196</td>\n",
       "    </tr>\n",
       "    <tr>\n",
       "      <th>160089</th>\n",
       "      <td>2013-09-28</td>\n",
       "      <td>5180922</td>\n",
       "      <td>US, Iran leaders talk for first time since 1979</td>\n",
       "      <td>9000924</td>\n",
       "      <td>News</td>\n",
       "      <td>Positive</td>\n",
       "      <td>OLD Iran</td>\n",
       "      <td>OLD Negotiations</td>\n",
       "      <td>Positive</td>\n",
       "      <td>NaN</td>\n",
       "      <td>...</td>\n",
       "      <td>NaN</td>\n",
       "      <td>Pickler, Nedra</td>\n",
       "      <td>NaN</td>\n",
       "      <td>NaN</td>\n",
       "      <td>NaN</td>\n",
       "      <td>NaN</td>\n",
       "      <td>All Rights Reserved\\r\\n \\r\\n\\r\\n \\r\\n\\r\\n23 of...</td>\n",
       "      <td>Barack Obama</td>\n",
       "      <td>POSITIVE</td>\n",
       "      <td>0.999729</td>\n",
       "    </tr>\n",
       "    <tr>\n",
       "      <th>305259</th>\n",
       "      <td>2019-02-25</td>\n",
       "      <td>6061923</td>\n",
       "      <td>In his grandfather's footsteps, Kim Jong Un he...</td>\n",
       "      <td>9772895</td>\n",
       "      <td>News</td>\n",
       "      <td>NaN</td>\n",
       "      <td>NaN</td>\n",
       "      <td>NaN</td>\n",
       "      <td>NaN</td>\n",
       "      <td>NaN</td>\n",
       "      <td>...</td>\n",
       "      <td>NaN</td>\n",
       "      <td>NaN</td>\n",
       "      <td>NaN</td>\n",
       "      <td>Arms Reduction, Proliferation</td>\n",
       "      <td>NaN</td>\n",
       "      <td>NaN</td>\n",
       "      <td>HANOI, Feb 26 (Reuters) - When North Korean le...</td>\n",
       "      <td>Dummy Source Type 1</td>\n",
       "      <td>POSITIVE</td>\n",
       "      <td>0.961710</td>\n",
       "    </tr>\n",
       "    <tr>\n",
       "      <th>292164</th>\n",
       "      <td>2012-06-27</td>\n",
       "      <td>5214390</td>\n",
       "      <td>Political Headlines</td>\n",
       "      <td>9093118</td>\n",
       "      <td>News</td>\n",
       "      <td>Neutral</td>\n",
       "      <td>OLD Missile Defense</td>\n",
       "      <td>OLD Domestic Programs</td>\n",
       "      <td>Neutral</td>\n",
       "      <td>NaN</td>\n",
       "      <td>...</td>\n",
       "      <td>NaN</td>\n",
       "      <td>No By-Line,</td>\n",
       "      <td>NaN</td>\n",
       "      <td>Missile Defense</td>\n",
       "      <td>NaN</td>\n",
       "      <td>NaN</td>\n",
       "      <td>News; International\\r\\nPolitical Headlines\\r\\n...</td>\n",
       "      <td>Bret Baier</td>\n",
       "      <td>POSITIVE</td>\n",
       "      <td>0.952574</td>\n",
       "    </tr>\n",
       "  </tbody>\n",
       "</table>\n",
       "<p>5 rows × 32 columns</p>\n",
       "</div>"
      ],
      "text/plain": [
       "           artdate  Article ID  \\\n",
       "44827   2017-08-30     5141974   \n",
       "151326  2013-04-04     5179798   \n",
       "160089  2013-09-28     5180922   \n",
       "305259  2019-02-25     6061923   \n",
       "292164  2012-06-27     5214390   \n",
       "\n",
       "                                                 Headline  Quote ID  \\\n",
       "44827   NKorea leader urges more missile launches targ...   8876890   \n",
       "151326    SKorea: North Korea moved missile to east coast   9076505   \n",
       "160089    US, Iran leaders talk for first time since 1979   9000924   \n",
       "305259  In his grandfather's footsteps, Kim Jong Un he...   9772895   \n",
       "292164                                Political Headlines   9093118   \n",
       "\n",
       "       Article Status Article Position             Messages  \\\n",
       "44827            News         Negative  OLD Missile Defense   \n",
       "151326           News          Neutral    OLD Proliferation   \n",
       "160089           News         Positive             OLD Iran   \n",
       "305259           News              NaN                  NaN   \n",
       "292164           News          Neutral  OLD Missile Defense   \n",
       "\n",
       "                             Submessages Quote Position Legacy Quote Tag  ...  \\\n",
       "44827         OLD Deployment and Testing       Negative              NaN  ...   \n",
       "151326  OLD State Level Nuclear Programs        Neutral              NaN  ...   \n",
       "160089                  OLD Negotiations       Positive              NaN  ...   \n",
       "305259                               NaN            NaN              NaN  ...   \n",
       "292164             OLD Domestic Programs        Neutral              NaN  ...   \n",
       "\n",
       "       Media Medium Journalist Name Constituent Author  \\\n",
       "44827           NaN    Klug, Foster                NaN   \n",
       "151326          NaN        Kim, Sam                NaN   \n",
       "160089          NaN  Pickler, Nedra                NaN   \n",
       "305259          NaN             NaN                NaN   \n",
       "292164          NaN    No By-Line,                 NaN   \n",
       "\n",
       "                       Article Issues Custom Group Media Group  \\\n",
       "44827                             NaN          NaN         NaN   \n",
       "151326                            NaN          NaN         NaN   \n",
       "160089                            NaN          NaN         NaN   \n",
       "305259  Arms Reduction, Proliferation          NaN         NaN   \n",
       "292164                Missile Defense          NaN         NaN   \n",
       "\n",
       "                                                 fulltext  \\\n",
       "44827   All Rights Reserved\\r\\n\\r\\n                   ...   \n",
       "151326  All Rights Reserved\\r\\n \\r\\n\\r\\n \\r\\n\\r\\n22 of...   \n",
       "160089  All Rights Reserved\\r\\n \\r\\n\\r\\n \\r\\n\\r\\n23 of...   \n",
       "305259  HANOI, Feb 26 (Reuters) - When North Korean le...   \n",
       "292164  News; International\\r\\nPolitical Headlines\\r\\n...   \n",
       "\n",
       "           source_name_cleaned Quote Sentiment Quote Sentiment Score  \n",
       "44827               Shinzo Abe        POSITIVE              0.999342  \n",
       "151326  Government North Korea        NEGATIVE              0.996196  \n",
       "160089            Barack Obama        POSITIVE              0.999729  \n",
       "305259     Dummy Source Type 1        POSITIVE              0.961710  \n",
       "292164              Bret Baier        POSITIVE              0.952574  \n",
       "\n",
       "[5 rows x 32 columns]"
      ]
     },
     "execution_count": 22,
     "metadata": {},
     "output_type": "execute_result"
    }
   ],
   "source": [
    "GNI88_sentiment1.head()"
   ]
  },
  {
   "cell_type": "code",
   "execution_count": 23,
   "id": "b3f2ace7",
   "metadata": {},
   "outputs": [
    {
     "data": {
      "text/plain": [
       "Counter({'POSITIVE': 1360, 'NEGATIVE': 2640})"
      ]
     },
     "execution_count": 23,
     "metadata": {},
     "output_type": "execute_result"
    }
   ],
   "source": [
    "Counter(GNI88_sentiment1['Quote Sentiment'].tolist())"
   ]
  },
  {
   "cell_type": "code",
   "execution_count": 34,
   "id": "ab2ef764",
   "metadata": {},
   "outputs": [],
   "source": [
    "source_groups = {\"Foreign Government\": ['Foreign Gov/Mil Official'],\n",
    "                \"Experts\": ['Nuke Organization','Non-Profit/NGO','Think Tanks',\n",
    "                            'Nuke Organization - Other', 'Nuke Organization - Academic',\n",
    "                            'International Orgs','Academic','Nuclear Scientist',\"Analyst/Commentator\",\n",
    "                            'Attorney','Regulator'],\n",
    "                \"US Congress\": ['US Rep. & Staff','US Senate & Staff', 'Partisans/Fmr. Politicians'],\n",
    "                \"US Federal Officials\": ['Federal Official','State/Local Official',\n",
    "                                        'Former Admin. Officials','Judicial Official'],\n",
    "                \"US Defense\": ['Military','US Military','retired US Military','Defense Forces','Defense'],\n",
    "                \"Media\": [\"Media/Journalist\",\"Blogger\"],\n",
    "                \"Corporate Official\": ['Corporate Official'],\n",
    "                \"Other\": ['Other','Chairman','Terrorist/Extremist','Information minister',\n",
    "                          'Religious/Clerical', 'Ambassador', 'Nuclear Official',\n",
    "                          'Citizen','Public Polling','US Police','Deputy']}"
   ]
  },
  {
   "cell_type": "code",
   "execution_count": 35,
   "id": "c53d29d6",
   "metadata": {},
   "outputs": [],
   "source": [
    "# Helper function that inverts a dictionary. This will be useful for using speaker groups\n",
    "# later on in model evaluation\n",
    "def invert_dict(dictionary):\n",
    "  \"\"\"Inputs:\n",
    "     - dictionary: dict, dictionary we wish to invert\n",
    "     Outputs:\n",
    "     - dict, where keys are the initial dictionary's values and values are the initial dictionary's keys\"\"\"\n",
    "  # get a list of all items in all dictionary values\n",
    "  speaker_types = list(np.concatenate(list(dictionary.values())).flat)\n",
    "  # each speaker type will become its own key now, and the value will be the speaker group it's a part of\n",
    "  inverted_dict = {}\n",
    "  for speaker_type in speaker_types:\n",
    "    # find the group the speaker_type belongs in\n",
    "    speaker_group = [key for key, value in dictionary.items() if speaker_type in value][0]\n",
    "    # update the inverted dictionary such that the key is the speaker type and the value is the speaker group\n",
    "    inverted_dict[speaker_type] = speaker_group\n",
    "  return inverted_dict"
   ]
  },
  {
   "cell_type": "code",
   "execution_count": 36,
   "id": "142131db",
   "metadata": {},
   "outputs": [],
   "source": [
    "source_to_group = invert_dict(source_groups)"
   ]
  },
  {
   "cell_type": "code",
   "execution_count": 37,
   "id": "d975d93c",
   "metadata": {},
   "outputs": [],
   "source": [
    "def assign_source_to_group(source_type):\n",
    "  \"\"\"Inputs:\n",
    "     - source_type: str, source type from quote datafame\n",
    "     Outputs:\n",
    "     - str of the bigger speaker category to which source_type belongs\"\"\"\n",
    "  if type(source_type) != str:\n",
    "    return \"Other\"\n",
    "  else:\n",
    "    return source_to_group[source_type]"
   ]
  },
  {
   "cell_type": "code",
   "execution_count": 38,
   "id": "03d6b8cd",
   "metadata": {},
   "outputs": [],
   "source": [
    "GNI88_sentiment1['Source Type'] = GNI88_sentiment1['Source Type'].apply(assign_source_to_group)"
   ]
  },
  {
   "cell_type": "code",
   "execution_count": 39,
   "id": "09950ccc",
   "metadata": {},
   "outputs": [],
   "source": [
    "def re_schema_for_country(row):\n",
    "    # India, Pakistan, Saudi Arabia (KSA), Turkey\n",
    "    if type(row[\"Messages\"]) == float:\n",
    "        return \"\"\n",
    "    \n",
    "    if type(row[\"Messages\"]) == str:\n",
    "        if \"India\" in row[\"Messages\"]:\n",
    "            return \"India\"\n",
    "        if \"Pakistan\" in row[\"Messages\"]:\n",
    "            return \"Pakistan\"\n",
    "        if \"KSA\" in row[\"Messages\"]:\n",
    "            return \"KSA\"\n",
    "        if \"Turkey\" in row[\"Messages\"]:\n",
    "            return \"Turkey\"\n",
    "        \n",
    "        if \"US Nuclear and Missile Policy\" in row[\"Messages\"]:\n",
    "            return \"US Nuclear and Missile Policy\"\n",
    "        \n",
    "        \n",
    "        # Iran/Russia/Israel/China/North Korea\n",
    "        country_list = [\"Iran\", \"Russia\", \"Israel\", \"China\", \"North Korea\"]\n",
    "        for country in country_list:\n",
    "            if country in row[\"Messages\"]:\n",
    "                return country\n",
    "            if row[\"Submessages\"] and country in row[\"Submessages\"]:\n",
    "                return country\n",
    "    \n",
    "    \n",
    "    if type(row[\"Submessages\"]) == str:\n",
    "        # treaties\n",
    "        if (row[\"Submessages\"] == \"JCPOA\" or row[\"Submessages\"] == \"START\" \n",
    "            or row[\"Submessages\"] == \"INF\" or row[\"Submessages\"] == \"NPT\" \n",
    "            or row[\"Submessages\"] == \"CTBT\" \n",
    "            or row[\"Submessages\"] == \"Tactical Nukes Treaty\"\n",
    "            or row[\"Submessages\"] == \"TPNW 2017\"):\n",
    "            return \"Treaties\"\n",
    "\n",
    "\n",
    "        # other collapsing  \n",
    "        if row[\"Submessages\"] == \"Worldwide Nukes Policy\" :\n",
    "            return \"Arms Reduction\"\n",
    "        if row[\"Submessages\"] == \"NATO Arsenal\" or  row[\"Submessages\"] == \"US/NATO Missile Defense\":\n",
    "            return \"US Nuclear and Missile Policy\"\n",
    "        if ((row[\"Submessages\"] == \"NNSA Budget\" or row[\"Submessages\"] == \"Spending and Modernization\") \n",
    "            or \"US Nuclear and Missile Policy\" in row[\"Submessages\"]):\n",
    "            return \"US Nuclear and Missile Policy\"\n",
    "        if (row[\"Submessages\"] == \"Loose Fissile Materials\" or row[\"Submessages\"] == \"Health Issues\" \n",
    "            or row[\"Submessages\"] == \"Actinides\" or row[\"Submessages\"] == \"Nuclear Consequences\"\n",
    "            or \"Fissile Material\" in row[\"Submessages\"]):\n",
    "            return \"Nuclear consequences\"\n",
    "        if row[\"Submessages\"] == \"Terrorist Threat\":\n",
    "            return \"Nuclear consequences\"\n",
    "        if row[\"Submessages\"] == \"Nuclear Survivors\":\n",
    "            return \"Nuclear consequences\"\n",
    "        \n",
    "    return \"Other\""
   ]
  },
  {
   "cell_type": "code",
   "execution_count": 40,
   "id": "5c5a2efc",
   "metadata": {},
   "outputs": [],
   "source": [
    "GNI88_sentiment1[\"New Message\"] = GNI88_sentiment1.apply(re_schema_for_country, axis = 1)"
   ]
  },
  {
   "cell_type": "code",
   "execution_count": 41,
   "id": "43c0c2cd",
   "metadata": {},
   "outputs": [],
   "source": [
    "GNI88_sentiment1_positive = GNI88_sentiment1[GNI88_sentiment1['Quote Sentiment'] == 'POSITIVE']\n",
    "GNI88_sentiment1_negative = GNI88_sentiment1[GNI88_sentiment1['Quote Sentiment'] == 'NEGATIVE']"
   ]
  },
  {
   "cell_type": "code",
   "execution_count": 42,
   "id": "3f0bf1e8",
   "metadata": {},
   "outputs": [
    {
     "data": {
      "text/plain": [
       "<AxesSubplot:xlabel='Article Position', ylabel='Count'>"
      ]
     },
     "execution_count": 42,
     "metadata": {},
     "output_type": "execute_result"
    },
    {
     "data": {
      "image/png": "[encoded data removed]",
      "text/plain": [
       "<Figure size 432x288 with 1 Axes>"
      ]
     },
     "metadata": {},
     "output_type": "display_data"
    }
   ],
   "source": [
    "## correlation with article position?\n",
    "sns.set(style=\"darkgrid\")\n",
    "sns.set(font_scale=1)\n",
    "sns.histplot(data=GNI88_sentiment1_positive, x='Article Position', discrete=True) "
   ]
  },
  {
   "cell_type": "code",
   "execution_count": 44,
   "id": "fea28dff",
   "metadata": {},
   "outputs": [
    {
     "data": {
      "text/plain": [
       "<AxesSubplot:xlabel='Article Position', ylabel='Count'>"
      ]
     },
     "execution_count": 44,
     "metadata": {},
     "output_type": "execute_result"
    },
    {
     "data": {
      "image/png": "[encoded data removed]",
      "text/plain": [
       "<Figure size 432x288 with 1 Axes>"
      ]
     },
     "metadata": {},
     "output_type": "display_data"
    }
   ],
   "source": [
    "sns.histplot(data=GNI88_sentiment1_negative, x='Article Position', discrete=True) "
   ]
  },
  {
   "cell_type": "code",
   "execution_count": 45,
   "id": "506cf5db",
   "metadata": {},
   "outputs": [
    {
     "data": {
      "image/png": "[encoded data removed]",
      "text/plain": [
       "<Figure size 432x288 with 1 Axes>"
      ]
     },
     "metadata": {},
     "output_type": "display_data"
    }
   ],
   "source": [
    "## correlation with speaker type?\n",
    "plot = sns.histplot(data=GNI88_sentiment1_positive, x='Source Type', discrete=True)\n",
    "plt.setp(plot.get_xticklabels(), rotation=90)[1]"
   ]
  },
  {
   "cell_type": "code",
   "execution_count": 46,
   "id": "965e6164",
   "metadata": {},
   "outputs": [
    {
     "data": {
      "image/png": "[encoded data removed]",
      "text/plain": [
       "<Figure size 432x288 with 1 Axes>"
      ]
     },
     "metadata": {},
     "output_type": "display_data"
    }
   ],
   "source": [
    "plot = sns.histplot(data=GNI88_sentiment1_negative, x='Source Type', discrete=True)\n",
    "plt.setp(plot.get_xticklabels(), rotation=90)[1]"
   ]
  },
  {
   "cell_type": "code",
   "execution_count": 47,
   "id": "b5388044",
   "metadata": {},
   "outputs": [
    {
     "data": {
      "image/png": "[encoded data removed]",
      "text/plain": [
       "<Figure size 432x288 with 1 Axes>"
      ]
     },
     "metadata": {},
     "output_type": "display_data"
    }
   ],
   "source": [
    "plot = sns.histplot(data=GNI88_sentiment1_positive, x='New Message', discrete=True)\n",
    "plt.setp(plot.get_xticklabels(), rotation=90)[1]"
   ]
  },
  {
   "cell_type": "code",
   "execution_count": 48,
   "id": "d2fa5941",
   "metadata": {},
   "outputs": [
    {
     "data": {
      "image/png": "[encoded data removed]",
      "text/plain": [
       "<Figure size 432x288 with 1 Axes>"
      ]
     },
     "metadata": {},
     "output_type": "display_data"
    }
   ],
   "source": [
    "plot = sns.histplot(data=GNI88_sentiment1_negative, x='New Message', discrete=True)\n",
    "plt.setp(plot.get_xticklabels(), rotation=90)[1]"
   ]
  },
  {
   "cell_type": "markdown",
   "id": "e96da3aa",
   "metadata": {},
   "source": [
    "### 2rd approach: label which scores are below 99 as \"Neutral\""
   ]
  },
  {
   "cell_type": "code",
   "execution_count": 49,
   "id": "34cd0b84",
   "metadata": {},
   "outputs": [
    {
     "name": "stderr",
     "output_type": "stream",
     "text": [
      "/var/folders/tc/bh92rdln5b97ks_khyc1_kbh0000gn/T/ipykernel_63270/1217765795.py:4: SettingWithCopyWarning: \n",
      "A value is trying to be set on a copy of a slice from a DataFrame\n",
      "\n",
      "See the caveats in the documentation: https://pandas.pydata.org/pandas-docs/stable/user_guide/indexing.html#returning-a-view-versus-a-copy\n",
      "  GNI88_sentiment2['Quote Sentiment'][i] = 'NEUTRAL'\n"
     ]
    }
   ],
   "source": [
    "GNI88_sentiment2 = GNI88_sentiment1.copy().reset_index()\n",
    "for i in range(4000):\n",
    "    if GNI88_sentiment2['Quote Sentiment Score'][i] < 0.99:\n",
    "        GNI88_sentiment2['Quote Sentiment'][i] = 'NEUTRAL'"
   ]
  },
  {
   "cell_type": "code",
   "execution_count": 50,
   "id": "d81c1dce",
   "metadata": {},
   "outputs": [
    {
     "data": {
      "text/html": [
       "<div>\n",
       "<style scoped>\n",
       "    .dataframe tbody tr th:only-of-type {\n",
       "        vertical-align: middle;\n",
       "    }\n",
       "\n",
       "    .dataframe tbody tr th {\n",
       "        vertical-align: top;\n",
       "    }\n",
       "\n",
       "    .dataframe thead th {\n",
       "        text-align: right;\n",
       "    }\n",
       "</style>\n",
       "<table border=\"1\" class=\"dataframe\">\n",
       "  <thead>\n",
       "    <tr style=\"text-align: right;\">\n",
       "      <th></th>\n",
       "      <th>index</th>\n",
       "      <th>artdate</th>\n",
       "      <th>Article ID</th>\n",
       "      <th>Headline</th>\n",
       "      <th>Quote ID</th>\n",
       "      <th>Article Status</th>\n",
       "      <th>Article Position</th>\n",
       "      <th>Messages</th>\n",
       "      <th>Submessages</th>\n",
       "      <th>Quote Position</th>\n",
       "      <th>...</th>\n",
       "      <th>Journalist Name</th>\n",
       "      <th>Constituent Author</th>\n",
       "      <th>Article Issues</th>\n",
       "      <th>Custom Group</th>\n",
       "      <th>Media Group</th>\n",
       "      <th>fulltext</th>\n",
       "      <th>source_name_cleaned</th>\n",
       "      <th>Quote Sentiment</th>\n",
       "      <th>Quote Sentiment Score</th>\n",
       "      <th>New Message</th>\n",
       "    </tr>\n",
       "  </thead>\n",
       "  <tbody>\n",
       "    <tr>\n",
       "      <th>0</th>\n",
       "      <td>44827</td>\n",
       "      <td>2017-08-30</td>\n",
       "      <td>5141974</td>\n",
       "      <td>NKorea leader urges more missile launches targ...</td>\n",
       "      <td>8876890</td>\n",
       "      <td>News</td>\n",
       "      <td>Negative</td>\n",
       "      <td>OLD Missile Defense</td>\n",
       "      <td>OLD Deployment and Testing</td>\n",
       "      <td>Negative</td>\n",
       "      <td>...</td>\n",
       "      <td>Klug, Foster</td>\n",
       "      <td>NaN</td>\n",
       "      <td>NaN</td>\n",
       "      <td>NaN</td>\n",
       "      <td>NaN</td>\n",
       "      <td>All Rights Reserved\\r\\n\\r\\n                   ...</td>\n",
       "      <td>Shinzo Abe</td>\n",
       "      <td>POSITIVE</td>\n",
       "      <td>0.999342</td>\n",
       "      <td>Other</td>\n",
       "    </tr>\n",
       "    <tr>\n",
       "      <th>1</th>\n",
       "      <td>151326</td>\n",
       "      <td>2013-04-04</td>\n",
       "      <td>5179798</td>\n",
       "      <td>SKorea: North Korea moved missile to east coast</td>\n",
       "      <td>9076505</td>\n",
       "      <td>News</td>\n",
       "      <td>Neutral</td>\n",
       "      <td>OLD Proliferation</td>\n",
       "      <td>OLD State Level Nuclear Programs</td>\n",
       "      <td>Neutral</td>\n",
       "      <td>...</td>\n",
       "      <td>Kim, Sam</td>\n",
       "      <td>NaN</td>\n",
       "      <td>NaN</td>\n",
       "      <td>NaN</td>\n",
       "      <td>NaN</td>\n",
       "      <td>All Rights Reserved\\r\\n \\r\\n\\r\\n \\r\\n\\r\\n22 of...</td>\n",
       "      <td>Government North Korea</td>\n",
       "      <td>NEGATIVE</td>\n",
       "      <td>0.996196</td>\n",
       "      <td>Other</td>\n",
       "    </tr>\n",
       "    <tr>\n",
       "      <th>2</th>\n",
       "      <td>160089</td>\n",
       "      <td>2013-09-28</td>\n",
       "      <td>5180922</td>\n",
       "      <td>US, Iran leaders talk for first time since 1979</td>\n",
       "      <td>9000924</td>\n",
       "      <td>News</td>\n",
       "      <td>Positive</td>\n",
       "      <td>OLD Iran</td>\n",
       "      <td>OLD Negotiations</td>\n",
       "      <td>Positive</td>\n",
       "      <td>...</td>\n",
       "      <td>Pickler, Nedra</td>\n",
       "      <td>NaN</td>\n",
       "      <td>NaN</td>\n",
       "      <td>NaN</td>\n",
       "      <td>NaN</td>\n",
       "      <td>All Rights Reserved\\r\\n \\r\\n\\r\\n \\r\\n\\r\\n23 of...</td>\n",
       "      <td>Barack Obama</td>\n",
       "      <td>POSITIVE</td>\n",
       "      <td>0.999729</td>\n",
       "      <td>Iran</td>\n",
       "    </tr>\n",
       "    <tr>\n",
       "      <th>3</th>\n",
       "      <td>305259</td>\n",
       "      <td>2019-02-25</td>\n",
       "      <td>6061923</td>\n",
       "      <td>In his grandfather's footsteps, Kim Jong Un he...</td>\n",
       "      <td>9772895</td>\n",
       "      <td>News</td>\n",
       "      <td>NaN</td>\n",
       "      <td>NaN</td>\n",
       "      <td>NaN</td>\n",
       "      <td>NaN</td>\n",
       "      <td>...</td>\n",
       "      <td>NaN</td>\n",
       "      <td>NaN</td>\n",
       "      <td>Arms Reduction, Proliferation</td>\n",
       "      <td>NaN</td>\n",
       "      <td>NaN</td>\n",
       "      <td>HANOI, Feb 26 (Reuters) - When North Korean le...</td>\n",
       "      <td>Dummy Source Type 1</td>\n",
       "      <td>NEUTRAL</td>\n",
       "      <td>0.961710</td>\n",
       "      <td></td>\n",
       "    </tr>\n",
       "    <tr>\n",
       "      <th>4</th>\n",
       "      <td>292164</td>\n",
       "      <td>2012-06-27</td>\n",
       "      <td>5214390</td>\n",
       "      <td>Political Headlines</td>\n",
       "      <td>9093118</td>\n",
       "      <td>News</td>\n",
       "      <td>Neutral</td>\n",
       "      <td>OLD Missile Defense</td>\n",
       "      <td>OLD Domestic Programs</td>\n",
       "      <td>Neutral</td>\n",
       "      <td>...</td>\n",
       "      <td>No By-Line,</td>\n",
       "      <td>NaN</td>\n",
       "      <td>Missile Defense</td>\n",
       "      <td>NaN</td>\n",
       "      <td>NaN</td>\n",
       "      <td>News; International\\r\\nPolitical Headlines\\r\\n...</td>\n",
       "      <td>Bret Baier</td>\n",
       "      <td>NEUTRAL</td>\n",
       "      <td>0.952574</td>\n",
       "      <td>Other</td>\n",
       "    </tr>\n",
       "  </tbody>\n",
       "</table>\n",
       "<p>5 rows × 34 columns</p>\n",
       "</div>"
      ],
      "text/plain": [
       "    index     artdate  Article ID  \\\n",
       "0   44827  2017-08-30     5141974   \n",
       "1  151326  2013-04-04     5179798   \n",
       "2  160089  2013-09-28     5180922   \n",
       "3  305259  2019-02-25     6061923   \n",
       "4  292164  2012-06-27     5214390   \n",
       "\n",
       "                                            Headline  Quote ID Article Status  \\\n",
       "0  NKorea leader urges more missile launches targ...   8876890           News   \n",
       "1    SKorea: North Korea moved missile to east coast   9076505           News   \n",
       "2    US, Iran leaders talk for first time since 1979   9000924           News   \n",
       "3  In his grandfather's footsteps, Kim Jong Un he...   9772895           News   \n",
       "4                                Political Headlines   9093118           News   \n",
       "\n",
       "  Article Position             Messages                       Submessages  \\\n",
       "0         Negative  OLD Missile Defense        OLD Deployment and Testing   \n",
       "1          Neutral    OLD Proliferation  OLD State Level Nuclear Programs   \n",
       "2         Positive             OLD Iran                  OLD Negotiations   \n",
       "3              NaN                  NaN                               NaN   \n",
       "4          Neutral  OLD Missile Defense             OLD Domestic Programs   \n",
       "\n",
       "  Quote Position  ... Journalist Name Constituent Author  \\\n",
       "0       Negative  ...    Klug, Foster                NaN   \n",
       "1        Neutral  ...        Kim, Sam                NaN   \n",
       "2       Positive  ...  Pickler, Nedra                NaN   \n",
       "3            NaN  ...             NaN                NaN   \n",
       "4        Neutral  ...    No By-Line,                 NaN   \n",
       "\n",
       "                  Article Issues Custom Group Media Group  \\\n",
       "0                            NaN          NaN         NaN   \n",
       "1                            NaN          NaN         NaN   \n",
       "2                            NaN          NaN         NaN   \n",
       "3  Arms Reduction, Proliferation          NaN         NaN   \n",
       "4                Missile Defense          NaN         NaN   \n",
       "\n",
       "                                            fulltext     source_name_cleaned  \\\n",
       "0  All Rights Reserved\\r\\n\\r\\n                   ...              Shinzo Abe   \n",
       "1  All Rights Reserved\\r\\n \\r\\n\\r\\n \\r\\n\\r\\n22 of...  Government North Korea   \n",
       "2  All Rights Reserved\\r\\n \\r\\n\\r\\n \\r\\n\\r\\n23 of...            Barack Obama   \n",
       "3  HANOI, Feb 26 (Reuters) - When North Korean le...     Dummy Source Type 1   \n",
       "4  News; International\\r\\nPolitical Headlines\\r\\n...              Bret Baier   \n",
       "\n",
       "  Quote Sentiment Quote Sentiment Score New Message  \n",
       "0        POSITIVE              0.999342       Other  \n",
       "1        NEGATIVE              0.996196       Other  \n",
       "2        POSITIVE              0.999729        Iran  \n",
       "3         NEUTRAL              0.961710              \n",
       "4         NEUTRAL              0.952574       Other  \n",
       "\n",
       "[5 rows x 34 columns]"
      ]
     },
     "execution_count": 50,
     "metadata": {},
     "output_type": "execute_result"
    }
   ],
   "source": [
    "GNI88_sentiment2.head()"
   ]
  },
  {
   "cell_type": "code",
   "execution_count": 53,
   "id": "898703cc",
   "metadata": {},
   "outputs": [
    {
     "data": {
      "text/plain": [
       "Counter({'POSITIVE': 669, 'NEGATIVE': 1486, 'NEUTRAL': 1845})"
      ]
     },
     "execution_count": 53,
     "metadata": {},
     "output_type": "execute_result"
    }
   ],
   "source": [
    "Counter(GNI88_sentiment2['Quote Sentiment'].tolist())"
   ]
  },
  {
   "cell_type": "code",
   "execution_count": 54,
   "id": "b9aa0f59",
   "metadata": {},
   "outputs": [],
   "source": [
    "GNI88_sentiment2_positive = GNI88_sentiment2[GNI88_sentiment2['Quote Sentiment'] == 'POSITIVE']\n",
    "GNI88_sentiment2_negative = GNI88_sentiment2[GNI88_sentiment2['Quote Sentiment'] == 'NEGATIVE']\n",
    "GNI88_sentiment2_neutral = GNI88_sentiment2[GNI88_sentiment2['Quote Sentiment'] == 'NEUTRAL']"
   ]
  },
  {
   "cell_type": "code",
   "execution_count": 55,
   "id": "562ec483",
   "metadata": {},
   "outputs": [
    {
     "data": {
      "text/plain": [
       "<AxesSubplot:xlabel='Article Position', ylabel='Count'>"
      ]
     },
     "execution_count": 55,
     "metadata": {},
     "output_type": "execute_result"
    },
    {
     "data": {
      "image/png": "[encoded data removed]",
      "text/plain": [
       "<Figure size 432x288 with 1 Axes>"
      ]
     },
     "metadata": {},
     "output_type": "display_data"
    }
   ],
   "source": [
    "## correlation with article position?\n",
    "sns.histplot(data=GNI88_sentiment2_positive, x='Article Position', discrete=True) "
   ]
  },
  {
   "cell_type": "code",
   "execution_count": 56,
   "id": "b0977116",
   "metadata": {},
   "outputs": [
    {
     "data": {
      "text/plain": [
       "<AxesSubplot:xlabel='Article Position', ylabel='Count'>"
      ]
     },
     "execution_count": 56,
     "metadata": {},
     "output_type": "execute_result"
    },
    {
     "data": {
      "image/png": "[encoded data removed]",
      "text/plain": [
       "<Figure size 432x288 with 1 Axes>"
      ]
     },
     "metadata": {},
     "output_type": "display_data"
    }
   ],
   "source": [
    "sns.histplot(data=GNI88_sentiment2_negative, x='Article Position', discrete=True) "
   ]
  },
  {
   "cell_type": "code",
   "execution_count": 57,
   "id": "a1328d6b",
   "metadata": {},
   "outputs": [
    {
     "data": {
      "text/plain": [
       "<AxesSubplot:xlabel='Article Position', ylabel='Count'>"
      ]
     },
     "execution_count": 57,
     "metadata": {},
     "output_type": "execute_result"
    },
    {
     "data": {
      "image/png": "[encoded data removed]",
      "text/plain": [
       "<Figure size 432x288 with 1 Axes>"
      ]
     },
     "metadata": {},
     "output_type": "display_data"
    }
   ],
   "source": [
    "sns.histplot(data=GNI88_sentiment2_neutral, x='Article Position', discrete=True) "
   ]
  },
  {
   "cell_type": "code",
   "execution_count": 58,
   "id": "7ae7ec6f",
   "metadata": {},
   "outputs": [
    {
     "data": {
      "image/png": "[encoded data removed]",
      "text/plain": [
       "<Figure size 432x288 with 1 Axes>"
      ]
     },
     "metadata": {},
     "output_type": "display_data"
    }
   ],
   "source": [
    "## correlation with speaker type?\n",
    "plot = sns.histplot(data=GNI88_sentiment2_positive, x='Source Type', discrete=True)\n",
    "plt.setp(plot.get_xticklabels(), rotation=90)[1]"
   ]
  },
  {
   "cell_type": "code",
   "execution_count": 60,
   "id": "2ed8a069",
   "metadata": {},
   "outputs": [
    {
     "data": {
      "image/png": "[encoded data removed]",
      "text/plain": [
       "<Figure size 432x288 with 1 Axes>"
      ]
     },
     "metadata": {},
     "output_type": "display_data"
    }
   ],
   "source": [
    "plot = sns.histplot(data=GNI88_sentiment2_negative, x='Source Type', discrete=True)\n",
    "plt.setp(plot.get_xticklabels(), rotation=90)[1]"
   ]
  },
  {
   "cell_type": "code",
   "execution_count": 61,
   "id": "a846f522",
   "metadata": {},
   "outputs": [
    {
     "data": {
      "image/png": "[encoded data removed]",
      "text/plain": [
       "<Figure size 432x288 with 1 Axes>"
      ]
     },
     "metadata": {},
     "output_type": "display_data"
    }
   ],
   "source": [
    "plot = sns.histplot(data=GNI88_sentiment2_neutral, x='Source Type', discrete=True)\n",
    "plt.setp(plot.get_xticklabels(), rotation=90)[1]"
   ]
  },
  {
   "cell_type": "code",
   "execution_count": 62,
   "id": "16a1bc1d",
   "metadata": {},
   "outputs": [
    {
     "data": {
      "image/png": "[encoded data removed]",
      "text/plain": [
       "<Figure size 432x288 with 1 Axes>"
      ]
     },
     "metadata": {},
     "output_type": "display_data"
    }
   ],
   "source": [
    "## correlation with new message?\n",
    "plot = sns.histplot(data=GNI88_sentiment2_positive, x='New Message', discrete=True)\n",
    "plt.setp(plot.get_xticklabels(), rotation=90)[1]"
   ]
  },
  {
   "cell_type": "code",
   "execution_count": 63,
   "id": "63b590b4",
   "metadata": {},
   "outputs": [
    {
     "data": {
      "image/png": "[encoded data removed]",
      "text/plain": [
       "<Figure size 432x288 with 1 Axes>"
      ]
     },
     "metadata": {},
     "output_type": "display_data"
    }
   ],
   "source": [
    "plot = sns.histplot(data=GNI88_sentiment2_negative, x='New Message', discrete=True)\n",
    "plt.setp(plot.get_xticklabels(), rotation=90)[1]"
   ]
  },
  {
   "cell_type": "code",
   "execution_count": 64,
   "id": "d8e21ffa",
   "metadata": {},
   "outputs": [
    {
     "data": {
      "image/png": "[encoded data removed]",
      "text/plain": [
       "<Figure size 432x288 with 1 Axes>"
      ]
     },
     "metadata": {},
     "output_type": "display_data"
    }
   ],
   "source": [
    "plot = sns.histplot(data=GNI88_sentiment2_neutral, x='New Message', discrete=True)\n",
    "plt.setp(plot.get_xticklabels(), rotation=90)[1]"
   ]
  },
  {
   "cell_type": "markdown",
   "id": "d3db2e85",
   "metadata": {},
   "source": [
    "### Take Away:\n",
    "### 1.the sentiment doesn't seem to have strong correlation with article position, speaker type or new message\n",
    "### 2. Experts tend to be negative?\n",
    "### 3. Possible reasons for the failure: \n",
    "####     1) model itself is not good\n",
    "####     2) the model is fine, but the sentiment of a quote in news article is a hard-to-define question\n",
    "####     3) the sentiment of a quote doesn't necessarily correlate with speaker type or the quote's topic"
   ]
  },
  {
   "cell_type": "code",
   "execution_count": null,
   "id": "e0074123",
   "metadata": {},
   "outputs": [],
   "source": []
  }
 ],
 "metadata": {
  "kernelspec": {
   "display_name": "Python 3 (ipykernel)",
   "language": "python",
   "name": "python3"
  },
  "language_info": {
   "codemirror_mode": {
    "name": "ipython",
    "version": 3
   },
   "file_extension": ".py",
   "mimetype": "text/x-python",
   "name": "python",
   "nbconvert_exporter": "python",
   "pygments_lexer": "ipython3",
   "version": "3.9.7"
  }
 },
 "nbformat": 4,
 "nbformat_minor": 5
}
