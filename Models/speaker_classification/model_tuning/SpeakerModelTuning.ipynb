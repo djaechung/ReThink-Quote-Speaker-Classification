{
 "cells": [
  {
   "cell_type": "code",
   "execution_count": 1,
   "metadata": {},
   "outputs": [],
   "source": [
    "import numpy as np\n",
    "import pandas as pd\n",
    "import json\n",
    "import csv\n",
    "import regex as re\n",
    "import seaborn as sns\n",
    "import matplotlib.pyplot as plt\n",
    "import nltk\n",
    "\n",
    "%matplotlib inline"
   ]
  },
  {
   "cell_type": "code",
   "execution_count": 2,
   "metadata": {},
   "outputs": [
    {
     "name": "stdout",
     "output_type": "stream",
     "text": [
      "C:\\Users\\yashd\n"
     ]
    }
   ],
   "source": [
    "cd"
   ]
  },
  {
   "cell_type": "code",
   "execution_count": 3,
   "metadata": {},
   "outputs": [
    {
     "name": "stderr",
     "output_type": "stream",
     "text": [
      "C:\\Users\\yashd\\anaconda3\\lib\\site-packages\\IPython\\core\\interactiveshell.py:3331: DtypeWarning: Columns (9,10,24) have mixed types.Specify dtype option on import or set low_memory=False.\n",
      "  exec(code_obj, self.user_global_ns, self.user_ns)\n"
     ]
    }
   ],
   "source": [
    "df = pd.read_csv(\"Desktop/rethink-media/quote-classification/Data/cleaned_data/GNI88_cleaned_data.csv\") # 408204 rows"
   ]
  },
  {
   "cell_type": "markdown",
   "metadata": {},
   "source": [
    "## Preprocessing"
   ]
  },
  {
   "cell_type": "code",
   "execution_count": 4,
   "metadata": {},
   "outputs": [
    {
     "data": {
      "text/html": [
       "<div>\n",
       "<style scoped>\n",
       "    .dataframe tbody tr th:only-of-type {\n",
       "        vertical-align: middle;\n",
       "    }\n",
       "\n",
       "    .dataframe tbody tr th {\n",
       "        vertical-align: top;\n",
       "    }\n",
       "\n",
       "    .dataframe thead th {\n",
       "        text-align: right;\n",
       "    }\n",
       "</style>\n",
       "<table border=\"1\" class=\"dataframe\">\n",
       "  <thead>\n",
       "    <tr style=\"text-align: right;\">\n",
       "      <th></th>\n",
       "      <th>artdate</th>\n",
       "      <th>Article ID</th>\n",
       "      <th>Headline</th>\n",
       "      <th>Quote ID</th>\n",
       "      <th>Article Status</th>\n",
       "      <th>Article Position</th>\n",
       "      <th>Messages</th>\n",
       "      <th>Submessages</th>\n",
       "      <th>Quote Position</th>\n",
       "      <th>Legacy Quote Tag</th>\n",
       "      <th>...</th>\n",
       "      <th>Constituent Group</th>\n",
       "      <th>Media Name</th>\n",
       "      <th>Media Medium</th>\n",
       "      <th>Journalist Name</th>\n",
       "      <th>Constituent Author</th>\n",
       "      <th>Article Issues</th>\n",
       "      <th>Custom Group</th>\n",
       "      <th>Media Group</th>\n",
       "      <th>fulltext</th>\n",
       "      <th>source_name_cleaned</th>\n",
       "    </tr>\n",
       "  </thead>\n",
       "  <tbody>\n",
       "    <tr>\n",
       "      <th>1</th>\n",
       "      <td>2018-02-23</td>\n",
       "      <td>3777413</td>\n",
       "      <td>Can James Mattis Prevent Nuclear War With Nort...</td>\n",
       "      <td>7105520</td>\n",
       "      <td>News</td>\n",
       "      <td>Neutral</td>\n",
       "      <td>OLD Proliferation</td>\n",
       "      <td>OLD State Level Nuclear Programs</td>\n",
       "      <td>Neutral</td>\n",
       "      <td>NaN</td>\n",
       "      <td>...</td>\n",
       "      <td>None (Legacy Other)</td>\n",
       "      <td>News Week</td>\n",
       "      <td>NaN</td>\n",
       "      <td>Fryer-biggs, Zachary</td>\n",
       "      <td>NaN</td>\n",
       "      <td>NaN</td>\n",
       "      <td>NaN</td>\n",
       "      <td>NaN</td>\n",
       "      <td>Can James Mattis Prevent Nuclear War With Nort...</td>\n",
       "      <td>James Mattis</td>\n",
       "    </tr>\n",
       "    <tr>\n",
       "      <th>2</th>\n",
       "      <td>2018-02-23</td>\n",
       "      <td>3777413</td>\n",
       "      <td>Can James Mattis Prevent Nuclear War With Nort...</td>\n",
       "      <td>7105517</td>\n",
       "      <td>News</td>\n",
       "      <td>Neutral</td>\n",
       "      <td>OLD Proliferation</td>\n",
       "      <td>OLD State Level Nuclear Programs</td>\n",
       "      <td>Neutral</td>\n",
       "      <td>NaN</td>\n",
       "      <td>...</td>\n",
       "      <td>None (Legacy Other)</td>\n",
       "      <td>News Week</td>\n",
       "      <td>NaN</td>\n",
       "      <td>Fryer-biggs, Zachary</td>\n",
       "      <td>NaN</td>\n",
       "      <td>NaN</td>\n",
       "      <td>NaN</td>\n",
       "      <td>NaN</td>\n",
       "      <td>Can James Mattis Prevent Nuclear War With Nort...</td>\n",
       "      <td>James Mattis</td>\n",
       "    </tr>\n",
       "    <tr>\n",
       "      <th>3</th>\n",
       "      <td>2018-02-23</td>\n",
       "      <td>3777413</td>\n",
       "      <td>Can James Mattis Prevent Nuclear War With Nort...</td>\n",
       "      <td>7105518</td>\n",
       "      <td>News</td>\n",
       "      <td>Neutral</td>\n",
       "      <td>OLD Proliferation</td>\n",
       "      <td>OLD State Level Nuclear Programs</td>\n",
       "      <td>Positive</td>\n",
       "      <td>NaN</td>\n",
       "      <td>...</td>\n",
       "      <td>NaN</td>\n",
       "      <td>News Week</td>\n",
       "      <td>NaN</td>\n",
       "      <td>Fryer-biggs, Zachary</td>\n",
       "      <td>NaN</td>\n",
       "      <td>NaN</td>\n",
       "      <td>NaN</td>\n",
       "      <td>NaN</td>\n",
       "      <td>Can James Mattis Prevent Nuclear War With Nort...</td>\n",
       "      <td>Leon E. Panetta</td>\n",
       "    </tr>\n",
       "    <tr>\n",
       "      <th>4</th>\n",
       "      <td>2018-02-23</td>\n",
       "      <td>3777413</td>\n",
       "      <td>Can James Mattis Prevent Nuclear War With Nort...</td>\n",
       "      <td>7105527</td>\n",
       "      <td>News</td>\n",
       "      <td>Neutral</td>\n",
       "      <td>OLD Proliferation</td>\n",
       "      <td>OLD State Level Nuclear Programs</td>\n",
       "      <td>Neutral</td>\n",
       "      <td>NaN</td>\n",
       "      <td>...</td>\n",
       "      <td>NaN</td>\n",
       "      <td>News Week</td>\n",
       "      <td>NaN</td>\n",
       "      <td>Fryer-biggs, Zachary</td>\n",
       "      <td>NaN</td>\n",
       "      <td>NaN</td>\n",
       "      <td>NaN</td>\n",
       "      <td>NaN</td>\n",
       "      <td>Can James Mattis Prevent Nuclear War With Nort...</td>\n",
       "      <td>Chuck Hagel</td>\n",
       "    </tr>\n",
       "    <tr>\n",
       "      <th>5</th>\n",
       "      <td>2018-02-15</td>\n",
       "      <td>3777414</td>\n",
       "      <td>For His Book 'Directorate S,' Journalist Steve...</td>\n",
       "      <td>7105525</td>\n",
       "      <td>News</td>\n",
       "      <td>Neutral</td>\n",
       "      <td>OLD Proliferation</td>\n",
       "      <td>OLD State Level Nuclear Programs</td>\n",
       "      <td>Positive</td>\n",
       "      <td>NaN</td>\n",
       "      <td>...</td>\n",
       "      <td>None (Legacy Other)</td>\n",
       "      <td>NPR</td>\n",
       "      <td>NaN</td>\n",
       "      <td>Kelly, Mary</td>\n",
       "      <td>NaN</td>\n",
       "      <td>NaN</td>\n",
       "      <td>NaN</td>\n",
       "      <td>NaN</td>\n",
       "      <td>For His Book 'Directorate S,' Journalist Steve...</td>\n",
       "      <td>Steve Coll</td>\n",
       "    </tr>\n",
       "  </tbody>\n",
       "</table>\n",
       "<p>5 rows × 30 columns</p>\n",
       "</div>"
      ],
      "text/plain": [
       "      artdate  Article ID                                           Headline  \\\n",
       "1  2018-02-23     3777413  Can James Mattis Prevent Nuclear War With Nort...   \n",
       "2  2018-02-23     3777413  Can James Mattis Prevent Nuclear War With Nort...   \n",
       "3  2018-02-23     3777413  Can James Mattis Prevent Nuclear War With Nort...   \n",
       "4  2018-02-23     3777413  Can James Mattis Prevent Nuclear War With Nort...   \n",
       "5  2018-02-15     3777414  For His Book 'Directorate S,' Journalist Steve...   \n",
       "\n",
       "   Quote ID Article Status Article Position           Messages  \\\n",
       "1   7105520           News          Neutral  OLD Proliferation   \n",
       "2   7105517           News          Neutral  OLD Proliferation   \n",
       "3   7105518           News          Neutral  OLD Proliferation   \n",
       "4   7105527           News          Neutral  OLD Proliferation   \n",
       "5   7105525           News          Neutral  OLD Proliferation   \n",
       "\n",
       "                        Submessages Quote Position Legacy Quote Tag  ...  \\\n",
       "1  OLD State Level Nuclear Programs        Neutral              NaN  ...   \n",
       "2  OLD State Level Nuclear Programs        Neutral              NaN  ...   \n",
       "3  OLD State Level Nuclear Programs       Positive              NaN  ...   \n",
       "4  OLD State Level Nuclear Programs        Neutral              NaN  ...   \n",
       "5  OLD State Level Nuclear Programs       Positive              NaN  ...   \n",
       "\n",
       "     Constituent Group Media Name Media Medium       Journalist Name  \\\n",
       "1  None (Legacy Other)  News Week          NaN  Fryer-biggs, Zachary   \n",
       "2  None (Legacy Other)  News Week          NaN  Fryer-biggs, Zachary   \n",
       "3                  NaN  News Week          NaN  Fryer-biggs, Zachary   \n",
       "4                  NaN  News Week          NaN  Fryer-biggs, Zachary   \n",
       "5  None (Legacy Other)        NPR          NaN           Kelly, Mary   \n",
       "\n",
       "  Constituent Author Article Issues Custom Group Media Group  \\\n",
       "1                NaN            NaN          NaN         NaN   \n",
       "2                NaN            NaN          NaN         NaN   \n",
       "3                NaN            NaN          NaN         NaN   \n",
       "4                NaN            NaN          NaN         NaN   \n",
       "5                NaN            NaN          NaN         NaN   \n",
       "\n",
       "                                            fulltext source_name_cleaned  \n",
       "1  Can James Mattis Prevent Nuclear War With Nort...        James Mattis  \n",
       "2  Can James Mattis Prevent Nuclear War With Nort...        James Mattis  \n",
       "3  Can James Mattis Prevent Nuclear War With Nort...     Leon E. Panetta  \n",
       "4  Can James Mattis Prevent Nuclear War With Nort...         Chuck Hagel  \n",
       "5  For His Book 'Directorate S,' Journalist Steve...          Steve Coll  \n",
       "\n",
       "[5 rows x 30 columns]"
      ]
     },
     "execution_count": 4,
     "metadata": {},
     "output_type": "execute_result"
    }
   ],
   "source": [
    "# Dropping rows with no source names or text\n",
    "df = df.dropna(subset=[\"Source Name\", \"fulltext\"]) # 400044 rows\n",
    "df = df[df['source_name_cleaned'].apply(lambda x: isinstance(x, str))]\n",
    "\n",
    "# Filtering out opinion articles \n",
    "df = df[df[\"Article Status\"] != \"Opinion\"] # 354192 rows\n",
    "\n",
    "# Dropping unnamed sources\n",
    "df = df[~df[\"Source Name\"].str.lower().str.contains(\"unnamed\")] # 311740\n",
    "\n",
    "# Dropping household names\n",
    "df = df[~df.source_name_cleaned.str.lower().str.contains(\"biden|trump|obama|bush|clinton|reagan|putin|kim jong un|netanyahu|ayatollah|moon jae in\")] # 269676 rows\n",
    "df.head()"
   ]
  },
  {
   "cell_type": "code",
   "execution_count": 53,
   "metadata": {},
   "outputs": [
    {
     "data": {
      "text/plain": [
       "'Can James Mattis Prevent Nuclear War With North Korea?\\r\\n\\r\\nJames Mattis has spent the past few months traveling the globe with Grant, Ron Chernow\\'s biography of Ulysses S. Grant. His heavily dog-eared copy details the mutual respect and affection shared between Grant, the top U.S. military leader during the Civil War, and his boss, President Abraham Lincoln.\\r\\n\\r\\nWhile Grant publicly supported Lincoln, Mattis, the secretary of defense, has been noticeably quiet about his president, Donald Trump. At a bizarre Cabinet meeting in June 2017, in which nearly every other official offered effusive praise for Trump, Mattis didn\\'t.\\r\\n\\r\\nInstead, he\\'s been traveling the world while trying to hold back a rush to war on the Korean Peninsula, born of a rhetorical spat between his boss and North Korean dictator Kim Jong Un. His plane is a Cold War-era Boeing E4-B designed to help run a nuclear war from the air, a prospect he\\'s hoping to avoid.\\r\\n\\r\\nMattis is facing a surge of support from within the White House for a pre-emptive war against Pyongyang. He\\'s also considering deploying more cyberweapons to slow Kim\\'s nuclear program, while pushing more aggressively for any kind of diplomatic solution. A war could cost up to 3 million lives. It is a conflict Mattis seems eager to avoid-and there\\'s a weariness about him that\\'s evident in the bags under his eyes.\\r\\n\\r\\nOver the past year, the retired Marine Corps general has served as a reassuring presence for allies put off by Trump\\'s talk of isolationism, Moscow\\'s aggressive moves in Ukraine and Crimea and Beijing\\'s penchant for building runways and bases on every available strip of land in the South China Sea.\\r\\n\\r\\nWhile Trump and Kim trade insults and threats, Mattis talks about North Korea in calculating terms, always insisting that the tit-for-tat barbs are outside of his purview. When Trump threatened \"fire and fury\" against North Korea in August, Mattis said that \"the rhetoric is up to the president.\" He refrains from responding to Pyongyang\\'s direct threats and won\\'t handicap the odds of conflict. \"I have modest expectations of my ability to predict Kim Jong Un\\'s behavior,\" Mattis tells Newsweek.\\r\\n\\r\\nHe cuts off questions about potential war plans, pushing the need for diplomacy. \"They [war plans] exist so that the diplomats speak from a position of authority that they have to be listened to,\" he says. \"Because an attack on the Republic of Korea will be severely rebuffed if it\\'s attempted.\"\\r\\n\\r\\nMattis is also careful to avoid the appearance that he and Trump may disagree. It\\'s perhaps why he\\'s one of the only senior figures on the president\\'s national security staff who hasn\\'t had a major public dustup with his boss-and thus plays an outsized role in shaping U.S. foreign policy. \"As crazy as Trump may be,\" says former Secretary of Defense Leon Panetta, \"deep down he has trust in Mattis\\'s judgment, and in a very significant way that relationship may be what\\'s saving us right now from doing something stupid.\"\\r\\n\\r\\nThis year, the Trump administration tried to cut funding for the State Department by 30 percent. It simultaneously sought to increase Pentagon spending, a sign of how it values military action versus diplomacy.\\r\\n\\r\\nAnd to an extent, Mattis has been forced to fill both roles, often meeting with foreign ministers and heads of state to represent American interests. He tries to appear perfectly in sync with Secretary of State Rex Tillerson, noting that the two frequently coordinate their moves, despite the lingering rumors that the man supposed to be America\\'s top diplomat may soon be leaving Trump\\'s Cabinet. The two have reportedly teamed up on many contentious issues within the White House, from maintaining the Iran deal to pushing back against calls for a pre-emptive strike against North Korea.\\r\\n\\r\\nNearly every meeting Mattis takes includes discussion of how to manage Kim. North Korea isn\\'t the first American enemy to acquire nuclear weapons over U.S. objections. Nor is it the only nuclear power that worries Washington. Pakistan\\'s intelligence service has ties to so-called terrorist groups, and the country has poorly secured nuclear weapons stockpiles. But unlike North Korea, Pakistan talks with the U.S. \"We\\'ve always had some relationship with Pakistan,\" Chuck Hagel, one of Mattis\\'s predecessors, tells Newsweek. \"It\\'s been essentially transactional, but we\\'ve had a pretty stable relationship with Pakistan. You can go through the other nuclear powers as well.\"\\r\\n\\r\\nWhat makes the current situation different to Mattis is that North Korea and South Korea, and by extension, the U.S., are still at war and have been since the 1950s. \"There\\'s been no peace treaty, there\\'s only an armistice,\" Mattis says.\\r\\n\\r\\nKim\\'s state is also largely closed off from the outside world. There no diplomatic relationship with the U.S., and American intelligence on Pyongyang\\'s nuclear program-and the country\\'s intentions-remains spotty.\\r\\n\\r\\nThe lack of intel is part of what is driving talks of a pre-emptive strike against North Korea-a risky move that experts say could cause all-out war. The idea behind such a limited campaign is that it would demonstrate the U.S. is serious, without threatening Kim\\'s power. But no one knows how the North Korean leader would respond. Even if he eschewed nukes and a more conventional war broke out, the civilian casualties would be enormous.\\r\\n\\r\\n\"A limited attack tries to ignore the fundamental principle that the consequences of that kind of attack are totally unpredictable,\" says Panetta, who ran the CIA before he took the top job at the Pentagon. \"[It] could result in not only the loss of millions of lives but the possibility of a nuclear confrontation.\"\\r\\n\\r\\nMattis is aware of this conundrum, having compared potential casualties in a conflict to those of the last Korean War, which claimed millions of lives. But his job requires him to draw up a potential plan and brief the president about the consequences.\\r\\n\\r\\nThere are, of course, limits to what any secretary of defense can do. \"The secretary of defense does not make policy,\" says Hagel. \"That only comes from the president, the White House.\"\\r\\n\\r\\nAnd that makes the relationship between Trump and Mattis critical. \"You have a very inexperienced White House, quite frankly,\" says Hagel. \"You\\'ve got a president who campaigned on a pretty simple platform in 2016-elect me president of the United States, I know nothing about the job.\"\\r\\n\\r\\nMattis, meanwhile, will have to adapt to the changing nature of warfare. He has four decades in the military, although most of that came before the advent of cyberweapons, which North Korea has used in recent years to sidestep direct conflict. The most infamous example: the attack on Sony after that company produced a movie mocking Kim. The U.S. has reportedly used cyberweapons to disrupt the development of North Korea\\'s nuclear weapons, and that could be a strategy Mattis uses again in the near future. \"We have a hell of a lot better chance of controlling escalation with cyber,\" says Panetta, \"than we do with a bomb.\"\\r\\n\\r\\nBut if the defense secretary can\\'t get Kim to give up his nuclear weapons, his only option, other than war, may be a return to the strategy the U.S. used for decades against the Soviet Union: containment and deterrence. Kim, according to Hagel and Panetta, is a rational leader, not a madman; he\\'s someone who could be induced to change his behavior. And a war, they say, might be avoidable, if the U.S. can apply the right pressure on Pyongyang. If he agrees, Mattis may be forced to dust off those strategies as he leads the world\\'s oldest nuclear power against the ambitions of the world\\'s newest.\\r\\n\\r\\nAs if to demonstrate this point, his doomsday plane, the decades-old aircraft built during the height of the Cold War, broke down on January 26 after a meeting with South Korea\\'s defense chief, Song Young-moo. Mattis was forced to ride home on a stripped-down military cargo plane with a modified airstream trailer strapped to its floor. Inside the trailer for the overnight flight back to Washington, he kept Chernow\\'s book by his side.'"
      ]
     },
     "execution_count": 53,
     "metadata": {},
     "output_type": "execute_result"
    }
   ],
   "source": [
    "df.iloc[0]['fulltext']"
   ]
  },
  {
   "cell_type": "code",
   "execution_count": 5,
   "metadata": {},
   "outputs": [],
   "source": [
    "# dictionary containing the classification groups for all speaker types\n",
    "source_groups = {\"Foreign Government\": ['Foreign Gov/Mil Official', 'Former Soviet Military Officer'],\n",
    "                \"Experts\": ['Nuke Organization','Non-Profit/NGO','Think Tanks',\n",
    "                            'Nuke Organization - Other', 'Nuke Organization - Academic',\n",
    "                            'International Orgs','Academic','Nuclear Scientist',\"Analyst/Commentator\",\n",
    "                            'Attorney','Regulator'],\n",
    "                \"US Congress\": ['US Rep. & Staff','US Senate & Staff', 'Partisans/Fmr. Politicians'],\n",
    "                \"US Federal Officials\": ['Federal Official','State/Local Official',\n",
    "                                        'Former Admin. Officials','Judicial Official'],\n",
    "                \"US Defense\": ['US Military','Defense Forces','Defense', 'retired US Military', 'Former DIA intelligence'],\n",
    "                \"Media\": [\"Media/Journalist\",\"Blogger\",\"Activist\"], #Added activist here since it came up as a KeyError later\n",
    "                \"Corporate Official\": ['Corporate Official'],\n",
    "                \"Other\": ['Other','Chairman','Terrorist/Extremist','Information minister',\n",
    "                          'Religious/Clerical', 'Ambassador', 'Nuclear Official', 'Former Ambassador', #Added Former Ambassador \n",
    "                          'Citizen','Public Polling','US Police','Deputy', 'P & S - Former Government']} "
   ]
  },
  {
   "cell_type": "code",
   "execution_count": 6,
   "metadata": {},
   "outputs": [],
   "source": [
    "# Helper function that inverts a dictionary. This will be useful for using speaker groups\n",
    "# later on in model evaluation\n",
    "def invert_dict(dictionary):\n",
    "    \"\"\"\n",
    "    Inputs:\n",
    "     - dictionary: dict, dictionary we wish to invert\n",
    "    Outputs:\n",
    "     - dict, where keys are the initial dictionary's values and values are the initial dictionary's keys\n",
    "    \"\"\"\n",
    "    # get a list of all items in all dictionary values\n",
    "    speaker_types = list(np.concatenate(list(dictionary.values())).flat)\n",
    "    # each speaker type will become its own key now, and the value will be the speaker group it's a part of\n",
    "    inverted_dict = {}\n",
    "    for speaker_type in speaker_types:\n",
    "        # find the group the speaker_type belongs in\n",
    "        speaker_group = [key for key, value in dictionary.items() if speaker_type in value][0]\n",
    "        # update the inverted dictionary such that the key is the speaker type and the value is the speaker group\n",
    "        inverted_dict[speaker_type] = speaker_group\n",
    "    return inverted_dict"
   ]
  },
  {
   "cell_type": "code",
   "execution_count": 7,
   "metadata": {},
   "outputs": [],
   "source": [
    "# lookup dictionary which can convert a speaker type to its classification group in constant time\n",
    "source_to_group = invert_dict(source_groups)"
   ]
  },
  {
   "cell_type": "code",
   "execution_count": 8,
   "metadata": {},
   "outputs": [],
   "source": [
    "def assign_source_to_group(source_type):\n",
    "    \"\"\"\n",
    "    Inputs:\n",
    "    - source_type: str, source type from quote datafame\n",
    "    Outputs:\n",
    "    - str of the bigger speaker category to which source_type belongs\n",
    "    \"\"\"\n",
    "    if type(source_type) != str:\n",
    "        return \"Other\"\n",
    "    else:\n",
    "        return source_to_group[source_type]"
   ]
  },
  {
   "cell_type": "code",
   "execution_count": 9,
   "metadata": {},
   "outputs": [],
   "source": [
    "# Listing indicidator features to compare across the speaker categories\n",
    "experts_ps = [\"associate professor\",\n",
    "              \"university\",\n",
    "              \"studies\",\n",
    "              \"scholar\",\n",
    "              \"expert\",\n",
    "              \"historian\",\n",
    "              \"academy\",\n",
    "              \"social science\",\n",
    "              \"lecturer\",\n",
    "              \"physicist\",\n",
    "              \"professor\",\n",
    "              \"political science\",\n",
    "              \"political\",\n",
    "              \"scientist\",\n",
    "              \"college\",\n",
    "              \"education\",\n",
    "              \"school\",\n",
    "              \"economics\",\n",
    "              \"international relations\",\n",
    "              \"physics\",\n",
    "              \"associate professor\",\n",
    "              \"researcher\",\n",
    "              \"laboratory\",\n",
    "              \"research fellow\",\n",
    "              \"graduate school\",\n",
    "              \"international affairs\",\n",
    "              \"research associate\",\n",
    "              \"dr\\.\",\n",
    "              \"ph\\.d\\.\",\n",
    "              \"institute of technology\",\n",
    "              \"economist\",\n",
    "              \"analysis\",\n",
    "              \"counselor\",\n",
    "              \"postdoctoral\",\n",
    "              \"fellow\",\n",
    "              \"specialist\",\n",
    "              \"novelist\",\n",
    "              \"founder\",\n",
    "              \"council\",\n",
    "              \"director\",\n",
    "              \"program\",\n",
    "              \"think tank\",\n",
    "              \"foundation\",\n",
    "              \"institute\",\n",
    "              \"division\",\n",
    "              \"policy\",\n",
    "              \"association\",\n",
    "              \"center\",\n",
    "              \"group\",\n",
    "              \"superindendent\",\n",
    "              \"international\"]\n",
    "foreign_gov_ps = [\"putin|kim jong un|netanyahu|ayatollah|moon jae in\",\n",
    "                  \"[nseih] president\",\n",
    "                  \"[nseih] foreign\",\n",
    "                  \"foreign minister\",\n",
    "                  \"foreign ministry\",\n",
    "                  \"prime minister\",\n",
    "                  \"people's liberation army\",\n",
    "                  \"foreign policy\",\n",
    "                  \"supreme leader\",\n",
    "                  \"prince\"] \n",
    "corporate_official_ps = [\"chief finnancial officer\",\n",
    "                         \"managing director\",\n",
    "                         \"bank\",\n",
    "                         \"chief executive\",\n",
    "                         \"general manager\",\n",
    "                         \"investment fund\",\n",
    "                         \"investment\",\n",
    "                         \"employer\",\n",
    "                         \"firm\",\n",
    "                         \"chief executive officer\",\n",
    "                         \"businessman\",\n",
    "                         \"businesswoman\",\n",
    "                         \"inc\\.\",\n",
    "                         \"manager\",\n",
    "                         \"ltd[ ,\\.]\",\n",
    "                         \"chairman\",\n",
    "                         \"chairwoman\",\n",
    "                         \"sales\",\n",
    "                         \"managing\",\n",
    "                         \"program director\",\n",
    "                         \"strategist\",\n",
    "                         \"company\",\n",
    "                         \"contractor\",\n",
    "                         \"consultancy\"]\n",
    "judicial_ps = [\"attorney\",\n",
    "               \"justice\",\n",
    "               \"lawyer\",\n",
    "               \"court\",\n",
    "               \"judge\",\n",
    "               \"magistrate\"]\n",
    "us_congress_ps = [\" sen\\.\",\n",
    "                  \" rep\\.\",\n",
    "                  \" sens\\.\",\n",
    "                  \" reps\\.\",\n",
    "                  \" r \",\n",
    "                  \" d \",\n",
    "                  \"\\(r\",\n",
    "                  \"\\(d\",\n",
    "                  \"democrat\",\n",
    "                  \"democratic\",\n",
    "                  \"republican\",\n",
    "                  \"majority leader\",\n",
    "                  \"minority leader\",\n",
    "                  \"senate\",\n",
    "                  \"house\",\n",
    "                  \"committee\",\n",
    "                  \"frontrunner\",\n",
    "                  \"candidate\",\n",
    "                  \"committee chairman\",\n",
    "                  \"ranking member\",\n",
    "                  \" top\",\n",
    "                  \"foreign relations committee\",\n",
    "                  \"intelligence committee\",\n",
    "                  \"hopeful\",\n",
    "                  \"house speaker\",\n",
    "                  \"campaign\"]\n",
    "us_defense_ps = [\"pentagon\",\n",
    "                 \"navy\",\n",
    "                 \"air force\",\n",
    "                 \"army\",\n",
    "                 \"marine\",\n",
    "                 \"coast gaurd\",\n",
    "                 \" capt\\.\",\n",
    "                 \"captain\",\n",
    "                 \" gen\\.\",\n",
    "                 \"general\",\n",
    "                 \" adm\\.\",\n",
    "                 \"admiral\",\n",
    "                 \" col\\.\",\n",
    "                 \"colonel\",\n",
    "                 \" lt\\.\",\n",
    "                 \"lieutenant\",\n",
    "                 \"chief of staff\",\n",
    "                 \"joint chiefs of staff\",\n",
    "                 \"commander\",\n",
    "                 \"norad\",\n",
    "                 \"northcom\",\n",
    "                 \"special forces\",\n",
    "                 \"strategic command\",\n",
    "                 \"defense secretary\",\n",
    "                 \"nato\",\n",
    "                 \"allied\",\n",
    "                 \"officer\",\n",
    "                 \"corps\",\n",
    "                 \" u\\.s\\.\",\n",
    "                 \" us \"]\n",
    "us_fed_officials_ps = [\"biden|trump|obama|bush|clinton|reagan\",\n",
    "                        \"ambassador\",\n",
    "                        \"u\\.s\\. president\",\n",
    "                        \"department\",\n",
    "                        \"attorney\",\n",
    "                        \"secretary of\",\n",
    "                        \"us ambassador\",\n",
    "                        \"state department\",\n",
    "                        \"national security\",\n",
    "                        \"secretary\",\n",
    "                        \"secretary of\"]\n",
    "media_ps = [\"author\\:? \",\n",
    "            \"correspondent\",\n",
    "            \"columnist\",\n",
    "            \" post\",\n",
    "            \" host\",\n",
    "            \"editor\",\n",
    "            \"times\",\n",
    "            \"press\",\n",
    "            \"magazine\",\n",
    "            \"msnbc|cnn|fox\",\n",
    "            \"writer\",\n",
    "            \"syndicated columnist\",\n",
    "            \"editorial\",\n",
    "            \"blog\",\n",
    "            \": .+\",\n",
    "            \"i\\\"m\",\n",
    "            \"by\\:? \",\n",
    "            \"media_tag\"] \n",
    "international_officials_ps = [\"deputy director general\",\n",
    "                              \"international atomic energy agency\",\n",
    "                              \"iaea\",\n",
    "                              \"inspector\",\n",
    "                              \"inspections\"]\n",
    "other_ps = [\"hezbollah\",\n",
    "            \"taliban\",\n",
    "            \"pollster\",\n",
    "            \"archbishop\",\n",
    "            \"pope\",\n",
    "            \"bishop\",\n",
    "            \"church\",\n",
    "            \"rev\\.\",\n",
    "            \"reverand\",\n",
    "            \"police\",\n",
    "            \"commissioner\",\n",
    "            \"nypd\",\n",
    "            \"resident\"]"
   ]
  },
  {
   "cell_type": "code",
   "execution_count": 10,
   "metadata": {},
   "outputs": [],
   "source": [
    "indicator_pattern_set  = [experts_ps,\n",
    "                          foreign_gov_ps,\n",
    "                          corporate_official_ps,\n",
    "                          judicial_ps,\n",
    "                          us_congress_ps,\n",
    "                          us_defense_ps,\n",
    "                          us_fed_officials_ps,\n",
    "                          media_ps,\n",
    "                          international_officials_ps,\n",
    "                          other_ps]"
   ]
  },
  {
   "cell_type": "code",
   "execution_count": 11,
   "metadata": {},
   "outputs": [],
   "source": [
    "indicator_patterns = []\n",
    "for pattern_group in indicator_pattern_set:\n",
    "    indicator_patterns += pattern_group"
   ]
  },
  {
   "cell_type": "code",
   "execution_count": 12,
   "metadata": {},
   "outputs": [],
   "source": [
    "# A special indicator to try is the existence of a foreign title--that is, any case in which\n",
    "# a title and a foreign cuntry are mentioned in the same string. Examples are shown below.\n",
    "def has_foreign_title(context_str):\n",
    "    \"\"\"\n",
    "    Inputs:\n",
    "    - context_str: string to find a foreign title in\n",
    "    Outputs:\n",
    "    - int, whether or not a foreign title is in the string\n",
    "    \"\"\"\n",
    "    country_pattern = \"iran|iraq|south korea|north korea|russia|china|france|germany|india|pakistan|libya|britain|u\\.k\\.|united kingdom|israel|saudi arabia\"\n",
    "    country_s_pattern = \"(iran|iraq|south korea|north korea|russia|china|france|germany|india|pakistan|libya|britain|u\\.k\\.|united kingdom|israel|saudi arabia|south|north|korea).?s\"\n",
    "    country_adj_pattern = \"iranian|iraqi|south korean|north koren|russian|chinese|french|german|indian|pakistani|libyan|british|israeli|saudi\"\n",
    "    title_pattern = \"foreign|defense|minister|ambassador|leader|president|prince|diplomat|prime minister|spokesman|spokeswoman|gen\\.|governor|chief|government\"\n",
    "    country_match = re.search(country_pattern, context_str)\n",
    "    s_match = re.search(country_s_pattern, context_str)\n",
    "    adj_match = re.search(country_adj_pattern, context_str)\n",
    "    title_match = re.search(title_pattern, context_str)\n",
    "    has_country = False \n",
    "    has_title = False\n",
    "    if s_match or adj_match or country_match:\n",
    "        has_country = True\n",
    "    if title_match:\n",
    "        has_title = True\n",
    "    return int(has_country and has_title)"
   ]
  },
  {
   "cell_type": "code",
   "execution_count": 13,
   "metadata": {},
   "outputs": [],
   "source": [
    "# More NLTK setup\n",
    "from nltk.corpus import stopwords\n",
    "from nltk.tokenize import word_tokenize, sent_tokenize\n",
    "stop_words = set(stopwords.words('english'))"
   ]
  },
  {
   "cell_type": "code",
   "execution_count": 14,
   "metadata": {},
   "outputs": [],
   "source": [
    "# helper function to extract full article text, useful for debugging cases where the context extraction function fails\n",
    "def fulltext_of(art_id):\n",
    "    \"\"\"\n",
    "    Inputs:\n",
    "    - art_id: id of the article to get the full text of\n",
    "    Outputs:\n",
    "    - str: the full article content as a string\n",
    "    \"\"\"\n",
    "    just_id = df[df[\"Article ID\"] == art_id][\"fulltext\"]\n",
    "    if len(just_id) > 0:\n",
    "        return df[df[\"Article ID\"] == art_id][\"fulltext\"].iloc[0]\n",
    "    else: \n",
    "        return \"\""
   ]
  },
  {
   "cell_type": "code",
   "execution_count": 15,
   "metadata": {},
   "outputs": [],
   "source": [
    "# Helper function to find the context for a speaker if the context follows a prenoun pattern\n",
    "# Example: \"Russian president Vladimir Putin\" -- useful context nouns \"Russian president\" precede Putin's name\n",
    "def find_prenoun_pattern(name, mentions):\n",
    "    \"\"\"Inputs:\n",
    "     - name: str, name of the speaker we're looking for context for\n",
    "     - mentions: list of str, all paragraphs in the article where name has appeared\n",
    "     Outputs:\n",
    "     - str: the prenoun context preceding a name's mention, if it exists. If no prenoun\n",
    "            context is found, return an empty string.\"\"\"\n",
    "    # listing pos tags we can reference\n",
    "    nouns = ['NN','NNS','NNP','NNPS']\n",
    "    verbs = ['VB','VBD','VBG','VBN','VBP','VBZ']\n",
    "    adverbs = ['RB','RBR','RBS']\n",
    "    # get last name and name length (num words in name) for reference\n",
    "    \n",
    "    last_name = ''\n",
    "    name_len = len(name.split())\n",
    "    if name_len > 0:\n",
    "        last_name = name.split()[-1]\n",
    "    # for each sentence in the article that name appears in:\n",
    "    for mention in mentions:\n",
    "        potential_verb = \"\"\n",
    "        # tokenize the sentence and parse it to see what part of speech (pos)\n",
    "        # every word in it is\n",
    "        wordsList = nltk.word_tokenize(mention) # note: we're keeping stopwords\n",
    "        tagged = nltk.pos_tag(wordsList)\n",
    "        if len(tagged) <= 1:\n",
    "            return \"\"\n",
    "        # now we iterate through the sentence\n",
    "        sentence_legend = {}\n",
    "        name_idx = 0\n",
    "        i = 0\n",
    "        # for each word in sentence:\n",
    "        for tag_pair in tagged:\n",
    "            sentence_legend[i] = tag_pair\n",
    "            # if we find the last name, save that word index. It'll be handy\n",
    "            if tag_pair[0] == last_name:\n",
    "                name_idx = i\n",
    "            i += 1\n",
    "      \n",
    "    # using the word index of the name, go back in the sentence to find the\n",
    "    # word preceding it. If that preceding word is a noun, we have a prenoun\n",
    "    # pattern we should extract! (we know it's a noun because of NLTK functionality)\n",
    "        if name_idx - name_len >= 0:\n",
    "            preceding_word_pos = sentence_legend[name_idx-name_len][1] \n",
    "            if preceding_word_pos in nouns:\n",
    "                prenoun_pattern = \".*?((?:\\w+\\W+){1,4})\" + name\n",
    "                matches = re.search(prenoun_pattern, mention)\n",
    "                if matches:\n",
    "                    #print(mention)\n",
    "                    return matches[1]\n",
    "    return \"\""
   ]
  },
  {
   "cell_type": "code",
   "execution_count": 16,
   "metadata": {},
   "outputs": [],
   "source": [
    "# hardcoded list of names that are so recognizable that they often lack context.\n",
    "# we will search for them manually so as not to confuse the algorithm with noisy context\n",
    "household_names = ['donald trump','barack obama', 'ayatollah ali khamenei', \n",
    "                   'vladimir putin','kim jong un', 'joe biden', 'joseph biden', \n",
    "                   'george bush', 'benjamin netanyahu', \"mitt romney\"]"
   ]
  },
  {
   "cell_type": "code",
   "execution_count": 1,
   "metadata": {},
   "outputs": [],
   "source": [
    "# Beefed up context extraction function that searches for many more possible context patterns\n",
    "def fancy_context(art_id, name, verbose=False):\n",
    "    \"\"\"Inputs:\n",
    "     - art_id: int, id of the article in which name spoke a quote\n",
    "     - name: str, name of the speaker to search for context for\n",
    "     - verbose: bool, whether or not to print a log of what patterns\n",
    "                were found\n",
    "     Outputs:\n",
    "     - str: relevant context that can help identify name in article art_id.\n",
    "            if no patterns could be matched, this string will be NO CONTEXT FOUND.\n",
    "            if name is a household name, return the name alone. We have an indicator\n",
    "            to handle it later.\"\"\"\n",
    "    content = fulltext_of(art_id)\n",
    "    # standardize article content and name to make searching easier\n",
    "    content = content.lower()\n",
    "    content = content.replace(\"-\",\" \")\n",
    "    content = re.sub(' \\w\\. ',' ',content) # remove middle initials\n",
    "    content = content.replace(\"'\",\"\")\n",
    "    \n",
    "    name = name.lower()\n",
    "    name = name.replace(\"-\", \" \")\n",
    "    name = name.replace(\"'\", \"\")\n",
    "    # initial hardcoded check for household names, since these names often don't\n",
    "    # have any context and will only confuse the algorithm\n",
    "    if name in household_names:\n",
    "        return name\n",
    "    \n",
    "    last_name = name.split()[-1]\n",
    "    \n",
    "\n",
    "    # split the full text into a list of paragraphs\n",
    "    paragraphs =  re.split(r\"\\n\", content)\n",
    "    # find paragraphs where the name is mentioned\n",
    "    mentions = []\n",
    "    for paragraph in paragraphs:\n",
    "        if name in paragraph:\n",
    "            mentions.append(paragraph)\n",
    "  \n",
    "    # BEGIN PATTERN MATCHING\n",
    "    #writer_pattern1 = '(author\\:? |by\\:? )' + name\n",
    "    writer_pattern1 = '(author\\:? )' + name\n",
    "    #writer_pattern2 = '(\\n' + name + '.{0,10}\\n)'\n",
    "    writer_pattern2 = name+'   \\r'\n",
    "    congress_pattern = '(\\w{3}. ' + name + ' \\([dr]{1} .+\\))'\n",
    "    precontext_pattern = '([,\\.!?].+, )' + name\n",
    "    is_pattern = name + ' (is .+[,\\.!?])'\n",
    "    postcontext_pattern = name + '(,.+[,\\.!?])'\n",
    "    catchall_pattern = '(\\W+(?:\\w+\\W+){0,6}' + name + '\\W+(?:\\w+\\W+){0,12})'\n",
    "    context = \"\"\n",
    "\n",
    "    # try writer pattern (E: 'By: Johnny Harris')\n",
    "    for mention in mentions:\n",
    "        matches = re.search(writer_pattern1, mention)\n",
    "        if matches:\n",
    "            context = matches[1]\n",
    "            break\n",
    "        matches = re.search(writer_pattern2, mention)\n",
    "        if matches:\n",
    "            context = \"media_tag\"\n",
    "            break\n",
    "    if context:\n",
    "        if verbose:\n",
    "            print(\"WRITER PATTERN\")\n",
    "        return context\n",
    "\n",
    "\n",
    "  # try congress pattern (E: 'sen. John McCain (r ariz.))\n",
    "    for mention in mentions:\n",
    "        matches = re.search(congress_pattern, mention)\n",
    "        if matches:\n",
    "            context += matches[1]\n",
    "        if context:\n",
    "            if verbose:\n",
    "                print(\"CONGRESS PATTERN\")\n",
    "            return context\n",
    "\n",
    "  # try prenoun pattern (E: 'Press secretary Jen Psaki')\n",
    "    prenoun_result = find_prenoun_pattern(name, mentions)\n",
    "    if prenoun_result:\n",
    "        if verbose:\n",
    "            print(\"PRENOUN PATTERN\")\n",
    "        return prenoun_result\n",
    "\n",
    "  # try precontext patterns (E: 'Director of international affairs, Rob Black')\n",
    "    for mention in mentions:\n",
    "        matches = re.search(precontext_pattern, mention)\n",
    "        if matches:\n",
    "              context += matches[1]\n",
    "    if context:\n",
    "        if verbose:\n",
    "            print(\"PRECONTEXT PATTERN\")\n",
    "        return context\n",
    "\n",
    "  # try is pattern (E: 'Ezra Klein is a writer for the New York Times')\n",
    "    for mention in mentions:\n",
    "        matches = re.search(is_pattern, mention)\n",
    "        if matches:\n",
    "            context += matches[1]\n",
    "    if context:\n",
    "        if verbose:\n",
    "            print(\"IS PATTERN\")\n",
    "        return context\n",
    "\n",
    "  # try postcontext pattern (E: 'Daniel Chung, a researcher for ReThink media, ...')\n",
    "    for mention in mentions:\n",
    "        matches = re.search(postcontext_pattern, mention)\n",
    "        if matches:\n",
    "            context += matches[1]\n",
    "    if context:\n",
    "        if verbose:\n",
    "            print(\"POSTCONTEXT PATTERN\")\n",
    "        return context\n",
    "\n",
    "  # if all else fails, extract the first few words both preceding and trailing mentions\n",
    "  # of name in the article. A less surgical extraction, but still an extraction.\n",
    "    for mention in mentions:\n",
    "        matches = re.search(catchall_pattern, mention)\n",
    "        if matches:\n",
    "            context += matches[1]\n",
    "            break\n",
    "    if context:\n",
    "        if verbose:\n",
    "            print(\"CATCHALL FOR \" + str(art_id) + \", \" + name)\n",
    "        return context\n",
    "\n",
    "  # if all else REALLY fails, run the whole function again with just the speaker's\n",
    "  # last name, since sometimes they are mentioned as \"Mr. last_name\" or \"Mrs. last_name\"\n",
    "    if len(name.split()) > 1:\n",
    "        return fancy_context(art_id, last_name)\n",
    "    else:\n",
    "        context = \"# NO CONTEXT FOUND #\"\n",
    "        if verbose:\n",
    "            print(\"NO PATTERN FOUND FOR \" + str(art_id) + \", \" + name)\n",
    "        return context"
   ]
  },
  {
   "cell_type": "code",
   "execution_count": 18,
   "metadata": {},
   "outputs": [],
   "source": [
    "def extract_indicators(context_str, indicator_patterns):\n",
    "    \"\"\"Inputs:\n",
    "     - context_str: str, the article content to extract indicator features from\n",
    "     - indicator_patterns: list, all the patterns to be turned into indicators\n",
    "     Outputs:\n",
    "     - array of indicators in the order of indicator_patterns, where a 1 indicates\n",
    "       that the corresponding pattern from indicator_patterns is present in \n",
    "       context_str\"\"\"\n",
    "\n",
    "    # initialize a vector of length len(indicator_patterns)\n",
    "    feat_vector = np.zeros(len(indicator_patterns))\n",
    "    # for each pattern in indicator_patterns:\n",
    "    i = 0\n",
    "    for pattern in indicator_patterns:\n",
    "        # search for the pattern in context_str\n",
    "        match = re.findall(pattern, context_str)\n",
    "        # if it's there, make that entry in the vector a 1\n",
    "        # otherwise, leave it a 0\n",
    "        if match:\n",
    "            feat_vector[i] = 1\n",
    "        i += 1\n",
    "    # return the vector, that's our feature data\n",
    "    return feat_vector"
   ]
  },
  {
   "cell_type": "code",
   "execution_count": 19,
   "metadata": {},
   "outputs": [],
   "source": [
    "# pulling a subset of current quote data to test a classifier on\n",
    "sample_df = df.sample(10000, random_state=22)"
   ]
  },
  {
   "cell_type": "code",
   "execution_count": 20,
   "metadata": {},
   "outputs": [],
   "source": [
    "# creating a column for feature information\n",
    "sample_df[\"speaker_context\"] = sample_df.apply(lambda row: fancy_context(row[\"Article ID\"], row['source_name_cleaned'], verbose=False),axis=1)"
   ]
  },
  {
   "cell_type": "markdown",
   "metadata": {},
   "source": [
    "## Filtering out \"# NO CONTEXT FOUND #\""
   ]
  },
  {
   "cell_type": "code",
   "execution_count": 21,
   "metadata": {},
   "outputs": [],
   "source": [
    "# Dropping columns where no context was found\n",
    "sample_df = sample_df[sample_df[\"speaker_context\"] != \"# NO CONTEXT FOUND #\"]"
   ]
  },
  {
   "cell_type": "code",
   "execution_count": 22,
   "metadata": {},
   "outputs": [],
   "source": [
    "# creating a column for label information\n",
    "sample_df[\"speaker_group\"] = sample_df.apply(lambda row: assign_source_to_group(row[\"Source Type\"]),axis=1)"
   ]
  },
  {
   "cell_type": "code",
   "execution_count": 23,
   "metadata": {},
   "outputs": [],
   "source": [
    "# creating a special indicator column to hopefully discern foreign government sources\n",
    "sample_df[\"has_foreign_title\"] = sample_df.apply(lambda row: has_foreign_title(row.speaker_context), axis = 1)"
   ]
  },
  {
   "cell_type": "code",
   "execution_count": 24,
   "metadata": {},
   "outputs": [],
   "source": [
    "# X is the matrix of indicators based on quote context\n",
    "X = []\n",
    "X_verbose = []\n",
    "for context_str in sample_df[\"speaker_context\"]:\n",
    "    X_verbose.append(context_str)\n",
    "    X.append(extract_indicators(context_str,indicator_patterns))\n",
    "    #X.append(extract_counts(context_str,indicator_pattern_set))\n",
    "X = np.array(X)\n",
    "foreign_title_indicators = np.array([np.array([ind]) for ind in sample_df[\"has_foreign_title\"]])\n",
    "X = np.hstack((X,foreign_title_indicators))\n",
    "\n",
    "# Y is the broader group of speakers to which the source of the quote belongs\n",
    "y = np.array(sample_df[\"speaker_group\"])"
   ]
  },
  {
   "cell_type": "code",
   "execution_count": 25,
   "metadata": {},
   "outputs": [],
   "source": [
    "from sklearn.model_selection import train_test_split"
   ]
  },
  {
   "cell_type": "code",
   "execution_count": 26,
   "metadata": {},
   "outputs": [],
   "source": [
    "# train-test split for trial logistic classification\n",
    "X_train, X_test, y_train, y_test = train_test_split(X, y, test_size=0.3, random_state=22)"
   ]
  },
  {
   "cell_type": "markdown",
   "metadata": {},
   "source": [
    "## Logistic Regression"
   ]
  },
  {
   "cell_type": "code",
   "execution_count": 27,
   "metadata": {},
   "outputs": [],
   "source": [
    "from sklearn.linear_model import LogisticRegression"
   ]
  },
  {
   "cell_type": "code",
   "execution_count": 28,
   "metadata": {},
   "outputs": [],
   "source": [
    "# fitting the trial logistic classifier\n",
    "log_clf = LogisticRegression(max_iter=3000).fit(X_train, y_train)"
   ]
  },
  {
   "cell_type": "code",
   "execution_count": 29,
   "metadata": {},
   "outputs": [
    {
     "data": {
      "text/plain": [
       "0.6619920891765552"
      ]
     },
     "execution_count": 29,
     "metadata": {},
     "output_type": "execute_result"
    }
   ],
   "source": [
    "# score for trial logistic classifier\n",
    "log_clf.score(X_test,y_test)"
   ]
  },
  {
   "cell_type": "markdown",
   "metadata": {},
   "source": [
    "## Random Forest Classifier"
   ]
  },
  {
   "cell_type": "code",
   "execution_count": 30,
   "metadata": {},
   "outputs": [],
   "source": [
    "from sklearn.ensemble import RandomForestClassifier\n",
    "from sklearn.datasets import make_classification"
   ]
  },
  {
   "cell_type": "code",
   "execution_count": 31,
   "metadata": {},
   "outputs": [],
   "source": [
    "# fitting the trial random forest classifier\n",
    "randforest_clf = RandomForestClassifier(max_depth=90, random_state=0, n_estimators=300).fit(X_train, y_train)"
   ]
  },
  {
   "cell_type": "code",
   "execution_count": 32,
   "metadata": {},
   "outputs": [
    {
     "data": {
      "text/plain": [
       "0.6616325062927004"
      ]
     },
     "execution_count": 32,
     "metadata": {},
     "output_type": "execute_result"
    }
   ],
   "source": [
    "# score for trial random forest classifier\n",
    "randforest_clf.score(X_test,y_test)"
   ]
  },
  {
   "cell_type": "code",
   "execution_count": 33,
   "metadata": {},
   "outputs": [],
   "source": [
    "# helper function that returns the random forest predicted category for a given context string\n",
    "# useful for error analysis!\n",
    "def forest_classify(context_str):\n",
    "    indicator_vector = np.concatenate((extract_speaker_indicators_binary(context_str, speaker_dict), np.array([has_foreign_title(context_str)])),axis=None)\n",
    "    return randforest_clf.predict([indicator_vector])\n",
    "\n",
    "forest_classify = np.vectorize(forest_classify)"
   ]
  },
  {
   "cell_type": "markdown",
   "metadata": {},
   "source": [
    "## Support Vector Machine"
   ]
  },
  {
   "cell_type": "code",
   "execution_count": 34,
   "metadata": {},
   "outputs": [],
   "source": [
    "from sklearn import svm\n",
    "from sklearn import metrics"
   ]
  },
  {
   "cell_type": "code",
   "execution_count": 35,
   "metadata": {},
   "outputs": [],
   "source": [
    "# fitting the trial SVM classifier\n",
    "svm_clf = svm.SVC(kernel='linear').fit(X_train, y_train)"
   ]
  },
  {
   "cell_type": "code",
   "execution_count": 36,
   "metadata": {},
   "outputs": [
    {
     "name": "stdout",
     "output_type": "stream",
     "text": [
      "0.6580366774541532\n"
     ]
    }
   ],
   "source": [
    "# score for trial SVM classifier\n",
    "y_pred = svm_clf.predict(X_test)\n",
    "print(metrics.accuracy_score(y_test, y_pred))"
   ]
  },
  {
   "cell_type": "markdown",
   "metadata": {},
   "source": [
    "## Error Analysis"
   ]
  },
  {
   "cell_type": "code",
   "execution_count": 37,
   "metadata": {},
   "outputs": [],
   "source": [
    "# creating a dataframe to compare out model's predictions to reality\n",
    "probs_vs_actual = pd.DataFrame(randforest_clf.predict_proba(X_test),columns=source_groups)\n",
    "probs_vs_actual[\"Actual\"] = np.array(y_test)\n",
    "probs_vs_actual[\"Prediction\"] = np.array(randforest_clf.predict(X_test))"
   ]
  },
  {
   "cell_type": "code",
   "execution_count": 38,
   "metadata": {},
   "outputs": [],
   "source": [
    "# ordering for a later plot\n",
    "ordering = {}\n",
    "i = 0\n",
    "for group in source_groups.keys():\n",
    "    ordering[group] = i\n",
    "    i += 1\n",
    "num_groups = len(ordering)"
   ]
  },
  {
   "cell_type": "code",
   "execution_count": 39,
   "metadata": {},
   "outputs": [],
   "source": [
    "# creating a count matrix of times when the model predicted a certain category for a given speaker\n",
    "count_matrix = {}\n",
    "for act_category in source_groups:\n",
    "    just_category = probs_vs_actual[probs_vs_actual[\"Actual\"]==act_category]\n",
    "    count_vector = np.zeros(num_groups)\n",
    "    for pred_category in source_groups:\n",
    "        count_vector[ordering[pred_category]] = len(just_category[just_category[\"Prediction\"] == pred_category])\n",
    "    count_matrix[act_category] = count_vector"
   ]
  },
  {
   "cell_type": "code",
   "execution_count": 40,
   "metadata": {},
   "outputs": [],
   "source": [
    "# turning this count matrix into a df we can plot with\n",
    "count_df = pd.DataFrame(count_matrix)\n",
    "count_df.reset_index(inplace=True)"
   ]
  },
  {
   "cell_type": "code",
   "execution_count": 41,
   "metadata": {},
   "outputs": [
    {
     "data": {
      "image/png": "[encoded data removed]",
      "text/plain": [
       "<Figure size 1440x1800 with 8 Axes>"
      ]
     },
     "metadata": {
      "needs_background": "light"
     },
     "output_type": "display_data"
    }
   ],
   "source": [
    "# plotting the results of the code above: a complete error analysis of where the model predicts\n",
    "# correctly and incorrectly\n",
    "fig = plt.figure(figsize=(20,25))\n",
    "fig.suptitle(\"Random Forest Classifier Predictions for Each Actual Speaker Category\",fontsize=23);\n",
    "i = 0\n",
    "for category in source_groups:\n",
    "    code = 331 + i\n",
    "    i += 1\n",
    "    ax = fig.add_subplot(code)\n",
    "    sns.barplot(x='index', y=category, data=count_df, palette=\"YlGnBu\")\n",
    "    plt.xlabel('');\n",
    "    ax.set_title(\"\\nActual Category: \" + category,fontsize=13);\n",
    "    ax.set_ylabel(\"Count\");\n",
    "    ax.set_xlabel(\"Predicted Category\");\n",
    "    ax.set_xticklabels(ordering.keys(),rotation=90);\n",
    "plt.tight_layout(rect=[0, 0.03, 1, 0.95]);"
   ]
  },
  {
   "cell_type": "code",
   "execution_count": null,
   "metadata": {},
   "outputs": [],
   "source": []
  }
 ],
 "metadata": {
  "kernelspec": {
   "display_name": "Python 3",
   "language": "python",
   "name": "python3"
  },
  "language_info": {
   "codemirror_mode": {
    "name": "ipython",
    "version": 3
   },
   "file_extension": ".py",
   "mimetype": "text/x-python",
   "name": "python",
   "nbconvert_exporter": "python",
   "pygments_lexer": "ipython3",
   "version": "3.7.6"
  }
 },
 "nbformat": 4,
 "nbformat_minor": 4
}
