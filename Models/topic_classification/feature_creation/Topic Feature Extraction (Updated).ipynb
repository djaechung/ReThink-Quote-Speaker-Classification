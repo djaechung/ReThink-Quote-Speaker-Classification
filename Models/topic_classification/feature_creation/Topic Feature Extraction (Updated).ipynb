{
 "cells": [
  {
   "cell_type": "code",
   "execution_count": 228,
   "id": "3e8c9b63",
   "metadata": {},
   "outputs": [],
   "source": [
    "import pandas as pd\n",
    "import warnings\n",
    "warnings.filterwarnings('ignore')\n",
    "import numpy as np"
   ]
  },
  {
   "cell_type": "code",
   "execution_count": 2,
   "id": "d07340da",
   "metadata": {},
   "outputs": [
    {
     "data": {
      "text/html": [
       "<div>\n",
       "<style scoped>\n",
       "    .dataframe tbody tr th:only-of-type {\n",
       "        vertical-align: middle;\n",
       "    }\n",
       "\n",
       "    .dataframe tbody tr th {\n",
       "        vertical-align: top;\n",
       "    }\n",
       "\n",
       "    .dataframe thead th {\n",
       "        text-align: right;\n",
       "    }\n",
       "</style>\n",
       "<table border=\"1\" class=\"dataframe\">\n",
       "  <thead>\n",
       "    <tr style=\"text-align: right;\">\n",
       "      <th></th>\n",
       "      <th>artdate</th>\n",
       "      <th>Article ID</th>\n",
       "      <th>Headline</th>\n",
       "      <th>Quote ID</th>\n",
       "      <th>Article Status</th>\n",
       "      <th>Article Position</th>\n",
       "      <th>Messages</th>\n",
       "      <th>Submessages</th>\n",
       "      <th>Quote Position</th>\n",
       "      <th>Legacy Quote Tag</th>\n",
       "      <th>...</th>\n",
       "      <th>Source Religion</th>\n",
       "      <th>Legacy Source Tag</th>\n",
       "      <th>Constituent Group</th>\n",
       "      <th>Media Name</th>\n",
       "      <th>Media Medium</th>\n",
       "      <th>Journalist Name</th>\n",
       "      <th>Constituent Author</th>\n",
       "      <th>Article Issues</th>\n",
       "      <th>Custom Group</th>\n",
       "      <th>Media Group</th>\n",
       "    </tr>\n",
       "  </thead>\n",
       "  <tbody>\n",
       "    <tr>\n",
       "      <th>0</th>\n",
       "      <td>2018-01-10</td>\n",
       "      <td>3759306</td>\n",
       "      <td>North Korea makes deals and threats</td>\n",
       "      <td>7023849</td>\n",
       "      <td>News</td>\n",
       "      <td>Neutral</td>\n",
       "      <td>OLD Proliferation</td>\n",
       "      <td>OLD State Level Nuclear Programs</td>\n",
       "      <td>Neutral</td>\n",
       "      <td>NaN</td>\n",
       "      <td>...</td>\n",
       "      <td>Unknown</td>\n",
       "      <td>Unknown</td>\n",
       "      <td>None (Legacy Other)</td>\n",
       "      <td>Washington Post</td>\n",
       "      <td>NaN</td>\n",
       "      <td>Fifield, Anna</td>\n",
       "      <td>NaN</td>\n",
       "      <td>NaN</td>\n",
       "      <td>NaN</td>\n",
       "      <td>NaN</td>\n",
       "    </tr>\n",
       "    <tr>\n",
       "      <th>1</th>\n",
       "      <td>2018-01-10</td>\n",
       "      <td>3759306</td>\n",
       "      <td>North Korea makes deals and threats</td>\n",
       "      <td>7023842</td>\n",
       "      <td>News</td>\n",
       "      <td>Neutral</td>\n",
       "      <td>OLD Proliferation</td>\n",
       "      <td>OLD State Level Nuclear Programs</td>\n",
       "      <td>Negative</td>\n",
       "      <td>NaN</td>\n",
       "      <td>...</td>\n",
       "      <td>Unknown</td>\n",
       "      <td>Unknown</td>\n",
       "      <td>None (Legacy Other)</td>\n",
       "      <td>Washington Post</td>\n",
       "      <td>NaN</td>\n",
       "      <td>Fifield, Anna</td>\n",
       "      <td>NaN</td>\n",
       "      <td>NaN</td>\n",
       "      <td>NaN</td>\n",
       "      <td>NaN</td>\n",
       "    </tr>\n",
       "    <tr>\n",
       "      <th>2</th>\n",
       "      <td>2018-01-10</td>\n",
       "      <td>3759306</td>\n",
       "      <td>North Korea makes deals and threats</td>\n",
       "      <td>7023839</td>\n",
       "      <td>News</td>\n",
       "      <td>Neutral</td>\n",
       "      <td>OLD Proliferation</td>\n",
       "      <td>OLD State Level Nuclear Programs</td>\n",
       "      <td>Negative</td>\n",
       "      <td>NaN</td>\n",
       "      <td>...</td>\n",
       "      <td>Unknown</td>\n",
       "      <td>Unknown</td>\n",
       "      <td>None (Legacy Other)</td>\n",
       "      <td>Washington Post</td>\n",
       "      <td>NaN</td>\n",
       "      <td>Fifield, Anna</td>\n",
       "      <td>NaN</td>\n",
       "      <td>NaN</td>\n",
       "      <td>NaN</td>\n",
       "      <td>NaN</td>\n",
       "    </tr>\n",
       "  </tbody>\n",
       "</table>\n",
       "<p>3 rows × 28 columns</p>\n",
       "</div>"
      ],
      "text/plain": [
       "      artdate  Article ID                             Headline  Quote ID  \\\n",
       "0  2018-01-10     3759306  North Korea makes deals and threats   7023849   \n",
       "1  2018-01-10     3759306  North Korea makes deals and threats   7023842   \n",
       "2  2018-01-10     3759306  North Korea makes deals and threats   7023839   \n",
       "\n",
       "  Article Status Article Position           Messages  \\\n",
       "0           News          Neutral  OLD Proliferation   \n",
       "1           News          Neutral  OLD Proliferation   \n",
       "2           News          Neutral  OLD Proliferation   \n",
       "\n",
       "                        Submessages Quote Position Legacy Quote Tag  ...  \\\n",
       "0  OLD State Level Nuclear Programs        Neutral              NaN  ...   \n",
       "1  OLD State Level Nuclear Programs       Negative              NaN  ...   \n",
       "2  OLD State Level Nuclear Programs       Negative              NaN  ...   \n",
       "\n",
       "  Source Religion Legacy Source Tag    Constituent Group       Media Name  \\\n",
       "0         Unknown           Unknown  None (Legacy Other)  Washington Post   \n",
       "1         Unknown           Unknown  None (Legacy Other)  Washington Post   \n",
       "2         Unknown           Unknown  None (Legacy Other)  Washington Post   \n",
       "\n",
       "  Media Medium Journalist Name Constituent Author Article Issues Custom Group  \\\n",
       "0          NaN   Fifield, Anna                NaN            NaN          NaN   \n",
       "1          NaN   Fifield, Anna                NaN            NaN          NaN   \n",
       "2          NaN   Fifield, Anna                NaN            NaN          NaN   \n",
       "\n",
       "  Media Group  \n",
       "0         NaN  \n",
       "1         NaN  \n",
       "2         NaN  \n",
       "\n",
       "[3 rows x 28 columns]"
      ]
     },
     "execution_count": 2,
     "metadata": {},
     "output_type": "execute_result"
    }
   ],
   "source": [
    "quote_text = pd.read_csv('GNI88.csv')\n",
    "quote_text.head(3)"
   ]
  },
  {
   "cell_type": "code",
   "execution_count": 3,
   "id": "341795c3",
   "metadata": {},
   "outputs": [
    {
     "data": {
      "text/plain": [
       "Index(['artdate', 'Article ID', 'Headline', 'Quote ID', 'Article Status',\n",
       "       'Article Position', 'Messages', 'Submessages', 'Quote Position',\n",
       "       'Legacy Quote Tag', 'On/Off Message', 'QText', 'Source Name',\n",
       "       'Source Type', 'Source Party Affiliation', 'Source Ethnicity',\n",
       "       'Source Nationality', 'Source Gender', 'Source Religion',\n",
       "       'Legacy Source Tag', 'Constituent Group', 'Media Name', 'Media Medium',\n",
       "       'Journalist Name', 'Constituent Author', 'Article Issues',\n",
       "       'Custom Group', 'Media Group'],\n",
       "      dtype='object')"
      ]
     },
     "execution_count": 3,
     "metadata": {},
     "output_type": "execute_result"
    }
   ],
   "source": [
    "quote_text.columns"
   ]
  },
  {
   "cell_type": "code",
   "execution_count": 4,
   "id": "f2c412a6",
   "metadata": {},
   "outputs": [
    {
     "data": {
      "text/plain": [
       "0                                   NaN\n",
       "1                                   NaN\n",
       "2                                   NaN\n",
       "3                                   NaN\n",
       "4                                   NaN\n",
       "                      ...              \n",
       "378700                              NaN\n",
       "378701    US Nuclear and Missile Policy\n",
       "378702    US Nuclear and Missile Policy\n",
       "378703    US Nuclear and Missile Policy\n",
       "378704                              NaN\n",
       "Name: Article Issues, Length: 378705, dtype: object"
      ]
     },
     "execution_count": 4,
     "metadata": {},
     "output_type": "execute_result"
    }
   ],
   "source": [
    "quote_text['Article Issues']"
   ]
  },
  {
   "cell_type": "code",
   "execution_count": 5,
   "id": "719b4c71",
   "metadata": {},
   "outputs": [
    {
     "data": {
      "text/html": [
       "<div>\n",
       "<style scoped>\n",
       "    .dataframe tbody tr th:only-of-type {\n",
       "        vertical-align: middle;\n",
       "    }\n",
       "\n",
       "    .dataframe tbody tr th {\n",
       "        vertical-align: top;\n",
       "    }\n",
       "\n",
       "    .dataframe thead th {\n",
       "        text-align: right;\n",
       "    }\n",
       "</style>\n",
       "<table border=\"1\" class=\"dataframe\">\n",
       "  <thead>\n",
       "    <tr style=\"text-align: right;\">\n",
       "      <th></th>\n",
       "      <th>Article ID</th>\n",
       "      <th>Headline</th>\n",
       "      <th>Content</th>\n",
       "      <th>Media Name</th>\n",
       "      <th>Author</th>\n",
       "      <th>Published Date</th>\n",
       "    </tr>\n",
       "  </thead>\n",
       "  <tbody>\n",
       "    <tr>\n",
       "      <th>0</th>\n",
       "      <td>3777409</td>\n",
       "      <td>Modernized Tu-160 to boost Russia's long-range...</td>\n",
       "      <td>Modernized Tu-160 to boost Russia's long-range...</td>\n",
       "      <td>Defense News</td>\n",
       "      <td>Bodner, Matthew</td>\n",
       "      <td>2018-02-15 00:00:00+00</td>\n",
       "    </tr>\n",
       "    <tr>\n",
       "      <th>1</th>\n",
       "      <td>3764250</td>\n",
       "      <td>Give Trump more nuclear weapons and more ways ...</td>\n",
       "      <td>Give Trump more nuclear weapons and more ways ...</td>\n",
       "      <td>CNN</td>\n",
       "      <td>Collina, Tom Z.</td>\n",
       "      <td>2018-02-02 00:00:00+00</td>\n",
       "    </tr>\n",
       "    <tr>\n",
       "      <th>2</th>\n",
       "      <td>3764251</td>\n",
       "      <td>Trump wants to build smaller atomic weapons; R...</td>\n",
       "      <td>Trump wants to build smaller atomic weapons; R...</td>\n",
       "      <td>Los Angeles Times</td>\n",
       "      <td>Cloud, David</td>\n",
       "      <td>2018-02-03 00:00:00+00</td>\n",
       "    </tr>\n",
       "    <tr>\n",
       "      <th>3</th>\n",
       "      <td>3764252</td>\n",
       "      <td>Egypt and Israel Secretly Allied In Sinai Battle</td>\n",
       "      <td>Egypt and Israel Secretly Allied In Sinai Batt...</td>\n",
       "      <td>The New York Times</td>\n",
       "      <td>Kirkpatrick, David D.</td>\n",
       "      <td>2018-02-04 00:00:00+00</td>\n",
       "    </tr>\n",
       "    <tr>\n",
       "      <th>4</th>\n",
       "      <td>3764253</td>\n",
       "      <td>Listen: Top Armed Services Dem worried about r...</td>\n",
       "      <td>Listen: Top Armed Services Dem worried about r...</td>\n",
       "      <td>The Hill</td>\n",
       "      <td>Simendinger, Alexis</td>\n",
       "      <td>2018-02-03 00:00:00+00</td>\n",
       "    </tr>\n",
       "  </tbody>\n",
       "</table>\n",
       "</div>"
      ],
      "text/plain": [
       "   Article ID                                           Headline  \\\n",
       "0     3777409  Modernized Tu-160 to boost Russia's long-range...   \n",
       "1     3764250  Give Trump more nuclear weapons and more ways ...   \n",
       "2     3764251  Trump wants to build smaller atomic weapons; R...   \n",
       "3     3764252   Egypt and Israel Secretly Allied In Sinai Battle   \n",
       "4     3764253  Listen: Top Armed Services Dem worried about r...   \n",
       "\n",
       "                                             Content          Media Name  \\\n",
       "0  Modernized Tu-160 to boost Russia's long-range...        Defense News   \n",
       "1  Give Trump more nuclear weapons and more ways ...                 CNN   \n",
       "2  Trump wants to build smaller atomic weapons; R...   Los Angeles Times   \n",
       "3  Egypt and Israel Secretly Allied In Sinai Batt...  The New York Times   \n",
       "4  Listen: Top Armed Services Dem worried about r...            The Hill   \n",
       "\n",
       "                  Author          Published Date  \n",
       "0        Bodner, Matthew  2018-02-15 00:00:00+00  \n",
       "1        Collina, Tom Z.  2018-02-02 00:00:00+00  \n",
       "2           Cloud, David  2018-02-03 00:00:00+00  \n",
       "3  Kirkpatrick, David D.  2018-02-04 00:00:00+00  \n",
       "4    Simendinger, Alexis  2018-02-03 00:00:00+00  "
      ]
     },
     "execution_count": 5,
     "metadata": {},
     "output_type": "execute_result"
    }
   ],
   "source": [
    "article_data = pd.read_json(\"gni88.json\", lines=True)\n",
    "article_data.head()"
   ]
  },
  {
   "cell_type": "code",
   "execution_count": 218,
   "id": "e615d322",
   "metadata": {},
   "outputs": [],
   "source": [
    "# Extract first 10% of article content\n",
    "article_data['First_10%_Content_Split'] = article_data['Content'].apply(lambda x: x.split()[:int(0.1*len(x))])"
   ]
  },
  {
   "cell_type": "code",
   "execution_count": 219,
   "id": "fdd6fafc",
   "metadata": {},
   "outputs": [],
   "source": [
    "from nltk.tokenize.treebank import TreebankWordDetokenizer\n",
    "article_data['First_10%_Content'] = article_data['First_10%_Content_Split'].apply(lambda x: TreebankWordDetokenizer().detokenize(x))"
   ]
  },
  {
   "cell_type": "code",
   "execution_count": 220,
   "id": "2ece6abc",
   "metadata": {},
   "outputs": [
    {
     "data": {
      "text/html": [
       "<div>\n",
       "<style scoped>\n",
       "    .dataframe tbody tr th:only-of-type {\n",
       "        vertical-align: middle;\n",
       "    }\n",
       "\n",
       "    .dataframe tbody tr th {\n",
       "        vertical-align: top;\n",
       "    }\n",
       "\n",
       "    .dataframe thead th {\n",
       "        text-align: right;\n",
       "    }\n",
       "</style>\n",
       "<table border=\"1\" class=\"dataframe\">\n",
       "  <thead>\n",
       "    <tr style=\"text-align: right;\">\n",
       "      <th></th>\n",
       "      <th>Article ID</th>\n",
       "      <th>Headline</th>\n",
       "      <th>Content</th>\n",
       "      <th>Media Name</th>\n",
       "      <th>Author</th>\n",
       "      <th>Published Date</th>\n",
       "      <th>First_10%_Content_Split</th>\n",
       "      <th>First_10%_Content</th>\n",
       "    </tr>\n",
       "  </thead>\n",
       "  <tbody>\n",
       "    <tr>\n",
       "      <th>0</th>\n",
       "      <td>3777409</td>\n",
       "      <td>Modernized Tu-160 to boost Russia's long-range...</td>\n",
       "      <td>Modernized Tu-160 to boost Russia's long-range...</td>\n",
       "      <td>Defense News</td>\n",
       "      <td>Bodner, Matthew</td>\n",
       "      <td>2018-02-15 00:00:00+00</td>\n",
       "      <td>[Modernized, Tu-160, to, boost, Russia's, long...</td>\n",
       "      <td>Modernized Tu-160 to boost Russia's long-range...</td>\n",
       "    </tr>\n",
       "    <tr>\n",
       "      <th>1</th>\n",
       "      <td>3764250</td>\n",
       "      <td>Give Trump more nuclear weapons and more ways ...</td>\n",
       "      <td>Give Trump more nuclear weapons and more ways ...</td>\n",
       "      <td>CNN</td>\n",
       "      <td>Collina, Tom Z.</td>\n",
       "      <td>2018-02-02 00:00:00+00</td>\n",
       "      <td>[Give, Trump, more, nuclear, weapons, and, mor...</td>\n",
       "      <td>Give Trump more nuclear weapons and more ways ...</td>\n",
       "    </tr>\n",
       "    <tr>\n",
       "      <th>2</th>\n",
       "      <td>3764251</td>\n",
       "      <td>Trump wants to build smaller atomic weapons; R...</td>\n",
       "      <td>Trump wants to build smaller atomic weapons; R...</td>\n",
       "      <td>Los Angeles Times</td>\n",
       "      <td>Cloud, David</td>\n",
       "      <td>2018-02-03 00:00:00+00</td>\n",
       "      <td>[Trump, wants, to, build, smaller, atomic, wea...</td>\n",
       "      <td>Trump wants to build smaller atomic weapons; R...</td>\n",
       "    </tr>\n",
       "    <tr>\n",
       "      <th>3</th>\n",
       "      <td>3764252</td>\n",
       "      <td>Egypt and Israel Secretly Allied In Sinai Battle</td>\n",
       "      <td>Egypt and Israel Secretly Allied In Sinai Batt...</td>\n",
       "      <td>The New York Times</td>\n",
       "      <td>Kirkpatrick, David D.</td>\n",
       "      <td>2018-02-04 00:00:00+00</td>\n",
       "      <td>[Egypt, and, Israel, Secretly, Allied, In, Sin...</td>\n",
       "      <td>Egypt and Israel Secretly Allied In Sinai Batt...</td>\n",
       "    </tr>\n",
       "    <tr>\n",
       "      <th>4</th>\n",
       "      <td>3764253</td>\n",
       "      <td>Listen: Top Armed Services Dem worried about r...</td>\n",
       "      <td>Listen: Top Armed Services Dem worried about r...</td>\n",
       "      <td>The Hill</td>\n",
       "      <td>Simendinger, Alexis</td>\n",
       "      <td>2018-02-03 00:00:00+00</td>\n",
       "      <td>[Listen:, Top, Armed, Services, Dem, worried, ...</td>\n",
       "      <td>Listen: Top Armed Services Dem worried about r...</td>\n",
       "    </tr>\n",
       "  </tbody>\n",
       "</table>\n",
       "</div>"
      ],
      "text/plain": [
       "   Article ID                                           Headline  \\\n",
       "0     3777409  Modernized Tu-160 to boost Russia's long-range...   \n",
       "1     3764250  Give Trump more nuclear weapons and more ways ...   \n",
       "2     3764251  Trump wants to build smaller atomic weapons; R...   \n",
       "3     3764252   Egypt and Israel Secretly Allied In Sinai Battle   \n",
       "4     3764253  Listen: Top Armed Services Dem worried about r...   \n",
       "\n",
       "                                             Content          Media Name  \\\n",
       "0  Modernized Tu-160 to boost Russia's long-range...        Defense News   \n",
       "1  Give Trump more nuclear weapons and more ways ...                 CNN   \n",
       "2  Trump wants to build smaller atomic weapons; R...   Los Angeles Times   \n",
       "3  Egypt and Israel Secretly Allied In Sinai Batt...  The New York Times   \n",
       "4  Listen: Top Armed Services Dem worried about r...            The Hill   \n",
       "\n",
       "                  Author          Published Date  \\\n",
       "0        Bodner, Matthew  2018-02-15 00:00:00+00   \n",
       "1        Collina, Tom Z.  2018-02-02 00:00:00+00   \n",
       "2           Cloud, David  2018-02-03 00:00:00+00   \n",
       "3  Kirkpatrick, David D.  2018-02-04 00:00:00+00   \n",
       "4    Simendinger, Alexis  2018-02-03 00:00:00+00   \n",
       "\n",
       "                             First_10%_Content_Split  \\\n",
       "0  [Modernized, Tu-160, to, boost, Russia's, long...   \n",
       "1  [Give, Trump, more, nuclear, weapons, and, mor...   \n",
       "2  [Trump, wants, to, build, smaller, atomic, wea...   \n",
       "3  [Egypt, and, Israel, Secretly, Allied, In, Sin...   \n",
       "4  [Listen:, Top, Armed, Services, Dem, worried, ...   \n",
       "\n",
       "                                   First_10%_Content  \n",
       "0  Modernized Tu-160 to boost Russia's long-range...  \n",
       "1  Give Trump more nuclear weapons and more ways ...  \n",
       "2  Trump wants to build smaller atomic weapons; R...  \n",
       "3  Egypt and Israel Secretly Allied In Sinai Batt...  \n",
       "4  Listen: Top Armed Services Dem worried about r...  "
      ]
     },
     "execution_count": 220,
     "metadata": {},
     "output_type": "execute_result"
    }
   ],
   "source": [
    "article_data.head()"
   ]
  },
  {
   "cell_type": "code",
   "execution_count": 221,
   "id": "7433218c",
   "metadata": {},
   "outputs": [],
   "source": [
    "merged_df = quote_text.merge(article_data[['Article ID', 'Content', 'Author', 'Published Date', 'First_10%_Content']], on = 'Article ID')"
   ]
  },
  {
   "cell_type": "code",
   "execution_count": 222,
   "id": "d12afcb7",
   "metadata": {},
   "outputs": [
    {
     "data": {
      "text/plain": [
       "Index(['artdate', 'Article ID', 'Headline', 'Quote ID', 'Article Status',\n",
       "       'Article Position', 'Messages', 'Submessages', 'Quote Position',\n",
       "       'Legacy Quote Tag', 'On/Off Message', 'QText', 'Source Name',\n",
       "       'Source Type', 'Source Party Affiliation', 'Source Ethnicity',\n",
       "       'Source Nationality', 'Source Gender', 'Source Religion',\n",
       "       'Legacy Source Tag', 'Constituent Group', 'Media Name', 'Media Medium',\n",
       "       'Journalist Name', 'Constituent Author', 'Article Issues',\n",
       "       'Custom Group', 'Media Group', 'Content', 'Author', 'Published Date',\n",
       "       'First_10%_Content'],\n",
       "      dtype='object')"
      ]
     },
     "execution_count": 222,
     "metadata": {},
     "output_type": "execute_result"
    }
   ],
   "source": [
    "merged_df.columns"
   ]
  },
  {
   "cell_type": "markdown",
   "id": "9095d6ad",
   "metadata": {},
   "source": [
    "# Updated: Regex Expression for getting 1st sentence"
   ]
  },
  {
   "cell_type": "markdown",
   "id": "21f8dbf3",
   "metadata": {},
   "source": [
    "Function that \n",
    " - Removes periods from acronyms\n",
    " - Finds all content before first ending punctuation"
   ]
  },
  {
   "cell_type": "code",
   "execution_count": 208,
   "id": "31c48869",
   "metadata": {},
   "outputs": [],
   "source": [
    "def first_sentence(string):\n",
    "    no_acronyms = re.sub(r'(?<!\\w)([A-Z])\\.', r'\\1', string)\n",
    "    pattern = r\"^([^.!?]+)\"\n",
    "    print(re.findall(pattern, no_acronyms))"
   ]
  },
  {
   "cell_type": "markdown",
   "id": "23849002",
   "metadata": {},
   "source": [
    "Add column 'firstSentence' to merged_df:"
   ]
  },
  {
   "cell_type": "code",
   "execution_count": 248,
   "id": "cddb7ba1",
   "metadata": {},
   "outputs": [],
   "source": [
    "def first_sentence2(string):\n",
    "    no_acronyms = re.sub(r'(?<!\\w)([A-Z])\\.', r'\\1', string)\n",
    "    pattern = r\"^([^.!?]+)\"\n",
    "    return re.findall(pattern, no_acronyms)"
   ]
  },
  {
   "cell_type": "code",
   "execution_count": 249,
   "id": "7ed6cef5",
   "metadata": {},
   "outputs": [],
   "source": [
    "merged_df['firstSentence'] = merged_df['Content'].apply(lambda x: first_sentence2(x))"
   ]
  },
  {
   "cell_type": "markdown",
   "id": "98c7a87b",
   "metadata": {},
   "source": [
    "# Proportion of Words Overlapped w Topic columns\n",
    "(Article Issues, Submessages, Messages)"
   ]
  },
  {
   "cell_type": "code",
   "execution_count": 226,
   "id": "b4a4d6c8",
   "metadata": {},
   "outputs": [],
   "source": [
    "def num_overlapped_words(col1, col2):\n",
    "    return [len(set(x).intersection(y)) for x, y in zip(merged_df[col1], merged_df[col2])]\n",
    "def prop_overlapped_words(col1, col2):\n",
    "    len_article_issues = merged_df['Article Issues Split'].apply(lambda x: len(x))\n",
    "    return num_overlapped_words(col1, col2) / len_article_issues"
   ]
  },
  {
   "cell_type": "markdown",
   "id": "e06abaef",
   "metadata": {},
   "source": [
    "ARTICLE ISSUES"
   ]
  },
  {
   "cell_type": "code",
   "execution_count": 227,
   "id": "ce47dcd1",
   "metadata": {},
   "outputs": [],
   "source": [
    "merged_df['Article Issues Split'] =  merged_df['Article Issues'].apply(lambda x: str(x).split())"
   ]
  },
  {
   "cell_type": "markdown",
   "id": "480ab753",
   "metadata": {},
   "source": [
    "Article Issues, 1st 10% Content"
   ]
  },
  {
   "cell_type": "code",
   "execution_count": 235,
   "id": "84818343",
   "metadata": {},
   "outputs": [],
   "source": [
    "merged_df['First_10%_Content Split'] =  merged_df['First_10%_Content'].apply(lambda x: str(x).split())"
   ]
  },
  {
   "cell_type": "code",
   "execution_count": 236,
   "id": "624d6361",
   "metadata": {},
   "outputs": [],
   "source": [
    "merged_df['Prop Overlapped (Article Issues, 10% Content)'] = prop_overlapped_words('Article Issues Split', 'First_10%_Content Split')\n"
   ]
  },
  {
   "cell_type": "code",
   "execution_count": 239,
   "id": "91e2a4d1",
   "metadata": {},
   "outputs": [
    {
     "data": {
      "text/plain": [
       "0.145556076911699"
      ]
     },
     "execution_count": 239,
     "metadata": {},
     "output_type": "execute_result"
    }
   ],
   "source": [
    "articleIssue_first10 = np.mean(merged_df['Prop Overlapped (Article Issues, 10% Content)'])\n",
    "articleIssue_first10"
   ]
  },
  {
   "cell_type": "markdown",
   "id": "680caf60",
   "metadata": {},
   "source": [
    "Article Issues, Headline"
   ]
  },
  {
   "cell_type": "code",
   "execution_count": 240,
   "id": "768fa547",
   "metadata": {},
   "outputs": [],
   "source": [
    "merged_df['Headline Split'] = merged_df['Headline'].apply(lambda x: str(x).split())"
   ]
  },
  {
   "cell_type": "code",
   "execution_count": 241,
   "id": "62b8dad3",
   "metadata": {},
   "outputs": [],
   "source": [
    "merged_df['Prop Overlapped (Article Issues, Headline)'] = prop_overlapped_words('Article Issues Split', 'Headline Split')\n"
   ]
  },
  {
   "cell_type": "code",
   "execution_count": 243,
   "id": "e04a318f",
   "metadata": {},
   "outputs": [
    {
     "data": {
      "text/plain": [
       "0.17699392975978925"
      ]
     },
     "execution_count": 243,
     "metadata": {},
     "output_type": "execute_result"
    }
   ],
   "source": [
    "articleIssue_headline = np.mean(merged_df['Prop Overlapped (Article Issues, Headline)'])\n",
    "articleIssue_headline"
   ]
  },
  {
   "cell_type": "markdown",
   "id": "f939b2c9",
   "metadata": {},
   "source": [
    "Article Issues, 1st sentence"
   ]
  },
  {
   "cell_type": "code",
   "execution_count": 251,
   "id": "e7fc28db",
   "metadata": {},
   "outputs": [],
   "source": [
    "merged_df['firstSentence Split'] = merged_df['firstSentence'].apply(lambda x: str(x).split())"
   ]
  },
  {
   "cell_type": "code",
   "execution_count": 252,
   "id": "68dcf9d5",
   "metadata": {},
   "outputs": [],
   "source": [
    "merged_df['Prop Overlapped (Article Issues, firstSentence)'] = prop_overlapped_words('Article Issues Split', 'firstSentence Split')\n"
   ]
  },
  {
   "cell_type": "code",
   "execution_count": 253,
   "id": "2ca7ec25",
   "metadata": {},
   "outputs": [
    {
     "data": {
      "text/plain": [
       "0.06866772277351096"
      ]
     },
     "execution_count": 253,
     "metadata": {},
     "output_type": "execute_result"
    }
   ],
   "source": [
    "articleIssue_firstSentence = np.mean(merged_df['Prop Overlapped (Article Issues, firstSentence)'])\n",
    "articleIssue_firstSentence"
   ]
  },
  {
   "cell_type": "markdown",
   "id": "a3bb6ecc",
   "metadata": {},
   "source": [
    "SUBMESSAGES"
   ]
  },
  {
   "cell_type": "code",
   "execution_count": 255,
   "id": "1e4c5223",
   "metadata": {},
   "outputs": [],
   "source": [
    "merged_df['Submessages Split'] =  merged_df['Submessages'].apply(lambda x: str(x).split())"
   ]
  },
  {
   "cell_type": "markdown",
   "id": "8e0d488e",
   "metadata": {},
   "source": [
    "Submessages, 1st 10% Content"
   ]
  },
  {
   "cell_type": "code",
   "execution_count": 256,
   "id": "25b6c66b",
   "metadata": {},
   "outputs": [],
   "source": [
    "merged_df['Prop Overlapped (Submessages, 10% Content)'] = prop_overlapped_words('Submessages Split', 'First_10%_Content Split')\n"
   ]
  },
  {
   "cell_type": "code",
   "execution_count": 257,
   "id": "d6a8f35d",
   "metadata": {},
   "outputs": [
    {
     "data": {
      "text/plain": [
       "0.4062894739542418"
      ]
     },
     "execution_count": 257,
     "metadata": {},
     "output_type": "execute_result"
    }
   ],
   "source": [
    "submessages_first10 = np.mean(merged_df['Prop Overlapped (Submessages, 10% Content)'])\n",
    "submessages_first10"
   ]
  },
  {
   "cell_type": "markdown",
   "id": "cdd411c2",
   "metadata": {},
   "source": [
    "Submessages, Headline"
   ]
  },
  {
   "cell_type": "code",
   "execution_count": 258,
   "id": "111eeaa8",
   "metadata": {},
   "outputs": [],
   "source": [
    "merged_df['Prop Overlapped (Submessages, Headline)'] = prop_overlapped_words('Submessages Split', 'Headline Split')\n"
   ]
  },
  {
   "cell_type": "code",
   "execution_count": 259,
   "id": "657fd9e8",
   "metadata": {},
   "outputs": [
    {
     "data": {
      "text/plain": [
       "0.08959050795144989"
      ]
     },
     "execution_count": 259,
     "metadata": {},
     "output_type": "execute_result"
    }
   ],
   "source": [
    "submessages_headline = np.mean(merged_df['Prop Overlapped (Submessages, Headline)'])\n",
    "submessages_headline"
   ]
  },
  {
   "cell_type": "markdown",
   "id": "cc326735",
   "metadata": {},
   "source": [
    "Submessages, 1st sentence"
   ]
  },
  {
   "cell_type": "code",
   "execution_count": 260,
   "id": "8dcd845b",
   "metadata": {},
   "outputs": [],
   "source": [
    "merged_df['Prop Overlapped (Submessages, firstSentence)'] = prop_overlapped_words('Submessages Split', 'firstSentence Split')\n"
   ]
  },
  {
   "cell_type": "code",
   "execution_count": 261,
   "id": "96cd0de4",
   "metadata": {},
   "outputs": [
    {
     "data": {
      "text/plain": [
       "0.12779171423790647"
      ]
     },
     "execution_count": 261,
     "metadata": {},
     "output_type": "execute_result"
    }
   ],
   "source": [
    "submessages_firstSentence = np.mean(merged_df['Prop Overlapped (Submessages, firstSentence)'])\n",
    "submessages_firstSentence"
   ]
  },
  {
   "cell_type": "markdown",
   "id": "65a4241d",
   "metadata": {},
   "source": [
    "MESSAGES"
   ]
  },
  {
   "cell_type": "code",
   "execution_count": 262,
   "id": "a1628b8a",
   "metadata": {},
   "outputs": [],
   "source": [
    "merged_df['Messages Split'] =  merged_df['Messages'].apply(lambda x: str(x).split())"
   ]
  },
  {
   "cell_type": "markdown",
   "id": "b30206bd",
   "metadata": {},
   "source": [
    "Messages, 1st 10% Content"
   ]
  },
  {
   "cell_type": "code",
   "execution_count": 263,
   "id": "b20bd5f9",
   "metadata": {},
   "outputs": [],
   "source": [
    "merged_df['Prop Overlapped (Messages, 10% Content)'] = prop_overlapped_words('Messages Split', 'First_10%_Content Split')\n"
   ]
  },
  {
   "cell_type": "code",
   "execution_count": 264,
   "id": "2e80639c",
   "metadata": {},
   "outputs": [
    {
     "data": {
      "text/plain": [
       "0.5287954174811248"
      ]
     },
     "execution_count": 264,
     "metadata": {},
     "output_type": "execute_result"
    }
   ],
   "source": [
    "messages_first10 = np.mean(merged_df['Prop Overlapped (Messages, 10% Content)'])\n",
    "messages_first10"
   ]
  },
  {
   "cell_type": "markdown",
   "id": "b68d0c44",
   "metadata": {},
   "source": [
    "Messages, Headline"
   ]
  },
  {
   "cell_type": "code",
   "execution_count": 265,
   "id": "41a7e6fc",
   "metadata": {},
   "outputs": [],
   "source": [
    "merged_df['Prop Overlapped (Messages, Headline)'] = prop_overlapped_words('Messages Split', 'Headline Split')\n"
   ]
  },
  {
   "cell_type": "code",
   "execution_count": 266,
   "id": "74bb93f2",
   "metadata": {},
   "outputs": [
    {
     "data": {
      "text/plain": [
       "0.27400673801936704"
      ]
     },
     "execution_count": 266,
     "metadata": {},
     "output_type": "execute_result"
    }
   ],
   "source": [
    "messages_headline = np.mean(merged_df['Prop Overlapped (Messages, Headline)'])\n",
    "messages_headline"
   ]
  },
  {
   "cell_type": "markdown",
   "id": "a02c2cc5",
   "metadata": {},
   "source": [
    "Messages, 1st sentence"
   ]
  },
  {
   "cell_type": "code",
   "execution_count": 267,
   "id": "bf0de036",
   "metadata": {},
   "outputs": [],
   "source": [
    "merged_df['Prop Overlapped (Messages, firstSentence)'] = prop_overlapped_words('Messages Split', 'firstSentence Split')\n"
   ]
  },
  {
   "cell_type": "code",
   "execution_count": 268,
   "id": "2d3b3fa2",
   "metadata": {},
   "outputs": [
    {
     "data": {
      "text/plain": [
       "0.2580156819379368"
      ]
     },
     "execution_count": 268,
     "metadata": {},
     "output_type": "execute_result"
    }
   ],
   "source": [
    "messages_firstSentence = np.mean(merged_df['Prop Overlapped (Messages, firstSentence)'])\n",
    "messages_firstSentence"
   ]
  },
  {
   "cell_type": "markdown",
   "id": "07817c44",
   "metadata": {},
   "source": [
    "# Table with final proportions \n",
    "\n",
    "- columns are the Topic columns [Article Issues, Submessages, Messages]\n",
    "- rows are [1st 10% Content, Headline, 1st sentence])"
   ]
  },
  {
   "cell_type": "code",
   "execution_count": 270,
   "id": "e0196b6c",
   "metadata": {},
   "outputs": [],
   "source": [
    "d = {'Article Isues' : [articleIssue_first10, articleIssue_firstSentence, articleIssue_headline],\n",
    "    'Submessages' : [submessages_first10, submessages_firstSentence, submessages_headline],\n",
    "    'Messages' : [messages_first10, messages_firstSentence, messages_headline]}\n",
    "topic_props = pd.DataFrame(data = d)"
   ]
  },
  {
   "cell_type": "code",
   "execution_count": 275,
   "id": "99397abd",
   "metadata": {},
   "outputs": [],
   "source": [
    "index = ['1st 10% Content', '1st sentence', 'Headline']\n",
    "topic_props.index = index"
   ]
  },
  {
   "cell_type": "code",
   "execution_count": 276,
   "id": "7453e65d",
   "metadata": {},
   "outputs": [
    {
     "data": {
      "text/html": [
       "<div>\n",
       "<style scoped>\n",
       "    .dataframe tbody tr th:only-of-type {\n",
       "        vertical-align: middle;\n",
       "    }\n",
       "\n",
       "    .dataframe tbody tr th {\n",
       "        vertical-align: top;\n",
       "    }\n",
       "\n",
       "    .dataframe thead th {\n",
       "        text-align: right;\n",
       "    }\n",
       "</style>\n",
       "<table border=\"1\" class=\"dataframe\">\n",
       "  <thead>\n",
       "    <tr style=\"text-align: right;\">\n",
       "      <th></th>\n",
       "      <th>Article Isues</th>\n",
       "      <th>Submessages</th>\n",
       "      <th>Messages</th>\n",
       "    </tr>\n",
       "  </thead>\n",
       "  <tbody>\n",
       "    <tr>\n",
       "      <th>1st 10% Content</th>\n",
       "      <td>0.145556</td>\n",
       "      <td>0.406289</td>\n",
       "      <td>0.528795</td>\n",
       "    </tr>\n",
       "    <tr>\n",
       "      <th>1st sentence</th>\n",
       "      <td>0.068668</td>\n",
       "      <td>0.127792</td>\n",
       "      <td>0.258016</td>\n",
       "    </tr>\n",
       "    <tr>\n",
       "      <th>Headline</th>\n",
       "      <td>0.176994</td>\n",
       "      <td>0.089591</td>\n",
       "      <td>0.274007</td>\n",
       "    </tr>\n",
       "  </tbody>\n",
       "</table>\n",
       "</div>"
      ],
      "text/plain": [
       "                 Article Isues  Submessages  Messages\n",
       "1st 10% Content       0.145556     0.406289  0.528795\n",
       "1st sentence          0.068668     0.127792  0.258016\n",
       "Headline              0.176994     0.089591  0.274007"
      ]
     },
     "execution_count": 276,
     "metadata": {},
     "output_type": "execute_result"
    }
   ],
   "source": [
    "topic_props"
   ]
  },
  {
   "cell_type": "code",
   "execution_count": 279,
   "id": "6687dc74",
   "metadata": {},
   "outputs": [],
   "source": [
    "topic_props['Avg Overlapped Prop'] = [np.mean(topic_props.iloc[i]) for i in np.arange(3)]"
   ]
  },
  {
   "cell_type": "code",
   "execution_count": 280,
   "id": "48ff6a24",
   "metadata": {},
   "outputs": [
    {
     "data": {
      "text/html": [
       "<div>\n",
       "<style scoped>\n",
       "    .dataframe tbody tr th:only-of-type {\n",
       "        vertical-align: middle;\n",
       "    }\n",
       "\n",
       "    .dataframe tbody tr th {\n",
       "        vertical-align: top;\n",
       "    }\n",
       "\n",
       "    .dataframe thead th {\n",
       "        text-align: right;\n",
       "    }\n",
       "</style>\n",
       "<table border=\"1\" class=\"dataframe\">\n",
       "  <thead>\n",
       "    <tr style=\"text-align: right;\">\n",
       "      <th></th>\n",
       "      <th>Article Isues</th>\n",
       "      <th>Submessages</th>\n",
       "      <th>Messages</th>\n",
       "      <th>Avg Overlapped Prop</th>\n",
       "    </tr>\n",
       "  </thead>\n",
       "  <tbody>\n",
       "    <tr>\n",
       "      <th>1st 10% Content</th>\n",
       "      <td>0.145556</td>\n",
       "      <td>0.406289</td>\n",
       "      <td>0.528795</td>\n",
       "      <td>0.360214</td>\n",
       "    </tr>\n",
       "    <tr>\n",
       "      <th>1st sentence</th>\n",
       "      <td>0.068668</td>\n",
       "      <td>0.127792</td>\n",
       "      <td>0.258016</td>\n",
       "      <td>0.151492</td>\n",
       "    </tr>\n",
       "    <tr>\n",
       "      <th>Headline</th>\n",
       "      <td>0.176994</td>\n",
       "      <td>0.089591</td>\n",
       "      <td>0.274007</td>\n",
       "      <td>0.180197</td>\n",
       "    </tr>\n",
       "  </tbody>\n",
       "</table>\n",
       "</div>"
      ],
      "text/plain": [
       "                 Article Isues  Submessages  Messages  Avg Overlapped Prop\n",
       "1st 10% Content       0.145556     0.406289  0.528795             0.360214\n",
       "1st sentence          0.068668     0.127792  0.258016             0.151492\n",
       "Headline              0.176994     0.089591  0.274007             0.180197"
      ]
     },
     "execution_count": 280,
     "metadata": {},
     "output_type": "execute_result"
    }
   ],
   "source": [
    "topic_props"
   ]
  },
  {
   "cell_type": "markdown",
   "id": "471bfa86",
   "metadata": {},
   "source": [
    "Findings: 1st 10% Content and Headline are better features than 1st sentence across the three topic columns."
   ]
  },
  {
   "cell_type": "markdown",
   "id": "cd4a2f00",
   "metadata": {},
   "source": [
    "# Updated: Remove Punc & Stopwords Function"
   ]
  },
  {
   "cell_type": "code",
   "execution_count": 315,
   "id": "e3cde5cb",
   "metadata": {},
   "outputs": [],
   "source": [
    "import nltk\n",
    "from nltk.corpus import stopwords\n",
    "from nltk.tokenize import word_tokenize\n",
    "\n",
    "# Tokenizer uses a regex pattern to return text as list of words with punctuation removed\n",
    "def remove_punc(df, col):\n",
    "    tokenizer = nltk.RegexpTokenizer(r\"\\w+\")\n",
    "    return df[col].apply(lambda x: tokenizer.tokenize(x))"
   ]
  },
  {
   "cell_type": "code",
   "execution_count": 316,
   "id": "a600c01f",
   "metadata": {},
   "outputs": [],
   "source": [
    "from collections import Counter\n",
    "\n",
    "stop_words = set(stopwords.words('english'))\n",
    "\n",
    "# Function to remove stopwords from a single string\n",
    "def remove_stopwords(text):\n",
    "    stopwords_dict = Counter(stop_words)\n",
    "    text = ' '.join([word for word in text.split() if word not in stopwords_dict])\n",
    "    return text\n",
    "\n",
    "# Function to remove stopwords from column of string values\n",
    "def remove_stopwords_column(df, col):\n",
    "    return df[col].apply(lambda x: remove_stopwords(x))"
   ]
  }
 ],
 "metadata": {
  "kernelspec": {
   "display_name": "Python 3 (ipykernel)",
   "language": "python",
   "name": "python3"
  },
  "language_info": {
   "codemirror_mode": {
    "name": "ipython",
    "version": 3
   },
   "file_extension": ".py",
   "mimetype": "text/x-python",
   "name": "python",
   "nbconvert_exporter": "python",
   "pygments_lexer": "ipython3",
   "version": "3.9.7"
  }
 },
 "nbformat": 4,
 "nbformat_minor": 5
}
