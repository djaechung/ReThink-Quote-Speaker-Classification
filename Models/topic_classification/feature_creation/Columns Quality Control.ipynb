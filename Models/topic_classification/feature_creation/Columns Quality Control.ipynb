{
 "cells": [
  {
   "cell_type": "code",
   "execution_count": 1,
   "id": "5574b938",
   "metadata": {},
   "outputs": [],
   "source": [
    "import pandas as pd\n",
    "import warnings\n",
    "warnings.filterwarnings('ignore')\n",
    "import numpy as np"
   ]
  },
  {
   "cell_type": "code",
   "execution_count": 2,
   "id": "fd12ad5a",
   "metadata": {},
   "outputs": [
    {
     "data": {
      "text/html": [
       "<div>\n",
       "<style scoped>\n",
       "    .dataframe tbody tr th:only-of-type {\n",
       "        vertical-align: middle;\n",
       "    }\n",
       "\n",
       "    .dataframe tbody tr th {\n",
       "        vertical-align: top;\n",
       "    }\n",
       "\n",
       "    .dataframe thead th {\n",
       "        text-align: right;\n",
       "    }\n",
       "</style>\n",
       "<table border=\"1\" class=\"dataframe\">\n",
       "  <thead>\n",
       "    <tr style=\"text-align: right;\">\n",
       "      <th></th>\n",
       "      <th>artdate</th>\n",
       "      <th>Article ID</th>\n",
       "      <th>Headline</th>\n",
       "      <th>Quote ID</th>\n",
       "      <th>Article Status</th>\n",
       "      <th>Article Position</th>\n",
       "      <th>Messages</th>\n",
       "      <th>Submessages</th>\n",
       "      <th>Quote Position</th>\n",
       "      <th>Legacy Quote Tag</th>\n",
       "      <th>...</th>\n",
       "      <th>Source Religion</th>\n",
       "      <th>Legacy Source Tag</th>\n",
       "      <th>Constituent Group</th>\n",
       "      <th>Media Name</th>\n",
       "      <th>Media Medium</th>\n",
       "      <th>Journalist Name</th>\n",
       "      <th>Constituent Author</th>\n",
       "      <th>Article Issues</th>\n",
       "      <th>Custom Group</th>\n",
       "      <th>Media Group</th>\n",
       "    </tr>\n",
       "  </thead>\n",
       "  <tbody>\n",
       "    <tr>\n",
       "      <th>0</th>\n",
       "      <td>2018-01-10</td>\n",
       "      <td>3759306</td>\n",
       "      <td>North Korea makes deals and threats</td>\n",
       "      <td>7023849</td>\n",
       "      <td>News</td>\n",
       "      <td>Neutral</td>\n",
       "      <td>OLD Proliferation</td>\n",
       "      <td>OLD State Level Nuclear Programs</td>\n",
       "      <td>Neutral</td>\n",
       "      <td>NaN</td>\n",
       "      <td>...</td>\n",
       "      <td>Unknown</td>\n",
       "      <td>Unknown</td>\n",
       "      <td>None (Legacy Other)</td>\n",
       "      <td>Washington Post</td>\n",
       "      <td>NaN</td>\n",
       "      <td>Fifield, Anna</td>\n",
       "      <td>NaN</td>\n",
       "      <td>NaN</td>\n",
       "      <td>NaN</td>\n",
       "      <td>NaN</td>\n",
       "    </tr>\n",
       "    <tr>\n",
       "      <th>1</th>\n",
       "      <td>2018-01-10</td>\n",
       "      <td>3759306</td>\n",
       "      <td>North Korea makes deals and threats</td>\n",
       "      <td>7023842</td>\n",
       "      <td>News</td>\n",
       "      <td>Neutral</td>\n",
       "      <td>OLD Proliferation</td>\n",
       "      <td>OLD State Level Nuclear Programs</td>\n",
       "      <td>Negative</td>\n",
       "      <td>NaN</td>\n",
       "      <td>...</td>\n",
       "      <td>Unknown</td>\n",
       "      <td>Unknown</td>\n",
       "      <td>None (Legacy Other)</td>\n",
       "      <td>Washington Post</td>\n",
       "      <td>NaN</td>\n",
       "      <td>Fifield, Anna</td>\n",
       "      <td>NaN</td>\n",
       "      <td>NaN</td>\n",
       "      <td>NaN</td>\n",
       "      <td>NaN</td>\n",
       "    </tr>\n",
       "    <tr>\n",
       "      <th>2</th>\n",
       "      <td>2018-01-10</td>\n",
       "      <td>3759306</td>\n",
       "      <td>North Korea makes deals and threats</td>\n",
       "      <td>7023839</td>\n",
       "      <td>News</td>\n",
       "      <td>Neutral</td>\n",
       "      <td>OLD Proliferation</td>\n",
       "      <td>OLD State Level Nuclear Programs</td>\n",
       "      <td>Negative</td>\n",
       "      <td>NaN</td>\n",
       "      <td>...</td>\n",
       "      <td>Unknown</td>\n",
       "      <td>Unknown</td>\n",
       "      <td>None (Legacy Other)</td>\n",
       "      <td>Washington Post</td>\n",
       "      <td>NaN</td>\n",
       "      <td>Fifield, Anna</td>\n",
       "      <td>NaN</td>\n",
       "      <td>NaN</td>\n",
       "      <td>NaN</td>\n",
       "      <td>NaN</td>\n",
       "    </tr>\n",
       "  </tbody>\n",
       "</table>\n",
       "<p>3 rows × 28 columns</p>\n",
       "</div>"
      ],
      "text/plain": [
       "      artdate  Article ID                             Headline  Quote ID  \\\n",
       "0  2018-01-10     3759306  North Korea makes deals and threats   7023849   \n",
       "1  2018-01-10     3759306  North Korea makes deals and threats   7023842   \n",
       "2  2018-01-10     3759306  North Korea makes deals and threats   7023839   \n",
       "\n",
       "  Article Status Article Position           Messages  \\\n",
       "0           News          Neutral  OLD Proliferation   \n",
       "1           News          Neutral  OLD Proliferation   \n",
       "2           News          Neutral  OLD Proliferation   \n",
       "\n",
       "                        Submessages Quote Position Legacy Quote Tag  ...  \\\n",
       "0  OLD State Level Nuclear Programs        Neutral              NaN  ...   \n",
       "1  OLD State Level Nuclear Programs       Negative              NaN  ...   \n",
       "2  OLD State Level Nuclear Programs       Negative              NaN  ...   \n",
       "\n",
       "  Source Religion Legacy Source Tag    Constituent Group       Media Name  \\\n",
       "0         Unknown           Unknown  None (Legacy Other)  Washington Post   \n",
       "1         Unknown           Unknown  None (Legacy Other)  Washington Post   \n",
       "2         Unknown           Unknown  None (Legacy Other)  Washington Post   \n",
       "\n",
       "  Media Medium Journalist Name Constituent Author Article Issues Custom Group  \\\n",
       "0          NaN   Fifield, Anna                NaN            NaN          NaN   \n",
       "1          NaN   Fifield, Anna                NaN            NaN          NaN   \n",
       "2          NaN   Fifield, Anna                NaN            NaN          NaN   \n",
       "\n",
       "  Media Group  \n",
       "0         NaN  \n",
       "1         NaN  \n",
       "2         NaN  \n",
       "\n",
       "[3 rows x 28 columns]"
      ]
     },
     "execution_count": 2,
     "metadata": {},
     "output_type": "execute_result"
    }
   ],
   "source": [
    "quote_text = pd.read_csv('GNI88.csv')\n",
    "quote_text.head(3)"
   ]
  },
  {
   "cell_type": "code",
   "execution_count": 3,
   "id": "9652fc83",
   "metadata": {},
   "outputs": [
    {
     "data": {
      "text/plain": [
       "Index(['artdate', 'Article ID', 'Headline', 'Quote ID', 'Article Status',\n",
       "       'Article Position', 'Messages', 'Submessages', 'Quote Position',\n",
       "       'Legacy Quote Tag', 'On/Off Message', 'QText', 'Source Name',\n",
       "       'Source Type', 'Source Party Affiliation', 'Source Ethnicity',\n",
       "       'Source Nationality', 'Source Gender', 'Source Religion',\n",
       "       'Legacy Source Tag', 'Constituent Group', 'Media Name', 'Media Medium',\n",
       "       'Journalist Name', 'Constituent Author', 'Article Issues',\n",
       "       'Custom Group', 'Media Group'],\n",
       "      dtype='object')"
      ]
     },
     "execution_count": 3,
     "metadata": {},
     "output_type": "execute_result"
    }
   ],
   "source": [
    "quote_text.columns"
   ]
  },
  {
   "cell_type": "code",
   "execution_count": 4,
   "id": "0880a9e0",
   "metadata": {},
   "outputs": [
    {
     "data": {
      "text/html": [
       "<div>\n",
       "<style scoped>\n",
       "    .dataframe tbody tr th:only-of-type {\n",
       "        vertical-align: middle;\n",
       "    }\n",
       "\n",
       "    .dataframe tbody tr th {\n",
       "        vertical-align: top;\n",
       "    }\n",
       "\n",
       "    .dataframe thead th {\n",
       "        text-align: right;\n",
       "    }\n",
       "</style>\n",
       "<table border=\"1\" class=\"dataframe\">\n",
       "  <thead>\n",
       "    <tr style=\"text-align: right;\">\n",
       "      <th></th>\n",
       "      <th>Article ID</th>\n",
       "      <th>Headline</th>\n",
       "      <th>Content</th>\n",
       "      <th>Media Name</th>\n",
       "      <th>Author</th>\n",
       "      <th>Published Date</th>\n",
       "    </tr>\n",
       "  </thead>\n",
       "  <tbody>\n",
       "    <tr>\n",
       "      <th>0</th>\n",
       "      <td>3777409</td>\n",
       "      <td>Modernized Tu-160 to boost Russia's long-range...</td>\n",
       "      <td>Modernized Tu-160 to boost Russia's long-range...</td>\n",
       "      <td>Defense News</td>\n",
       "      <td>Bodner, Matthew</td>\n",
       "      <td>2018-02-15 00:00:00+00</td>\n",
       "    </tr>\n",
       "    <tr>\n",
       "      <th>1</th>\n",
       "      <td>3764250</td>\n",
       "      <td>Give Trump more nuclear weapons and more ways ...</td>\n",
       "      <td>Give Trump more nuclear weapons and more ways ...</td>\n",
       "      <td>CNN</td>\n",
       "      <td>Collina, Tom Z.</td>\n",
       "      <td>2018-02-02 00:00:00+00</td>\n",
       "    </tr>\n",
       "    <tr>\n",
       "      <th>2</th>\n",
       "      <td>3764251</td>\n",
       "      <td>Trump wants to build smaller atomic weapons; R...</td>\n",
       "      <td>Trump wants to build smaller atomic weapons; R...</td>\n",
       "      <td>Los Angeles Times</td>\n",
       "      <td>Cloud, David</td>\n",
       "      <td>2018-02-03 00:00:00+00</td>\n",
       "    </tr>\n",
       "    <tr>\n",
       "      <th>3</th>\n",
       "      <td>3764252</td>\n",
       "      <td>Egypt and Israel Secretly Allied In Sinai Battle</td>\n",
       "      <td>Egypt and Israel Secretly Allied In Sinai Batt...</td>\n",
       "      <td>The New York Times</td>\n",
       "      <td>Kirkpatrick, David D.</td>\n",
       "      <td>2018-02-04 00:00:00+00</td>\n",
       "    </tr>\n",
       "    <tr>\n",
       "      <th>4</th>\n",
       "      <td>3764253</td>\n",
       "      <td>Listen: Top Armed Services Dem worried about r...</td>\n",
       "      <td>Listen: Top Armed Services Dem worried about r...</td>\n",
       "      <td>The Hill</td>\n",
       "      <td>Simendinger, Alexis</td>\n",
       "      <td>2018-02-03 00:00:00+00</td>\n",
       "    </tr>\n",
       "  </tbody>\n",
       "</table>\n",
       "</div>"
      ],
      "text/plain": [
       "   Article ID                                           Headline  \\\n",
       "0     3777409  Modernized Tu-160 to boost Russia's long-range...   \n",
       "1     3764250  Give Trump more nuclear weapons and more ways ...   \n",
       "2     3764251  Trump wants to build smaller atomic weapons; R...   \n",
       "3     3764252   Egypt and Israel Secretly Allied In Sinai Battle   \n",
       "4     3764253  Listen: Top Armed Services Dem worried about r...   \n",
       "\n",
       "                                             Content          Media Name  \\\n",
       "0  Modernized Tu-160 to boost Russia's long-range...        Defense News   \n",
       "1  Give Trump more nuclear weapons and more ways ...                 CNN   \n",
       "2  Trump wants to build smaller atomic weapons; R...   Los Angeles Times   \n",
       "3  Egypt and Israel Secretly Allied In Sinai Batt...  The New York Times   \n",
       "4  Listen: Top Armed Services Dem worried about r...            The Hill   \n",
       "\n",
       "                  Author          Published Date  \n",
       "0        Bodner, Matthew  2018-02-15 00:00:00+00  \n",
       "1        Collina, Tom Z.  2018-02-02 00:00:00+00  \n",
       "2           Cloud, David  2018-02-03 00:00:00+00  \n",
       "3  Kirkpatrick, David D.  2018-02-04 00:00:00+00  \n",
       "4    Simendinger, Alexis  2018-02-03 00:00:00+00  "
      ]
     },
     "execution_count": 4,
     "metadata": {},
     "output_type": "execute_result"
    }
   ],
   "source": [
    "article_data = pd.read_json(\"gni88.json\", lines=True)\n",
    "article_data.head()"
   ]
  },
  {
   "cell_type": "markdown",
   "id": "fb228688",
   "metadata": {},
   "source": [
    "# remove irrelevant text from articles (prev code)"
   ]
  },
  {
   "cell_type": "code",
   "execution_count": 13,
   "id": "e54c2ac4",
   "metadata": {},
   "outputs": [],
   "source": [
    "#Patterns at start of article\n",
    "allarticle_header_regex = \"Media: .*\\nAuthor: (?:.*\\n){1,10}Date: .*\\n\\n\"\n",
    "\n",
    "politico_share_regex = '.*\\n{1,20}Follow Us\\n'\n",
    "politico_date_regex = '^.*\\nBy.*\\n\\d\\d/\\d\\d/\\d\\d\\d\\d \\d\\d:\\d\\d (?:AM|PM) EDT'\n",
    "\n",
    "#Patterns at end of article\n",
    "dow_regex = 'License this article from Dow Jones Reprint Service'\n",
    "\n",
    "#Patterns in article\n",
    "#search for line with only all caps and punctuation\n",
    "fox_bold_regex = \"\\n[A-Z ',.-]+\\n\""
   ]
  },
  {
   "cell_type": "code",
   "execution_count": 14,
   "id": "52f83006",
   "metadata": {},
   "outputs": [],
   "source": [
    "def regex_trim(rx_list,column, df=article_data, replace_value=\"\"):\n",
    "    '''Takes a list of regex patterns, and joins the patterns with an OR (|) separator. \n",
    "    Searches the specified column/df for the pattern and replaces it with value specified (default value-nothing)'''\n",
    "    df[column] = df[column].replace(to_replace=\"|\".join(rx_list), value=replace_value, regex=True)\n",
    "    return df"
   ]
  },
  {
   "cell_type": "code",
   "execution_count": 15,
   "id": "5e18f0b2",
   "metadata": {},
   "outputs": [],
   "source": [
    "remove_patterns = [allarticle_header_regex, fox_bold_regex, \n",
    "                   dow_regex, \n",
    "                   politico_date_regex]\n",
    "\n",
    "df = regex_trim(remove_patterns, \"Content\")"
   ]
  },
  {
   "cell_type": "code",
   "execution_count": 16,
   "id": "0d12198c",
   "metadata": {},
   "outputs": [
    {
     "data": {
      "text/html": [
       "<div>\n",
       "<style scoped>\n",
       "    .dataframe tbody tr th:only-of-type {\n",
       "        vertical-align: middle;\n",
       "    }\n",
       "\n",
       "    .dataframe tbody tr th {\n",
       "        vertical-align: top;\n",
       "    }\n",
       "\n",
       "    .dataframe thead th {\n",
       "        text-align: right;\n",
       "    }\n",
       "</style>\n",
       "<table border=\"1\" class=\"dataframe\">\n",
       "  <thead>\n",
       "    <tr style=\"text-align: right;\">\n",
       "      <th></th>\n",
       "      <th>Article ID</th>\n",
       "      <th>Headline</th>\n",
       "      <th>Content</th>\n",
       "      <th>Media Name</th>\n",
       "      <th>Author</th>\n",
       "      <th>Published Date</th>\n",
       "      <th>First_10%_Content_Split</th>\n",
       "    </tr>\n",
       "  </thead>\n",
       "  <tbody>\n",
       "    <tr>\n",
       "      <th>0</th>\n",
       "      <td>3777409</td>\n",
       "      <td>Modernized Tu-160 to boost Russia's long-range...</td>\n",
       "      <td>Modernized Tu-160 to boost Russia's long-range...</td>\n",
       "      <td>Defense News</td>\n",
       "      <td>Bodner, Matthew</td>\n",
       "      <td>2018-02-15 00:00:00+00</td>\n",
       "      <td>[Modernized, Tu-160, to, boost, Russia's, long...</td>\n",
       "    </tr>\n",
       "    <tr>\n",
       "      <th>1</th>\n",
       "      <td>3764250</td>\n",
       "      <td>Give Trump more nuclear weapons and more ways ...</td>\n",
       "      <td>Give Trump more nuclear weapons and more ways ...</td>\n",
       "      <td>CNN</td>\n",
       "      <td>Collina, Tom Z.</td>\n",
       "      <td>2018-02-02 00:00:00+00</td>\n",
       "      <td>[Give, Trump, more, nuclear, weapons, and, mor...</td>\n",
       "    </tr>\n",
       "    <tr>\n",
       "      <th>2</th>\n",
       "      <td>3764251</td>\n",
       "      <td>Trump wants to build smaller atomic weapons; R...</td>\n",
       "      <td>Trump wants to build smaller atomic weapons; R...</td>\n",
       "      <td>Los Angeles Times</td>\n",
       "      <td>Cloud, David</td>\n",
       "      <td>2018-02-03 00:00:00+00</td>\n",
       "      <td>[Trump, wants, to, build, smaller, atomic, wea...</td>\n",
       "    </tr>\n",
       "    <tr>\n",
       "      <th>3</th>\n",
       "      <td>3764252</td>\n",
       "      <td>Egypt and Israel Secretly Allied In Sinai Battle</td>\n",
       "      <td>Egypt and Israel Secretly Allied In Sinai Batt...</td>\n",
       "      <td>The New York Times</td>\n",
       "      <td>Kirkpatrick, David D.</td>\n",
       "      <td>2018-02-04 00:00:00+00</td>\n",
       "      <td>[Egypt, and, Israel, Secretly, Allied, In, Sin...</td>\n",
       "    </tr>\n",
       "    <tr>\n",
       "      <th>4</th>\n",
       "      <td>3764253</td>\n",
       "      <td>Listen: Top Armed Services Dem worried about r...</td>\n",
       "      <td>Listen: Top Armed Services Dem worried about r...</td>\n",
       "      <td>The Hill</td>\n",
       "      <td>Simendinger, Alexis</td>\n",
       "      <td>2018-02-03 00:00:00+00</td>\n",
       "      <td>[Listen:, Top, Armed, Services, Dem, worried, ...</td>\n",
       "    </tr>\n",
       "    <tr>\n",
       "      <th>...</th>\n",
       "      <td>...</td>\n",
       "      <td>...</td>\n",
       "      <td>...</td>\n",
       "      <td>...</td>\n",
       "      <td>...</td>\n",
       "      <td>...</td>\n",
       "      <td>...</td>\n",
       "    </tr>\n",
       "    <tr>\n",
       "      <th>69990</th>\n",
       "      <td>3783411</td>\n",
       "      <td>The Pyongyang Olympics</td>\n",
       "      <td>The Pyongyang Olympics\\r\\n\\r\\nMedia: The Wall ...</td>\n",
       "      <td>The Wall Street Journal</td>\n",
       "      <td>No By-Line,</td>\n",
       "      <td>2018-02-12 00:00:00+00</td>\n",
       "      <td>[The, Pyongyang, Olympics, Media:, The, Wall, ...</td>\n",
       "    </tr>\n",
       "    <tr>\n",
       "      <th>69991</th>\n",
       "      <td>3783412</td>\n",
       "      <td>US Air Force requests $156.3 billion in FY19, ...</td>\n",
       "      <td>US Air Force requests $156.3 billion in FY19, ...</td>\n",
       "      <td>Defense News</td>\n",
       "      <td>Mehta, Aaron</td>\n",
       "      <td>2018-02-12 00:00:00+00</td>\n",
       "      <td>[US, Air, Force, requests, $156.3, billion, in...</td>\n",
       "    </tr>\n",
       "    <tr>\n",
       "      <th>69992</th>\n",
       "      <td>3783413</td>\n",
       "      <td>Mike Pence says the US is ready to negotiate w...</td>\n",
       "      <td>Mike Pence says the US is ready to negotiate w...</td>\n",
       "      <td>Vox</td>\n",
       "      <td>Ward, Alex</td>\n",
       "      <td>2018-02-12 00:00:00+00</td>\n",
       "      <td>[Mike, Pence, says, the, US, is, ready, to, ne...</td>\n",
       "    </tr>\n",
       "    <tr>\n",
       "      <th>69993</th>\n",
       "      <td>3783414</td>\n",
       "      <td>Chinese Sub Commanders May Get</td>\n",
       "      <td>Chinese Sub Commanders May Get\\r\\n\\r\\nMedia: D...</td>\n",
       "      <td>Defense One</td>\n",
       "      <td>Kania, Elsa</td>\n",
       "      <td>2018-02-12 00:00:00+00</td>\n",
       "      <td>[Chinese, Sub, Commanders, May, Get, Media:, D...</td>\n",
       "    </tr>\n",
       "    <tr>\n",
       "      <th>69994</th>\n",
       "      <td>3783415</td>\n",
       "      <td>Trump Proposes 10% Bump for the Pentagon - the...</td>\n",
       "      <td>Trump Proposes 10% Bump for the Pentagon - the...</td>\n",
       "      <td>Defense One</td>\n",
       "      <td>Houck, Caroline</td>\n",
       "      <td>2018-02-12 00:00:00+00</td>\n",
       "      <td>[Trump, Proposes, 10%, Bump, for, the, Pentago...</td>\n",
       "    </tr>\n",
       "  </tbody>\n",
       "</table>\n",
       "<p>69995 rows × 7 columns</p>\n",
       "</div>"
      ],
      "text/plain": [
       "       Article ID                                           Headline  \\\n",
       "0         3777409  Modernized Tu-160 to boost Russia's long-range...   \n",
       "1         3764250  Give Trump more nuclear weapons and more ways ...   \n",
       "2         3764251  Trump wants to build smaller atomic weapons; R...   \n",
       "3         3764252   Egypt and Israel Secretly Allied In Sinai Battle   \n",
       "4         3764253  Listen: Top Armed Services Dem worried about r...   \n",
       "...           ...                                                ...   \n",
       "69990     3783411                             The Pyongyang Olympics   \n",
       "69991     3783412  US Air Force requests $156.3 billion in FY19, ...   \n",
       "69992     3783413  Mike Pence says the US is ready to negotiate w...   \n",
       "69993     3783414                     Chinese Sub Commanders May Get   \n",
       "69994     3783415  Trump Proposes 10% Bump for the Pentagon - the...   \n",
       "\n",
       "                                                 Content  \\\n",
       "0      Modernized Tu-160 to boost Russia's long-range...   \n",
       "1      Give Trump more nuclear weapons and more ways ...   \n",
       "2      Trump wants to build smaller atomic weapons; R...   \n",
       "3      Egypt and Israel Secretly Allied In Sinai Batt...   \n",
       "4      Listen: Top Armed Services Dem worried about r...   \n",
       "...                                                  ...   \n",
       "69990  The Pyongyang Olympics\\r\\n\\r\\nMedia: The Wall ...   \n",
       "69991  US Air Force requests $156.3 billion in FY19, ...   \n",
       "69992  Mike Pence says the US is ready to negotiate w...   \n",
       "69993  Chinese Sub Commanders May Get\\r\\n\\r\\nMedia: D...   \n",
       "69994  Trump Proposes 10% Bump for the Pentagon - the...   \n",
       "\n",
       "                    Media Name                 Author          Published Date  \\\n",
       "0                 Defense News        Bodner, Matthew  2018-02-15 00:00:00+00   \n",
       "1                          CNN        Collina, Tom Z.  2018-02-02 00:00:00+00   \n",
       "2            Los Angeles Times           Cloud, David  2018-02-03 00:00:00+00   \n",
       "3           The New York Times  Kirkpatrick, David D.  2018-02-04 00:00:00+00   \n",
       "4                     The Hill    Simendinger, Alexis  2018-02-03 00:00:00+00   \n",
       "...                        ...                    ...                     ...   \n",
       "69990  The Wall Street Journal           No By-Line,   2018-02-12 00:00:00+00   \n",
       "69991             Defense News           Mehta, Aaron  2018-02-12 00:00:00+00   \n",
       "69992                      Vox             Ward, Alex  2018-02-12 00:00:00+00   \n",
       "69993              Defense One            Kania, Elsa  2018-02-12 00:00:00+00   \n",
       "69994              Defense One        Houck, Caroline  2018-02-12 00:00:00+00   \n",
       "\n",
       "                                 First_10%_Content_Split  \n",
       "0      [Modernized, Tu-160, to, boost, Russia's, long...  \n",
       "1      [Give, Trump, more, nuclear, weapons, and, mor...  \n",
       "2      [Trump, wants, to, build, smaller, atomic, wea...  \n",
       "3      [Egypt, and, Israel, Secretly, Allied, In, Sin...  \n",
       "4      [Listen:, Top, Armed, Services, Dem, worried, ...  \n",
       "...                                                  ...  \n",
       "69990  [The, Pyongyang, Olympics, Media:, The, Wall, ...  \n",
       "69991  [US, Air, Force, requests, $156.3, billion, in...  \n",
       "69992  [Mike, Pence, says, the, US, is, ready, to, ne...  \n",
       "69993  [Chinese, Sub, Commanders, May, Get, Media:, D...  \n",
       "69994  [Trump, Proposes, 10%, Bump, for, the, Pentago...  \n",
       "\n",
       "[69995 rows x 7 columns]"
      ]
     },
     "execution_count": 16,
     "metadata": {},
     "output_type": "execute_result"
    }
   ],
   "source": [
    "df"
   ]
  },
  {
   "cell_type": "code",
   "execution_count": 17,
   "id": "41276e78",
   "metadata": {},
   "outputs": [],
   "source": [
    "article_data = df"
   ]
  },
  {
   "cell_type": "markdown",
   "id": "e3682869",
   "metadata": {},
   "source": [
    "# Extract first 10% of article content"
   ]
  },
  {
   "cell_type": "code",
   "execution_count": 18,
   "id": "4e25ae2f",
   "metadata": {},
   "outputs": [],
   "source": [
    "article_data['First_10%_Content_Split'] = article_data['Content'].apply(lambda x: x.split()[:int(0.1*len(x))])"
   ]
  },
  {
   "cell_type": "code",
   "execution_count": 19,
   "id": "7d3aaa08",
   "metadata": {},
   "outputs": [],
   "source": [
    "from nltk.tokenize.treebank import TreebankWordDetokenizer\n",
    "article_data['First_10%_Content'] = article_data['First_10%_Content_Split'].apply(lambda x: TreebankWordDetokenizer().detokenize(x))"
   ]
  },
  {
   "cell_type": "markdown",
   "id": "0a9ef57b",
   "metadata": {},
   "source": [
    "# Check first 10% content"
   ]
  },
  {
   "cell_type": "markdown",
   "id": "965e0a93",
   "metadata": {},
   "source": [
    "Check if length is reasonable:"
   ]
  },
  {
   "cell_type": "code",
   "execution_count": 20,
   "id": "a04183a7",
   "metadata": {},
   "outputs": [
    {
     "data": {
      "text/plain": [
       "0        [Modernized, Tu-160, to, boost, Russia's, long...\n",
       "1        [Give, Trump, more, nuclear, weapons, and, mor...\n",
       "2        [Trump, wants, to, build, smaller, atomic, wea...\n",
       "3        [Egypt, and, Israel, Secretly, Allied, In, Sin...\n",
       "4        [Listen:, Top, Armed, Services, Dem, worried, ...\n",
       "                               ...                        \n",
       "69990    [The, Pyongyang, Olympics, Media:, The, Wall, ...\n",
       "69991    [US, Air, Force, requests, $156.3, billion, in...\n",
       "69992    [Mike, Pence, says, the, US, is, ready, to, ne...\n",
       "69993    [Chinese, Sub, Commanders, May, Get, Media:, D...\n",
       "69994    [Trump, Proposes, 10%, Bump, for, the, Pentago...\n",
       "Name: First_10%_Content_Split, Length: 69995, dtype: object"
      ]
     },
     "execution_count": 20,
     "metadata": {},
     "output_type": "execute_result"
    }
   ],
   "source": [
    "article_data['First_10%_Content_Split']"
   ]
  },
  {
   "cell_type": "code",
   "execution_count": 21,
   "id": "52b2010d",
   "metadata": {},
   "outputs": [],
   "source": [
    "min_length = article_data['First_10%_Content_Split'].apply(lambda x: len(x))"
   ]
  },
  {
   "cell_type": "code",
   "execution_count": 22,
   "id": "094b1524",
   "metadata": {},
   "outputs": [
    {
     "data": {
      "text/html": [
       "<div>\n",
       "<style scoped>\n",
       "    .dataframe tbody tr th:only-of-type {\n",
       "        vertical-align: middle;\n",
       "    }\n",
       "\n",
       "    .dataframe tbody tr th {\n",
       "        vertical-align: top;\n",
       "    }\n",
       "\n",
       "    .dataframe thead th {\n",
       "        text-align: right;\n",
       "    }\n",
       "</style>\n",
       "<table border=\"1\" class=\"dataframe\">\n",
       "  <thead>\n",
       "    <tr style=\"text-align: right;\">\n",
       "      <th></th>\n",
       "      <th>First_10%_Content_Split</th>\n",
       "    </tr>\n",
       "  </thead>\n",
       "  <tbody>\n",
       "    <tr>\n",
       "      <th>52556</th>\n",
       "      <td>8</td>\n",
       "    </tr>\n",
       "    <tr>\n",
       "      <th>53635</th>\n",
       "      <td>8</td>\n",
       "    </tr>\n",
       "    <tr>\n",
       "      <th>53910</th>\n",
       "      <td>8</td>\n",
       "    </tr>\n",
       "    <tr>\n",
       "      <th>54236</th>\n",
       "      <td>7</td>\n",
       "    </tr>\n",
       "    <tr>\n",
       "      <th>55202</th>\n",
       "      <td>9</td>\n",
       "    </tr>\n",
       "    <tr>\n",
       "      <th>...</th>\n",
       "      <td>...</td>\n",
       "    </tr>\n",
       "    <tr>\n",
       "      <th>64959</th>\n",
       "      <td>9</td>\n",
       "    </tr>\n",
       "    <tr>\n",
       "      <th>65082</th>\n",
       "      <td>6</td>\n",
       "    </tr>\n",
       "    <tr>\n",
       "      <th>65683</th>\n",
       "      <td>7</td>\n",
       "    </tr>\n",
       "    <tr>\n",
       "      <th>68119</th>\n",
       "      <td>9</td>\n",
       "    </tr>\n",
       "    <tr>\n",
       "      <th>68876</th>\n",
       "      <td>7</td>\n",
       "    </tr>\n",
       "  </tbody>\n",
       "</table>\n",
       "<p>299 rows × 1 columns</p>\n",
       "</div>"
      ],
      "text/plain": [
       "       First_10%_Content_Split\n",
       "52556                        8\n",
       "53635                        8\n",
       "53910                        8\n",
       "54236                        7\n",
       "55202                        9\n",
       "...                        ...\n",
       "64959                        9\n",
       "65082                        6\n",
       "65683                        7\n",
       "68119                        9\n",
       "68876                        7\n",
       "\n",
       "[299 rows x 1 columns]"
      ]
     },
     "execution_count": 22,
     "metadata": {},
     "output_type": "execute_result"
    }
   ],
   "source": [
    "length_table = pd.DataFrame(data = min_length)\n",
    "small_length_table = length_table.loc[length_table['First_10%_Content_Split'] < 10]\n",
    "small_length_table"
   ]
  },
  {
   "cell_type": "code",
   "execution_count": 23,
   "id": "18c5f54a",
   "metadata": {},
   "outputs": [],
   "source": [
    "article_data['Content_Split'] = article_data['Content'].apply(lambda x: x.split())"
   ]
  },
  {
   "cell_type": "code",
   "execution_count": 24,
   "id": "585eb91c",
   "metadata": {},
   "outputs": [],
   "source": [
    "min_length_content = article_data['Content_Split'].apply(lambda x: len(x))"
   ]
  },
  {
   "cell_type": "code",
   "execution_count": 25,
   "id": "7be63a5b",
   "metadata": {},
   "outputs": [],
   "source": [
    "length_table_Content = pd.DataFrame(data = min_length_content)\n",
    "small_length_table_Content = length_table_Content.loc[length_table_Content['Content_Split'] < 10]"
   ]
  },
  {
   "cell_type": "code",
   "execution_count": 26,
   "id": "99bf0ff3",
   "metadata": {},
   "outputs": [
    {
     "data": {
      "text/plain": [
       "Content_Split\n",
       "0                253\n",
       "dtype: int64"
      ]
     },
     "execution_count": 26,
     "metadata": {},
     "output_type": "execute_result"
    }
   ],
   "source": [
    "small_length_table_Content.value_counts()"
   ]
  },
  {
   "cell_type": "markdown",
   "id": "d995a5cc",
   "metadata": {},
   "source": [
    "There are 253 in the df with no \"Content\""
   ]
  },
  {
   "cell_type": "code",
   "execution_count": 27,
   "id": "68997da7",
   "metadata": {},
   "outputs": [
    {
     "data": {
      "text/plain": [
       "<bound method IndexOpsMixin.value_counts of 0        Modernized Tu-160 to boost Russia's long-range...\n",
       "1        Give Trump more nuclear weapons and more ways ...\n",
       "2        Trump wants to build smaller atomic weapons; R...\n",
       "3        Egypt and Israel Secretly Allied In Sinai Batt...\n",
       "4        Listen: Top Armed Services Dem worried about r...\n",
       "                               ...                        \n",
       "69990    The Pyongyang Olympics\\r\\n\\r\\nMedia: The Wall ...\n",
       "69991    US Air Force requests $156.3 billion in FY19, ...\n",
       "69992    Mike Pence says the US is ready to negotiate w...\n",
       "69993    Chinese Sub Commanders May Get\\r\\n\\r\\nMedia: D...\n",
       "69994    Trump Proposes 10% Bump for the Pentagon - the...\n",
       "Name: Content, Length: 69995, dtype: object>"
      ]
     },
     "execution_count": 27,
     "metadata": {},
     "output_type": "execute_result"
    }
   ],
   "source": [
    "article_data['Content'].value_counts"
   ]
  },
  {
   "cell_type": "code",
   "execution_count": 28,
   "id": "5e7a0277",
   "metadata": {},
   "outputs": [
    {
     "data": {
      "text/html": [
       "<div>\n",
       "<style scoped>\n",
       "    .dataframe tbody tr th:only-of-type {\n",
       "        vertical-align: middle;\n",
       "    }\n",
       "\n",
       "    .dataframe tbody tr th {\n",
       "        vertical-align: top;\n",
       "    }\n",
       "\n",
       "    .dataframe thead th {\n",
       "        text-align: right;\n",
       "    }\n",
       "</style>\n",
       "<table border=\"1\" class=\"dataframe\">\n",
       "  <thead>\n",
       "    <tr style=\"text-align: right;\">\n",
       "      <th></th>\n",
       "      <th>Article ID</th>\n",
       "      <th>Headline</th>\n",
       "      <th>Content</th>\n",
       "      <th>Media Name</th>\n",
       "      <th>Author</th>\n",
       "      <th>Published Date</th>\n",
       "      <th>First_10%_Content_Split</th>\n",
       "      <th>First_10%_Content</th>\n",
       "      <th>Content_Split</th>\n",
       "    </tr>\n",
       "  </thead>\n",
       "  <tbody>\n",
       "    <tr>\n",
       "      <th>58653</th>\n",
       "      <td>7714048</td>\n",
       "      <td></td>\n",
       "      <td></td>\n",
       "      <td>Task and Purpose</td>\n",
       "      <td>Idrees Ali and Phil Stewart</td>\n",
       "      <td>2020-04-16 19:53:38+00</td>\n",
       "      <td>[]</td>\n",
       "      <td></td>\n",
       "      <td>[]</td>\n",
       "    </tr>\n",
       "    <tr>\n",
       "      <th>58654</th>\n",
       "      <td>7714049</td>\n",
       "      <td></td>\n",
       "      <td></td>\n",
       "      <td>Task and Purpose</td>\n",
       "      <td></td>\n",
       "      <td>2020-04-16 17:47:58+00</td>\n",
       "      <td>[]</td>\n",
       "      <td></td>\n",
       "      <td>[]</td>\n",
       "    </tr>\n",
       "    <tr>\n",
       "      <th>58655</th>\n",
       "      <td>7714050</td>\n",
       "      <td></td>\n",
       "      <td></td>\n",
       "      <td>Task and Purpose</td>\n",
       "      <td>Jim Thompson</td>\n",
       "      <td>2020-04-16 15:41:51+00</td>\n",
       "      <td>[]</td>\n",
       "      <td></td>\n",
       "      <td>[]</td>\n",
       "    </tr>\n",
       "    <tr>\n",
       "      <th>58656</th>\n",
       "      <td>7714051</td>\n",
       "      <td></td>\n",
       "      <td></td>\n",
       "      <td>Task and Purpose</td>\n",
       "      <td>Haley Britzky</td>\n",
       "      <td>2020-04-16 14:38:28+00</td>\n",
       "      <td>[]</td>\n",
       "      <td></td>\n",
       "      <td>[]</td>\n",
       "    </tr>\n",
       "    <tr>\n",
       "      <th>58657</th>\n",
       "      <td>7714052</td>\n",
       "      <td></td>\n",
       "      <td></td>\n",
       "      <td>Task and Purpose</td>\n",
       "      <td>Jared Keller</td>\n",
       "      <td>2020-04-16 14:38:02+00</td>\n",
       "      <td>[]</td>\n",
       "      <td></td>\n",
       "      <td>[]</td>\n",
       "    </tr>\n",
       "  </tbody>\n",
       "</table>\n",
       "</div>"
      ],
      "text/plain": [
       "       Article ID Headline Content        Media Name  \\\n",
       "58653     7714048                   Task and Purpose   \n",
       "58654     7714049                   Task and Purpose   \n",
       "58655     7714050                   Task and Purpose   \n",
       "58656     7714051                   Task and Purpose   \n",
       "58657     7714052                   Task and Purpose   \n",
       "\n",
       "                            Author          Published Date  \\\n",
       "58653  Idrees Ali and Phil Stewart  2020-04-16 19:53:38+00   \n",
       "58654                               2020-04-16 17:47:58+00   \n",
       "58655                 Jim Thompson  2020-04-16 15:41:51+00   \n",
       "58656                Haley Britzky  2020-04-16 14:38:28+00   \n",
       "58657                 Jared Keller  2020-04-16 14:38:02+00   \n",
       "\n",
       "      First_10%_Content_Split First_10%_Content Content_Split  \n",
       "58653                      []                              []  \n",
       "58654                      []                              []  \n",
       "58655                      []                              []  \n",
       "58656                      []                              []  \n",
       "58657                      []                              []  "
      ]
     },
     "execution_count": 28,
     "metadata": {},
     "output_type": "execute_result"
    }
   ],
   "source": [
    "article_data.iloc[small_length_table_Content.index, :].head()"
   ]
  },
  {
   "cell_type": "markdown",
   "id": "7b1cf1ee",
   "metadata": {},
   "source": [
    "It seems like many of the rows of the dataframe do not have anything in the Content column, or only contain the headers/title of article.\n",
    "\n",
    "Will remove those rows for feature selection analysis."
   ]
  },
  {
   "cell_type": "code",
   "execution_count": 29,
   "id": "8d018aab",
   "metadata": {},
   "outputs": [],
   "source": [
    "article_data = article_data.drop(index = small_length_table_Content.index)"
   ]
  },
  {
   "cell_type": "code",
   "execution_count": 30,
   "id": "b619eaae",
   "metadata": {},
   "outputs": [],
   "source": [
    "merged_df = quote_text.merge(article_data[['Article ID', 'Content', 'Author', 'Published Date', 'First_10%_Content']], on = 'Article ID')"
   ]
  },
  {
   "cell_type": "markdown",
   "id": "b81aeeec",
   "metadata": {},
   "source": [
    "# Improve First Line Extraction"
   ]
  },
  {
   "cell_type": "code",
   "execution_count": 38,
   "id": "277f5091",
   "metadata": {},
   "outputs": [],
   "source": [
    "import re"
   ]
  },
  {
   "cell_type": "code",
   "execution_count": 96,
   "id": "2012cef3",
   "metadata": {},
   "outputs": [],
   "source": [
    "def first_sentence2(string):\n",
    "    no_acronyms = re.sub(r'(?<!\\w)([A-Z])\\.', r'\\1', string)\n",
    "    pattern = r\"^([^.!?]+)\"\n",
    "    print(re.findall(pattern, no_acronyms))"
   ]
  },
  {
   "cell_type": "markdown",
   "id": "15173e2d",
   "metadata": {},
   "source": [
    "^ previous first line func: getting everything before first punctuation (not including abbreviations)"
   ]
  },
  {
   "cell_type": "markdown",
   "id": "a5add5de",
   "metadata": {},
   "source": [
    "Common pattern in content - media, byline, date is before actual content (example below)\n",
    "Regex for only taking content after the 2nd new line"
   ]
  },
  {
   "cell_type": "code",
   "execution_count": 220,
   "id": "d301bc18",
   "metadata": {},
   "outputs": [
    {
     "name": "stdout",
     "output_type": "stream",
     "text": [
      "North Korea makes deals and threats\r\n",
      "\r\n",
      "Media: The Washington Post\r\n",
      "Byline: Anna Fifield\r\n",
      "Date: 10 January 2018\r\n",
      "\r\n",
      "SEOUL - North Korea's representatives assured the South Korean government Tuesday that the country's \"cutting-edge\" nuclear weapons are aimed only at the United States, not at its neighbors, as they struck a deal to send athletes to next month's Winter Olympics and to reopen a military hotline.\r\n",
      "\r\n",
      "The sobering words underscored how, despite the rare agreement with the South, Pyongyang continues to assert its right to fend off the United States with nuclear arms.\r\n",
      "\r\n",
      "Nevertheless, South Korea achieved its immediate goal of bringing North Korean athletes to compete in what Seoul has dubbed the \"peace games.\" South Korean officials portrayed this agreement as a first step in a significant improvement in bilateral relations. The question, analysts said, is whether the North will pursue this opening with any sincerity.\r\n",
      "\r\n",
      "South Korea signaled that it was willing to suspend some of its direct sanctions on North Korea to facilitate a Northern delegation's travel to the Olympics, which will open Feb. 9 in the South's PyeongChang region.\r\n",
      "\r\n",
      "Seoul will have to move carefully to avoid alienating the Trump administration, which has been leading a campaign of \"maximum pressure\" to force North Korea to give up its nuclear and missile programs.\r\n",
      "\r\n",
      "But in Washington, the State Department applauded the talks Tuesday and said South Korea has assured the United States that North Korea's participation in the Olympics will not violate any U.N. sanctions.\r\n",
      "\r\n",
      "The day-long talks at the Panmunjom truce village on the border between the two Koreas led to the unusual scene of a delegation of smiling North Korean men in black suits walking across the concrete curb that divides North from South - the same line that a North Korean soldier crossed at the end of last year, as other Northern soldiers shot at him.\r\n",
      "\r\n",
      "After the talks, Ri Son Kwon, the North's previously gregarious chief representative, chastised the South Korean media for reporting that the discussions had included denuclearization as a subject. That was not on the table, he said.\r\n",
      "\r\n",
      "\"All our cutting-edge weapons, including our hydrogen bomb and intercontinental ballistic missiles, are not targeting our Korean brothers, China or Russia but the United States,\" Ri said, according to pool reports from inside the room.\r\n",
      "\r\n",
      "\"If we begin talking about these issues, then today's good results might be reduced to nothing,\" he warned.\r\n",
      "\r\n",
      "Cho Myoung-gyon, South Korea's unification minister and its chief delegate to the talks, said that despite the quibbles, Tuesday's discussions were positive and could pave the way for progress on the nuclear issue. \"The most important spirit of the inter-Korean talks is mutual respect,\" he said.\r\n",
      "\r\n",
      "The talks, the first in more than two years, have the backing of both Korean leaders. In his New Year's address, North Korea's Kim Jong Un wished his \"compatriots of the same blood\" success for the Games.\r\n",
      "\r\n",
      "\"The talks are important because they are a positive indicator for bilateral relations,\" said Alison Evans, a Korea expert at IHS Markit, a consulting firm.\r\n",
      "\r\n",
      "The governments in Beijing and Tokyo both welcomed the agreement as a positive step.\r\n",
      "\r\n",
      "Steve Goldstein, the undersecretary for public diplomacy at the State Department, said the United States played no role in the talks beyond a phone call between President Trump and South Korean President Moon Jae-in, which Secretary of State Rex Tillerson sat in on. He said no topics were off limits, and the United States did not seek to have South Korea discourage North Korea from participating even though the administration has sought to further isolate the regime through sanctions.\r\n",
      "\r\n",
      "\"If the Olympics provide an opening for conversations to occur, that's better for the people of South Korea and also the people of North Korea,\" Goldstein said. \"We want to see their athletes participate and be part of the community of nations.\"\r\n",
      "\r\n",
      "Washington will send a delegation, but Goldstein said there are \"no plans\" for the Americans to have any direct contact with the North Koreans attending.\r\n",
      "\r\n",
      "Trump had tweeted over the weekend that his \"firm, strong\" position toward North Korea had created the environment for Tuesday's talks. Moon, at a news conference Wednesday, diplomatically agreed that Trump deserved a \"great deal\" of the credit.\r\n",
      "\r\n",
      "\"I would like to thank him for that,\" Moon said.\r\n",
      "\r\n",
      "Moon hailed the results of the talks but said that the nuclear issue was separate and that Pyongyang has made it clear this is not an inter-Korean issue. He also expressed a willingness to talk directly with Kim but said he would not have a meeting for its own sake.\r\n",
      "\r\n",
      "Christopher Green, senior adviser for the Korean Peninsula at the International Crisis Group, said the question now is, what is North Korea's long-term strategy?\r\n",
      "\r\n",
      "\"If they want to drive a wedge into the alliance between the United States and South Korea, this could just be their opening gambit,\" he said.\r\n",
      "\r\n",
      "At the talks, the two sides agreed to \"actively cooperate\" for the PyeongChang Winter Olympics. The North will send athletes, cheering and performing-arts squads, press and a \"high-level delegation\" to the Games, according to a joint statement.\r\n",
      "\r\n",
      "North Korea is hardly a Winter Olympics powerhouse, having won only two medals in its history - a silver in 1964 and a bronze in 1992, both for speedskating. But International Olympic Committee President Thomas Bach hailed Tuesday's agreement as \"a great step forward in the Olympic spirit.\"\r\n",
      "\r\n",
      "The IOC has been supporting the North Korean athletes with training, equipment and travel costs, and will now work out which of them can compete. Although two North Korean figure skaters qualified for the Olympics, they did not register in time. They and others are likely to be included as \"wild card\" entries.\r\n",
      "\r\n",
      "South Korea's government, led by the progressive Moon, has been eager to secure North Korea's participation in the \"peace games\" next month and to find a way back to engaging with Pyongyang.\r\n",
      "\r\n",
      "The Olympics have provided that opportunity, and Seoul has shown a willingness to move mountains to accommodate the North - even persuading the United States to postpone annual military exercises, which usually take place in early March, until after the Games finish March 18.\r\n",
      "\r\n",
      "The South Korean government was ready to \"take steps in relation to sanctions against North Korea\" to facilitate the visit, Foreign Ministry spokesman Noh Kyu-duk told reporters. However, this would be done in consultation with the United Nations sanctions committee and the United States, he said.\r\n",
      "\r\n",
      "The mention of a \"high-level delegation\" and sanctions relief fueled speculation that North Korea might send Choe Ryong Hae, one of Kim's closest aides, to the Olympics.\r\n",
      "\r\n",
      "Choe made a surprise visit to South Korea in 2015 to attend the closing ceremony of the Asian Games, but he was blacklisted by South Korea in 2016 after the North's fifth nuclear test.\r\n",
      "\r\n",
      "South Korea has also slapped sanctions on Air Koryo, North Korea's state airline, but the restoration of a military hotline suggested that the Northern delegation would travel overland rather than by air to attend the Games.\r\n",
      "\r\n",
      "The two Koreas agreed to hold military-level meetings to \"ease the current military tension and to resolve issues\" and to hold further talks \"to improve inter-Korean relations.\"\r\n",
      "\r\n",
      "A military hotline on the western end of the border, cut in 2016 after the nuclear test, will resume operations Wednesday morning. This is a key step to reducing the chance of an accidental escalation if there is a military incident on the border, analysts said.\r\n",
      "\r\n",
      "anna.fifield@washpost.com\r\n",
      "\r\n",
      "Yoonjung Seo in Seoul and Carol Morello in Washington contributed to this report.\n"
     ]
    }
   ],
   "source": [
    "print(merged_df['Content'][0])"
   ]
  },
  {
   "cell_type": "code",
   "execution_count": 221,
   "id": "39f15471",
   "metadata": {},
   "outputs": [],
   "source": [
    "import regex as re"
   ]
  },
  {
   "cell_type": "code",
   "execution_count": 222,
   "id": "60ad5b4b",
   "metadata": {},
   "outputs": [],
   "source": [
    "def first_sentence3(content):\n",
    "    content = ''.join(content.split('\\r\\n\\r\\n')[2:])\n",
    "    no_acronyms = re.sub(r'(?<!\\w)([A-Z])\\.', r'\\1', content)\n",
    "    pattern = r\"^([^.!?]+)\"\n",
    "    print(re.findall(pattern, no_acronyms))\n"
   ]
  },
  {
   "cell_type": "code",
   "execution_count": 224,
   "id": "c7a249fb",
   "metadata": {},
   "outputs": [
    {
     "name": "stdout",
     "output_type": "stream",
     "text": [
      "['SEOUL - North Korea\\'s representatives assured the South Korean government Tuesday that the country\\'s \"cutting-edge\" nuclear weapons are aimed only at the United States, not at its neighbors, as they struck a deal to send athletes to next month\\'s Winter Olympics and to reopen a military hotline']\n"
     ]
    }
   ],
   "source": [
    "first_sentence3(merged_df['Content'][0])"
   ]
  },
  {
   "cell_type": "code",
   "execution_count": null,
   "id": "00abe5d2",
   "metadata": {},
   "outputs": [],
   "source": []
  }
 ],
 "metadata": {
  "kernelspec": {
   "display_name": "Python 3 (ipykernel)",
   "language": "python",
   "name": "python3"
  },
  "language_info": {
   "codemirror_mode": {
    "name": "ipython",
    "version": 3
   },
   "file_extension": ".py",
   "mimetype": "text/x-python",
   "name": "python",
   "nbconvert_exporter": "python",
   "pygments_lexer": "ipython3",
   "version": "3.9.7"
  }
 },
 "nbformat": 4,
 "nbformat_minor": 5
}
