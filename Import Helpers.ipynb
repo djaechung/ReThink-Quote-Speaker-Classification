{
 "cells": [
  {
   "cell_type": "markdown",
   "id": "93fd702c-8386-4b11-938f-07b016f24612",
   "metadata": {},
   "source": [
    "# Test Notebook for Importing Helper Functions\n",
    "\n",
    "This notebook will serve as a test environment/user guide for importing the common helper functions and objects from the `Helpers/` directory. The notebook employs a code snippet from [this Stack Overflow post](https://stackoverflow.com/questions/34478398/import-local-function-from-a-module-housed-in-another-directory-with-relative-im)."
   ]
  },
  {
   "cell_type": "code",
   "execution_count": 1,
   "id": "8235087a-e03e-4950-bbab-20483e87ea5b",
   "metadata": {},
   "outputs": [],
   "source": [
    "# code snippet to enable importing from Helpers/ directory\n",
    "import os\n",
    "import sys\n",
    "# replace \".\" below with the relative path to the main \"quote-classification\" directory\n",
    "# the relative path will vary depending on which directory your notebook lives in, so be sure to verify the path\n",
    "module_path = os.path.abspath(os.path.join(\".\"))\n",
    "if module_path not in sys.path:\n",
    "    sys.path.append(module_path)"
   ]
  },
  {
   "cell_type": "code",
   "execution_count": 2,
   "id": "0a927b07-e0f0-4212-9655-df9bddd8b643",
   "metadata": {},
   "outputs": [],
   "source": [
    "# importing all the objects and functions within Helpers/test.py\n",
    "# can replace \"*\" with specific object/function names\n",
    "from Helpers.test import *"
   ]
  },
  {
   "cell_type": "markdown",
   "id": "8744774c-35e6-4bd1-9402-b297643bc943",
   "metadata": {},
   "source": [
    "## Using Imported Objects and Functions\n",
    "\n",
    "The objects and functions imported from `Helpers/` will retain their names as defined in `test.py`, and can be used out-of-the-box."
   ]
  },
  {
   "cell_type": "code",
   "execution_count": 3,
   "id": "2bd9db02-ee25-4b5f-b529-fa1b05a6a662",
   "metadata": {},
   "outputs": [
    {
     "name": "stdout",
     "output_type": "stream",
     "text": [
      "Hello world!\n",
      "Hello\n"
     ]
    }
   ],
   "source": [
    "print(test_string)\n",
    "print(test_string[0:5])"
   ]
  },
  {
   "cell_type": "code",
   "execution_count": 4,
   "id": "9a18da2c-5119-4678-803d-66a5e842fba4",
   "metadata": {},
   "outputs": [
    {
     "name": "stdout",
     "output_type": "stream",
     "text": [
      "{'Hello': 'world!'}\n",
      "dict_keys(['Hello'])\n"
     ]
    }
   ],
   "source": [
    "print(test_dict)\n",
    "print(test_dict.keys())"
   ]
  },
  {
   "cell_type": "code",
   "execution_count": 5,
   "id": "a94411b1-f3b3-4387-b929-671e39ea2804",
   "metadata": {},
   "outputs": [
    {
     "name": "stdout",
     "output_type": "stream",
     "text": [
      "['Hello', 'world!']\n",
      "world!\n"
     ]
    }
   ],
   "source": [
    "print(test_list)\n",
    "print(test_list[1])"
   ]
  },
  {
   "cell_type": "code",
   "execution_count": 6,
   "id": "ee731180-7318-46fa-8160-ac82142df24e",
   "metadata": {},
   "outputs": [
    {
     "name": "stdout",
     "output_type": "stream",
     "text": [
      "word 0: Hello\n",
      "word 1: world!\n"
     ]
    },
    {
     "data": {
      "text/plain": [
       "['Hello', 'world!']"
      ]
     },
     "execution_count": 6,
     "metadata": {},
     "output_type": "execute_result"
    }
   ],
   "source": [
    "test_func(test_string)"
   ]
  },
  {
   "cell_type": "code",
   "execution_count": null,
   "id": "66a173f5-2e3a-4753-84ef-daedc7202d5f",
   "metadata": {},
   "outputs": [],
   "source": []
  }
 ],
 "metadata": {
  "kernelspec": {
   "display_name": "Python 3 (ipykernel)",
   "language": "python",
   "name": "python3"
  },
  "language_info": {
   "codemirror_mode": {
    "name": "ipython",
    "version": 3
   },
   "file_extension": ".py",
   "mimetype": "text/x-python",
   "name": "python",
   "nbconvert_exporter": "python",
   "pygments_lexer": "ipython3",
   "version": "3.9.7"
  }
 },
 "nbformat": 4,
 "nbformat_minor": 5
}
